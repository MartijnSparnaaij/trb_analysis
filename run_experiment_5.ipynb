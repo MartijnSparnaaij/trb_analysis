{
 "cells": [
  {
   "cell_type": "code",
   "execution_count": 1,
   "id": "e3053ccb-d04f-4ced-b207-4fb84670eabf",
   "metadata": {},
   "outputs": [
    {
     "name": "stdout",
     "output_type": "stream",
     "text": [
      "C:\\Users\\MartijnTU\\Jupyter_notebooks\\trb_analysis\\trb_analysis\\nomad\n",
      "c919e72c563e9697f7816f842767476ab08947ee: Mon, 26 Jul 2021 17:00 - Fix of grid_manager\n"
     ]
    }
   ],
   "source": [
    "try:\n",
    "    from git_nomad import pull_nomad\n",
    "except:\n",
    "    import sys; sys.path.insert(0, '..')\n",
    "    from git_nomad import pull_nomad\n",
    "    \n",
    "import socket\n",
    "if socket.gethostname() == 'SPA-DESKTOP':\n",
    "    remote_path = r\"D:\\Work_TU\\Documents\\nomad\"\n",
    "else:\n",
    "    remote_path = r\"C:\\Users\\martijnsparnaa\\Eclipse_Python_NOMAD\\nomad_trb_paper\"\n",
    "repo_path, repo = pull_nomad(remote_path, 'master')\n",
    "print(repo_path.resolve())\n",
    "\n",
    "import os\n",
    "import time\n",
    "os.chdir(repo_path)\n",
    "headcommit = repo.head.commit\n",
    "committed_date = time.strftime(\"%a, %d %b %Y %H:%M\", time.localtime(headcommit.committed_date))\n",
    "print(f'{headcommit}: {committed_date} - {headcommit.message}')"
   ]
  },
  {
   "cell_type": "code",
   "execution_count": null,
   "id": "0979be54-7a02-43c2-bb31-ec6e86b4ce11",
   "metadata": {},
   "outputs": [
    {
     "name": "stdout",
     "output_type": "stream",
     "text": [
      "Running replication 0 with seed = 3414\n"
     ]
    },
    {
     "name": "stderr",
     "output_type": "stream",
     "text": [
      "2021/07/30 14:35:44.817 - NOMAD.local_route_choice_manager - INFO - Creating the local route choice manager using LocalRouteChoiceIterativeComputer + C\n",
      "2021/07/30 14:35:44.817 - NOMAD.local_route_choice_manager - INFO - Creating a walk level local route choice manager using WalkLevelRouteChoiceIterativeComputer + C\n",
      "2021/07/30 14:36:04.670 - NOMAD.local_route_choice_manager - INFO - Finished creating local route choice manager in 19.85285496711731 seconds\n",
      "2021/07/30 14:36:04.670 - NOMAD.nomad_model - INFO - Model created with PedestrianManagerAttr with pedClass = attrPedPedForcesC\n"
     ]
    },
    {
     "name": "stdout",
     "output_type": "stream",
     "text": [
      "================================\n",
      "................................\n",
      "Simulation done. Processing data... done\n",
      "Saving data to file...done\n",
      "Running replication 1 with seed = 3653\n"
     ]
    },
    {
     "name": "stderr",
     "output_type": "stream",
     "text": [
      "2021/07/30 14:40:17.913 - NOMAD.local_route_choice_manager - INFO - Creating the local route choice manager using LocalRouteChoiceIterativeComputer + C\n",
      "2021/07/30 14:40:17.913 - NOMAD.local_route_choice_manager - INFO - Creating a walk level local route choice manager using WalkLevelRouteChoiceIterativeComputer + C\n",
      "2021/07/30 14:40:37.351 - NOMAD.local_route_choice_manager - INFO - Finished creating local route choice manager in 19.43761658668518 seconds\n",
      "2021/07/30 14:40:37.353 - NOMAD.nomad_model - INFO - Model created with PedestrianManagerAttr with pedClass = attrPedPedForcesC\n"
     ]
    },
    {
     "name": "stdout",
     "output_type": "stream",
     "text": [
      "================================\n",
      "................................\n",
      "Simulation done. Processing data... done\n",
      "Saving data to file...done\n",
      "Running replication 2 with seed = 126\n"
     ]
    },
    {
     "name": "stderr",
     "output_type": "stream",
     "text": [
      "2021/07/30 14:44:58.998 - NOMAD.local_route_choice_manager - INFO - Creating the local route choice manager using LocalRouteChoiceIterativeComputer + C\n",
      "2021/07/30 14:44:58.998 - NOMAD.local_route_choice_manager - INFO - Creating a walk level local route choice manager using WalkLevelRouteChoiceIterativeComputer + C\n",
      "2021/07/30 14:45:18.157 - NOMAD.local_route_choice_manager - INFO - Finished creating local route choice manager in 19.15948748588562 seconds\n",
      "2021/07/30 14:45:18.165 - NOMAD.nomad_model - INFO - Model created with PedestrianManagerAttr with pedClass = attrPedPedForcesC\n"
     ]
    },
    {
     "name": "stdout",
     "output_type": "stream",
     "text": [
      "================================\n",
      "................................\n",
      "Simulation done. Processing data... done\n",
      "Saving data to file...done\n",
      "Running replication 3 with seed = 1906\n"
     ]
    },
    {
     "name": "stderr",
     "output_type": "stream",
     "text": [
      "2021/07/30 14:49:32.108 - NOMAD.local_route_choice_manager - INFO - Creating the local route choice manager using LocalRouteChoiceIterativeComputer + C\n",
      "2021/07/30 14:49:32.108 - NOMAD.local_route_choice_manager - INFO - Creating a walk level local route choice manager using WalkLevelRouteChoiceIterativeComputer + C\n",
      "2021/07/30 14:49:50.776 - NOMAD.local_route_choice_manager - INFO - Finished creating local route choice manager in 18.667832851409912 seconds\n",
      "2021/07/30 14:49:50.784 - NOMAD.nomad_model - INFO - Model created with PedestrianManagerAttr with pedClass = attrPedPedForcesC\n"
     ]
    },
    {
     "name": "stdout",
     "output_type": "stream",
     "text": [
      "================================\n",
      "................................\n",
      "Simulation done. Processing data... done\n",
      "Saving data to file...done\n",
      "Running replication 4 with seed = 252\n"
     ]
    },
    {
     "name": "stderr",
     "output_type": "stream",
     "text": [
      "2021/07/30 14:53:54.789 - NOMAD.local_route_choice_manager - INFO - Creating the local route choice manager using LocalRouteChoiceIterativeComputer + C\n",
      "2021/07/30 14:53:54.789 - NOMAD.local_route_choice_manager - INFO - Creating a walk level local route choice manager using WalkLevelRouteChoiceIterativeComputer + C\n",
      "2021/07/30 14:54:13.573 - NOMAD.local_route_choice_manager - INFO - Finished creating local route choice manager in 18.784054279327393 seconds\n",
      "2021/07/30 14:54:13.581 - NOMAD.nomad_model - INFO - Model created with PedestrianManagerAttr with pedClass = attrPedPedForcesC\n"
     ]
    },
    {
     "name": "stdout",
     "output_type": "stream",
     "text": [
      "================================\n",
      "................................\n",
      "Simulation done. Processing data... done\n",
      "Saving data to file...done\n",
      "Running replication 5 with seed = 1479\n"
     ]
    },
    {
     "name": "stderr",
     "output_type": "stream",
     "text": [
      "2021/07/30 14:58:23.268 - NOMAD.local_route_choice_manager - INFO - Creating the local route choice manager using LocalRouteChoiceIterativeComputer + C\n",
      "2021/07/30 14:58:23.268 - NOMAD.local_route_choice_manager - INFO - Creating a walk level local route choice manager using WalkLevelRouteChoiceIterativeComputer + C\n",
      "2021/07/30 14:58:42.244 - NOMAD.local_route_choice_manager - INFO - Finished creating local route choice manager in 18.976565837860107 seconds\n",
      "2021/07/30 14:58:42.253 - NOMAD.nomad_model - INFO - Model created with PedestrianManagerAttr with pedClass = attrPedPedForcesC\n"
     ]
    },
    {
     "name": "stdout",
     "output_type": "stream",
     "text": [
      "================================\n",
      "................................\n",
      "Simulation done. Processing data... done\n",
      "Saving data to file...done\n",
      "Running replication 6 with seed = 203\n"
     ]
    },
    {
     "name": "stderr",
     "output_type": "stream",
     "text": [
      "2021/07/30 15:02:51.164 - NOMAD.local_route_choice_manager - INFO - Creating the local route choice manager using LocalRouteChoiceIterativeComputer + C\n",
      "2021/07/30 15:02:51.164 - NOMAD.local_route_choice_manager - INFO - Creating a walk level local route choice manager using WalkLevelRouteChoiceIterativeComputer + C\n",
      "2021/07/30 15:03:10.151 - NOMAD.local_route_choice_manager - INFO - Finished creating local route choice manager in 18.986497402191162 seconds\n",
      "2021/07/30 15:03:10.159 - NOMAD.nomad_model - INFO - Model created with PedestrianManagerAttr with pedClass = attrPedPedForcesC\n"
     ]
    },
    {
     "name": "stdout",
     "output_type": "stream",
     "text": [
      "================================\n",
      "................................\n",
      "Simulation done. Processing data... done\n",
      "Saving data to file...done\n",
      "Running replication 7 with seed = 3042\n"
     ]
    },
    {
     "name": "stderr",
     "output_type": "stream",
     "text": [
      "2021/07/30 15:07:18.165 - NOMAD.local_route_choice_manager - INFO - Creating the local route choice manager using LocalRouteChoiceIterativeComputer + C\n",
      "2021/07/30 15:07:18.165 - NOMAD.local_route_choice_manager - INFO - Creating a walk level local route choice manager using WalkLevelRouteChoiceIterativeComputer + C\n",
      "2021/07/30 15:07:37.086 - NOMAD.local_route_choice_manager - INFO - Finished creating local route choice manager in 18.92167043685913 seconds\n",
      "2021/07/30 15:07:37.086 - NOMAD.nomad_model - INFO - Model created with PedestrianManagerAttr with pedClass = attrPedPedForcesC\n"
     ]
    },
    {
     "name": "stdout",
     "output_type": "stream",
     "text": [
      "================================\n",
      "................................\n",
      "Simulation done. Processing data... done\n",
      "Saving data to file...done\n",
      "Running replication 8 with seed = 610\n"
     ]
    },
    {
     "name": "stderr",
     "output_type": "stream",
     "text": [
      "2021/07/30 15:11:54.043 - NOMAD.local_route_choice_manager - INFO - Creating the local route choice manager using LocalRouteChoiceIterativeComputer + C\n",
      "2021/07/30 15:11:54.043 - NOMAD.local_route_choice_manager - INFO - Creating a walk level local route choice manager using WalkLevelRouteChoiceIterativeComputer + C\n",
      "2021/07/30 15:12:12.883 - NOMAD.local_route_choice_manager - INFO - Finished creating local route choice manager in 18.840282917022705 seconds\n",
      "2021/07/30 15:12:12.883 - NOMAD.nomad_model - INFO - Model created with PedestrianManagerAttr with pedClass = attrPedPedForcesC\n"
     ]
    },
    {
     "name": "stdout",
     "output_type": "stream",
     "text": [
      "================================\n",
      "................................\n",
      "Simulation done. Processing data... done\n",
      "Saving data to file...done\n",
      "Running replication 9 with seed = 762\n"
     ]
    },
    {
     "name": "stderr",
     "output_type": "stream",
     "text": [
      "2021/07/30 15:16:16.191 - NOMAD.local_route_choice_manager - INFO - Creating the local route choice manager using LocalRouteChoiceIterativeComputer + C\n",
      "2021/07/30 15:16:16.206 - NOMAD.local_route_choice_manager - INFO - Creating a walk level local route choice manager using WalkLevelRouteChoiceIterativeComputer + C\n",
      "2021/07/30 15:16:35.177 - NOMAD.local_route_choice_manager - INFO - Finished creating local route choice manager in 18.970977544784546 seconds\n",
      "2021/07/30 15:16:35.185 - NOMAD.nomad_model - INFO - Model created with PedestrianManagerAttr with pedClass = attrPedPedForcesC\n"
     ]
    },
    {
     "name": "stdout",
     "output_type": "stream",
     "text": [
      "================================\n",
      "................................\n",
      "Simulation done. Processing data... done\n",
      "Checking convergence... done\n",
      "Saving data to file...done\n",
      "Running replication 10 with seed = 1583\n"
     ]
    },
    {
     "name": "stderr",
     "output_type": "stream",
     "text": [
      "2021/07/30 15:20:40.181 - NOMAD.local_route_choice_manager - INFO - Creating the local route choice manager using LocalRouteChoiceIterativeComputer + C\n",
      "2021/07/30 15:20:40.181 - NOMAD.local_route_choice_manager - INFO - Creating a walk level local route choice manager using WalkLevelRouteChoiceIterativeComputer + C\n",
      "2021/07/30 15:20:59.053 - NOMAD.local_route_choice_manager - INFO - Finished creating local route choice manager in 18.871609449386597 seconds\n",
      "2021/07/30 15:20:59.063 - NOMAD.nomad_model - INFO - Model created with PedestrianManagerAttr with pedClass = attrPedPedForcesC\n"
     ]
    },
    {
     "name": "stdout",
     "output_type": "stream",
     "text": [
      "================================\n",
      "................................\n",
      "Simulation done. Processing data... done\n",
      "Saving data to file...done\n",
      "Running replication 11 with seed = 1560\n"
     ]
    },
    {
     "name": "stderr",
     "output_type": "stream",
     "text": [
      "2021/07/30 15:25:17.992 - NOMAD.local_route_choice_manager - INFO - Creating the local route choice manager using LocalRouteChoiceIterativeComputer + C\n",
      "2021/07/30 15:25:17.992 - NOMAD.local_route_choice_manager - INFO - Creating a walk level local route choice manager using WalkLevelRouteChoiceIterativeComputer + C\n",
      "2021/07/30 15:25:36.929 - NOMAD.local_route_choice_manager - INFO - Finished creating local route choice manager in 18.93633270263672 seconds\n",
      "2021/07/30 15:25:36.929 - NOMAD.nomad_model - INFO - Model created with PedestrianManagerAttr with pedClass = attrPedPedForcesC\n"
     ]
    },
    {
     "name": "stdout",
     "output_type": "stream",
     "text": [
      "================================\n",
      "................................\n",
      "Simulation done. Processing data... done\n",
      "Saving data to file...done\n",
      "Running replication 12 with seed = 854\n"
     ]
    },
    {
     "name": "stderr",
     "output_type": "stream",
     "text": [
      "2021/07/30 15:29:43.034 - NOMAD.local_route_choice_manager - INFO - Creating the local route choice manager using LocalRouteChoiceIterativeComputer + C\n",
      "2021/07/30 15:29:43.034 - NOMAD.local_route_choice_manager - INFO - Creating a walk level local route choice manager using WalkLevelRouteChoiceIterativeComputer + C\n",
      "2021/07/30 15:30:01.890 - NOMAD.local_route_choice_manager - INFO - Finished creating local route choice manager in 18.855572938919067 seconds\n",
      "2021/07/30 15:30:01.898 - NOMAD.nomad_model - INFO - Model created with PedestrianManagerAttr with pedClass = attrPedPedForcesC\n"
     ]
    },
    {
     "name": "stdout",
     "output_type": "stream",
     "text": [
      "================================\n",
      "................................\n",
      "Simulation done. Processing data... done\n",
      "Saving data to file...done\n",
      "Running replication 13 with seed = 3905\n"
     ]
    },
    {
     "name": "stderr",
     "output_type": "stream",
     "text": [
      "2021/07/30 15:33:59.474 - NOMAD.local_route_choice_manager - INFO - Creating the local route choice manager using LocalRouteChoiceIterativeComputer + C\n",
      "2021/07/30 15:33:59.474 - NOMAD.local_route_choice_manager - INFO - Creating a walk level local route choice manager using WalkLevelRouteChoiceIterativeComputer + C\n",
      "2021/07/30 15:34:18.347 - NOMAD.local_route_choice_manager - INFO - Finished creating local route choice manager in 18.87243938446045 seconds\n",
      "2021/07/30 15:34:18.347 - NOMAD.nomad_model - INFO - Model created with PedestrianManagerAttr with pedClass = attrPedPedForcesC\n"
     ]
    },
    {
     "name": "stdout",
     "output_type": "stream",
     "text": [
      "================================\n",
      "................................\n",
      "Simulation done. Processing data... done\n",
      "Saving data to file...done\n",
      "Running replication 14 with seed = 55\n"
     ]
    },
    {
     "name": "stderr",
     "output_type": "stream",
     "text": [
      "2021/07/30 15:38:27.987 - NOMAD.local_route_choice_manager - INFO - Creating the local route choice manager using LocalRouteChoiceIterativeComputer + C\n",
      "2021/07/30 15:38:27.987 - NOMAD.local_route_choice_manager - INFO - Creating a walk level local route choice manager using WalkLevelRouteChoiceIterativeComputer + C\n",
      "2021/07/30 15:38:46.936 - NOMAD.local_route_choice_manager - INFO - Finished creating local route choice manager in 18.949114322662354 seconds\n",
      "2021/07/30 15:38:46.944 - NOMAD.nomad_model - INFO - Model created with PedestrianManagerAttr with pedClass = attrPedPedForcesC\n"
     ]
    },
    {
     "name": "stdout",
     "output_type": "stream",
     "text": [
      "================================\n",
      "................................\n",
      "Simulation done. Processing data... done\n",
      "Checking convergence... done\n",
      "Saving data to file...done\n",
      "Running replication 15 with seed = 410\n"
     ]
    },
    {
     "name": "stderr",
     "output_type": "stream",
     "text": [
      "2021/07/30 15:43:06.145 - NOMAD.local_route_choice_manager - INFO - Creating the local route choice manager using LocalRouteChoiceIterativeComputer + C\n",
      "2021/07/30 15:43:06.153 - NOMAD.local_route_choice_manager - INFO - Creating a walk level local route choice manager using WalkLevelRouteChoiceIterativeComputer + C\n",
      "2021/07/30 15:43:25.325 - NOMAD.local_route_choice_manager - INFO - Finished creating local route choice manager in 19.17128562927246 seconds\n",
      "2021/07/30 15:43:25.333 - NOMAD.nomad_model - INFO - Model created with PedestrianManagerAttr with pedClass = attrPedPedForcesC\n"
     ]
    },
    {
     "name": "stdout",
     "output_type": "stream",
     "text": [
      "================================\n",
      "................................\n",
      "Simulation done. Processing data... done\n",
      "Saving data to file...done\n",
      "Running replication 16 with seed = 3481\n"
     ]
    },
    {
     "name": "stderr",
     "output_type": "stream",
     "text": [
      "2021/07/30 15:47:41.238 - NOMAD.local_route_choice_manager - INFO - Creating the local route choice manager using LocalRouteChoiceIterativeComputer + C\n",
      "2021/07/30 15:47:41.238 - NOMAD.local_route_choice_manager - INFO - Creating a walk level local route choice manager using WalkLevelRouteChoiceIterativeComputer + C\n",
      "2021/07/30 15:48:00.598 - NOMAD.local_route_choice_manager - INFO - Finished creating local route choice manager in 19.359428882598877 seconds\n",
      "2021/07/30 15:48:00.598 - NOMAD.nomad_model - INFO - Model created with PedestrianManagerAttr with pedClass = attrPedPedForcesC\n"
     ]
    },
    {
     "name": "stdout",
     "output_type": "stream",
     "text": [
      "================================\n",
      "................................\n",
      "Simulation done. Processing data... done\n",
      "Saving data to file...done\n",
      "Running replication 17 with seed = 3093\n"
     ]
    },
    {
     "name": "stderr",
     "output_type": "stream",
     "text": [
      "2021/07/30 15:52:19.803 - NOMAD.local_route_choice_manager - INFO - Creating the local route choice manager using LocalRouteChoiceIterativeComputer + C\n",
      "2021/07/30 15:52:19.803 - NOMAD.local_route_choice_manager - INFO - Creating a walk level local route choice manager using WalkLevelRouteChoiceIterativeComputer + C\n",
      "2021/07/30 15:52:38.743 - NOMAD.local_route_choice_manager - INFO - Finished creating local route choice manager in 18.939987897872925 seconds\n",
      "2021/07/30 15:52:38.743 - NOMAD.nomad_model - INFO - Model created with PedestrianManagerAttr with pedClass = attrPedPedForcesC\n"
     ]
    },
    {
     "name": "stdout",
     "output_type": "stream",
     "text": [
      "================================\n",
      "................................\n",
      "Simulation done. Processing data... done\n",
      "Saving data to file...done\n",
      "Running replication 18 with seed = 3244\n"
     ]
    },
    {
     "name": "stderr",
     "output_type": "stream",
     "text": [
      "2021/07/30 15:57:04.309 - NOMAD.local_route_choice_manager - INFO - Creating the local route choice manager using LocalRouteChoiceIterativeComputer + C\n",
      "2021/07/30 15:57:04.309 - NOMAD.local_route_choice_manager - INFO - Creating a walk level local route choice manager using WalkLevelRouteChoiceIterativeComputer + C\n",
      "2021/07/30 15:57:23.060 - NOMAD.local_route_choice_manager - INFO - Finished creating local route choice manager in 18.751362085342407 seconds\n",
      "2021/07/30 15:57:23.068 - NOMAD.nomad_model - INFO - Model created with PedestrianManagerAttr with pedClass = attrPedPedForcesC\n"
     ]
    },
    {
     "name": "stdout",
     "output_type": "stream",
     "text": [
      "================================\n",
      "................................\n",
      "Simulation done. Processing data... done\n",
      "Saving data to file...done\n",
      "Running replication 19 with seed = 2483\n"
     ]
    },
    {
     "name": "stderr",
     "output_type": "stream",
     "text": [
      "2021/07/30 16:01:29.465 - NOMAD.local_route_choice_manager - INFO - Creating the local route choice manager using LocalRouteChoiceIterativeComputer + C\n",
      "2021/07/30 16:01:29.465 - NOMAD.local_route_choice_manager - INFO - Creating a walk level local route choice manager using WalkLevelRouteChoiceIterativeComputer + C\n",
      "2021/07/30 16:01:48.414 - NOMAD.local_route_choice_manager - INFO - Finished creating local route choice manager in 18.949552059173584 seconds\n",
      "2021/07/30 16:01:48.432 - NOMAD.nomad_model - INFO - Model created with PedestrianManagerAttr with pedClass = attrPedPedForcesC\n"
     ]
    },
    {
     "name": "stdout",
     "output_type": "stream",
     "text": [
      "================================\n",
      "................................\n",
      "Simulation done. Processing data... done\n",
      "Checking convergence... done\n",
      "Saving data to file...done\n",
      "Running replication 20 with seed = 944\n"
     ]
    },
    {
     "name": "stderr",
     "output_type": "stream",
     "text": [
      "2021/07/30 16:05:54.368 - NOMAD.local_route_choice_manager - INFO - Creating the local route choice manager using LocalRouteChoiceIterativeComputer + C\n",
      "2021/07/30 16:05:54.368 - NOMAD.local_route_choice_manager - INFO - Creating a walk level local route choice manager using WalkLevelRouteChoiceIterativeComputer + C\n",
      "2021/07/30 16:06:13.168 - NOMAD.local_route_choice_manager - INFO - Finished creating local route choice manager in 18.80030059814453 seconds\n",
      "2021/07/30 16:06:13.168 - NOMAD.nomad_model - INFO - Model created with PedestrianManagerAttr with pedClass = attrPedPedForcesC\n"
     ]
    },
    {
     "name": "stdout",
     "output_type": "stream",
     "text": [
      "================================\n",
      "................................\n",
      "Simulation done. Processing data... done\n",
      "Saving data to file...done\n",
      "Running replication 21 with seed = 3738\n"
     ]
    },
    {
     "name": "stderr",
     "output_type": "stream",
     "text": [
      "2021/07/30 16:10:19.237 - NOMAD.local_route_choice_manager - INFO - Creating the local route choice manager using LocalRouteChoiceIterativeComputer + C\n",
      "2021/07/30 16:10:19.237 - NOMAD.local_route_choice_manager - INFO - Creating a walk level local route choice manager using WalkLevelRouteChoiceIterativeComputer + C\n",
      "2021/07/30 16:10:38.224 - NOMAD.local_route_choice_manager - INFO - Finished creating local route choice manager in 18.986631393432617 seconds\n",
      "2021/07/30 16:10:38.224 - NOMAD.nomad_model - INFO - Model created with PedestrianManagerAttr with pedClass = attrPedPedForcesC\n"
     ]
    },
    {
     "name": "stdout",
     "output_type": "stream",
     "text": [
      "================================\n",
      "................................\n",
      "Simulation done. Processing data... done\n",
      "Saving data to file...done\n",
      "Running replication 22 with seed = 3327\n"
     ]
    },
    {
     "name": "stderr",
     "output_type": "stream",
     "text": [
      "2021/07/30 16:14:40.108 - NOMAD.local_route_choice_manager - INFO - Creating the local route choice manager using LocalRouteChoiceIterativeComputer + C\n",
      "2021/07/30 16:14:40.108 - NOMAD.local_route_choice_manager - INFO - Creating a walk level local route choice manager using WalkLevelRouteChoiceIterativeComputer + C\n",
      "2021/07/30 16:14:58.687 - NOMAD.local_route_choice_manager - INFO - Finished creating local route choice manager in 18.579056978225708 seconds\n",
      "2021/07/30 16:14:58.687 - NOMAD.nomad_model - INFO - Model created with PedestrianManagerAttr with pedClass = attrPedPedForcesC\n"
     ]
    },
    {
     "name": "stdout",
     "output_type": "stream",
     "text": [
      "================================\n",
      "................................\n",
      "Simulation done. Processing data... done\n",
      "Saving data to file...done\n",
      "Running replication 23 with seed = 2296\n"
     ]
    },
    {
     "name": "stderr",
     "output_type": "stream",
     "text": [
      "2021/07/30 16:19:02.815 - NOMAD.local_route_choice_manager - INFO - Creating the local route choice manager using LocalRouteChoiceIterativeComputer + C\n",
      "2021/07/30 16:19:02.815 - NOMAD.local_route_choice_manager - INFO - Creating a walk level local route choice manager using WalkLevelRouteChoiceIterativeComputer + C\n",
      "2021/07/30 16:19:21.801 - NOMAD.local_route_choice_manager - INFO - Finished creating local route choice manager in 18.985055685043335 seconds\n",
      "2021/07/30 16:19:21.801 - NOMAD.nomad_model - INFO - Model created with PedestrianManagerAttr with pedClass = attrPedPedForcesC\n"
     ]
    },
    {
     "name": "stdout",
     "output_type": "stream",
     "text": [
      "================================\n",
      "................................\n",
      "Simulation done. Processing data... done\n",
      "Saving data to file...done\n",
      "Running replication 24 with seed = 92\n"
     ]
    },
    {
     "name": "stderr",
     "output_type": "stream",
     "text": [
      "2021/07/30 16:23:34.830 - NOMAD.local_route_choice_manager - INFO - Creating the local route choice manager using LocalRouteChoiceIterativeComputer + C\n",
      "2021/07/30 16:23:34.832 - NOMAD.local_route_choice_manager - INFO - Creating a walk level local route choice manager using WalkLevelRouteChoiceIterativeComputer + C\n",
      "2021/07/30 16:23:53.969 - NOMAD.local_route_choice_manager - INFO - Finished creating local route choice manager in 19.13926601409912 seconds\n",
      "2021/07/30 16:23:53.977 - NOMAD.nomad_model - INFO - Model created with PedestrianManagerAttr with pedClass = attrPedPedForcesC\n"
     ]
    },
    {
     "name": "stdout",
     "output_type": "stream",
     "text": [
      "================================\n",
      "................................\n",
      "Simulation done. Processing data... done\n",
      "Checking convergence... done\n",
      "Saving data to file...done\n",
      "Running replication 25 with seed = 185\n"
     ]
    },
    {
     "name": "stderr",
     "output_type": "stream",
     "text": [
      "2021/07/30 16:28:01.953 - NOMAD.local_route_choice_manager - INFO - Creating the local route choice manager using LocalRouteChoiceIterativeComputer + C\n",
      "2021/07/30 16:28:01.953 - NOMAD.local_route_choice_manager - INFO - Creating a walk level local route choice manager using WalkLevelRouteChoiceIterativeComputer + C\n",
      "2021/07/30 16:28:20.762 - NOMAD.local_route_choice_manager - INFO - Finished creating local route choice manager in 18.80885624885559 seconds\n",
      "2021/07/30 16:28:20.764 - NOMAD.nomad_model - INFO - Model created with PedestrianManagerAttr with pedClass = attrPedPedForcesC\n"
     ]
    },
    {
     "name": "stdout",
     "output_type": "stream",
     "text": [
      "================================\n",
      "................................\n",
      "Simulation done. Processing data... done\n",
      "Saving data to file...done\n",
      "Running replication 26 with seed = 3544\n"
     ]
    },
    {
     "name": "stderr",
     "output_type": "stream",
     "text": [
      "2021/07/30 16:32:30.141 - NOMAD.local_route_choice_manager - INFO - Creating the local route choice manager using LocalRouteChoiceIterativeComputer + C\n",
      "2021/07/30 16:32:30.141 - NOMAD.local_route_choice_manager - INFO - Creating a walk level local route choice manager using WalkLevelRouteChoiceIterativeComputer + C\n",
      "2021/07/30 16:32:49.284 - NOMAD.local_route_choice_manager - INFO - Finished creating local route choice manager in 19.14314293861389 seconds\n",
      "2021/07/30 16:32:49.284 - NOMAD.nomad_model - INFO - Model created with PedestrianManagerAttr with pedClass = attrPedPedForcesC\n"
     ]
    },
    {
     "name": "stdout",
     "output_type": "stream",
     "text": [
      "================================\n",
      "................................\n",
      "Simulation done. Processing data... done\n",
      "Saving data to file...done\n",
      "Running replication 27 with seed = 406\n"
     ]
    },
    {
     "name": "stderr",
     "output_type": "stream",
     "text": [
      "2021/07/30 16:36:51.195 - NOMAD.local_route_choice_manager - INFO - Creating the local route choice manager using LocalRouteChoiceIterativeComputer + C\n",
      "2021/07/30 16:36:51.195 - NOMAD.local_route_choice_manager - INFO - Creating a walk level local route choice manager using WalkLevelRouteChoiceIterativeComputer + C\n",
      "2021/07/30 16:37:10.247 - NOMAD.local_route_choice_manager - INFO - Finished creating local route choice manager in 19.051923751831055 seconds\n",
      "2021/07/30 16:37:10.255 - NOMAD.nomad_model - INFO - Model created with PedestrianManagerAttr with pedClass = attrPedPedForcesC\n"
     ]
    },
    {
     "name": "stdout",
     "output_type": "stream",
     "text": [
      "================================\n",
      "................................\n",
      "Simulation done. Processing data... done\n",
      "Saving data to file...done\n",
      "Running replication 28 with seed = 282\n"
     ]
    },
    {
     "name": "stderr",
     "output_type": "stream",
     "text": [
      "2021/07/30 16:41:27.321 - NOMAD.local_route_choice_manager - INFO - Creating the local route choice manager using LocalRouteChoiceIterativeComputer + C\n",
      "2021/07/30 16:41:27.321 - NOMAD.local_route_choice_manager - INFO - Creating a walk level local route choice manager using WalkLevelRouteChoiceIterativeComputer + C\n",
      "2021/07/30 16:41:46.213 - NOMAD.local_route_choice_manager - INFO - Finished creating local route choice manager in 18.892133712768555 seconds\n",
      "2021/07/30 16:41:46.213 - NOMAD.nomad_model - INFO - Model created with PedestrianManagerAttr with pedClass = attrPedPedForcesC\n"
     ]
    },
    {
     "name": "stdout",
     "output_type": "stream",
     "text": [
      "================================\n",
      "................................\n",
      "Simulation done. Processing data... done\n",
      "Saving data to file...done\n",
      "Running replication 29 with seed = 1274\n"
     ]
    },
    {
     "name": "stderr",
     "output_type": "stream",
     "text": [
      "2021/07/30 16:45:54.841 - NOMAD.local_route_choice_manager - INFO - Creating the local route choice manager using LocalRouteChoiceIterativeComputer + C\n",
      "2021/07/30 16:45:54.841 - NOMAD.local_route_choice_manager - INFO - Creating a walk level local route choice manager using WalkLevelRouteChoiceIterativeComputer + C\n",
      "2021/07/30 16:46:13.540 - NOMAD.local_route_choice_manager - INFO - Finished creating local route choice manager in 18.699145317077637 seconds\n",
      "2021/07/30 16:46:13.540 - NOMAD.nomad_model - INFO - Model created with PedestrianManagerAttr with pedClass = attrPedPedForcesC\n"
     ]
    },
    {
     "name": "stdout",
     "output_type": "stream",
     "text": [
      "================================\n",
      "................................\n",
      "Simulation done. Processing data... done\n",
      "Checking convergence... done\n",
      "Saving data to file...done\n",
      "Running replication 30 with seed = 2179\n"
     ]
    },
    {
     "name": "stderr",
     "output_type": "stream",
     "text": [
      "2021/07/30 16:50:28.425 - NOMAD.local_route_choice_manager - INFO - Creating the local route choice manager using LocalRouteChoiceIterativeComputer + C\n",
      "2021/07/30 16:50:28.425 - NOMAD.local_route_choice_manager - INFO - Creating a walk level local route choice manager using WalkLevelRouteChoiceIterativeComputer + C\n",
      "2021/07/30 16:50:47.449 - NOMAD.local_route_choice_manager - INFO - Finished creating local route choice manager in 19.02381443977356 seconds\n",
      "2021/07/30 16:50:47.459 - NOMAD.nomad_model - INFO - Model created with PedestrianManagerAttr with pedClass = attrPedPedForcesC\n"
     ]
    },
    {
     "name": "stdout",
     "output_type": "stream",
     "text": [
      "================================\n",
      "..........................."
     ]
    }
   ],
   "source": [
    "from contact_analysis import ExperimentRunner, STEPS, P_THRESHOLD\n",
    "from pathlib import Path\n",
    "\n",
    "scenarioXmlFlNm = Path(r'D:\\SurfDrive\\PhD\\Activity scheduler\\Scenarios\\paper_scenarios\\trb_paper_more_toilet.xml')\n",
    "lrcmFlNm = Path(r'D:\\SurfDrive\\PhD\\Activity scheduler\\Scenarios\\paper_scenarios\\trb_paper.lrcm')\n",
    "\n",
    "experimentRunner = ExperimentRunner(scenarioXmlFlNm, lrcmFlNm, init_replications=10, max_replications=2000, \n",
    "                                      convergence_config={STEPS:5, P_THRESHOLD:0.95},\n",
    "                                       cut_off_distances=(1.0, 1.5, 2.0))\n",
    "experimentRunner.run_experiment()\n"
   ]
  },
  {
   "cell_type": "code",
   "execution_count": null,
   "id": "a06cbf6b-e73c-41c4-b1bd-687401aa65db",
   "metadata": {},
   "outputs": [],
   "source": [
    "from contact_analysis import continue_from_file\n",
    "from pathlib import Path\n",
    "\n",
    "experiment_filename = Path(r'D:\\SurfDrive\\PhD\\Activity scheduler\\Scenarios\\paper_scenarios\\trb_paper_longer_visit_experiment_r10.json')\n",
    "combined_stats_filename = Path(r'D:\\SurfDrive\\PhD\\Activity scheduler\\Scenarios\\paper_scenarios\\trb_paper_longer_visit_combined.stats_r10.npz')\n",
    "\n",
    "continue_from_file(experiment_filename, combined_stats_filename)"
   ]
  },
  {
   "cell_type": "code",
   "execution_count": null,
   "id": "9dfbef88-3768-4529-9736-9ade2e0f105f",
   "metadata": {
    "tags": []
   },
   "outputs": [],
   "source": []
  }
 ],
 "metadata": {
  "kernelspec": {
   "display_name": "Python 3",
   "language": "python",
   "name": "python3"
  },
  "language_info": {
   "codemirror_mode": {
    "name": "ipython",
    "version": 3
   },
   "file_extension": ".py",
   "mimetype": "text/x-python",
   "name": "python",
   "nbconvert_exporter": "python",
   "pygments_lexer": "ipython3",
   "version": "3.9.5"
  }
 },
 "nbformat": 4,
 "nbformat_minor": 5
}
