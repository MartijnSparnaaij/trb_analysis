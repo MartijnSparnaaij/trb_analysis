{
 "cells": [
  {
   "cell_type": "code",
   "execution_count": 1,
   "id": "3e25528d-1c4e-42a1-972f-976cb1b7e754",
   "metadata": {},
   "outputs": [
    {
     "name": "stdout",
     "output_type": "stream",
     "text": [
      "C:\\Users\\martijnsparnaa\\Jupyterlab_notebooks\\trb_analysis\\nomad\n",
      "a99c60981acfd0fe921e7be6282708f8a746b9ef: Fri, 22 Oct 2021 14:58 - Updated to the new generalized activity scheduler\n"
     ]
    }
   ],
   "source": [
    "try:\n",
    "    from git_nomad import pull_nomad\n",
    "except:\n",
    "    import sys; sys.path.insert(0, '..')\n",
    "    from git_nomad import pull_nomad\n",
    "    \n",
    "import socket\n",
    "if socket.gethostname() == 'SPA-DESKTOP':\n",
    "    remote_path = r\"D:\\Work_TU\\Documents\\nomad\"\n",
    "else:\n",
    "    remote_path = r\"C:\\Users\\martijnsparnaa\\Eclipse_Python_NOMAD\\nomad_trb_paper\"\n",
    "repo_path, repo = pull_nomad(remote_path, 'master')\n",
    "print(repo_path.resolve())\n",
    "\n",
    "import os\n",
    "import time\n",
    "os.chdir(repo_path)\n",
    "headcommit = repo.head.commit\n",
    "committed_date = time.strftime(\"%a, %d %b %Y %H:%M\", time.localtime(headcommit.committed_date))\n",
    "print(f'{headcommit}: {committed_date} - {headcommit.message}')"
   ]
  },
  {
   "cell_type": "code",
   "execution_count": null,
   "id": "918b1120-0ae1-4be5-a79e-78a3fd4b47ad",
   "metadata": {},
   "outputs": [],
   "source": [
    "from pathlib import Path\n",
    "\n",
    "scenarioXmlFlNm = Path(r'D:\\SurfDrive\\PhD\\Activity scheduler\\Scenarios\\paper_scenarios\\trb_paper_base.xml')"
   ]
  }
 ],
 "metadata": {
  "kernelspec": {
   "display_name": "Python 3",
   "language": "python",
   "name": "python3"
  },
  "language_info": {
   "codemirror_mode": {
    "name": "ipython",
    "version": 3
   },
   "file_extension": ".py",
   "mimetype": "text/x-python",
   "name": "python",
   "nbconvert_exporter": "python",
   "pygments_lexer": "ipython3",
   "version": "3.9.4"
  }
 },
 "nbformat": 4,
 "nbformat_minor": 5
}
