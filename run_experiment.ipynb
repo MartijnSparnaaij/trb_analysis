{
 "cells": [
  {
   "cell_type": "code",
   "execution_count": 1,
   "id": "db0f2506-ec22-4191-ac06-a4a6a6d8d60d",
   "metadata": {},
   "outputs": [
    {
     "name": "stdout",
     "output_type": "stream",
     "text": [
      "C:\\Users\\MartijnTU\\Jupyter_notebooks\\trb_analysis\\trb_analysis\\nomad\n",
      "75afef4577afac81d355f78e4eee0bc38a0ba64f: Thu, 15 Jul 2021 16:02 - Fixed toilet scheduling\n"
     ]
    }
   ],
   "source": [
    "try:\n",
    "    from git_nomad import pull_nomad\n",
    "except:\n",
    "    import sys; sys.path.insert(0, '..')\n",
    "    from git_nomad import pull_nomad\n",
    "    \n",
    "import socket\n",
    "if socket.gethostname() == 'SPA-DESKTOP':\n",
    "    remote_path = r\"D:\\Work_TU\\Documents\\nomad\"\n",
    "else:\n",
    "    remote_path = r\"C:\\Users\\martijnsparnaa\\Eclipse_Python_NOMAD\\nomad_trb_paper\"\n",
    "repo_path, repo = pull_nomad(remote_path, 'master')\n",
    "print(repo_path.resolve())\n",
    "\n",
    "import os\n",
    "import time\n",
    "os.chdir(repo_path)\n",
    "headcommit = repo.head.commit\n",
    "committed_date = time.strftime(\"%a, %d %b %Y %H:%M\", time.localtime(headcommit.committed_date))\n",
    "print(f'{headcommit}: {committed_date} - {headcommit.message}')"
   ]
  },
  {
   "cell_type": "code",
   "execution_count": null,
   "id": "0b3e4fd2-f8c2-4f07-bb90-2385647266ce",
   "metadata": {},
   "outputs": [
    {
     "name": "stdout",
     "output_type": "stream",
     "text": [
      "Runnig replication 0 with seed = 476\n"
     ]
    },
    {
     "name": "stderr",
     "output_type": "stream",
     "text": [
      "2021/07/15 16:14:24.779 - NOMAD.local_route_choice_manager - INFO - Creating the local route choice manager using LocalRouteChoiceIterativeComputer\n",
      "2021/07/15 16:14:24.779 - NOMAD.local_route_choice_manager - INFO - Creating a walk level local route choice manager using WalkLevelRouteChoiceIterativeComputer\n",
      "2021/07/15 16:14:45.810 - NOMAD.local_route_choice_manager - INFO - Finished creating local route choice manager in 21.031264305114746 seconds\n",
      "2021/07/15 16:14:45.810 - NOMAD.nomad_model - INFO - Model created with PedestrianManagerAttr with pedClass = attrPedOpt\n"
     ]
    },
    {
     "name": "stdout",
     "output_type": "stream",
     "text": [
      "================================\n",
      "................................\n",
      "Simulation done. Processing data... done\n",
      "Runnig replication 1 with seed = 1424\n"
     ]
    },
    {
     "name": "stderr",
     "output_type": "stream",
     "text": [
      "2021/07/15 16:19:55.131 - NOMAD.local_route_choice_manager - INFO - Creating the local route choice manager using LocalRouteChoiceIterativeComputer\n",
      "2021/07/15 16:19:55.131 - NOMAD.local_route_choice_manager - INFO - Creating a walk level local route choice manager using WalkLevelRouteChoiceIterativeComputer\n",
      "2021/07/15 16:20:16.232 - NOMAD.local_route_choice_manager - INFO - Finished creating local route choice manager in 21.10095524787903 seconds\n",
      "2021/07/15 16:20:16.232 - NOMAD.nomad_model - INFO - Model created with PedestrianManagerAttr with pedClass = attrPedOpt\n"
     ]
    },
    {
     "name": "stdout",
     "output_type": "stream",
     "text": [
      "================================\n",
      "................................\n",
      "Simulation done. Processing data... done\n",
      "Runnig replication 2 with seed = 2491\n"
     ]
    },
    {
     "name": "stderr",
     "output_type": "stream",
     "text": [
      "2021/07/15 16:25:13.373 - NOMAD.local_route_choice_manager - INFO - Creating the local route choice manager using LocalRouteChoiceIterativeComputer\n",
      "2021/07/15 16:25:13.373 - NOMAD.local_route_choice_manager - INFO - Creating a walk level local route choice manager using WalkLevelRouteChoiceIterativeComputer\n",
      "2021/07/15 16:25:35.014 - NOMAD.local_route_choice_manager - INFO - Finished creating local route choice manager in 21.64067530632019 seconds\n",
      "2021/07/15 16:25:35.014 - NOMAD.nomad_model - INFO - Model created with PedestrianManagerAttr with pedClass = attrPedOpt\n"
     ]
    },
    {
     "name": "stdout",
     "output_type": "stream",
     "text": [
      "================================\n",
      "................................\n",
      "Simulation done. Processing data... done\n",
      "Runnig replication 3 with seed = 2824\n"
     ]
    },
    {
     "name": "stderr",
     "output_type": "stream",
     "text": [
      "2021/07/15 16:30:40.842 - NOMAD.local_route_choice_manager - INFO - Creating the local route choice manager using LocalRouteChoiceIterativeComputer\n",
      "2021/07/15 16:30:40.842 - NOMAD.local_route_choice_manager - INFO - Creating a walk level local route choice manager using WalkLevelRouteChoiceIterativeComputer\n",
      "2021/07/15 16:31:01.420 - NOMAD.local_route_choice_manager - INFO - Finished creating local route choice manager in 20.577671766281128 seconds\n",
      "2021/07/15 16:31:01.420 - NOMAD.nomad_model - INFO - Model created with PedestrianManagerAttr with pedClass = attrPedOpt\n"
     ]
    },
    {
     "name": "stdout",
     "output_type": "stream",
     "text": [
      "================================\n",
      "................................\n",
      "Simulation done. Processing data... done\n",
      "Runnig replication 4 with seed = 1290\n"
     ]
    },
    {
     "name": "stderr",
     "output_type": "stream",
     "text": [
      "2021/07/15 16:35:52.932 - NOMAD.local_route_choice_manager - INFO - Creating the local route choice manager using LocalRouteChoiceIterativeComputer\n",
      "2021/07/15 16:35:52.932 - NOMAD.local_route_choice_manager - INFO - Creating a walk level local route choice manager using WalkLevelRouteChoiceIterativeComputer\n",
      "2021/07/15 16:36:13.405 - NOMAD.local_route_choice_manager - INFO - Finished creating local route choice manager in 20.472753763198853 seconds\n",
      "2021/07/15 16:36:13.420 - NOMAD.nomad_model - INFO - Model created with PedestrianManagerAttr with pedClass = attrPedOpt\n"
     ]
    },
    {
     "name": "stdout",
     "output_type": "stream",
     "text": [
      "================================\n",
      "................................\n",
      "Simulation done. Processing data... done\n",
      "Runnig replication 5 with seed = 3889\n"
     ]
    },
    {
     "name": "stderr",
     "output_type": "stream",
     "text": [
      "2021/07/15 16:40:53.873 - NOMAD.local_route_choice_manager - INFO - Creating the local route choice manager using LocalRouteChoiceIterativeComputer\n",
      "2021/07/15 16:40:53.873 - NOMAD.local_route_choice_manager - INFO - Creating a walk level local route choice manager using WalkLevelRouteChoiceIterativeComputer\n",
      "2021/07/15 16:41:13.936 - NOMAD.local_route_choice_manager - INFO - Finished creating local route choice manager in 20.062522172927856 seconds\n",
      "2021/07/15 16:41:13.936 - NOMAD.nomad_model - INFO - Model created with PedestrianManagerAttr with pedClass = attrPedOpt\n"
     ]
    },
    {
     "name": "stdout",
     "output_type": "stream",
     "text": [
      "================================\n",
      "................................\n",
      "Simulation done. Processing data... done\n",
      "Runnig replication 6 with seed = 2290\n"
     ]
    },
    {
     "name": "stderr",
     "output_type": "stream",
     "text": [
      "2021/07/15 16:45:48.518 - NOMAD.local_route_choice_manager - INFO - Creating the local route choice manager using LocalRouteChoiceIterativeComputer\n",
      "2021/07/15 16:45:48.518 - NOMAD.local_route_choice_manager - INFO - Creating a walk level local route choice manager using WalkLevelRouteChoiceIterativeComputer\n",
      "2021/07/15 16:46:08.357 - NOMAD.local_route_choice_manager - INFO - Finished creating local route choice manager in 19.839138984680176 seconds\n",
      "2021/07/15 16:46:08.357 - NOMAD.nomad_model - INFO - Model created with PedestrianManagerAttr with pedClass = attrPedOpt\n"
     ]
    },
    {
     "name": "stdout",
     "output_type": "stream",
     "text": [
      "================================\n",
      "................................\n",
      "Simulation done. Processing data... done\n",
      "Runnig replication 7 with seed = 633\n"
     ]
    },
    {
     "name": "stderr",
     "output_type": "stream",
     "text": [
      "2021/07/15 16:50:41.982 - NOMAD.local_route_choice_manager - INFO - Creating the local route choice manager using LocalRouteChoiceIterativeComputer\n",
      "2021/07/15 16:50:41.982 - NOMAD.local_route_choice_manager - INFO - Creating a walk level local route choice manager using WalkLevelRouteChoiceIterativeComputer\n",
      "2021/07/15 16:51:01.955 - NOMAD.local_route_choice_manager - INFO - Finished creating local route choice manager in 19.972594499588013 seconds\n",
      "2021/07/15 16:51:01.957 - NOMAD.nomad_model - INFO - Model created with PedestrianManagerAttr with pedClass = attrPedOpt\n"
     ]
    },
    {
     "name": "stdout",
     "output_type": "stream",
     "text": [
      "================================\n",
      "................................\n",
      "Simulation done. Processing data... done\n",
      "Runnig replication 8 with seed = 3694\n"
     ]
    },
    {
     "name": "stderr",
     "output_type": "stream",
     "text": [
      "2021/07/15 16:55:35.467 - NOMAD.local_route_choice_manager - INFO - Creating the local route choice manager using LocalRouteChoiceIterativeComputer\n",
      "2021/07/15 16:55:35.467 - NOMAD.local_route_choice_manager - INFO - Creating a walk level local route choice manager using WalkLevelRouteChoiceIterativeComputer\n",
      "2021/07/15 16:55:55.537 - NOMAD.local_route_choice_manager - INFO - Finished creating local route choice manager in 20.069870710372925 seconds\n",
      "2021/07/15 16:55:55.539 - NOMAD.nomad_model - INFO - Model created with PedestrianManagerAttr with pedClass = attrPedOpt\n"
     ]
    },
    {
     "name": "stdout",
     "output_type": "stream",
     "text": [
      "================================\n",
      "................................\n",
      "Simulation done. Processing data... done\n",
      "Runnig replication 9 with seed = 2137\n"
     ]
    },
    {
     "name": "stderr",
     "output_type": "stream",
     "text": [
      "2021/07/15 17:00:41.123 - NOMAD.local_route_choice_manager - INFO - Creating the local route choice manager using LocalRouteChoiceIterativeComputer\n",
      "2021/07/15 17:00:41.123 - NOMAD.local_route_choice_manager - INFO - Creating a walk level local route choice manager using WalkLevelRouteChoiceIterativeComputer\n",
      "2021/07/15 17:01:01.557 - NOMAD.local_route_choice_manager - INFO - Finished creating local route choice manager in 20.434245586395264 seconds\n",
      "2021/07/15 17:01:01.565 - NOMAD.nomad_model - INFO - Model created with PedestrianManagerAttr with pedClass = attrPedOpt\n"
     ]
    },
    {
     "name": "stdout",
     "output_type": "stream",
     "text": [
      "================================\n",
      "................................\n",
      "Simulation done. Processing data... done\n",
      "Checking convergence... done\n",
      "Runnig replication 10 with seed = 2810\n"
     ]
    },
    {
     "name": "stderr",
     "output_type": "stream",
     "text": [
      "2021/07/15 17:05:51.792 - NOMAD.local_route_choice_manager - INFO - Creating the local route choice manager using LocalRouteChoiceIterativeComputer\n",
      "2021/07/15 17:05:51.792 - NOMAD.local_route_choice_manager - INFO - Creating a walk level local route choice manager using WalkLevelRouteChoiceIterativeComputer\n",
      "2021/07/15 17:06:12.631 - NOMAD.local_route_choice_manager - INFO - Finished creating local route choice manager in 20.838613271713257 seconds\n",
      "2021/07/15 17:06:12.646 - NOMAD.nomad_model - INFO - Model created with PedestrianManagerAttr with pedClass = attrPedOpt\n"
     ]
    },
    {
     "name": "stdout",
     "output_type": "stream",
     "text": [
      "================================\n",
      "................................\n",
      "Simulation done. Processing data... done\n",
      "Runnig replication 11 with seed = 1911\n"
     ]
    },
    {
     "name": "stderr",
     "output_type": "stream",
     "text": [
      "2021/07/15 17:11:02.650 - NOMAD.local_route_choice_manager - INFO - Creating the local route choice manager using LocalRouteChoiceIterativeComputer\n",
      "2021/07/15 17:11:02.666 - NOMAD.local_route_choice_manager - INFO - Creating a walk level local route choice manager using WalkLevelRouteChoiceIterativeComputer\n",
      "2021/07/15 17:11:23.399 - NOMAD.local_route_choice_manager - INFO - Finished creating local route choice manager in 20.73268437385559 seconds\n",
      "2021/07/15 17:11:23.399 - NOMAD.nomad_model - INFO - Model created with PedestrianManagerAttr with pedClass = attrPedOpt\n"
     ]
    },
    {
     "name": "stdout",
     "output_type": "stream",
     "text": [
      "================================\n",
      "................................\n",
      "Simulation done. Processing data... done\n",
      "Runnig replication 12 with seed = 1727\n"
     ]
    },
    {
     "name": "stderr",
     "output_type": "stream",
     "text": [
      "2021/07/15 17:16:20.198 - NOMAD.local_route_choice_manager - INFO - Creating the local route choice manager using LocalRouteChoiceIterativeComputer\n",
      "2021/07/15 17:16:20.198 - NOMAD.local_route_choice_manager - INFO - Creating a walk level local route choice manager using WalkLevelRouteChoiceIterativeComputer\n",
      "2021/07/15 17:16:41.314 - NOMAD.local_route_choice_manager - INFO - Finished creating local route choice manager in 21.11540460586548 seconds\n",
      "2021/07/15 17:16:41.329 - NOMAD.nomad_model - INFO - Model created with PedestrianManagerAttr with pedClass = attrPedOpt\n"
     ]
    },
    {
     "name": "stdout",
     "output_type": "stream",
     "text": [
      "================================\n",
      "................................\n",
      "Simulation done. Processing data... done\n",
      "Runnig replication 13 with seed = 17\n"
     ]
    },
    {
     "name": "stderr",
     "output_type": "stream",
     "text": [
      "2021/07/15 17:21:36.981 - NOMAD.local_route_choice_manager - INFO - Creating the local route choice manager using LocalRouteChoiceIterativeComputer\n",
      "2021/07/15 17:21:36.981 - NOMAD.local_route_choice_manager - INFO - Creating a walk level local route choice manager using WalkLevelRouteChoiceIterativeComputer\n",
      "2021/07/15 17:21:57.789 - NOMAD.local_route_choice_manager - INFO - Finished creating local route choice manager in 20.80872917175293 seconds\n",
      "2021/07/15 17:21:57.789 - NOMAD.nomad_model - INFO - Model created with PedestrianManagerAttr with pedClass = attrPedOpt\n"
     ]
    },
    {
     "name": "stdout",
     "output_type": "stream",
     "text": [
      "================================\n",
      "................................\n",
      "Simulation done. Processing data... done\n",
      "Runnig replication 14 with seed = 3056\n"
     ]
    },
    {
     "name": "stderr",
     "output_type": "stream",
     "text": [
      "2021/07/15 17:26:28.518 - NOMAD.local_route_choice_manager - INFO - Creating the local route choice manager using LocalRouteChoiceIterativeComputer\n",
      "2021/07/15 17:26:28.518 - NOMAD.local_route_choice_manager - INFO - Creating a walk level local route choice manager using WalkLevelRouteChoiceIterativeComputer\n",
      "2021/07/15 17:26:49.880 - NOMAD.local_route_choice_manager - INFO - Finished creating local route choice manager in 21.361573457717896 seconds\n",
      "2021/07/15 17:26:49.880 - NOMAD.nomad_model - INFO - Model created with PedestrianManagerAttr with pedClass = attrPedOpt\n"
     ]
    },
    {
     "name": "stdout",
     "output_type": "stream",
     "text": [
      "================================\n",
      "................................\n",
      "Simulation done. Processing data... done\n",
      "Checking convergence... done\n",
      "Runnig replication 15 with seed = 3594\n"
     ]
    },
    {
     "name": "stderr",
     "output_type": "stream",
     "text": [
      "2021/07/15 17:31:22.910 - NOMAD.local_route_choice_manager - INFO - Creating the local route choice manager using LocalRouteChoiceIterativeComputer\n",
      "2021/07/15 17:31:22.910 - NOMAD.local_route_choice_manager - INFO - Creating a walk level local route choice manager using WalkLevelRouteChoiceIterativeComputer\n",
      "2021/07/15 17:31:43.076 - NOMAD.local_route_choice_manager - INFO - Finished creating local route choice manager in 20.16596245765686 seconds\n",
      "2021/07/15 17:31:43.076 - NOMAD.nomad_model - INFO - Model created with PedestrianManagerAttr with pedClass = attrPedOpt\n"
     ]
    },
    {
     "name": "stdout",
     "output_type": "stream",
     "text": [
      "================================\n",
      "................................\n",
      "Simulation done. Processing data... done\n",
      "Runnig replication 16 with seed = 1147\n"
     ]
    },
    {
     "name": "stderr",
     "output_type": "stream",
     "text": [
      "2021/07/15 17:36:28.936 - NOMAD.local_route_choice_manager - INFO - Creating the local route choice manager using LocalRouteChoiceIterativeComputer\n",
      "2021/07/15 17:36:28.936 - NOMAD.local_route_choice_manager - INFO - Creating a walk level local route choice manager using WalkLevelRouteChoiceIterativeComputer\n",
      "2021/07/15 17:36:49.376 - NOMAD.local_route_choice_manager - INFO - Finished creating local route choice manager in 20.439715147018433 seconds\n",
      "2021/07/15 17:36:49.392 - NOMAD.nomad_model - INFO - Model created with PedestrianManagerAttr with pedClass = attrPedOpt\n"
     ]
    },
    {
     "name": "stdout",
     "output_type": "stream",
     "text": [
      "================================\n",
      "................................\n",
      "Simulation done. Processing data... done\n",
      "Runnig replication 17 with seed = 3342\n"
     ]
    },
    {
     "name": "stderr",
     "output_type": "stream",
     "text": [
      "2021/07/15 17:41:18.585 - NOMAD.local_route_choice_manager - INFO - Creating the local route choice manager using LocalRouteChoiceIterativeComputer\n",
      "2021/07/15 17:41:18.585 - NOMAD.local_route_choice_manager - INFO - Creating a walk level local route choice manager using WalkLevelRouteChoiceIterativeComputer\n",
      "2021/07/15 17:41:38.676 - NOMAD.local_route_choice_manager - INFO - Finished creating local route choice manager in 20.091050624847412 seconds\n",
      "2021/07/15 17:41:38.684 - NOMAD.nomad_model - INFO - Model created with PedestrianManagerAttr with pedClass = attrPedOpt\n"
     ]
    },
    {
     "name": "stdout",
     "output_type": "stream",
     "text": [
      "================================\n",
      "................................\n",
      "Simulation done. Processing data... done\n",
      "Runnig replication 18 with seed = 1402\n"
     ]
    },
    {
     "name": "stderr",
     "output_type": "stream",
     "text": [
      "2021/07/15 17:46:11.010 - NOMAD.local_route_choice_manager - INFO - Creating the local route choice manager using LocalRouteChoiceIterativeComputer\n",
      "2021/07/15 17:46:11.010 - NOMAD.local_route_choice_manager - INFO - Creating a walk level local route choice manager using WalkLevelRouteChoiceIterativeComputer\n",
      "2021/07/15 17:46:31.500 - NOMAD.local_route_choice_manager - INFO - Finished creating local route choice manager in 20.489797353744507 seconds\n",
      "2021/07/15 17:46:31.515 - NOMAD.nomad_model - INFO - Model created with PedestrianManagerAttr with pedClass = attrPedOpt\n"
     ]
    },
    {
     "name": "stdout",
     "output_type": "stream",
     "text": [
      "================================\n",
      "................................\n",
      "Simulation done. Processing data... done\n",
      "Runnig replication 19 with seed = 2841\n"
     ]
    },
    {
     "name": "stderr",
     "output_type": "stream",
     "text": [
      "2021/07/15 17:51:00.741 - NOMAD.local_route_choice_manager - INFO - Creating the local route choice manager using LocalRouteChoiceIterativeComputer\n",
      "2021/07/15 17:51:00.756 - NOMAD.local_route_choice_manager - INFO - Creating a walk level local route choice manager using WalkLevelRouteChoiceIterativeComputer\n",
      "2021/07/15 17:51:21.046 - NOMAD.local_route_choice_manager - INFO - Finished creating local route choice manager in 20.289989471435547 seconds\n",
      "2021/07/15 17:51:21.046 - NOMAD.nomad_model - INFO - Model created with PedestrianManagerAttr with pedClass = attrPedOpt\n"
     ]
    },
    {
     "name": "stdout",
     "output_type": "stream",
     "text": [
      "================================\n",
      "................................\n",
      "Simulation done. Processing data... done\n",
      "Checking convergence... done\n",
      "Runnig replication 20 with seed = 1589\n"
     ]
    },
    {
     "name": "stderr",
     "output_type": "stream",
     "text": [
      "2021/07/15 17:56:07.886 - NOMAD.local_route_choice_manager - INFO - Creating the local route choice manager using LocalRouteChoiceIterativeComputer\n",
      "2021/07/15 17:56:07.886 - NOMAD.local_route_choice_manager - INFO - Creating a walk level local route choice manager using WalkLevelRouteChoiceIterativeComputer\n",
      "2021/07/15 17:56:28.176 - NOMAD.local_route_choice_manager - INFO - Finished creating local route choice manager in 20.289633989334106 seconds\n",
      "2021/07/15 17:56:28.176 - NOMAD.nomad_model - INFO - Model created with PedestrianManagerAttr with pedClass = attrPedOpt\n"
     ]
    },
    {
     "name": "stdout",
     "output_type": "stream",
     "text": [
      "================================\n",
      "................................\n",
      "Simulation done. Processing data... done\n",
      "Runnig replication 21 with seed = 1265\n"
     ]
    },
    {
     "name": "stderr",
     "output_type": "stream",
     "text": [
      "2021/07/15 18:00:55.984 - NOMAD.local_route_choice_manager - INFO - Creating the local route choice manager using LocalRouteChoiceIterativeComputer\n",
      "2021/07/15 18:00:55.984 - NOMAD.local_route_choice_manager - INFO - Creating a walk level local route choice manager using WalkLevelRouteChoiceIterativeComputer\n",
      "2021/07/15 18:01:16.714 - NOMAD.local_route_choice_manager - INFO - Finished creating local route choice manager in 20.729393482208252 seconds\n",
      "2021/07/15 18:01:16.722 - NOMAD.nomad_model - INFO - Model created with PedestrianManagerAttr with pedClass = attrPedOpt\n"
     ]
    },
    {
     "name": "stdout",
     "output_type": "stream",
     "text": [
      "================================\n",
      "................................\n",
      "Simulation done. Processing data... done\n",
      "Runnig replication 22 with seed = 2462\n"
     ]
    },
    {
     "name": "stderr",
     "output_type": "stream",
     "text": [
      "2021/07/15 18:06:06.026 - NOMAD.local_route_choice_manager - INFO - Creating the local route choice manager using LocalRouteChoiceIterativeComputer\n",
      "2021/07/15 18:06:06.026 - NOMAD.local_route_choice_manager - INFO - Creating a walk level local route choice manager using WalkLevelRouteChoiceIterativeComputer\n",
      "2021/07/15 18:06:26.725 - NOMAD.local_route_choice_manager - INFO - Finished creating local route choice manager in 20.69926357269287 seconds\n",
      "2021/07/15 18:06:26.731 - NOMAD.nomad_model - INFO - Model created with PedestrianManagerAttr with pedClass = attrPedOpt\n"
     ]
    },
    {
     "name": "stdout",
     "output_type": "stream",
     "text": [
      "================================\n",
      "................................\n",
      "Simulation done. Processing data... done\n",
      "Runnig replication 23 with seed = 3247\n"
     ]
    },
    {
     "name": "stderr",
     "output_type": "stream",
     "text": [
      "2021/07/15 18:11:33.040 - NOMAD.local_route_choice_manager - INFO - Creating the local route choice manager using LocalRouteChoiceIterativeComputer\n",
      "2021/07/15 18:11:33.040 - NOMAD.local_route_choice_manager - INFO - Creating a walk level local route choice manager using WalkLevelRouteChoiceIterativeComputer\n",
      "2021/07/15 18:11:55.231 - NOMAD.local_route_choice_manager - INFO - Finished creating local route choice manager in 22.19048500061035 seconds\n",
      "2021/07/15 18:11:55.231 - NOMAD.nomad_model - INFO - Model created with PedestrianManagerAttr with pedClass = attrPedOpt\n"
     ]
    },
    {
     "name": "stdout",
     "output_type": "stream",
     "text": [
      "================================\n",
      "..............................."
     ]
    }
   ],
   "source": [
    "from contact_analysis import ExperimentRunner, STEPS, P_THRESHOLD\n",
    "from pathlib import Path\n",
    "\n",
    "scenarioXmlFlNm = Path(r'D:\\SurfDrive\\PhD\\Activity scheduler\\Scenarios\\paper_scenarios\\trb_paper_base.xml')\n",
    "lrcmFlNm = Path(r'D:\\SurfDrive\\PhD\\Activity scheduler\\Scenarios\\paper_scenarios\\trb_paper.lrcm')\n",
    "\n",
    "experimentRunner = ExperimentRunner(scenarioXmlFlNm, lrcmFlNm, init_replications=10, max_replications=2000, \n",
    "                                      convergence_config={STEPS:5, P_THRESHOLD:0.95},\n",
    "                                       cut_off_distances=(1.0, 1.5, 2.0))\n",
    "experimentRunner.run_experiment()\n"
   ]
  },
  {
   "cell_type": "code",
   "execution_count": null,
   "id": "50ec3608-6cc6-4849-b852-8852655a1d5a",
   "metadata": {},
   "outputs": [],
   "source": []
  }
 ],
 "metadata": {
  "kernelspec": {
   "display_name": "Python 3",
   "language": "python",
   "name": "python3"
  },
  "language_info": {
   "codemirror_mode": {
    "name": "ipython",
    "version": 3
   },
   "file_extension": ".py",
   "mimetype": "text/x-python",
   "name": "python",
   "nbconvert_exporter": "python",
   "pygments_lexer": "ipython3",
   "version": "3.9.4"
  }
 },
 "nbformat": 4,
 "nbformat_minor": 5
}
