{
 "cells": [
  {
   "cell_type": "code",
   "execution_count": 1,
   "id": "db0f2506-ec22-4191-ac06-a4a6a6d8d60d",
   "metadata": {},
   "outputs": [
    {
     "name": "stdout",
     "output_type": "stream",
     "text": [
      "C:\\Users\\MartijnTU\\Jupyter_notebooks\\trb_analysis\\trb_analysis\\nomad\n",
      "c241e40d5232b58142d176859c29d9a5a69c2f4a: Fri, 23 Jul 2021 16:39 - Merge branch 'trb_paper' of https://gitlab.tudelft.nl/active-mode-models/nomad.git\n"
     ]
    }
   ],
   "source": [
    "try:\n",
    "    from git_nomad import pull_nomad\n",
    "except:\n",
    "    import sys; sys.path.insert(0, '..')\n",
    "    from git_nomad import pull_nomad\n",
    "    \n",
    "import socket\n",
    "if socket.gethostname() == 'SPA-DESKTOP':\n",
    "    remote_path = r\"D:\\Work_TU\\Documents\\nomad\"\n",
    "else:\n",
    "    remote_path = r\"C:\\Users\\martijnsparnaa\\Eclipse_Python_NOMAD\\nomad_trb_paper\"\n",
    "repo_path, repo = pull_nomad(remote_path, 'master')\n",
    "print(repo_path.resolve())\n",
    "\n",
    "import os\n",
    "import time\n",
    "os.chdir(repo_path)\n",
    "headcommit = repo.head.commit\n",
    "committed_date = time.strftime(\"%a, %d %b %Y %H:%M\", time.localtime(headcommit.committed_date))\n",
    "print(f'{headcommit}: {committed_date} - {headcommit.message}')"
   ]
  },
  {
   "cell_type": "code",
   "execution_count": null,
   "id": "0b3e4fd2-f8c2-4f07-bb90-2385647266ce",
   "metadata": {},
   "outputs": [],
   "source": [
    "from contact_analysis import ExperimentRunner, STEPS, P_THRESHOLD\n",
    "from pathlib import Path\n",
    "\n",
    "scenarioXmlFlNm = Path(r'D:\\SurfDrive\\PhD\\Activity scheduler\\Scenarios\\paper_scenarios\\trb_paper_base.xml')\n",
    "lrcmFlNm = Path(r'D:\\SurfDrive\\PhD\\Activity scheduler\\Scenarios\\paper_scenarios\\trb_paper.lrcm')\n",
    "\n",
    "experimentRunner = ExperimentRunner(scenarioXmlFlNm, lrcmFlNm, init_replications=10, max_replications=2000, \n",
    "                                      convergence_config={STEPS:5, P_THRESHOLD:0.95},\n",
    "                                       cut_off_distances=(1.0, 1.5, 2.0))\n",
    "experimentRunner.run_experiment()\n"
   ]
  },
  {
   "cell_type": "code",
   "execution_count": null,
   "id": "50ec3608-6cc6-4849-b852-8852655a1d5a",
   "metadata": {},
   "outputs": [
    {
     "name": "stdout",
     "output_type": "stream",
     "text": [
      "Running replication 208 with seed = 2470\n"
     ]
    },
    {
     "name": "stderr",
     "output_type": "stream",
     "text": [
      "2021/07/24 09:43:53.723 - NOMAD.local_route_choice_manager - INFO - Creating the local route choice manager using LocalRouteChoiceIterativeComputer + C\n",
      "2021/07/24 09:43:53.739 - NOMAD.local_route_choice_manager - INFO - Creating a walk level local route choice manager using WalkLevelRouteChoiceIterativeComputer + C\n",
      "2021/07/24 09:44:14.434 - NOMAD.local_route_choice_manager - INFO - Finished creating local route choice manager in 20.695627212524414 seconds\n",
      "2021/07/24 09:44:14.444 - NOMAD.nomad_model - INFO - Model created with PedestrianManagerAttr with pedClass = attrPedPedForcesC\n"
     ]
    },
    {
     "name": "stdout",
     "output_type": "stream",
     "text": [
      "================================\n",
      "................................\n",
      "Simulation done. Processing data... done\n",
      "Saving data to file...done\n",
      "Running replication 209 with seed = 1938\n"
     ]
    },
    {
     "name": "stderr",
     "output_type": "stream",
     "text": [
      "2021/07/24 09:47:51.237 - NOMAD.local_route_choice_manager - INFO - Creating the local route choice manager using LocalRouteChoiceIterativeComputer + C\n",
      "2021/07/24 09:47:51.237 - NOMAD.local_route_choice_manager - INFO - Creating a walk level local route choice manager using WalkLevelRouteChoiceIterativeComputer + C\n",
      "2021/07/24 09:48:12.393 - NOMAD.local_route_choice_manager - INFO - Finished creating local route choice manager in 21.15568971633911 seconds\n",
      "2021/07/24 09:48:12.393 - NOMAD.nomad_model - INFO - Model created with PedestrianManagerAttr with pedClass = attrPedPedForcesC\n"
     ]
    },
    {
     "name": "stdout",
     "output_type": "stream",
     "text": [
      "================================\n",
      "................................\n",
      "Simulation done. Processing data... done\n",
      "Saving data to file...done\n",
      "Running replication 210 with seed = 3585\n"
     ]
    },
    {
     "name": "stderr",
     "output_type": "stream",
     "text": [
      "2021/07/24 09:51:44.344 - NOMAD.local_route_choice_manager - INFO - Creating the local route choice manager using LocalRouteChoiceIterativeComputer + C\n",
      "2021/07/24 09:51:44.344 - NOMAD.local_route_choice_manager - INFO - Creating a walk level local route choice manager using WalkLevelRouteChoiceIterativeComputer + C\n",
      "2021/07/24 09:52:05.978 - NOMAD.local_route_choice_manager - INFO - Finished creating local route choice manager in 21.633409023284912 seconds\n",
      "2021/07/24 09:52:05.980 - NOMAD.nomad_model - INFO - Model created with PedestrianManagerAttr with pedClass = attrPedPedForcesC\n"
     ]
    },
    {
     "name": "stdout",
     "output_type": "stream",
     "text": [
      "================================\n",
      "................................\n",
      "Simulation done. Processing data... done\n",
      "Checking convergence... done\n",
      "Saving data to file...done\n",
      "Running replication 211 with seed = 3602\n"
     ]
    },
    {
     "name": "stderr",
     "output_type": "stream",
     "text": [
      "2021/07/24 09:55:51.051 - NOMAD.local_route_choice_manager - INFO - Creating the local route choice manager using LocalRouteChoiceIterativeComputer + C\n",
      "2021/07/24 09:55:51.053 - NOMAD.local_route_choice_manager - INFO - Creating a walk level local route choice manager using WalkLevelRouteChoiceIterativeComputer + C\n",
      "2021/07/24 09:56:12.709 - NOMAD.local_route_choice_manager - INFO - Finished creating local route choice manager in 21.656640768051147 seconds\n",
      "2021/07/24 09:56:12.719 - NOMAD.nomad_model - INFO - Model created with PedestrianManagerAttr with pedClass = attrPedPedForcesC\n"
     ]
    },
    {
     "name": "stdout",
     "output_type": "stream",
     "text": [
      "================================\n",
      "................................\n",
      "Simulation done. Processing data... done\n",
      "Saving data to file...done\n",
      "Running replication 212 with seed = 1214\n"
     ]
    },
    {
     "name": "stderr",
     "output_type": "stream",
     "text": [
      "2021/07/24 09:59:39.554 - NOMAD.local_route_choice_manager - INFO - Creating the local route choice manager using LocalRouteChoiceIterativeComputer + C\n",
      "2021/07/24 09:59:39.572 - NOMAD.local_route_choice_manager - INFO - Creating a walk level local route choice manager using WalkLevelRouteChoiceIterativeComputer + C\n",
      "2021/07/24 10:00:00.813 - NOMAD.local_route_choice_manager - INFO - Finished creating local route choice manager in 21.241538286209106 seconds\n",
      "2021/07/24 10:00:00.823 - NOMAD.nomad_model - INFO - Model created with PedestrianManagerAttr with pedClass = attrPedPedForcesC\n"
     ]
    },
    {
     "name": "stdout",
     "output_type": "stream",
     "text": [
      "================================\n",
      "................................\n",
      "Simulation done. Processing data... done\n",
      "Saving data to file...done\n",
      "Running replication 213 with seed = 2346\n"
     ]
    },
    {
     "name": "stderr",
     "output_type": "stream",
     "text": [
      "2021/07/24 10:03:22.781 - NOMAD.local_route_choice_manager - INFO - Creating the local route choice manager using LocalRouteChoiceIterativeComputer + C\n",
      "2021/07/24 10:03:22.781 - NOMAD.local_route_choice_manager - INFO - Creating a walk level local route choice manager using WalkLevelRouteChoiceIterativeComputer + C\n",
      "2021/07/24 10:03:43.716 - NOMAD.local_route_choice_manager - INFO - Finished creating local route choice manager in 20.93500566482544 seconds\n",
      "2021/07/24 10:03:43.716 - NOMAD.nomad_model - INFO - Model created with PedestrianManagerAttr with pedClass = attrPedPedForcesC\n"
     ]
    },
    {
     "name": "stdout",
     "output_type": "stream",
     "text": [
      "================================\n",
      "................................\n",
      "Simulation done. Processing data... done\n",
      "Saving data to file...done\n",
      "Running replication 214 with seed = 1993\n"
     ]
    },
    {
     "name": "stderr",
     "output_type": "stream",
     "text": [
      "2021/07/24 10:07:06.538 - NOMAD.local_route_choice_manager - INFO - Creating the local route choice manager using LocalRouteChoiceIterativeComputer + C\n",
      "2021/07/24 10:07:06.546 - NOMAD.local_route_choice_manager - INFO - Creating a walk level local route choice manager using WalkLevelRouteChoiceIterativeComputer + C\n",
      "2021/07/24 10:07:27.239 - NOMAD.local_route_choice_manager - INFO - Finished creating local route choice manager in 20.692596912384033 seconds\n",
      "2021/07/24 10:07:27.249 - NOMAD.nomad_model - INFO - Model created with PedestrianManagerAttr with pedClass = attrPedPedForcesC\n"
     ]
    },
    {
     "name": "stdout",
     "output_type": "stream",
     "text": [
      "================================\n",
      "................................\n",
      "Simulation done. Processing data... done\n",
      "Saving data to file...done\n",
      "Running replication 215 with seed = 1780\n"
     ]
    },
    {
     "name": "stderr",
     "output_type": "stream",
     "text": [
      "2021/07/24 10:10:49.384 - NOMAD.local_route_choice_manager - INFO - Creating the local route choice manager using LocalRouteChoiceIterativeComputer + C\n",
      "2021/07/24 10:10:49.394 - NOMAD.local_route_choice_manager - INFO - Creating a walk level local route choice manager using WalkLevelRouteChoiceIterativeComputer + C\n",
      "2021/07/24 10:11:09.581 - NOMAD.local_route_choice_manager - INFO - Finished creating local route choice manager in 20.187085390090942 seconds\n",
      "2021/07/24 10:11:09.591 - NOMAD.nomad_model - INFO - Model created with PedestrianManagerAttr with pedClass = attrPedPedForcesC\n"
     ]
    },
    {
     "name": "stdout",
     "output_type": "stream",
     "text": [
      "================================\n",
      "................................\n",
      "Simulation done. Processing data... done\n",
      "Checking convergence... done\n",
      "Saving data to file...done\n",
      "Running replication 216 with seed = 2366\n"
     ]
    },
    {
     "name": "stderr",
     "output_type": "stream",
     "text": [
      "2021/07/24 10:14:34.207 - NOMAD.local_route_choice_manager - INFO - Creating the local route choice manager using LocalRouteChoiceIterativeComputer + C\n",
      "2021/07/24 10:14:34.215 - NOMAD.local_route_choice_manager - INFO - Creating a walk level local route choice manager using WalkLevelRouteChoiceIterativeComputer + C\n",
      "2021/07/24 10:14:55.322 - NOMAD.local_route_choice_manager - INFO - Finished creating local route choice manager in 21.1066997051239 seconds\n",
      "2021/07/24 10:14:55.322 - NOMAD.nomad_model - INFO - Model created with PedestrianManagerAttr with pedClass = attrPedPedForcesC\n"
     ]
    },
    {
     "name": "stdout",
     "output_type": "stream",
     "text": [
      "================================\n",
      "................................\n",
      "Simulation done. Processing data... done\n",
      "Saving data to file...done\n",
      "Running replication 217 with seed = 1124\n"
     ]
    },
    {
     "name": "stderr",
     "output_type": "stream",
     "text": [
      "2021/07/24 10:18:23.388 - NOMAD.local_route_choice_manager - INFO - Creating the local route choice manager using LocalRouteChoiceIterativeComputer + C\n",
      "2021/07/24 10:18:23.388 - NOMAD.local_route_choice_manager - INFO - Creating a walk level local route choice manager using WalkLevelRouteChoiceIterativeComputer + C\n",
      "2021/07/24 10:18:44.373 - NOMAD.local_route_choice_manager - INFO - Finished creating local route choice manager in 20.985143899917603 seconds\n",
      "2021/07/24 10:18:44.383 - NOMAD.nomad_model - INFO - Model created with PedestrianManagerAttr with pedClass = attrPedPedForcesC\n"
     ]
    },
    {
     "name": "stdout",
     "output_type": "stream",
     "text": [
      "================================\n",
      "................................\n",
      "Simulation done. Processing data... done\n",
      "Saving data to file...done\n",
      "Running replication 218 with seed = 1169\n"
     ]
    },
    {
     "name": "stderr",
     "output_type": "stream",
     "text": [
      "2021/07/24 10:22:07.245 - NOMAD.local_route_choice_manager - INFO - Creating the local route choice manager using LocalRouteChoiceIterativeComputer + C\n",
      "2021/07/24 10:22:07.247 - NOMAD.local_route_choice_manager - INFO - Creating a walk level local route choice manager using WalkLevelRouteChoiceIterativeComputer + C\n",
      "2021/07/24 10:22:28.160 - NOMAD.local_route_choice_manager - INFO - Finished creating local route choice manager in 20.91292095184326 seconds\n",
      "2021/07/24 10:22:28.162 - NOMAD.nomad_model - INFO - Model created with PedestrianManagerAttr with pedClass = attrPedPedForcesC\n"
     ]
    },
    {
     "name": "stdout",
     "output_type": "stream",
     "text": [
      "================================\n",
      "................................\n",
      "Simulation done. Processing data... done\n",
      "Saving data to file...done\n",
      "Running replication 219 with seed = 3167\n"
     ]
    },
    {
     "name": "stderr",
     "output_type": "stream",
     "text": [
      "2021/07/24 10:25:51.283 - NOMAD.local_route_choice_manager - INFO - Creating the local route choice manager using LocalRouteChoiceIterativeComputer + C\n",
      "2021/07/24 10:25:51.285 - NOMAD.local_route_choice_manager - INFO - Creating a walk level local route choice manager using WalkLevelRouteChoiceIterativeComputer + C\n",
      "2021/07/24 10:26:11.809 - NOMAD.local_route_choice_manager - INFO - Finished creating local route choice manager in 20.52399969100952 seconds\n",
      "2021/07/24 10:26:11.809 - NOMAD.nomad_model - INFO - Model created with PedestrianManagerAttr with pedClass = attrPedPedForcesC\n"
     ]
    },
    {
     "name": "stdout",
     "output_type": "stream",
     "text": [
      "================================\n",
      "................................\n",
      "Simulation done. Processing data... done\n",
      "Saving data to file...done\n",
      "Running replication 220 with seed = 3998\n"
     ]
    },
    {
     "name": "stderr",
     "output_type": "stream",
     "text": [
      "2021/07/24 10:29:37.994 - NOMAD.local_route_choice_manager - INFO - Creating the local route choice manager using LocalRouteChoiceIterativeComputer + C\n",
      "2021/07/24 10:29:37.994 - NOMAD.local_route_choice_manager - INFO - Creating a walk level local route choice manager using WalkLevelRouteChoiceIterativeComputer + C\n",
      "2021/07/24 10:29:58.859 - NOMAD.local_route_choice_manager - INFO - Finished creating local route choice manager in 20.86485505104065 seconds\n",
      "2021/07/24 10:29:58.867 - NOMAD.nomad_model - INFO - Model created with PedestrianManagerAttr with pedClass = attrPedPedForcesC\n"
     ]
    },
    {
     "name": "stdout",
     "output_type": "stream",
     "text": [
      "================================\n",
      "................................\n",
      "Simulation done. Processing data... done\n",
      "Checking convergence... done\n",
      "Saving data to file...done\n",
      "Running replication 221 with seed = 3206\n"
     ]
    },
    {
     "name": "stderr",
     "output_type": "stream",
     "text": [
      "2021/07/24 10:33:21.225 - NOMAD.local_route_choice_manager - INFO - Creating the local route choice manager using LocalRouteChoiceIterativeComputer + C\n",
      "2021/07/24 10:33:21.225 - NOMAD.local_route_choice_manager - INFO - Creating a walk level local route choice manager using WalkLevelRouteChoiceIterativeComputer + C\n",
      "2021/07/24 10:33:42.603 - NOMAD.local_route_choice_manager - INFO - Finished creating local route choice manager in 21.377981662750244 seconds\n",
      "2021/07/24 10:33:42.611 - NOMAD.nomad_model - INFO - Model created with PedestrianManagerAttr with pedClass = attrPedPedForcesC\n"
     ]
    },
    {
     "name": "stdout",
     "output_type": "stream",
     "text": [
      "================================\n",
      "................................\n",
      "Simulation done. Processing data... done\n",
      "Saving data to file...done\n",
      "Running replication 222 with seed = 1773\n"
     ]
    },
    {
     "name": "stderr",
     "output_type": "stream",
     "text": [
      "2021/07/24 10:36:57.411 - NOMAD.local_route_choice_manager - INFO - Creating the local route choice manager using LocalRouteChoiceIterativeComputer + C\n",
      "2021/07/24 10:36:57.411 - NOMAD.local_route_choice_manager - INFO - Creating a walk level local route choice manager using WalkLevelRouteChoiceIterativeComputer + C\n",
      "2021/07/24 10:37:18.752 - NOMAD.local_route_choice_manager - INFO - Finished creating local route choice manager in 21.341339349746704 seconds\n",
      "2021/07/24 10:37:18.762 - NOMAD.nomad_model - INFO - Model created with PedestrianManagerAttr with pedClass = attrPedPedForcesC\n"
     ]
    },
    {
     "name": "stdout",
     "output_type": "stream",
     "text": [
      "================================\n",
      "................................\n",
      "Simulation done. Processing data... done\n",
      "Saving data to file...done\n",
      "Running replication 223 with seed = 3388\n"
     ]
    },
    {
     "name": "stderr",
     "output_type": "stream",
     "text": [
      "2021/07/24 10:40:47.769 - NOMAD.local_route_choice_manager - INFO - Creating the local route choice manager using LocalRouteChoiceIterativeComputer + C\n",
      "2021/07/24 10:40:47.769 - NOMAD.local_route_choice_manager - INFO - Creating a walk level local route choice manager using WalkLevelRouteChoiceIterativeComputer + C\n",
      "2021/07/24 10:41:09.528 - NOMAD.local_route_choice_manager - INFO - Finished creating local route choice manager in 21.759199142456055 seconds\n",
      "2021/07/24 10:41:09.538 - NOMAD.nomad_model - INFO - Model created with PedestrianManagerAttr with pedClass = attrPedPedForcesC\n"
     ]
    },
    {
     "name": "stdout",
     "output_type": "stream",
     "text": [
      "================================\n",
      "................................\n",
      "Simulation done. Processing data... done\n",
      "Saving data to file...done\n",
      "Running replication 224 with seed = 2408\n"
     ]
    },
    {
     "name": "stderr",
     "output_type": "stream",
     "text": [
      "2021/07/24 10:44:51.743 - NOMAD.local_route_choice_manager - INFO - Creating the local route choice manager using LocalRouteChoiceIterativeComputer + C\n",
      "2021/07/24 10:44:51.743 - NOMAD.local_route_choice_manager - INFO - Creating a walk level local route choice manager using WalkLevelRouteChoiceIterativeComputer + C\n",
      "2021/07/24 10:45:12.988 - NOMAD.local_route_choice_manager - INFO - Finished creating local route choice manager in 21.244950771331787 seconds\n",
      "2021/07/24 10:45:12.990 - NOMAD.nomad_model - INFO - Model created with PedestrianManagerAttr with pedClass = attrPedPedForcesC\n"
     ]
    },
    {
     "name": "stdout",
     "output_type": "stream",
     "text": [
      "================================\n",
      "................................\n",
      "Simulation done. Processing data... done\n",
      "Saving data to file...done\n",
      "Running replication 225 with seed = 2816\n"
     ]
    },
    {
     "name": "stderr",
     "output_type": "stream",
     "text": [
      "2021/07/24 10:48:42.062 - NOMAD.local_route_choice_manager - INFO - Creating the local route choice manager using LocalRouteChoiceIterativeComputer + C\n",
      "2021/07/24 10:48:42.062 - NOMAD.local_route_choice_manager - INFO - Creating a walk level local route choice manager using WalkLevelRouteChoiceIterativeComputer + C\n",
      "2021/07/24 10:49:03.906 - NOMAD.local_route_choice_manager - INFO - Finished creating local route choice manager in 21.844388008117676 seconds\n",
      "2021/07/24 10:49:03.906 - NOMAD.nomad_model - INFO - Model created with PedestrianManagerAttr with pedClass = attrPedPedForcesC\n"
     ]
    },
    {
     "name": "stdout",
     "output_type": "stream",
     "text": [
      "================================\n",
      "................................\n",
      "Simulation done. Processing data... done\n",
      "Checking convergence... done\n",
      "Saving data to file...done\n",
      "Running replication 226 with seed = 2911\n"
     ]
    },
    {
     "name": "stderr",
     "output_type": "stream",
     "text": [
      "2021/07/24 10:52:28.122 - NOMAD.local_route_choice_manager - INFO - Creating the local route choice manager using LocalRouteChoiceIterativeComputer + C\n",
      "2021/07/24 10:52:28.122 - NOMAD.local_route_choice_manager - INFO - Creating a walk level local route choice manager using WalkLevelRouteChoiceIterativeComputer + C\n",
      "2021/07/24 10:52:50.045 - NOMAD.local_route_choice_manager - INFO - Finished creating local route choice manager in 21.922887563705444 seconds\n",
      "2021/07/24 10:52:50.045 - NOMAD.nomad_model - INFO - Model created with PedestrianManagerAttr with pedClass = attrPedPedForcesC\n"
     ]
    },
    {
     "name": "stdout",
     "output_type": "stream",
     "text": [
      "================================\n",
      "................................\n",
      "Simulation done. Processing data... done\n",
      "Saving data to file...done\n",
      "Running replication 227 with seed = 264\n"
     ]
    },
    {
     "name": "stderr",
     "output_type": "stream",
     "text": [
      "2021/07/24 10:56:19.509 - NOMAD.local_route_choice_manager - INFO - Creating the local route choice manager using LocalRouteChoiceIterativeComputer + C\n",
      "2021/07/24 10:56:19.509 - NOMAD.local_route_choice_manager - INFO - Creating a walk level local route choice manager using WalkLevelRouteChoiceIterativeComputer + C\n",
      "2021/07/24 10:56:40.834 - NOMAD.local_route_choice_manager - INFO - Finished creating local route choice manager in 21.324177980422974 seconds\n",
      "2021/07/24 10:56:40.842 - NOMAD.nomad_model - INFO - Model created with PedestrianManagerAttr with pedClass = attrPedPedForcesC\n"
     ]
    },
    {
     "name": "stdout",
     "output_type": "stream",
     "text": [
      "================================\n",
      "................................\n",
      "Simulation done. Processing data... done\n",
      "Saving data to file...done\n",
      "Running replication 228 with seed = 225\n"
     ]
    },
    {
     "name": "stderr",
     "output_type": "stream",
     "text": [
      "2021/07/24 11:00:12.719 - NOMAD.local_route_choice_manager - INFO - Creating the local route choice manager using LocalRouteChoiceIterativeComputer + C\n",
      "2021/07/24 11:00:12.719 - NOMAD.local_route_choice_manager - INFO - Creating a walk level local route choice manager using WalkLevelRouteChoiceIterativeComputer + C\n",
      "2021/07/24 11:00:34.018 - NOMAD.local_route_choice_manager - INFO - Finished creating local route choice manager in 21.29840874671936 seconds\n",
      "2021/07/24 11:00:34.028 - NOMAD.nomad_model - INFO - Model created with PedestrianManagerAttr with pedClass = attrPedPedForcesC\n"
     ]
    },
    {
     "name": "stdout",
     "output_type": "stream",
     "text": [
      "================================\n",
      "................................\n",
      "Simulation done. Processing data... done\n",
      "Saving data to file...done\n",
      "Running replication 229 with seed = 112\n"
     ]
    },
    {
     "name": "stderr",
     "output_type": "stream",
     "text": [
      "2021/07/24 11:04:01.444 - NOMAD.local_route_choice_manager - INFO - Creating the local route choice manager using LocalRouteChoiceIterativeComputer + C\n",
      "2021/07/24 11:04:01.444 - NOMAD.local_route_choice_manager - INFO - Creating a walk level local route choice manager using WalkLevelRouteChoiceIterativeComputer + C\n",
      "2021/07/24 11:04:23.074 - NOMAD.local_route_choice_manager - INFO - Finished creating local route choice manager in 21.629796028137207 seconds\n",
      "2021/07/24 11:04:23.084 - NOMAD.nomad_model - INFO - Model created with PedestrianManagerAttr with pedClass = attrPedPedForcesC\n"
     ]
    },
    {
     "name": "stdout",
     "output_type": "stream",
     "text": [
      "================================\n",
      "................................\n",
      "Simulation done. Processing data... done\n",
      "Saving data to file...done\n",
      "Running replication 230 with seed = 1675\n"
     ]
    },
    {
     "name": "stderr",
     "output_type": "stream",
     "text": [
      "2021/07/24 11:07:46.674 - NOMAD.local_route_choice_manager - INFO - Creating the local route choice manager using LocalRouteChoiceIterativeComputer + C\n",
      "2021/07/24 11:07:46.674 - NOMAD.local_route_choice_manager - INFO - Creating a walk level local route choice manager using WalkLevelRouteChoiceIterativeComputer + C\n",
      "2021/07/24 11:08:08.376 - NOMAD.local_route_choice_manager - INFO - Finished creating local route choice manager in 21.702051877975464 seconds\n",
      "2021/07/24 11:08:08.384 - NOMAD.nomad_model - INFO - Model created with PedestrianManagerAttr with pedClass = attrPedPedForcesC\n"
     ]
    },
    {
     "name": "stdout",
     "output_type": "stream",
     "text": [
      "================================\n",
      "................................\n",
      "Simulation done. Processing data... done\n",
      "Checking convergence... done\n",
      "Saving data to file...done\n",
      "Running replication 231 with seed = 2390\n"
     ]
    },
    {
     "name": "stderr",
     "output_type": "stream",
     "text": [
      "2021/07/24 11:11:42.525 - NOMAD.local_route_choice_manager - INFO - Creating the local route choice manager using LocalRouteChoiceIterativeComputer + C\n",
      "2021/07/24 11:11:42.527 - NOMAD.local_route_choice_manager - INFO - Creating a walk level local route choice manager using WalkLevelRouteChoiceIterativeComputer + C\n",
      "2021/07/24 11:12:04.163 - NOMAD.local_route_choice_manager - INFO - Finished creating local route choice manager in 21.636428594589233 seconds\n",
      "2021/07/24 11:12:04.173 - NOMAD.nomad_model - INFO - Model created with PedestrianManagerAttr with pedClass = attrPedPedForcesC\n"
     ]
    },
    {
     "name": "stdout",
     "output_type": "stream",
     "text": [
      "================================\n",
      "................................\n",
      "Simulation done. Processing data... done\n",
      "Saving data to file...done\n",
      "Running replication 232 with seed = 856\n"
     ]
    },
    {
     "name": "stderr",
     "output_type": "stream",
     "text": [
      "2021/07/24 11:15:24.086 - NOMAD.local_route_choice_manager - INFO - Creating the local route choice manager using LocalRouteChoiceIterativeComputer + C\n",
      "2021/07/24 11:15:24.086 - NOMAD.local_route_choice_manager - INFO - Creating a walk level local route choice manager using WalkLevelRouteChoiceIterativeComputer + C\n",
      "2021/07/24 11:15:45.308 - NOMAD.local_route_choice_manager - INFO - Finished creating local route choice manager in 21.222088098526 seconds\n",
      "2021/07/24 11:15:45.310 - NOMAD.nomad_model - INFO - Model created with PedestrianManagerAttr with pedClass = attrPedPedForcesC\n"
     ]
    },
    {
     "name": "stdout",
     "output_type": "stream",
     "text": [
      "================================\n",
      "................................\n",
      "Simulation done. Processing data... done\n",
      "Saving data to file...done\n",
      "Running replication 233 with seed = 485\n"
     ]
    },
    {
     "name": "stderr",
     "output_type": "stream",
     "text": [
      "2021/07/24 11:19:14.826 - NOMAD.local_route_choice_manager - INFO - Creating the local route choice manager using LocalRouteChoiceIterativeComputer + C\n",
      "2021/07/24 11:19:14.828 - NOMAD.local_route_choice_manager - INFO - Creating a walk level local route choice manager using WalkLevelRouteChoiceIterativeComputer + C\n",
      "2021/07/24 11:19:36.044 - NOMAD.local_route_choice_manager - INFO - Finished creating local route choice manager in 21.216031789779663 seconds\n",
      "2021/07/24 11:19:36.052 - NOMAD.nomad_model - INFO - Model created with PedestrianManagerAttr with pedClass = attrPedPedForcesC\n"
     ]
    },
    {
     "name": "stdout",
     "output_type": "stream",
     "text": [
      "================================\n",
      "................................\n",
      "Simulation done. Processing data... done\n",
      "Saving data to file...done\n",
      "Running replication 234 with seed = 2329\n"
     ]
    },
    {
     "name": "stderr",
     "output_type": "stream",
     "text": [
      "2021/07/24 11:22:58.833 - NOMAD.local_route_choice_manager - INFO - Creating the local route choice manager using LocalRouteChoiceIterativeComputer + C\n",
      "2021/07/24 11:22:58.833 - NOMAD.local_route_choice_manager - INFO - Creating a walk level local route choice manager using WalkLevelRouteChoiceIterativeComputer + C\n",
      "2021/07/24 11:23:19.909 - NOMAD.local_route_choice_manager - INFO - Finished creating local route choice manager in 21.076513528823853 seconds\n",
      "2021/07/24 11:23:19.919 - NOMAD.nomad_model - INFO - Model created with PedestrianManagerAttr with pedClass = attrPedPedForcesC\n"
     ]
    },
    {
     "name": "stdout",
     "output_type": "stream",
     "text": [
      "================================\n",
      "................................\n",
      "Simulation done. Processing data... done\n",
      "Saving data to file...done\n",
      "Running replication 235 with seed = 1014\n"
     ]
    },
    {
     "name": "stderr",
     "output_type": "stream",
     "text": [
      "2021/07/24 11:26:30.395 - NOMAD.local_route_choice_manager - INFO - Creating the local route choice manager using LocalRouteChoiceIterativeComputer + C\n",
      "2021/07/24 11:26:30.395 - NOMAD.local_route_choice_manager - INFO - Creating a walk level local route choice manager using WalkLevelRouteChoiceIterativeComputer + C\n",
      "2021/07/24 11:26:51.550 - NOMAD.local_route_choice_manager - INFO - Finished creating local route choice manager in 21.155235052108765 seconds\n",
      "2021/07/24 11:26:51.550 - NOMAD.nomad_model - INFO - Model created with PedestrianManagerAttr with pedClass = attrPedPedForcesC\n"
     ]
    },
    {
     "name": "stdout",
     "output_type": "stream",
     "text": [
      "================================\n",
      "................................\n",
      "Simulation done. Processing data... done\n",
      "Checking convergence... done\n",
      "Saving data to file...done\n",
      "Running replication 236 with seed = 526\n"
     ]
    },
    {
     "name": "stderr",
     "output_type": "stream",
     "text": [
      "2021/07/24 11:30:10.430 - NOMAD.local_route_choice_manager - INFO - Creating the local route choice manager using LocalRouteChoiceIterativeComputer + C\n",
      "2021/07/24 11:30:10.430 - NOMAD.local_route_choice_manager - INFO - Creating a walk level local route choice manager using WalkLevelRouteChoiceIterativeComputer + C\n",
      "2021/07/24 11:30:31.408 - NOMAD.local_route_choice_manager - INFO - Finished creating local route choice manager in 20.978205680847168 seconds\n",
      "2021/07/24 11:30:31.410 - NOMAD.nomad_model - INFO - Model created with PedestrianManagerAttr with pedClass = attrPedPedForcesC\n"
     ]
    },
    {
     "name": "stdout",
     "output_type": "stream",
     "text": [
      "================================\n",
      "................................\n",
      "Simulation done. Processing data... done\n",
      "Saving data to file...done\n",
      "Running replication 237 with seed = 944\n"
     ]
    },
    {
     "name": "stderr",
     "output_type": "stream",
     "text": [
      "2021/07/24 11:33:55.230 - NOMAD.local_route_choice_manager - INFO - Creating the local route choice manager using LocalRouteChoiceIterativeComputer + C\n",
      "2021/07/24 11:33:55.230 - NOMAD.local_route_choice_manager - INFO - Creating a walk level local route choice manager using WalkLevelRouteChoiceIterativeComputer + C\n",
      "2021/07/24 11:34:16.398 - NOMAD.local_route_choice_manager - INFO - Finished creating local route choice manager in 21.1683509349823 seconds\n",
      "2021/07/24 11:34:16.398 - NOMAD.nomad_model - INFO - Model created with PedestrianManagerAttr with pedClass = attrPedPedForcesC\n"
     ]
    },
    {
     "name": "stdout",
     "output_type": "stream",
     "text": [
      "================================\n",
      "................................\n",
      "Simulation done. Processing data... done\n",
      "Saving data to file...done\n",
      "Running replication 238 with seed = 345\n"
     ]
    },
    {
     "name": "stderr",
     "output_type": "stream",
     "text": [
      "2021/07/24 11:37:40.832 - NOMAD.local_route_choice_manager - INFO - Creating the local route choice manager using LocalRouteChoiceIterativeComputer + C\n",
      "2021/07/24 11:37:40.832 - NOMAD.local_route_choice_manager - INFO - Creating a walk level local route choice manager using WalkLevelRouteChoiceIterativeComputer + C\n",
      "2021/07/24 11:38:01.801 - NOMAD.local_route_choice_manager - INFO - Finished creating local route choice manager in 20.969077348709106 seconds\n",
      "2021/07/24 11:38:01.801 - NOMAD.nomad_model - INFO - Model created with PedestrianManagerAttr with pedClass = attrPedPedForcesC\n"
     ]
    },
    {
     "name": "stdout",
     "output_type": "stream",
     "text": [
      "================================\n",
      "................................\n",
      "Simulation done. Processing data... done\n",
      "Saving data to file...done\n",
      "Running replication 239 with seed = 1079\n"
     ]
    },
    {
     "name": "stderr",
     "output_type": "stream",
     "text": [
      "2021/07/24 11:41:25.693 - NOMAD.local_route_choice_manager - INFO - Creating the local route choice manager using LocalRouteChoiceIterativeComputer + C\n",
      "2021/07/24 11:41:25.693 - NOMAD.local_route_choice_manager - INFO - Creating a walk level local route choice manager using WalkLevelRouteChoiceIterativeComputer + C\n",
      "2021/07/24 11:41:46.745 - NOMAD.local_route_choice_manager - INFO - Finished creating local route choice manager in 21.052055835723877 seconds\n",
      "2021/07/24 11:41:46.755 - NOMAD.nomad_model - INFO - Model created with PedestrianManagerAttr with pedClass = attrPedPedForcesC\n"
     ]
    },
    {
     "name": "stdout",
     "output_type": "stream",
     "text": [
      "================================\n",
      "................................\n",
      "Simulation done. Processing data... done\n",
      "Saving data to file...done\n",
      "Running replication 240 with seed = 2219\n"
     ]
    },
    {
     "name": "stderr",
     "output_type": "stream",
     "text": [
      "2021/07/24 11:45:14.838 - NOMAD.local_route_choice_manager - INFO - Creating the local route choice manager using LocalRouteChoiceIterativeComputer + C\n",
      "2021/07/24 11:45:14.838 - NOMAD.local_route_choice_manager - INFO - Creating a walk level local route choice manager using WalkLevelRouteChoiceIterativeComputer + C\n",
      "2021/07/24 11:45:35.768 - NOMAD.local_route_choice_manager - INFO - Finished creating local route choice manager in 20.930014848709106 seconds\n",
      "2021/07/24 11:45:35.768 - NOMAD.nomad_model - INFO - Model created with PedestrianManagerAttr with pedClass = attrPedPedForcesC\n"
     ]
    },
    {
     "name": "stdout",
     "output_type": "stream",
     "text": [
      "================================\n",
      "................................\n",
      "Simulation done. Processing data... done\n",
      "Checking convergence... done\n",
      "Saving data to file...done\n",
      "Running replication 241 with seed = 1818\n"
     ]
    },
    {
     "name": "stderr",
     "output_type": "stream",
     "text": [
      "2021/07/24 11:49:00.888 - NOMAD.local_route_choice_manager - INFO - Creating the local route choice manager using LocalRouteChoiceIterativeComputer + C\n",
      "2021/07/24 11:49:00.888 - NOMAD.local_route_choice_manager - INFO - Creating a walk level local route choice manager using WalkLevelRouteChoiceIterativeComputer + C\n",
      "2021/07/24 11:49:22.217 - NOMAD.local_route_choice_manager - INFO - Finished creating local route choice manager in 21.328206062316895 seconds\n",
      "2021/07/24 11:49:22.217 - NOMAD.nomad_model - INFO - Model created with PedestrianManagerAttr with pedClass = attrPedPedForcesC\n"
     ]
    },
    {
     "name": "stdout",
     "output_type": "stream",
     "text": [
      "================================\n",
      ".FAILED\n",
      "\n",
      "Running replication 242 with seed = 96\n"
     ]
    },
    {
     "name": "stderr",
     "output_type": "stream",
     "text": [
      "Traceback (most recent call last):\n",
      "  File \"C:\\Users\\MartijnTU\\Jupyter_notebooks\\trb_analysis\\trb_analysis\\contact_analysis.py\", line 133, in run_experiment\n",
      "    nomad_model.start()\n",
      "  File \"C:\\Users\\MartijnTU\\Jupyter_notebooks\\trb_analysis\\trb_analysis\\nomad\\NOMAD\\nomad_model.py\", line 158, in start\n",
      "    self.runSimulation()\n",
      "  File \"C:\\Users\\MartijnTU\\Jupyter_notebooks\\trb_analysis\\trb_analysis\\nomad\\NOMAD\\nomad_model.py\", line 190, in runSimulation\n",
      "    self.doMajorTimeStep()\n",
      "  File \"C:\\Users\\MartijnTU\\Jupyter_notebooks\\trb_analysis\\trb_analysis\\nomad\\NOMAD\\nomad_model.py\", line 210, in doMajorTimeStep\n",
      "    self.pedestrianManager.calcNewPedestrianPositions(pedsLeavingTheirActivity)\n",
      "  File \"C:\\Users\\MartijnTU\\Jupyter_notebooks\\trb_analysis\\trb_analysis\\nomad\\NOMAD\\pedestrian_manager.py\", line 156, in calcNewPedestrianPositions\n",
      "    self.calcNextPedestrianPositions(pedsInIsolation, pedsInRange, pedsInCollision)\n",
      "  File \"C:\\Users\\MartijnTU\\Jupyter_notebooks\\trb_analysis\\trb_analysis\\nomad\\NOMAD\\pedestrian_manager.py\", line 251, in calcNextPedestrianPositions\n",
      "    ped.calcNextPosition(self.timeInfo.inCollisionTimeStep, self.timeInfo.inCollisionStepsPerInIsolationStep, self.parameters)\n",
      "  File \"C:\\Users\\MartijnTU\\Jupyter_notebooks\\trb_analysis\\trb_analysis\\nomad\\NOMAD\\pedestrian.py\", line 835, in calcNextPosition\n",
      "    self.calcNextVelocity(timeStep, timeStepRatio, parameters)\n",
      "  File \"C:\\Users\\MartijnTU\\Jupyter_notebooks\\trb_analysis\\trb_analysis\\nomad\\NOMAD\\pedestrian.py\", line 853, in calcNextVelocity\n",
      "    self.calcAcceleration(timeStepRatio, parameters)\n",
      "  File \"C:\\Users\\MartijnTU\\Jupyter_notebooks\\trb_analysis\\trb_analysis\\nomad\\NOMAD\\pedestrian.py\", line 864, in calcAcceleration\n",
      "    self.calcAccelerationFcn(self, timeStepRatio)\n",
      "  File \"C:\\Users\\MartijnTU\\Jupyter_notebooks\\trb_analysis\\trb_analysis\\nomad\\NOMAD\\pedestrian.py\", line 893, in calcAccelerationReducedPed\n",
      "    self.pedForce_x, self.pedForce_y = self.calcPedestrianForces()\n",
      "  File \"C:\\Users\\MartijnTU\\Jupyter_notebooks\\trb_analysis\\trb_analysis\\nomad\\NOMAD\\pedestrian.py\", line 1512, in calcPedestrianForces\n",
      "    otherPeds += removeObscuredPeds(pedsInNeighboringCells[OBSTRUCTED], self.gridCell.obstaclesObstrNeighbors, self)\n",
      "  File \"C:\\Users\\MartijnTU\\Jupyter_notebooks\\trb_analysis\\trb_analysis\\nomad\\NOMAD\\pedestrian.py\", line 732, in removeObscuredPeds\n",
      "    return [otherPed for otherPed in peds if not isObscuredByObstacle(ped, otherPed, obstacles)]\n",
      "  File \"C:\\Users\\MartijnTU\\Jupyter_notebooks\\trb_analysis\\trb_analysis\\nomad\\NOMAD\\pedestrian.py\", line 732, in <listcomp>\n",
      "    return [otherPed for otherPed in peds if not isObscuredByObstacle(ped, otherPed, obstacles)]\n",
      "  File \"C:\\Users\\MartijnTU\\Jupyter_notebooks\\trb_analysis\\trb_analysis\\nomad\\NOMAD\\pedestrian.py\", line 724, in isObscuredByObstacle\n",
      "    if obstacle.isSightLineIntersectingObstacle(((ped.pos_x, ped.pos_y), (otherPed.pos_x, otherPed.pos_y))):\n",
      "  File \"C:\\Users\\MartijnTU\\Jupyter_notebooks\\trb_analysis\\trb_analysis\\nomad\\NOMAD\\obstacles.py\", line 88, in isSightLineIntersectingObstacle\n",
      "    return super().isSightLineIntersectingObstacle(sightLineCoords)\n",
      "  File \"C:\\Users\\MartijnTU\\Jupyter_notebooks\\trb_analysis\\trb_analysis\\nomad\\NOMAD\\obstacles.py\", line 55, in isSightLineIntersectingObstacle\n",
      "    return sightLine.crosses(self._geometry)\n",
      "  File \"C:\\Users\\MartijnTU\\anaconda3\\envs\\nomad_experiments\\lib\\site-packages\\shapely\\geometry\\base.py\", line 751, in crosses\n",
      "    return bool(self.impl['crosses'](self, other))\n",
      "  File \"C:\\Users\\MartijnTU\\anaconda3\\envs\\nomad_experiments\\lib\\site-packages\\shapely\\predicates.py\", line 15, in __call__\n",
      "    return self.fn(this._geom, other._geom, *args)\n",
      "  File \"C:\\Users\\MartijnTU\\anaconda3\\envs\\nomad_experiments\\lib\\site-packages\\shapely\\geos.py\", line 581, in errcheck_predicate\n",
      "    def errcheck_predicate(result, func, argtuple):\n",
      "KeyboardInterrupt\n"
     ]
    }
   ],
   "source": [
    "from contact_analysis import continue_from_file\n",
    "from pathlib import Path\n",
    "\n",
    "experiment_filename = Path(r'D:\\SurfDrive\\PhD\\Activity scheduler\\Scenarios\\paper_scenarios\\trb_paper_base_experiment_r4.json')\n",
    "combined_stats_filename = Path(r'D:\\SurfDrive\\PhD\\Activity scheduler\\Scenarios\\paper_scenarios\\trb_paper_base_combined.stats_r4.npz')\n",
    "\n",
    "continue_from_file(experiment_filename, combined_stats_filename)"
   ]
  },
  {
   "cell_type": "code",
   "execution_count": null,
   "id": "c0f84583-e9af-4085-a092-ed72e7b542e3",
   "metadata": {},
   "outputs": [],
   "source": []
  }
 ],
 "metadata": {
  "kernelspec": {
   "display_name": "Python 3",
   "language": "python",
   "name": "python3"
  },
  "language_info": {
   "codemirror_mode": {
    "name": "ipython",
    "version": 3
   },
   "file_extension": ".py",
   "mimetype": "text/x-python",
   "name": "python",
   "nbconvert_exporter": "python",
   "pygments_lexer": "ipython3",
   "version": "3.9.5"
  }
 },
 "nbformat": 4,
 "nbformat_minor": 5
}
