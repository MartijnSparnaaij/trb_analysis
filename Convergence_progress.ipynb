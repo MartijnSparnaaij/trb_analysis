{
 "cells": [
  {
   "cell_type": "code",
   "execution_count": 1,
   "id": "a4c0e66e-4bbe-4a9d-a22b-a933aacdd390",
   "metadata": {},
   "outputs": [
    {
     "data": {
      "application/vnd.jupyter.widget-view+json": {
       "model_id": "1d86af55ccbc492594b1a1748a5a622a",
       "version_major": 2,
       "version_minor": 0
      },
      "text/plain": [
       "Canvas(toolbar=Toolbar(toolitems=[('Home', 'Reset original view', 'home', 'home'), ('Back', 'Back to previous …"
      ]
     },
     "metadata": {},
     "output_type": "display_data"
    }
   ],
   "source": [
    "%matplotlib widget\n",
    "from pathlib import Path\n",
    "\n",
    "from contact_plots import plot_convergence\n",
    "\n",
    "exp_info_filename = Path(r'C:\\Users\\martijnsparnaa\\surfdrive\\PhD\\Activity scheduler\\Scenarios\\paper_scenarios\\trb_paper_no_shifts_experiment.json')\n",
    "\n",
    "plot_convergence(exp_info_filename)\n",
    "    \n",
    "    "
   ]
  },
  {
   "cell_type": "code",
   "execution_count": 2,
   "id": "1b3cd9c9-9361-450a-b825-cb981c664e62",
   "metadata": {},
   "outputs": [
    {
     "data": {
      "application/vnd.jupyter.widget-view+json": {
       "model_id": "5d9934e43dcf4754b4415ffa893f2d7c",
       "version_major": 2,
       "version_minor": 0
      },
      "text/plain": [
       "Canvas(toolbar=Toolbar(toolitems=[('Home', 'Reset original view', 'home', 'home'), ('Back', 'Back to previous …"
      ]
     },
     "metadata": {},
     "output_type": "display_data"
    }
   ],
   "source": [
    "%matplotlib widget\n",
    "from pathlib import Path\n",
    "\n",
    "from contact_plots import plot_convergence\n",
    "\n",
    "exp_info_filename = Path(r'C:\\Users\\martijnsparnaa\\surfdrive\\PhD\\Activity scheduler\\Scenarios\\paper_scenarios\\trb_paper_base_experiment.json')\n",
    "\n",
    "plot_convergence(exp_info_filename)\n",
    "    "
   ]
  },
  {
   "cell_type": "code",
   "execution_count": 3,
   "id": "c82aba10-2b9d-4efa-b3d0-c016f76c90b7",
   "metadata": {},
   "outputs": [
    {
     "data": {
      "application/vnd.jupyter.widget-view+json": {
       "model_id": "d5a17c17e46748b38868d1907aa82fa9",
       "version_major": 2,
       "version_minor": 0
      },
      "text/plain": [
       "Canvas(toolbar=Toolbar(toolitems=[('Home', 'Reset original view', 'home', 'home'), ('Back', 'Back to previous …"
      ]
     },
     "metadata": {},
     "output_type": "display_data"
    }
   ],
   "source": [
    "%matplotlib widget\n",
    "from pathlib import Path\n",
    "\n",
    "from contact_plots import plot_convergence\n",
    "\n",
    "exp_info_filename = Path(r'C:\\Users\\martijnsparnaa\\surfdrive\\PhD\\Activity scheduler\\Scenarios\\paper_scenarios\\trb_paper_longer_visit_experiment.json')\n",
    "\n",
    "plot_convergence(exp_info_filename)\n",
    "    "
   ]
  },
  {
   "cell_type": "code",
   "execution_count": 4,
   "id": "a65df0f1-8e64-4e1b-8c91-581f0dea5583",
   "metadata": {},
   "outputs": [
    {
     "data": {
      "application/vnd.jupyter.widget-view+json": {
       "model_id": "636d529044814352bcb60093b1d3540c",
       "version_major": 2,
       "version_minor": 0
      },
      "text/plain": [
       "Canvas(toolbar=Toolbar(toolitems=[('Home', 'Reset original view', 'home', 'home'), ('Back', 'Back to previous …"
      ]
     },
     "metadata": {},
     "output_type": "display_data"
    }
   ],
   "source": [
    "%matplotlib widget\n",
    "from pathlib import Path\n",
    "\n",
    "from contact_plots import plot_convergence\n",
    "\n",
    "exp_info_filename = Path(r'C:\\Users\\martijnsparnaa\\surfdrive\\PhD\\Activity scheduler\\Scenarios\\paper_scenarios\\trb_paper_no_neighbourhoods_experiment.json')\n",
    "\n",
    "plot_convergence(exp_info_filename)\n",
    "    "
   ]
  },
  {
   "cell_type": "code",
   "execution_count": null,
   "id": "0a91c5c2-084b-4a59-b1af-b72b13684d59",
   "metadata": {},
   "outputs": [],
   "source": []
  }
 ],
 "metadata": {
  "kernelspec": {
   "display_name": "Python 3",
   "language": "python",
   "name": "python3"
  },
  "language_info": {
   "codemirror_mode": {
    "name": "ipython",
    "version": 3
   },
   "file_extension": ".py",
   "mimetype": "text/x-python",
   "name": "python",
   "nbconvert_exporter": "python",
   "pygments_lexer": "ipython3",
   "version": "3.9.4"
  }
 },
 "nbformat": 4,
 "nbformat_minor": 5
}
