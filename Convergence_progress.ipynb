{
 "cells": [
  {
   "cell_type": "code",
   "execution_count": 1,
   "id": "a4c0e66e-4bbe-4a9d-a22b-a933aacdd390",
   "metadata": {},
   "outputs": [],
   "source": [
    "%matplotlib widget\n",
    "from pathlib import Path\n",
    "\n",
    "from contact_plots import plot_convergence\n",
    "\n",
    "exp_info_filename = Path(r'C:\\Users\\martijnsparnaa\\surfdrive\\PhD\\Activity scheduler\\Scenarios\\paper_scenarios\\trb_paper_no_shifts_experiment.json')\n",
    "\n",
    "plot_convergence(exp_info_filename)\n",
    "    \n",
    "    "
   ]
  },
  {
   "cell_type": "code",
   "execution_count": 2,
   "id": "1b3cd9c9-9361-450a-b825-cb981c664e62",
   "metadata": {},
   "outputs": [
    {
     "data": {
      "application/vnd.jupyter.widget-view+json": {
       "model_id": "ab0dc53d2d3741e7ba5c0f673a0dae4b",
       "version_major": 2,
       "version_minor": 0
      },
      "text/plain": [
       "Canvas(toolbar=Toolbar(toolitems=[('Home', 'Reset original view', 'home', 'home'), ('Back', 'Back to previous …"
      ]
     },
     "metadata": {},
     "output_type": "display_data"
    }
   ],
   "source": [
    "%matplotlib widget\n",
    "from pathlib import Path\n",
    "\n",
    "from contact_plots import plot_convergence\n",
    "\n",
    "exp_info_filename = Path(r'C:\\Users\\martijnsparnaa\\surfdrive\\PhD\\Activity scheduler\\Scenarios\\paper_scenarios\\trb_paper_base_experiment.json')\n",
    "\n",
    "plot_convergence(exp_info_filename)\n",
    "    "
   ]
  },
  {
   "cell_type": "code",
   "execution_count": 4,
   "id": "c82aba10-2b9d-4efa-b3d0-c016f76c90b7",
   "metadata": {},
   "outputs": [
    {
     "data": {
      "application/vnd.jupyter.widget-view+json": {
       "model_id": "b07f1e0650bf495390e99b97c4fb90b1",
       "version_major": 2,
       "version_minor": 0
      },
      "text/plain": [
       "Canvas(toolbar=Toolbar(toolitems=[('Home', 'Reset original view', 'home', 'home'), ('Back', 'Back to previous …"
      ]
     },
     "metadata": {},
     "output_type": "display_data"
    }
   ],
   "source": [
    "%matplotlib widget\n",
    "from pathlib import Path\n",
    "\n",
    "from contact_plots import plot_convergence\n",
    "\n",
    "exp_info_filename = Path(r'C:\\Users\\martijnsparnaa\\surfdrive\\PhD\\Activity scheduler\\Scenarios\\paper_scenarios\\trb_paper_longer_visit_experiment.json')\n",
    "\n",
    "plot_convergence(exp_info_filename)\n",
    "    "
   ]
  },
  {
   "cell_type": "code",
   "execution_count": 5,
   "id": "a65df0f1-8e64-4e1b-8c91-581f0dea5583",
   "metadata": {},
   "outputs": [
    {
     "data": {
      "application/vnd.jupyter.widget-view+json": {
       "model_id": "caaab0999da842c088e37bf8391ffacd",
       "version_major": 2,
       "version_minor": 0
      },
      "text/plain": [
       "Canvas(toolbar=Toolbar(toolitems=[('Home', 'Reset original view', 'home', 'home'), ('Back', 'Back to previous …"
      ]
     },
     "metadata": {},
     "output_type": "display_data"
    }
   ],
   "source": [
    "%matplotlib widget\n",
    "from pathlib import Path\n",
    "\n",
    "from contact_plots import plot_convergence\n",
    "\n",
    "exp_info_filename = Path(r'C:\\Users\\martijnsparnaa\\surfdrive\\PhD\\Activity scheduler\\Scenarios\\paper_scenarios\\trb_paper_no_neighbourhoods_experiment.json')\n",
    "\n",
    "plot_convergence(exp_info_filename)\n",
    "    "
   ]
  },
  {
   "cell_type": "code",
   "execution_count": 4,
   "id": "0a91c5c2-084b-4a59-b1af-b72b13684d59",
   "metadata": {},
   "outputs": [
    {
     "data": {
      "application/vnd.jupyter.widget-view+json": {
       "model_id": "7a7e526dedd247e3b41529eeb40c307b",
       "version_major": 2,
       "version_minor": 0
      },
      "text/plain": [
       "Canvas(toolbar=Toolbar(toolitems=[('Home', 'Reset original view', 'home', 'home'), ('Back', 'Back to previous …"
      ]
     },
     "metadata": {},
     "output_type": "display_data"
    }
   ],
   "source": [
    "%matplotlib widget\n",
    "from pathlib import Path\n",
    "\n",
    "from contact_plots import plot_convergence\n",
    "\n",
    "exp_info_filename = Path(r'C:\\Users\\martijnsparnaa\\surfdrive\\PhD\\Activity scheduler\\Scenarios\\paper_scenarios\\trb_paper_more_toilet_experiment.json')\n",
    "\n",
    "plot_convergence(exp_info_filename)\n",
    "    "
   ]
  },
  {
   "cell_type": "code",
   "execution_count": 5,
   "id": "70451fe6-8964-4edc-8212-f3b744127a38",
   "metadata": {},
   "outputs": [
    {
     "data": {
      "application/vnd.jupyter.widget-view+json": {
       "model_id": "53c17fa99c5a45359042566e70978ea8",
       "version_major": 2,
       "version_minor": 0
      },
      "text/plain": [
       "Canvas(toolbar=Toolbar(toolitems=[('Home', 'Reset original view', 'home', 'home'), ('Back', 'Back to previous …"
      ]
     },
     "metadata": {},
     "output_type": "display_data"
    }
   ],
   "source": [
    "%matplotlib widget\n",
    "from pathlib import Path\n",
    "\n",
    "from contact_plots import plot_convergence\n",
    "\n",
    "exp_info_filename = Path(r'C:\\Users\\martijnsparnaa\\surfdrive\\PhD\\Activity scheduler\\Scenarios\\paper_scenarios\\trb_paper_shorter_times_experiment.json')\n",
    "\n",
    "plot_convergence(exp_info_filename)\n",
    "    "
   ]
  },
  {
   "cell_type": "code",
   "execution_count": 6,
   "id": "366fe50c-d3e3-4288-8cde-16afe20f32e1",
   "metadata": {},
   "outputs": [
    {
     "data": {
      "application/vnd.jupyter.widget-view+json": {
       "model_id": "b7daeaaa3574402dbcc2c7fc069f0684",
       "version_major": 2,
       "version_minor": 0
      },
      "text/plain": [
       "Canvas(toolbar=Toolbar(toolitems=[('Home', 'Reset original view', 'home', 'home'), ('Back', 'Back to previous …"
      ]
     },
     "metadata": {},
     "output_type": "display_data"
    }
   ],
   "source": [
    "%matplotlib widget\n",
    "from pathlib import Path\n",
    "\n",
    "from contact_plots import plot_convergence\n",
    "\n",
    "exp_info_filename = Path(r'C:\\Users\\martijnsparnaa\\surfdrive\\PhD\\Activity scheduler\\Scenarios\\paper_scenarios\\trb_paper_shorter_times_more_visits_experiment.json')\n",
    "\n",
    "plot_convergence(exp_info_filename)\n",
    "    "
   ]
  },
  {
   "cell_type": "code",
   "execution_count": 7,
   "id": "8957aad8-9e66-4f2c-b366-3f1746d6fa3e",
   "metadata": {},
   "outputs": [
    {
     "data": {
      "application/vnd.jupyter.widget-view+json": {
       "model_id": "0f3fc4a03c7a43d59c36863728cfe4e4",
       "version_major": 2,
       "version_minor": 0
      },
      "text/plain": [
       "Canvas(toolbar=Toolbar(toolitems=[('Home', 'Reset original view', 'home', 'home'), ('Back', 'Back to previous …"
      ]
     },
     "metadata": {},
     "output_type": "display_data"
    }
   ],
   "source": [
    "%matplotlib widget\n",
    "from pathlib import Path\n",
    "\n",
    "from contact_plots import plot_convergence\n",
    "\n",
    "exp_info_filename = Path(r'C:\\Users\\martijnsparnaa\\surfdrive\\PhD\\Activity scheduler\\Scenarios\\paper_scenarios\\trb_paper_shorter_times_middle_experiment.json')\n",
    "\n",
    "plot_convergence(exp_info_filename)\n",
    "    "
   ]
  },
  {
   "cell_type": "code",
   "execution_count": 6,
   "id": "dd91c06e-50e4-4a5f-8750-c258640a6d49",
   "metadata": {},
   "outputs": [
    {
     "data": {
      "application/vnd.jupyter.widget-view+json": {
       "model_id": "dffbf4353611432b98c4c75d8d158f48",
       "version_major": 2,
       "version_minor": 0
      },
      "text/plain": [
       "Canvas(toolbar=Toolbar(toolitems=[('Home', 'Reset original view', 'home', 'home'), ('Back', 'Back to previous …"
      ]
     },
     "metadata": {},
     "output_type": "display_data"
    }
   ],
   "source": [
    "%matplotlib widget\n",
    "from pathlib import Path\n",
    "\n",
    "from contact_plots import plot_convergence\n",
    "\n",
    "exp_info_filename = Path(r'C:\\Users\\martijnsparnaa\\surfdrive\\PhD\\Activity scheduler\\Scenarios\\paper_scenarios\\trb_paper_longer_times_experiment.json')\n",
    "\n",
    "plot_convergence(exp_info_filename)\n",
    "    "
   ]
  },
  {
   "cell_type": "code",
   "execution_count": null,
   "id": "7ac274e0-df0c-49f2-bd75-a22e58589af3",
   "metadata": {},
   "outputs": [],
   "source": []
  }
 ],
 "metadata": {
  "kernelspec": {
   "display_name": "Python 3",
   "language": "python",
   "name": "python3"
  },
  "language_info": {
   "codemirror_mode": {
    "name": "ipython",
    "version": 3
   },
   "file_extension": ".py",
   "mimetype": "text/x-python",
   "name": "python",
   "nbconvert_exporter": "python",
   "pygments_lexer": "ipython3",
   "version": "3.9.5"
  }
 },
 "nbformat": 4,
 "nbformat_minor": 5
}
