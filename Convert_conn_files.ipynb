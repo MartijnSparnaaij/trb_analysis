{
 "cells": [
  {
   "cell_type": "code",
   "execution_count": null,
   "id": "5c216b9a-96a3-4478-b7ae-68672bc32cbe",
   "metadata": {},
   "outputs": [],
   "source": [
    "try:\n",
    "    from git_nomad import pull_nomad\n",
    "except:\n",
    "    import sys; sys.path.insert(0, '..')\n",
    "    from git_nomad import pull_nomad\n",
    "    \n",
    "import socket\n",
    "if socket.gethostname() == 'SPA-DESKTOP':\n",
    "    remote_path = r\"D:\\Work_TU\\Documents\\nomad\"\n",
    "else:\n",
    "    remote_path = r\"C:\\Users\\martijnsparnaa\\Eclipse_Python_NOMAD\\nomad_trb_paper\"\n",
    "repo_path, repo = pull_nomad(remote_path, 'master')\n",
    "print(repo_path.resolve())\n",
    "\n",
    "import os\n",
    "import time\n",
    "os.chdir(repo_path)\n",
    "headcommit = repo.head.commit\n",
    "committed_date = time.strftime(\"%a, %d %b %Y %H:%M\", time.localtime(headcommit.committed_date))\n",
    "print(f'{headcommit}: {committed_date} - {headcommit.message}')"
   ]
  },
  {
   "cell_type": "code",
   "execution_count": null,
   "id": "91b84f64-f160-438c-a639-7a9b28372823",
   "metadata": {},
   "outputs": [],
   "source": [
    "from pathlib import Path\n",
    "import numpy as np\n",
    "import json\n",
    "\n",
    "conn_filename = Path(r'C:\\Users\\martijnsparnaa\\surfdrive\\PhD\\Activity scheduler\\Scenarios\\paper_scenarios\\base_output_verif\\trb_paper_base_20210715234357_015.conn')\n",
    "\n",
    "\n",
    "with open(conn_filename, 'r') as f:\n",
    "    conn_data = json.load(f)\n",
    "\n",
    "np.savez(conn_filename, **conn_data)\n",
    "\n",
    "\n"
   ]
  },
  {
   "cell_type": "code",
   "execution_count": 23,
   "id": "b540c15a-e186-44cc-ad2f-d90c3ccdc6d1",
   "metadata": {},
   "outputs": [
    {
     "data": {
      "text/plain": [
       "array([[6.95000000e+01, 1.99852428e+00],\n",
       "       [6.96000000e+01, 1.90635620e+00],\n",
       "       [6.97000000e+01, 1.81556357e+00],\n",
       "       ...,\n",
       "       [5.73960000e+03, 5.81113087e-01],\n",
       "       [5.73970000e+03, 6.11997474e-01],\n",
       "       [5.73980000e+03, 6.45914902e-01]])"
      ]
     },
     "execution_count": 23,
     "metadata": {},
     "output_type": "execute_result"
    }
   ],
   "source": [
    "from pathlib import Path\n",
    "import numpy as np\n",
    "\n",
    "conn_filename = Path(r'C:\\Users\\martijnsparnaa\\surfdrive\\PhD\\Activity scheduler\\Scenarios\\paper_scenarios\\no_shifts_output\\trb_paper_no_shifts_20210726004023_541.conn')\n",
    "\n",
    "a = np.load(f'{str(conn_filename)}.npz', allow_pickle=True)\n",
    "\n",
    "#print(a.files)\n",
    "#print(a['0'])\n",
    "#print(a['ID2IDtuple'])\n",
    "#a['ID2IDtuple']\n",
    "#for value in a['ID2IDtuple'].item():\n",
    "#    print(f'{value} - {a[\"ID2IDtuple\"][0]}')\n",
    "#a['ID2IDtuple'].item().items()\n",
    "a['0']\n",
    "\n",
    "    "
   ]
  },
  {
   "cell_type": "code",
   "execution_count": null,
   "id": "f78840d4-721e-4e5d-a8fb-19769704ca53",
   "metadata": {},
   "outputs": [],
   "source": [
    "from contact_analysis import load_data\n",
    "from pathlib import Path\n",
    "\n",
    "data_loaded = load_data(Path(r'C:\\Users\\martijnsparnaa\\surfdrive\\PhD\\Activity scheduler\\Scenarios\\paper_scenarios\\base_output_verif\\trb_paper_base_20210715234357_015.scen'))\n",
    "\n",
    "print(data_loaded)\n"
   ]
  },
  {
   "cell_type": "code",
   "execution_count": null,
   "id": "3c3d03f0-a8fe-4cb6-bb64-4ff49578d8ab",
   "metadata": {},
   "outputs": [],
   "source": [
    "from pathlib import Path\n",
    "import numpy as np\n",
    "import json\n",
    "\n",
    "from NOMAD.output_manager import BasicFileOutputManager\n",
    "\n",
    "from contact_analysis import get_scenario_files_from_dir, convert_conn_file\n",
    "\n",
    "data_folder = Path(r'C:\\Users\\martijnsparnaa\\surfdrive\\PhD\\Activity scheduler\\Scenarios\\paper_scenarios\\no_shifts_output')\n",
    "\n",
    "scenario_files = get_scenario_files_from_dir(data_folder)\n",
    "\n",
    "for scen_filename in scenario_files:\n",
    "    scen_data = BasicFileOutputManager.readScenarioDataFile(scen_filename)\n",
    "    conn_filename = scen_filename.parent.joinpath(scen_data.connFile)\n",
    "    convert_conn_file(conn_filename)\n"
   ]
  },
  {
   "cell_type": "code",
   "execution_count": null,
   "id": "2e7bb696-c2cf-4225-9fba-0c28abff6714",
   "metadata": {},
   "outputs": [],
   "source": []
  }
 ],
 "metadata": {
  "kernelspec": {
   "display_name": "Python 3",
   "language": "python",
   "name": "python3"
  },
  "language_info": {
   "codemirror_mode": {
    "name": "ipython",
    "version": 3
   },
   "file_extension": ".py",
   "mimetype": "text/x-python",
   "name": "python",
   "nbconvert_exporter": "python",
   "pygments_lexer": "ipython3",
   "version": "3.9.4"
  }
 },
 "nbformat": 4,
 "nbformat_minor": 5
}
