{
 "cells": [
  {
   "cell_type": "code",
   "execution_count": 1,
   "id": "4489bdd4-5922-4f15-9811-c10b473a6935",
   "metadata": {},
   "outputs": [
    {
     "name": "stdout",
     "output_type": "stream",
     "text": [
      "C:\\Users\\martijnsparnaa\\Jupyterlab_notebooks\\trb_analysis\\nomad\n",
      "4327d5a94643413d48d19b348b0e4c68eec76b5a: Wed, 14 Jul 2021 11:03 - Merge branch 'master' of C:/Users/martijnsparnaa/Eclipse_Python_NOMAD/nomad_trb_paper\n",
      "\n"
     ]
    }
   ],
   "source": [
    "try:\n",
    "    from git_nomad import pull_nomad\n",
    "except:\n",
    "    import sys; sys.path.insert(0, '..')\n",
    "    from git_nomad import pull_nomad\n",
    "    \n",
    "import socket\n",
    "if socket.gethostname() == 'SPA-DESKTOP':\n",
    "    remote_path = r\"D:\\Work_TU\\Documents\\nomad\"\n",
    "else:\n",
    "    remote_path = r\"C:\\Users\\martijnsparnaa\\Eclipse_Python_NOMAD\\nomad_trb_paper\"\n",
    "repo_path, repo = pull_nomad(remote_path, 'master')\n",
    "print(repo_path.resolve())\n",
    "\n",
    "import os\n",
    "import time\n",
    "os.chdir(repo_path)\n",
    "headcommit = repo.head.commit\n",
    "committed_date = time.strftime(\"%a, %d %b %Y %H:%M\", time.localtime(headcommit.committed_date))\n",
    "print(f'{headcommit}: {committed_date} - {headcommit.message}')"
   ]
  },
  {
   "cell_type": "code",
   "execution_count": 2,
   "id": "2b1fc60a-c882-497a-9698-003bac9745a3",
   "metadata": {},
   "outputs": [
    {
     "ename": "ModuleNotFoundError",
     "evalue": "No module named 'NOMAD'",
     "output_type": "error",
     "traceback": [
      "\u001b[1;31m---------------------------------------------------------------------------\u001b[0m",
      "\u001b[1;31mModuleNotFoundError\u001b[0m                       Traceback (most recent call last)",
      "\u001b[1;32m<ipython-input-2-d5a962ac961b>\u001b[0m in \u001b[0;36m<module>\u001b[1;34m\u001b[0m\n\u001b[0;32m      1\u001b[0m \u001b[1;32mfrom\u001b[0m \u001b[0mpathlib\u001b[0m \u001b[1;32mimport\u001b[0m \u001b[0mPath\u001b[0m\u001b[1;33m\u001b[0m\u001b[1;33m\u001b[0m\u001b[0m\n\u001b[1;32m----> 2\u001b[1;33m \u001b[1;32mfrom\u001b[0m \u001b[0mNOMAD\u001b[0m \u001b[1;32mimport\u001b[0m \u001b[0mnomad_model\u001b[0m\u001b[1;33m\u001b[0m\u001b[1;33m\u001b[0m\u001b[0m\n\u001b[0m\u001b[0;32m      3\u001b[0m \u001b[1;33m\u001b[0m\u001b[0m\n\u001b[0;32m      4\u001b[0m \u001b[0mpd\u001b[0m \u001b[1;33m=\u001b[0m \u001b[0mPath\u001b[0m\u001b[1;33m(\u001b[0m\u001b[1;34mr'C:\\Users\\martijnsparnaa\\surfdrive\\PhD\\Activity scheduler\\Scenarios\\paper_scenarios'\u001b[0m\u001b[1;33m)\u001b[0m\u001b[1;33m\u001b[0m\u001b[1;33m\u001b[0m\u001b[0m\n\u001b[0;32m      5\u001b[0m \u001b[1;33m\u001b[0m\u001b[0m\n",
      "\u001b[1;31mModuleNotFoundError\u001b[0m: No module named 'NOMAD'"
     ]
    }
   ],
   "source": [
    "from pathlib import Path\n",
    "from NOMAD import nomad_model\n",
    "\n",
    "pd = Path(r'C:\\Users\\martijnsparnaa\\surfdrive\\PhD\\Activity scheduler\\Scenarios\\paper_scenarios')\n",
    "\n",
    "xmlFlNm = pd.joinpath('trb_paper_base.xml')\n",
    "model = nomad_model.createAndRun(xmlFlNm, seed=10)"
   ]
  },
  {
   "cell_type": "code",
   "execution_count": 9,
   "id": "dcf942fb-6893-46d8-8212-7a082ae96d29",
   "metadata": {},
   "outputs": [
    {
     "name": "stderr",
     "output_type": "stream",
     "text": [
      "<ipython-input-9-b4b257e2555c>:12: UserWarning: p-value capped: true value larger than 0.25\n",
      "  adStats = stats.anderson_ksamp([rng.normal(size=size), rng.normal(loc=loc, size=size)])\n"
     ]
    },
    {
     "name": "stdout",
     "output_type": "stream",
     "text": [
      "Loc = 0.0, Size =   10, mean_sig_value = 0.2156, at_25 = 2196\n"
     ]
    },
    {
     "name": "stderr",
     "output_type": "stream",
     "text": [
      "<ipython-input-9-b4b257e2555c>:12: UserWarning: p-value floored: true value smaller than 0.001\n",
      "  adStats = stats.anderson_ksamp([rng.normal(size=size), rng.normal(loc=loc, size=size)])\n"
     ]
    },
    {
     "name": "stdout",
     "output_type": "stream",
     "text": [
      "Loc = 0.0, Size =   30, mean_sig_value = 0.2171, at_25 = 2225\n",
      "Loc = 0.0, Size =  100, mean_sig_value = 0.2198, at_25 = 2266\n",
      "Loc = 0.0, Size = 1000, mean_sig_value = 0.2202, at_25 = 2253\n",
      "Loc = 0.2, Size =   10, mean_sig_value = 0.2085, at_25 = 2102\n",
      "Loc = 0.2, Size =   30, mean_sig_value = 0.1965, at_25 = 1915\n",
      "Loc = 0.2, Size =  100, mean_sig_value = 0.1526, at_25 = 1290\n",
      "Loc = 0.2, Size = 1000, mean_sig_value = 0.0030, at_25 = 0\n"
     ]
    }
   ],
   "source": [
    "import numpy as np\n",
    "from scipy import stats\n",
    "\n",
    "rng = np.random.default_rng()\n",
    "\n",
    "SAMPLE_SIZE = 3000\n",
    "\n",
    "for loc in [0,0.2]:\n",
    "    for size in [10,30,100,1000]:\n",
    "        sig_values = np.zeros((SAMPLE_SIZE,1), dtype=float)\n",
    "        for ii in range(SAMPLE_SIZE):\n",
    "            adStats = stats.anderson_ksamp([rng.normal(size=size), rng.normal(loc=loc, size=size)])\n",
    "            sig_values[ii] = adStats.significance_level\n",
    "        consec = np.cumsum(sig_values == 0.25)\n",
    "        np.argwhere((consec[:1] - consec[1:]) > 1)\n",
    "        print(f'Loc = {loc:.1f}, Size = {size:4d}, mean_sig_value = {np.mean(sig_values):.4f}, at_25 = {np.sum(sig_values == 0.25)}')\n",
    "\n",
    "\n"
   ]
  },
  {
   "cell_type": "code",
   "execution_count": 2,
   "id": "1010c023-489c-4fe8-a2fe-cc8084a8161c",
   "metadata": {},
   "outputs": [
    {
     "name": "stdout",
     "output_type": "stream",
     "text": [
      "[17, 7, 15, 12, 3]\n",
      "[ 9 10  5 13 15]\n",
      "[19  7  1 16 17]\n",
      "[ 4 13  2  7 18]\n",
      "[ 4  9  7  5 14]\n",
      "[11  3 12 18 14]\n"
     ]
    }
   ],
   "source": [
    "import numpy as np\n",
    "\n",
    "rng = np.random.default_rng()\n",
    "print(rng.choice(np.arange(1,20), 5, False).tolist())\n",
    "print(rng.choice(np.arange(1,20), 5, False))\n",
    "print(rng.choice(np.arange(1,20), 5, False))\n",
    "print(rng.choice(np.arange(1,20), 5, False, shuffle=False))\n",
    "print(rng.choice(np.arange(1,20), 5, False, shuffle=False))\n",
    "print(rng.choice(np.arange(1,20), 5, False, shuffle=False))"
   ]
  },
  {
   "cell_type": "code",
   "execution_count": 62,
   "id": "919fb546-d54d-4ba5-bb85-a15b5eea2c8f",
   "metadata": {},
   "outputs": [
    {
     "name": "stdout",
     "output_type": "stream",
     "text": [
      "\n"
     ]
    },
    {
     "name": "stderr",
     "output_type": "stream",
     "text": [
      "<ipython-input-62-0af3ee900abf>:23: UserWarning: p-value capped: true value larger than 0.25\n",
      "  adStats = stats.anderson_ksamp([base, new])\n"
     ]
    },
    {
     "name": "stdout",
     "output_type": "stream",
     "text": [
      "[0.25, 0.12023008107901507, 0.011217977356636493, 0.25, 0.25, 0.25, 0.25, 0.25, 0.25, 0.25, 0.25, 0.25, 0.25, 0.25, 0.25, 0.25, 0.25, 0.25, 0.25, 0.25, 0.25, 0.25, 0.25, 0.25, 0.25, 0.25, 0.25, 0.25, 0.25, 0.25, 0.25, 0.25, 0.25, 0.25, 0.25, 0.25, 0.25, 0.25, 0.25, 0.25, 0.25, 0.25, 0.25, 0.25, 0.25, 0.25, 0.25, 0.25, 0.25, 0.25, 0.25, 0.25, 0.25, 0.25, 0.25, 0.25, 0.25, 0.25, 0.25, 0.25, 0.25, 0.25, 0.25, 0.25, 0.25, 0.25, 0.25, 0.25, 0.25, 0.25, 0.25, 0.25, 0.25, 0.25, 0.25, 0.25, 0.25, 0.25, 0.25, 0.25, 0.25, 0.25, 0.25, 0.25, 0.25, 0.25, 0.25, 0.25, 0.25, 0.25, 0.25, 0.25, 0.25, 0.25, 0.25, 0.25, 0.25, 0.25, 0.25, 0.25]\n",
      "[-0.2922869009142379, 1.052065270297226, 3.621326186420544, -0.5525560493323285, -1.2246633204390183, -0.42901760702657843, -0.1614003387389942, -0.8637744934484176, 0.0837527452387257, -0.6976961157733013, -1.1470176179110345, -1.2252824353563194, -0.5490114479196442, -1.210494302152525, -0.7167622188334631, -1.2543422348738331, -0.1877906897531688, -0.9420371349754691, -1.0629709168669113, -1.2040250182112544, -0.8630540492048906, -1.1376505683755265, -0.8996972451112473, -0.9732182701309733, -1.1131818282101789, -1.2547505315370149, -1.0400652166759479, -1.2842191922779342, -0.9828081600661933, -1.297715349009299, -1.301767948252486, -0.7313861983829323, -1.276175863954468, -0.973737188454741, -1.2927296785182416, -1.151052746569477, -1.1293124230103546, -1.1461805647602532, -1.1286256347856427, -1.1910693768482663, -1.1974561331899118, -1.2965149931251794, -1.2209472468605291, -1.0929805999004967, -1.1946352749361964, -1.1076249591038057, -1.1191607551290081, -1.0876558320980394, -1.303884443937752, -1.2120919841438138, -1.3037304935831837, -1.303650022913163, -1.3001957479584199, -1.2062406206140182, -1.1439564852560151, -1.1927787132417853, -1.2196383032957, -1.2079342197971341, -1.178867172349832, -1.1626358907392775, -1.2370608473625864, -1.2472758797411867, -1.1799457078838012, -1.199850145051662, -1.1662278826842498, -1.2927458193164711, -1.1773174885300035, -1.244230819967466, -1.2966813346574804, -1.1591541127455116, -1.3111196638956002, -1.301481408098301, -1.1727918247631919, -1.2508002470714628, -1.3025804005102348, -1.2145252340375552, -1.2595722286583169, -1.2151284744061221, -1.3079288539710896, -1.2663192183074827, -1.2052640492526863, -1.3064293769765354, -1.2512631146290174, -1.3093534151961486, -1.2940729497996384, -1.1512052218891233, -1.2579789744352792, -1.3083334475848163, -1.3101673941774694, -1.2397932997279448, -1.2100832636656524, -1.3067906688258082, -1.2569746133814887, -1.2474528935948, -1.2988978910196223, -1.3037082802229714, -1.2670324745005388, -1.1720243125800223, -1.3111773024434814, -1.2132436868725558]\n"
     ]
    }
   ],
   "source": [
    "import numpy as np\n",
    "from scipy import stats\n",
    "\n",
    "rng = np.random.default_rng()\n",
    "\n",
    "SAMPLE_SIZE = 3000\n",
    "size = 100\n",
    "\n",
    "a = [1,2,3,4,5,6]\n",
    "\n",
    "locs = [1,0.5,1.5]\n",
    "\n",
    "samples = []\n",
    "samples.append(rng.normal(loc=rng.choice(locs,1), size=size))\n",
    "print()\n",
    "sig_values = []\n",
    "stat_values = []\n",
    "\n",
    "base = samples[0]\n",
    "\n",
    "for ii in range(100):\n",
    "    new = np.concatenate((base, rng.normal(loc=rng.choice(locs,1), size=size)))\n",
    "    adStats = stats.anderson_ksamp([base, new])\n",
    "    sig_values.append(adStats.significance_level) \n",
    "    stat_values.append(adStats.statistic)\n",
    "    base = new\n",
    "    \n",
    "print(sig_values)\n",
    "print(stat_values)\n",
    "\n",
    "    \n"
   ]
  },
  {
   "cell_type": "code",
   "execution_count": 2,
   "id": "ffc0e8e1-673d-4460-ba99-01c08d134afe",
   "metadata": {},
   "outputs": [
    {
     "name": "stdout",
     "output_type": "stream",
     "text": [
      "\n",
      "[0.09062628098412939, 0.8768997266525071, 0.98882422576518, 0.4241796835756646, 0.05843506371220841, 0.2367599488856309, 0.48773328815243533, 1.0, 0.27573095025289807, 0.7039708897798964, 0.4440857173589414, 0.47847503482808385, 0.8347800882892509, 0.836409075431205, 0.9998932411818371, 0.9995273056049153, 0.9796395484922041, 0.9999999997922716, 0.8268464933527055, 0.9583805447371262, 0.9625566713770806, 0.9998875273030062, 0.99543949166266, 0.9644120700085085, 0.8118011867044244, 0.999999972638195, 0.9489704795319408, 0.689056110443926, 0.982810950399693, 0.8373902682784697, 0.9149438821340709, 1.0, 0.9914780807442617, 0.9323235593054244, 0.9492660689096788, 1.0, 1.0, 0.9235605793976698, 0.9165482715652974, 1.0, 1.0, 1.0, 0.9576762452626142, 1.0, 0.9902560518902496, 0.9999495681428148, 1.0, 0.9961395226224079, 0.9999074385189894, 0.9666868033032416, 0.999999911283343, 0.9997537925081756, 0.9965090606104521, 0.9999710697047245, 0.9953316965147854, 0.9783627851442266, 0.9959793380582458, 0.999964143423027, 0.9989125889749243, 0.9964643644720587, 1.0, 1.0, 0.9999985324430031, 1.0, 0.9990846346926252, 1.0, 0.9999883297769843, 1.0, 0.9994713086451984, 0.9999886093438053, 0.9999999999786097, 0.9999999999991844, 0.9999980808020461, 0.999904003596912, 1.0, 0.9769743221625972, 0.9999982574969731, 0.9999999920230661, 0.9999999999949156, 1.0, 1.0, 0.999995502250053, 0.9840583825209633, 0.9999990337941502, 0.9999995529163733, 1.0, 0.9999322989830984, 0.999064043688026, 1.0, 0.99996567604047, 0.999999846036713, 0.999999983191397, 0.999618965739926, 0.9999991387346135, 0.9999920530050512, 1.0, 0.9964090068977708, 0.9999945863639069, 1.0, 1.0]\n"
     ]
    }
   ],
   "source": [
    "import numpy as np\n",
    "from scipy import stats\n",
    "\n",
    "rng = np.random.default_rng()\n",
    "\n",
    "SAMPLE_SIZE = 3000\n",
    "size = 100\n",
    "\n",
    "a = [1,2,3,4,5,6]\n",
    "\n",
    "locs = [1,0.5,1.5]\n",
    "\n",
    "samples = []\n",
    "samples.append(rng.normal(loc=rng.choice(locs,1), size=size))\n",
    "print()\n",
    "sig_values = []\n",
    "stat_values = []\n",
    "\n",
    "base = samples[0]\n",
    "\n",
    "for ii in range(100):\n",
    "    new = np.concatenate((base, rng.normal(loc=rng.choice(locs,1), size=size)))\n",
    "    cvmStats = stats.cramervonmises_2samp(base, new)\n",
    "    sig_values.append(cvmStats.pvalue) \n",
    "    stat_values.append(cvmStats.statistic)\n",
    "    base = new\n",
    "    \n",
    "print(sig_values)\n",
    "#print(stat_values)\n"
   ]
  },
  {
   "cell_type": "code",
   "execution_count": 3,
   "id": "992b0eb3-d84c-4f33-8255-e4d9289fa47a",
   "metadata": {},
   "outputs": [
    {
     "name": "stdout",
     "output_type": "stream",
     "text": [
      "[0 1 4 7 9]\n",
      "[0 1 4 7 9]\n",
      "[6 0 8 4 8]\n",
      "[6 0 8 4 8]\n",
      "[3 5 1 2 9]\n",
      "[3 5 1 2 9]\n",
      "[6 8 1 6 9]\n",
      "[6 8 1 6 9]\n",
      "[1 7 4 6 2]\n",
      "[1 7 4 6 2]\n",
      "[7 2 1 5 4]\n",
      "[7 2 1 5 4]\n",
      "[9 2 2 4 9]\n",
      "[9 2 2 4 9]\n",
      "[1 9 8 1 9]\n",
      "[1 9 8 1 9]\n",
      "[3 2 2 8 6]\n",
      "[3 2 2 8 6]\n",
      "[1 0 6 5 8]\n",
      "[1 0 6 5 8]\n",
      "[3 4 6 0 5]\n",
      "[3 4 6 0 5]\n",
      "[6 1 8 3 4]\n",
      "[6 1 8 3 4]\n",
      "[8 1 4 9 1]\n",
      "[8 1 4 9 1]\n",
      "[5 2 7 2 3]\n",
      "[5 2 7 2 3]\n",
      "[5 8 4 5 6]\n",
      "[5 8 4 5 6]\n",
      "[6 5 6 5 4]\n",
      "[6 5 6 5 4]\n",
      "[4 6 2 3 9]\n",
      "[4 6 2 3 9]\n",
      "[5 1 5 9 4]\n",
      "[5 1 5 9 4]\n",
      "[8 3 5 7 6]\n",
      "[8 3 5 7 6]\n",
      "[9 2 6 2 8]\n",
      "[9 2 6 2 8]\n",
      "[3 2 1 0 7]\n",
      "[3 2 1 0 7]\n",
      "[5 6 4 4 3]\n",
      "[5 6 4 4 3]\n",
      "[4 6 8 9 4]\n",
      "[4 6 8 9 4]\n",
      "[8 9 6 3 1]\n",
      "[8 9 6 3 1]\n",
      "[9 5 8 8 4]\n",
      "[9 5 8 8 4]\n",
      "[4 0 3 7 5]\n",
      "[4 0 3 7 5]\n",
      "[6 7 0 6 4]\n",
      "[6 7 0 6 4]\n",
      "[7 6 0 5 9]\n",
      "[7 6 0 5 9]\n",
      "[9 1 0 3 5]\n",
      "[9 1 0 3 5]\n",
      "[6 3 5 6 4]\n",
      "[6 3 5 6 4]\n"
     ]
    }
   ],
   "source": [
    "from contact_analysis import ExperimentRunner\n",
    "\n",
    "experimentRunner = ExperimentRunner('test.scen', 'test.lrcm')\n",
    "\n",
    "experimentRunner._run_experiment()\n"
   ]
  },
  {
   "cell_type": "code",
   "execution_count": 5,
   "id": "aac7c562-e344-4439-a299-bace7776b010",
   "metadata": {},
   "outputs": [
    {
     "name": "stdout",
     "output_type": "stream",
     "text": [
      "deque([0], maxlen=5)\n",
      "deque([0, 1], maxlen=5)\n",
      "deque([0, 1, 2], maxlen=5)\n",
      "deque([0, 1, 2, 3], maxlen=5)\n",
      "deque([0, 1, 2, 3, 4], maxlen=5)\n",
      "deque([1, 2, 3, 4, 5], maxlen=5)\n",
      "deque([2, 3, 4, 5, 6], maxlen=5)\n",
      "deque([3, 4, 5, 6, 7], maxlen=5)\n",
      "deque([4, 5, 6, 7, 8], maxlen=5)\n",
      "deque([5, 6, 7, 8, 9], maxlen=5)\n"
     ]
    }
   ],
   "source": [
    "from _collections import deque\n",
    "\n",
    "a = deque('', 5)\n",
    "\n",
    "for ii in range(10):\n",
    "    a.append(ii)\n",
    "    print(a)"
   ]
  },
  {
   "cell_type": "code",
   "execution_count": null,
   "id": "09c6b889-0fca-4267-ab78-be621096af2a",
   "metadata": {},
   "outputs": [],
   "source": []
  }
 ],
 "metadata": {
  "kernelspec": {
   "display_name": "Python 3",
   "language": "python",
   "name": "python3"
  },
  "language_info": {
   "codemirror_mode": {
    "name": "ipython",
    "version": 3
   },
   "file_extension": ".py",
   "mimetype": "text/x-python",
   "name": "python",
   "nbconvert_exporter": "python",
   "pygments_lexer": "ipython3",
   "version": "3.9.4"
  }
 },
 "nbformat": 4,
 "nbformat_minor": 5
}
