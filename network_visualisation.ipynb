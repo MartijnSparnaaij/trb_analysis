{
 "cells": [
  {
   "cell_type": "code",
   "execution_count": null,
   "id": "4f917324-827b-4bdc-a8f9-e5380ff0aa2e",
   "metadata": {},
   "outputs": [],
   "source": []
  },
  {
   "cell_type": "code",
   "execution_count": 7,
   "id": "f59bbebe-fbbd-4d08-905a-89fa39a70c65",
   "metadata": {},
   "outputs": [
    {
     "name": "stdout",
     "output_type": "stream",
     "text": [
      "C:\\Users\\martijnsparnaa\\Jupyterlab_notebooks\\trb_analysis\\nomad\n",
      "1b0328f0ab9b5877b816e7c3658fa4b60db98f0a: Thu, 15 Jul 2021 22:34 - Merge branch 'master' of C:/Users/martijnsparnaa/Eclipse_Python_NOMAD/nomad_trb_paper\n",
      "\n"
     ]
    }
   ],
   "source": [
    "try:\n",
    "    from git_nomad import pull_nomad\n",
    "except:\n",
    "    import sys; sys.path.insert(0, '..')\n",
    "    from git_nomad import pull_nomad\n",
    "    \n",
    "import socket\n",
    "if socket.gethostname() == 'SPA-DESKTOP':\n",
    "    remote_path = r\"D:\\Work_TU\\Documents\\nomad\"\n",
    "else:\n",
    "    remote_path = r\"C:\\Users\\martijnsparnaa\\Eclipse_Python_NOMAD\\nomad_trb_paper\"\n",
    "repo_path, repo = pull_nomad(remote_path, 'master')\n",
    "print(repo_path.resolve())\n",
    "\n",
    "import os\n",
    "import time\n",
    "os.chdir(repo_path)\n",
    "headcommit = repo.head.commit\n",
    "committed_date = time.strftime(\"%a, %d %b %Y %H:%M\", time.localtime(headcommit.committed_date))\n",
    "print(f'{headcommit}: {committed_date} - {headcommit.message}')"
   ]
  },
  {
   "cell_type": "code",
   "execution_count": 23,
   "id": "30c5af03-2497-4468-abb1-25b31ae6497e",
   "metadata": {},
   "outputs": [
    {
     "name": "stdout",
     "output_type": "stream",
     "text": [
      "C:\\Users\\martijnsparnaa\\Jupyterlab_notebooks\\trb_analysis\\nomad\n"
     ]
    }
   ],
   "source": [
    "import os\n",
    "\n",
    "print(os.getcwd())"
   ]
  },
  {
   "cell_type": "code",
   "execution_count": 48,
   "id": "ec7e3411-d4a2-4194-b840-06bc393d84c5",
   "metadata": {},
   "outputs": [
    {
     "name": "stdout",
     "output_type": "stream",
     "text": [
      "C:\\Users\\martijnsparnaa\\Jupyterlab_notebooks\\trb_analysis\n"
     ]
    },
    {
     "data": {
      "text/html": [
       "\n",
       "        <iframe\n",
       "            width=\"1200\"\n",
       "            height=\"1000\"\n",
       "            src=\"ex.html\"\n",
       "            frameborder=\"0\"\n",
       "            allowfullscreen\n",
       "        ></iframe>\n",
       "        "
      ],
      "text/plain": [
       "<IPython.lib.display.IFrame at 0x193197956a0>"
      ]
     },
     "execution_count": 48,
     "metadata": {},
     "output_type": "execute_result"
    }
   ],
   "source": [
    "from _collections import defaultdict\n",
    "from pathlib import Path\n",
    "\n",
    "import json\n",
    "import numpy as np\n",
    "\n",
    "from contact_analysis import STAFF_CUSTOMER, CUSTOMER_CUSTOMER, INTERACTION_TYPES\n",
    "\n",
    "connection_filename = Path(r'C:\\Users\\martijnsparnaa\\surfdrive\\PhD\\Activity scheduler\\Scenarios\\paper_scenarios\\base_output_verif\\trb_paper_base_20210715234357_015.conn')\n",
    "\n",
    "with open(connection_filename, 'r') as f:\n",
    "    loaded_data = json.load(f)\n",
    "    \n",
    "# Node (ID, size=size, group=groupID)\n",
    "# Edge (Node_ID_0, Node_ID_1, weight=weight)\n",
    "    \n",
    "dict_ID_2_ID_tuple = loaded_data['ID2IDtuple']\n",
    "ID_2_group_tuple = loaded_data['ID2groupID']\n",
    "\n",
    "cut_off_distances = (1.0, 1.5, 2.0)\n",
    "weigths_per_connection = {cut_off_distance:{} for cut_off_distance in cut_off_distances}\n",
    "weigths_per_agent = {cut_off_distance:defaultdict(float) for cut_off_distance in cut_off_distances}\n",
    "\n",
    "ID_2_ID_tuple = defaultdict(list)\n",
    "\n",
    "max_weight_agent = 0\n",
    "max_weight_conn = 0\n",
    "\n",
    "for dict_ID, ID_tuple in dict_ID_2_ID_tuple.items():\n",
    "    ID_0 = ID_tuple[0]\n",
    "    ID_1 = ID_tuple[1]\n",
    "    ID_2_ID_tuple[ID_0].append(ID_tuple)\n",
    "    ID_2_ID_tuple[ID_1].append(ID_tuple)\n",
    "    connection_data = loaded_data[dict_ID]\n",
    "    valueArray = np.array(connection_data)\n",
    "    for cut_off_distance in cut_off_distances:        \n",
    "        connectionWeight = float(np.sum(valueArray[:,1] <= cut_off_distance))\n",
    "        if connectionWeight < 100:\n",
    "            continue   \n",
    "        if connectionWeight > max_weight_conn:\n",
    "            max_weight_conn = connectionWeight\n",
    "            \n",
    "        weigths_per_connection[cut_off_distance][tuple(ID_tuple)] = connectionWeight\n",
    "        weigths_per_agent[cut_off_distance][ID_0] += connectionWeight\n",
    "        weigths_per_agent[cut_off_distance][ID_1] += connectionWeight\n",
    "        \n",
    "        if weigths_per_agent[cut_off_distance][ID_0] > max_weight_agent:\n",
    "            max_weight_agent = weigths_per_agent[cut_off_distance][ID_0]\n",
    "        if weigths_per_agent[cut_off_distance][ID_1] > max_weight_agent:\n",
    "            max_weight_agent = weigths_per_agent[cut_off_distance][ID_1]\n",
    "\n",
    "from pyvis import network as net\n",
    "import networkx as nx\n",
    "        \n",
    "cut_off_distanc = cut_off_distances[1]\n",
    "\n",
    "weight_factor_agent = 100/max_weight_agent\n",
    "weight_factor_conn = 1/max_weight_conn\n",
    "\n",
    "nx_graph = nx.Graph()\n",
    "for agent_ID, weight in weigths_per_agent[cut_off_distance].items():\n",
    "    nx_graph.add_node(agent_ID, size=min(weight*weight_factor_agent, 20), group=ID_2_group_tuple[str(agent_ID)])\n",
    "\n",
    "for ID_tuple, weight in weigths_per_connection[cut_off_distance].items():\n",
    "    nx_graph.add_edge(ID_tuple[0], ID_tuple[1], weight=weight*weight_factor_conn, value=weight*weight_factor_conn)\n",
    "\n",
    "import os\n",
    "#print(os.getcwd())\n",
    "#os.chdir('..')\n",
    "print(os.getcwd())\n",
    "    \n",
    "nt = net.Network(height=1000, width=1200, notebook=True)\n",
    "nt.from_nx(nx_graph)\n",
    "nt.show_buttons(filter_=['physics'])\n",
    "nt.show('ex.html')\n"
   ]
  },
  {
   "cell_type": "code",
   "execution_count": null,
   "id": "881b4b24-41df-4ce5-b01f-bcc2fd9cd5a7",
   "metadata": {},
   "outputs": [],
   "source": []
  }
 ],
 "metadata": {
  "kernelspec": {
   "display_name": "Python 3",
   "language": "python",
   "name": "python3"
  },
  "language_info": {
   "codemirror_mode": {
    "name": "ipython",
    "version": 3
   },
   "file_extension": ".py",
   "mimetype": "text/x-python",
   "name": "python",
   "nbconvert_exporter": "python",
   "pygments_lexer": "ipython3",
   "version": "3.9.4"
  }
 },
 "nbformat": 4,
 "nbformat_minor": 5
}
