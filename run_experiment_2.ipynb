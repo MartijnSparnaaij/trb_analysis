{
 "cells": [
  {
   "cell_type": "code",
   "execution_count": 1,
   "id": "e3053ccb-d04f-4ced-b207-4fb84670eabf",
   "metadata": {},
   "outputs": [
    {
     "name": "stdout",
     "output_type": "stream",
     "text": [
      "C:\\Users\\MartijnTU\\Jupyter_notebooks\\trb_analysis\\trb_analysis\\nomad\n",
      "6d4206d11517efa738f5bdfc434c0d5961d775d7: Thu, 15 Jul 2021 23:52 - Fixed groupID\n"
     ]
    }
   ],
   "source": [
    "try:\n",
    "    from git_nomad import pull_nomad\n",
    "except:\n",
    "    import sys; sys.path.insert(0, '..')\n",
    "    from git_nomad import pull_nomad\n",
    "    \n",
    "import socket\n",
    "if socket.gethostname() == 'SPA-DESKTOP':\n",
    "    remote_path = r\"D:\\Work_TU\\Documents\\nomad\"\n",
    "else:\n",
    "    remote_path = r\"C:\\Users\\martijnsparnaa\\Eclipse_Python_NOMAD\\nomad_trb_paper\"\n",
    "repo_path, repo = pull_nomad(remote_path, 'master')\n",
    "print(repo_path.resolve())\n",
    "\n",
    "import os\n",
    "import time\n",
    "os.chdir(repo_path)\n",
    "headcommit = repo.head.commit\n",
    "committed_date = time.strftime(\"%a, %d %b %Y %H:%M\", time.localtime(headcommit.committed_date))\n",
    "print(f'{headcommit}: {committed_date} - {headcommit.message}')"
   ]
  },
  {
   "cell_type": "code",
   "execution_count": null,
   "id": "0979be54-7a02-43c2-bb31-ec6e86b4ce11",
   "metadata": {},
   "outputs": [
    {
     "name": "stdout",
     "output_type": "stream",
     "text": [
      "Runnig replication 0 with seed = 1353\n"
     ]
    },
    {
     "name": "stderr",
     "output_type": "stream",
     "text": [
      "2021/07/15 23:52:53.757 - NOMAD.local_route_choice_manager - INFO - Creating the local route choice manager using LocalRouteChoiceIterativeComputer\n",
      "2021/07/15 23:52:53.758 - NOMAD.local_route_choice_manager - INFO - Creating a walk level local route choice manager using WalkLevelRouteChoiceIterativeComputer\n",
      "2021/07/15 23:53:15.614 - NOMAD.local_route_choice_manager - INFO - Finished creating local route choice manager in 21.856351137161255 seconds\n",
      "2021/07/15 23:53:15.619 - NOMAD.nomad_model - INFO - Model created with PedestrianManagerAttr with pedClass = attrPedOpt\n"
     ]
    },
    {
     "name": "stdout",
     "output_type": "stream",
     "text": [
      "================================\n",
      "................................\n",
      "Simulation done. Processing data... done\n",
      "Runnig replication 1 with seed = 1336\n"
     ]
    },
    {
     "name": "stderr",
     "output_type": "stream",
     "text": [
      "2021/07/15 23:57:46.337 - NOMAD.local_route_choice_manager - INFO - Creating the local route choice manager using LocalRouteChoiceIterativeComputer\n",
      "2021/07/15 23:57:46.337 - NOMAD.local_route_choice_manager - INFO - Creating a walk level local route choice manager using WalkLevelRouteChoiceIterativeComputer\n",
      "2021/07/15 23:58:08.112 - NOMAD.local_route_choice_manager - INFO - Finished creating local route choice manager in 21.774433612823486 seconds\n",
      "2021/07/15 23:58:08.130 - NOMAD.nomad_model - INFO - Model created with PedestrianManagerAttr with pedClass = attrPedOpt\n"
     ]
    },
    {
     "name": "stdout",
     "output_type": "stream",
     "text": [
      "================================\n",
      "................................\n",
      "Simulation done. Processing data... done\n",
      "Runnig replication 2 with seed = 1122\n"
     ]
    },
    {
     "name": "stderr",
     "output_type": "stream",
     "text": [
      "2021/07/16 00:02:38.747 - NOMAD.local_route_choice_manager - INFO - Creating the local route choice manager using LocalRouteChoiceIterativeComputer\n",
      "2021/07/16 00:02:38.747 - NOMAD.local_route_choice_manager - INFO - Creating a walk level local route choice manager using WalkLevelRouteChoiceIterativeComputer\n",
      "2021/07/16 00:03:01.078 - NOMAD.local_route_choice_manager - INFO - Finished creating local route choice manager in 22.33054542541504 seconds\n",
      "2021/07/16 00:03:01.088 - NOMAD.nomad_model - INFO - Model created with PedestrianManagerAttr with pedClass = attrPedOpt\n"
     ]
    },
    {
     "name": "stdout",
     "output_type": "stream",
     "text": [
      "================================\n",
      "................................\n",
      "Simulation done. Processing data... done\n",
      "Runnig replication 3 with seed = 3917\n"
     ]
    },
    {
     "name": "stderr",
     "output_type": "stream",
     "text": [
      "2021/07/16 00:07:28.636 - NOMAD.local_route_choice_manager - INFO - Creating the local route choice manager using LocalRouteChoiceIterativeComputer\n",
      "2021/07/16 00:07:28.638 - NOMAD.local_route_choice_manager - INFO - Creating a walk level local route choice manager using WalkLevelRouteChoiceIterativeComputer\n",
      "2021/07/16 00:07:50.526 - NOMAD.local_route_choice_manager - INFO - Finished creating local route choice manager in 21.88878321647644 seconds\n",
      "2021/07/16 00:07:50.534 - NOMAD.nomad_model - INFO - Model created with PedestrianManagerAttr with pedClass = attrPedOpt\n"
     ]
    },
    {
     "name": "stdout",
     "output_type": "stream",
     "text": [
      "================================\n",
      "................................\n",
      "Simulation done. Processing data... done\n",
      "Runnig replication 4 with seed = 1915\n"
     ]
    },
    {
     "name": "stderr",
     "output_type": "stream",
     "text": [
      "2021/07/16 00:12:19.539 - NOMAD.local_route_choice_manager - INFO - Creating the local route choice manager using LocalRouteChoiceIterativeComputer\n",
      "2021/07/16 00:12:19.539 - NOMAD.local_route_choice_manager - INFO - Creating a walk level local route choice manager using WalkLevelRouteChoiceIterativeComputer\n",
      "2021/07/16 00:12:41.572 - NOMAD.local_route_choice_manager - INFO - Finished creating local route choice manager in 22.033140182495117 seconds\n",
      "2021/07/16 00:12:41.572 - NOMAD.nomad_model - INFO - Model created with PedestrianManagerAttr with pedClass = attrPedOpt\n"
     ]
    },
    {
     "name": "stdout",
     "output_type": "stream",
     "text": [
      "================================\n",
      "................................\n",
      "Simulation done. Processing data... done\n",
      "Runnig replication 5 with seed = 2297\n"
     ]
    },
    {
     "name": "stderr",
     "output_type": "stream",
     "text": [
      "2021/07/16 00:16:58.063 - NOMAD.local_route_choice_manager - INFO - Creating the local route choice manager using LocalRouteChoiceIterativeComputer\n",
      "2021/07/16 00:16:58.065 - NOMAD.local_route_choice_manager - INFO - Creating a walk level local route choice manager using WalkLevelRouteChoiceIterativeComputer\n",
      "2021/07/16 00:17:19.836 - NOMAD.local_route_choice_manager - INFO - Finished creating local route choice manager in 21.770926475524902 seconds\n",
      "2021/07/16 00:17:19.854 - NOMAD.nomad_model - INFO - Model created with PedestrianManagerAttr with pedClass = attrPedOpt\n"
     ]
    },
    {
     "name": "stdout",
     "output_type": "stream",
     "text": [
      "================================\n",
      "................................\n",
      "Simulation done. Processing data... done\n",
      "Runnig replication 6 with seed = 1454\n"
     ]
    },
    {
     "name": "stderr",
     "output_type": "stream",
     "text": [
      "2021/07/16 00:21:44.867 - NOMAD.local_route_choice_manager - INFO - Creating the local route choice manager using LocalRouteChoiceIterativeComputer\n",
      "2021/07/16 00:21:44.885 - NOMAD.local_route_choice_manager - INFO - Creating a walk level local route choice manager using WalkLevelRouteChoiceIterativeComputer\n",
      "2021/07/16 00:22:06.856 - NOMAD.local_route_choice_manager - INFO - Finished creating local route choice manager in 21.9717435836792 seconds\n",
      "2021/07/16 00:22:06.856 - NOMAD.nomad_model - INFO - Model created with PedestrianManagerAttr with pedClass = attrPedOpt\n"
     ]
    },
    {
     "name": "stdout",
     "output_type": "stream",
     "text": [
      "================================\n",
      "................................\n",
      "Simulation done. Processing data... done\n",
      "Runnig replication 7 with seed = 952\n"
     ]
    },
    {
     "name": "stderr",
     "output_type": "stream",
     "text": [
      "2021/07/16 00:26:33.460 - NOMAD.local_route_choice_manager - INFO - Creating the local route choice manager using LocalRouteChoiceIterativeComputer\n",
      "2021/07/16 00:26:33.460 - NOMAD.local_route_choice_manager - INFO - Creating a walk level local route choice manager using WalkLevelRouteChoiceIterativeComputer\n",
      "2021/07/16 00:26:55.029 - NOMAD.local_route_choice_manager - INFO - Finished creating local route choice manager in 21.569294929504395 seconds\n",
      "2021/07/16 00:26:55.031 - NOMAD.nomad_model - INFO - Model created with PedestrianManagerAttr with pedClass = attrPedOpt\n"
     ]
    },
    {
     "name": "stdout",
     "output_type": "stream",
     "text": [
      "================================\n",
      "................................\n",
      "Simulation done. Processing data... done\n",
      "Runnig replication 8 with seed = 3060\n"
     ]
    },
    {
     "name": "stderr",
     "output_type": "stream",
     "text": [
      "2021/07/16 00:31:26.350 - NOMAD.local_route_choice_manager - INFO - Creating the local route choice manager using LocalRouteChoiceIterativeComputer\n",
      "2021/07/16 00:31:26.350 - NOMAD.local_route_choice_manager - INFO - Creating a walk level local route choice manager using WalkLevelRouteChoiceIterativeComputer\n",
      "2021/07/16 00:31:47.987 - NOMAD.local_route_choice_manager - INFO - Finished creating local route choice manager in 21.63701057434082 seconds\n",
      "2021/07/16 00:31:48.007 - NOMAD.nomad_model - INFO - Model created with PedestrianManagerAttr with pedClass = attrPedOpt\n"
     ]
    },
    {
     "name": "stdout",
     "output_type": "stream",
     "text": [
      "================================\n",
      "................................\n",
      "Simulation done. Processing data... done\n",
      "Runnig replication 9 with seed = 1744\n"
     ]
    },
    {
     "name": "stderr",
     "output_type": "stream",
     "text": [
      "2021/07/16 00:36:14.020 - NOMAD.local_route_choice_manager - INFO - Creating the local route choice manager using LocalRouteChoiceIterativeComputer\n",
      "2021/07/16 00:36:14.020 - NOMAD.local_route_choice_manager - INFO - Creating a walk level local route choice manager using WalkLevelRouteChoiceIterativeComputer\n",
      "2021/07/16 00:36:35.547 - NOMAD.local_route_choice_manager - INFO - Finished creating local route choice manager in 21.526649713516235 seconds\n",
      "2021/07/16 00:36:35.559 - NOMAD.nomad_model - INFO - Model created with PedestrianManagerAttr with pedClass = attrPedOpt\n"
     ]
    },
    {
     "name": "stdout",
     "output_type": "stream",
     "text": [
      "================================\n",
      "................................\n",
      "Simulation done. Processing data... done\n",
      "Checking convergence... done\n",
      "Runnig replication 10 with seed = 3924\n"
     ]
    },
    {
     "name": "stderr",
     "output_type": "stream",
     "text": [
      "2021/07/16 00:40:59.726 - NOMAD.local_route_choice_manager - INFO - Creating the local route choice manager using LocalRouteChoiceIterativeComputer\n",
      "2021/07/16 00:40:59.738 - NOMAD.local_route_choice_manager - INFO - Creating a walk level local route choice manager using WalkLevelRouteChoiceIterativeComputer\n",
      "2021/07/16 00:41:21.254 - NOMAD.local_route_choice_manager - INFO - Finished creating local route choice manager in 21.51598048210144 seconds\n",
      "2021/07/16 00:41:21.256 - NOMAD.nomad_model - INFO - Model created with PedestrianManagerAttr with pedClass = attrPedOpt\n"
     ]
    },
    {
     "name": "stdout",
     "output_type": "stream",
     "text": [
      "================================\n",
      "................................\n",
      "Simulation done. Processing data... done\n",
      "Runnig replication 11 with seed = 1543\n"
     ]
    },
    {
     "name": "stderr",
     "output_type": "stream",
     "text": [
      "2021/07/16 00:45:35.391 - NOMAD.local_route_choice_manager - INFO - Creating the local route choice manager using LocalRouteChoiceIterativeComputer\n",
      "2021/07/16 00:45:35.391 - NOMAD.local_route_choice_manager - INFO - Creating a walk level local route choice manager using WalkLevelRouteChoiceIterativeComputer\n",
      "2021/07/16 00:45:57.069 - NOMAD.local_route_choice_manager - INFO - Finished creating local route choice manager in 21.678092002868652 seconds\n",
      "2021/07/16 00:45:57.077 - NOMAD.nomad_model - INFO - Model created with PedestrianManagerAttr with pedClass = attrPedOpt\n"
     ]
    },
    {
     "name": "stdout",
     "output_type": "stream",
     "text": [
      "================================\n",
      "................................\n",
      "Simulation done. Processing data... done\n",
      "Runnig replication 12 with seed = 3945\n"
     ]
    },
    {
     "name": "stderr",
     "output_type": "stream",
     "text": [
      "2021/07/16 00:50:30.106 - NOMAD.local_route_choice_manager - INFO - Creating the local route choice manager using LocalRouteChoiceIterativeComputer\n",
      "2021/07/16 00:50:30.114 - NOMAD.local_route_choice_manager - INFO - Creating a walk level local route choice manager using WalkLevelRouteChoiceIterativeComputer\n",
      "2021/07/16 00:50:51.605 - NOMAD.local_route_choice_manager - INFO - Finished creating local route choice manager in 21.49045443534851 seconds\n",
      "2021/07/16 00:50:51.605 - NOMAD.nomad_model - INFO - Model created with PedestrianManagerAttr with pedClass = attrPedOpt\n"
     ]
    },
    {
     "name": "stdout",
     "output_type": "stream",
     "text": [
      "================================\n",
      "................................\n",
      "Simulation done. Processing data... done\n",
      "Runnig replication 13 with seed = 2305\n"
     ]
    },
    {
     "name": "stderr",
     "output_type": "stream",
     "text": [
      "2021/07/16 00:55:04.943 - NOMAD.local_route_choice_manager - INFO - Creating the local route choice manager using LocalRouteChoiceIterativeComputer\n",
      "2021/07/16 00:55:04.943 - NOMAD.local_route_choice_manager - INFO - Creating a walk level local route choice manager using WalkLevelRouteChoiceIterativeComputer\n",
      "2021/07/16 00:55:26.683 - NOMAD.local_route_choice_manager - INFO - Finished creating local route choice manager in 21.739713668823242 seconds\n",
      "2021/07/16 00:55:26.693 - NOMAD.nomad_model - INFO - Model created with PedestrianManagerAttr with pedClass = attrPedOpt\n"
     ]
    },
    {
     "name": "stdout",
     "output_type": "stream",
     "text": [
      "================================\n",
      "................................\n",
      "Simulation done. Processing data... done\n",
      "Runnig replication 14 with seed = 951\n"
     ]
    },
    {
     "name": "stderr",
     "output_type": "stream",
     "text": [
      "2021/07/16 00:59:51.281 - NOMAD.local_route_choice_manager - INFO - Creating the local route choice manager using LocalRouteChoiceIterativeComputer\n",
      "2021/07/16 00:59:51.281 - NOMAD.local_route_choice_manager - INFO - Creating a walk level local route choice manager using WalkLevelRouteChoiceIterativeComputer\n",
      "2021/07/16 01:00:12.980 - NOMAD.local_route_choice_manager - INFO - Finished creating local route choice manager in 21.699605226516724 seconds\n",
      "2021/07/16 01:00:12.980 - NOMAD.nomad_model - INFO - Model created with PedestrianManagerAttr with pedClass = attrPedOpt\n"
     ]
    },
    {
     "name": "stdout",
     "output_type": "stream",
     "text": [
      "================================\n",
      "................................\n",
      "Simulation done. Processing data... done\n",
      "Checking convergence... done\n",
      "Runnig replication 15 with seed = 1368\n"
     ]
    },
    {
     "name": "stderr",
     "output_type": "stream",
     "text": [
      "2021/07/16 01:04:31.421 - NOMAD.local_route_choice_manager - INFO - Creating the local route choice manager using LocalRouteChoiceIterativeComputer\n",
      "2021/07/16 01:04:31.421 - NOMAD.local_route_choice_manager - INFO - Creating a walk level local route choice manager using WalkLevelRouteChoiceIterativeComputer\n",
      "2021/07/16 01:04:53.586 - NOMAD.local_route_choice_manager - INFO - Finished creating local route choice manager in 22.165160655975342 seconds\n",
      "2021/07/16 01:04:53.596 - NOMAD.nomad_model - INFO - Model created with PedestrianManagerAttr with pedClass = attrPedOpt\n"
     ]
    },
    {
     "name": "stdout",
     "output_type": "stream",
     "text": [
      "================================\n",
      "................................\n",
      "Simulation done. Processing data... done\n",
      "Runnig replication 16 with seed = 786\n"
     ]
    },
    {
     "name": "stderr",
     "output_type": "stream",
     "text": [
      "2021/07/16 01:09:15.673 - NOMAD.local_route_choice_manager - INFO - Creating the local route choice manager using LocalRouteChoiceIterativeComputer\n",
      "2021/07/16 01:09:15.673 - NOMAD.local_route_choice_manager - INFO - Creating a walk level local route choice manager using WalkLevelRouteChoiceIterativeComputer\n",
      "2021/07/16 01:09:37.536 - NOMAD.local_route_choice_manager - INFO - Finished creating local route choice manager in 21.86361336708069 seconds\n",
      "2021/07/16 01:09:37.536 - NOMAD.nomad_model - INFO - Model created with PedestrianManagerAttr with pedClass = attrPedOpt\n"
     ]
    },
    {
     "name": "stdout",
     "output_type": "stream",
     "text": [
      "================================\n",
      "................................\n",
      "Simulation done. Processing data... done\n",
      "Runnig replication 17 with seed = 1537\n"
     ]
    },
    {
     "name": "stderr",
     "output_type": "stream",
     "text": [
      "2021/07/16 01:14:33.826 - NOMAD.local_route_choice_manager - INFO - Creating the local route choice manager using LocalRouteChoiceIterativeComputer\n",
      "2021/07/16 01:14:33.832 - NOMAD.local_route_choice_manager - INFO - Creating a walk level local route choice manager using WalkLevelRouteChoiceIterativeComputer\n",
      "2021/07/16 01:15:03.947 - NOMAD.local_route_choice_manager - INFO - Finished creating local route choice manager in 30.114710330963135 seconds\n",
      "2021/07/16 01:15:03.951 - NOMAD.nomad_model - INFO - Model created with PedestrianManagerAttr with pedClass = attrPedOpt\n"
     ]
    },
    {
     "name": "stdout",
     "output_type": "stream",
     "text": [
      "================================\n",
      "................................\n",
      "Simulation done. Processing data... done\n",
      "Runnig replication 18 with seed = 172\n"
     ]
    },
    {
     "name": "stderr",
     "output_type": "stream",
     "text": [
      "2021/07/16 01:21:06.233 - NOMAD.local_route_choice_manager - INFO - Creating the local route choice manager using LocalRouteChoiceIterativeComputer\n",
      "2021/07/16 01:21:06.233 - NOMAD.local_route_choice_manager - INFO - Creating a walk level local route choice manager using WalkLevelRouteChoiceIterativeComputer\n",
      "2021/07/16 01:21:37.496 - NOMAD.local_route_choice_manager - INFO - Finished creating local route choice manager in 31.262800216674805 seconds\n",
      "2021/07/16 01:21:37.504 - NOMAD.nomad_model - INFO - Model created with PedestrianManagerAttr with pedClass = attrPedOpt\n"
     ]
    },
    {
     "name": "stdout",
     "output_type": "stream",
     "text": [
      "================================\n",
      "................................\n",
      "Simulation done. Processing data... done\n",
      "Runnig replication 19 with seed = 2232\n"
     ]
    },
    {
     "name": "stderr",
     "output_type": "stream",
     "text": [
      "2021/07/16 01:27:49.718 - NOMAD.local_route_choice_manager - INFO - Creating the local route choice manager using LocalRouteChoiceIterativeComputer\n",
      "2021/07/16 01:27:49.718 - NOMAD.local_route_choice_manager - INFO - Creating a walk level local route choice manager using WalkLevelRouteChoiceIterativeComputer\n",
      "2021/07/16 01:28:11.850 - NOMAD.local_route_choice_manager - INFO - Finished creating local route choice manager in 22.131891012191772 seconds\n",
      "2021/07/16 01:28:11.858 - NOMAD.nomad_model - INFO - Model created with PedestrianManagerAttr with pedClass = attrPedOpt\n"
     ]
    },
    {
     "name": "stdout",
     "output_type": "stream",
     "text": [
      "================================\n",
      "................................\n",
      "Simulation done. Processing data... done\n",
      "Checking convergence... done\n",
      "Runnig replication 20 with seed = 656\n"
     ]
    },
    {
     "name": "stderr",
     "output_type": "stream",
     "text": [
      "2021/07/16 01:32:27.030 - NOMAD.local_route_choice_manager - INFO - Creating the local route choice manager using LocalRouteChoiceIterativeComputer\n",
      "2021/07/16 01:32:27.030 - NOMAD.local_route_choice_manager - INFO - Creating a walk level local route choice manager using WalkLevelRouteChoiceIterativeComputer\n",
      "2021/07/16 01:32:48.971 - NOMAD.local_route_choice_manager - INFO - Finished creating local route choice manager in 21.940845251083374 seconds\n",
      "2021/07/16 01:32:48.981 - NOMAD.nomad_model - INFO - Model created with PedestrianManagerAttr with pedClass = attrPedOpt\n"
     ]
    },
    {
     "name": "stdout",
     "output_type": "stream",
     "text": [
      "================================\n",
      "................................\n",
      "Simulation done. Processing data... done\n",
      "Runnig replication 21 with seed = 3149\n"
     ]
    },
    {
     "name": "stderr",
     "output_type": "stream",
     "text": [
      "2021/07/16 01:37:15.128 - NOMAD.local_route_choice_manager - INFO - Creating the local route choice manager using LocalRouteChoiceIterativeComputer\n",
      "2021/07/16 01:37:15.128 - NOMAD.local_route_choice_manager - INFO - Creating a walk level local route choice manager using WalkLevelRouteChoiceIterativeComputer\n",
      "2021/07/16 01:37:37.428 - NOMAD.local_route_choice_manager - INFO - Finished creating local route choice manager in 22.300209522247314 seconds\n",
      "2021/07/16 01:37:37.438 - NOMAD.nomad_model - INFO - Model created with PedestrianManagerAttr with pedClass = attrPedOpt\n"
     ]
    },
    {
     "name": "stdout",
     "output_type": "stream",
     "text": [
      "================================\n",
      "................................\n",
      "Simulation done. Processing data... done\n",
      "Runnig replication 22 with seed = 787\n"
     ]
    },
    {
     "name": "stderr",
     "output_type": "stream",
     "text": [
      "2021/07/16 01:42:03.393 - NOMAD.local_route_choice_manager - INFO - Creating the local route choice manager using LocalRouteChoiceIterativeComputer\n",
      "2021/07/16 01:42:03.393 - NOMAD.local_route_choice_manager - INFO - Creating a walk level local route choice manager using WalkLevelRouteChoiceIterativeComputer\n",
      "2021/07/16 01:42:25.503 - NOMAD.local_route_choice_manager - INFO - Finished creating local route choice manager in 22.11057710647583 seconds\n",
      "2021/07/16 01:42:25.503 - NOMAD.nomad_model - INFO - Model created with PedestrianManagerAttr with pedClass = attrPedOpt\n"
     ]
    },
    {
     "name": "stdout",
     "output_type": "stream",
     "text": [
      "================================\n",
      "................................\n",
      "Simulation done. Processing data... done\n",
      "Runnig replication 23 with seed = 2611\n"
     ]
    },
    {
     "name": "stderr",
     "output_type": "stream",
     "text": [
      "2021/07/16 01:46:52.091 - NOMAD.local_route_choice_manager - INFO - Creating the local route choice manager using LocalRouteChoiceIterativeComputer\n",
      "2021/07/16 01:46:52.111 - NOMAD.local_route_choice_manager - INFO - Creating a walk level local route choice manager using WalkLevelRouteChoiceIterativeComputer\n",
      "2021/07/16 01:47:13.410 - NOMAD.local_route_choice_manager - INFO - Finished creating local route choice manager in 21.29879117012024 seconds\n",
      "2021/07/16 01:47:13.412 - NOMAD.nomad_model - INFO - Model created with PedestrianManagerAttr with pedClass = attrPedOpt\n"
     ]
    },
    {
     "name": "stdout",
     "output_type": "stream",
     "text": [
      "================================\n",
      "................................\n",
      "Simulation done. Processing data... done\n",
      "Runnig replication 24 with seed = 1847\n"
     ]
    },
    {
     "name": "stderr",
     "output_type": "stream",
     "text": [
      "2021/07/16 01:51:49.085 - NOMAD.local_route_choice_manager - INFO - Creating the local route choice manager using LocalRouteChoiceIterativeComputer\n",
      "2021/07/16 01:51:49.086 - NOMAD.local_route_choice_manager - INFO - Creating a walk level local route choice manager using WalkLevelRouteChoiceIterativeComputer\n",
      "2021/07/16 01:52:11.817 - NOMAD.local_route_choice_manager - INFO - Finished creating local route choice manager in 22.731260776519775 seconds\n",
      "2021/07/16 01:52:11.827 - NOMAD.nomad_model - INFO - Model created with PedestrianManagerAttr with pedClass = attrPedOpt\n"
     ]
    },
    {
     "name": "stdout",
     "output_type": "stream",
     "text": [
      "================================\n",
      "................................\n",
      "Simulation done. Processing data... done\n",
      "Checking convergence... done\n",
      "Runnig replication 25 with seed = 2568\n"
     ]
    },
    {
     "name": "stderr",
     "output_type": "stream",
     "text": [
      "2021/07/16 01:56:36.564 - NOMAD.local_route_choice_manager - INFO - Creating the local route choice manager using LocalRouteChoiceIterativeComputer\n",
      "2021/07/16 01:56:36.564 - NOMAD.local_route_choice_manager - INFO - Creating a walk level local route choice manager using WalkLevelRouteChoiceIterativeComputer\n",
      "2021/07/16 01:56:58.878 - NOMAD.local_route_choice_manager - INFO - Finished creating local route choice manager in 22.313780546188354 seconds\n",
      "2021/07/16 01:56:58.888 - NOMAD.nomad_model - INFO - Model created with PedestrianManagerAttr with pedClass = attrPedOpt\n"
     ]
    },
    {
     "name": "stdout",
     "output_type": "stream",
     "text": [
      "================================\n",
      "................................\n",
      "Simulation done. Processing data... done\n",
      "Runnig replication 26 with seed = 25\n"
     ]
    },
    {
     "name": "stderr",
     "output_type": "stream",
     "text": [
      "2021/07/16 02:01:33.791 - NOMAD.local_route_choice_manager - INFO - Creating the local route choice manager using LocalRouteChoiceIterativeComputer\n",
      "2021/07/16 02:01:33.793 - NOMAD.local_route_choice_manager - INFO - Creating a walk level local route choice manager using WalkLevelRouteChoiceIterativeComputer\n",
      "2021/07/16 02:01:55.461 - NOMAD.local_route_choice_manager - INFO - Finished creating local route choice manager in 21.66821813583374 seconds\n",
      "2021/07/16 02:01:55.461 - NOMAD.nomad_model - INFO - Model created with PedestrianManagerAttr with pedClass = attrPedOpt\n"
     ]
    },
    {
     "name": "stdout",
     "output_type": "stream",
     "text": [
      "================================\n",
      "................................\n",
      "Simulation done. Processing data... done\n",
      "Runnig replication 27 with seed = 3214\n"
     ]
    },
    {
     "name": "stderr",
     "output_type": "stream",
     "text": [
      "2021/07/16 02:06:11.105 - NOMAD.local_route_choice_manager - INFO - Creating the local route choice manager using LocalRouteChoiceIterativeComputer\n",
      "2021/07/16 02:06:11.105 - NOMAD.local_route_choice_manager - INFO - Creating a walk level local route choice manager using WalkLevelRouteChoiceIterativeComputer\n",
      "2021/07/16 02:06:32.942 - NOMAD.local_route_choice_manager - INFO - Finished creating local route choice manager in 21.837741136550903 seconds\n",
      "2021/07/16 02:06:32.942 - NOMAD.nomad_model - INFO - Model created with PedestrianManagerAttr with pedClass = attrPedOpt\n"
     ]
    },
    {
     "name": "stdout",
     "output_type": "stream",
     "text": [
      "================================\n",
      "................................\n",
      "Simulation done. Processing data... done\n",
      "Runnig replication 28 with seed = 206\n"
     ]
    },
    {
     "name": "stderr",
     "output_type": "stream",
     "text": [
      "2021/07/16 02:10:54.044 - NOMAD.local_route_choice_manager - INFO - Creating the local route choice manager using LocalRouteChoiceIterativeComputer\n",
      "2021/07/16 02:10:54.044 - NOMAD.local_route_choice_manager - INFO - Creating a walk level local route choice manager using WalkLevelRouteChoiceIterativeComputer\n",
      "2021/07/16 02:11:15.900 - NOMAD.local_route_choice_manager - INFO - Finished creating local route choice manager in 21.85594940185547 seconds\n",
      "2021/07/16 02:11:15.920 - NOMAD.nomad_model - INFO - Model created with PedestrianManagerAttr with pedClass = attrPedOpt\n"
     ]
    },
    {
     "name": "stdout",
     "output_type": "stream",
     "text": [
      "================================\n",
      "................................\n",
      "Simulation done. Processing data... done\n",
      "Runnig replication 29 with seed = 103\n"
     ]
    },
    {
     "name": "stderr",
     "output_type": "stream",
     "text": [
      "2021/07/16 02:15:45.116 - NOMAD.local_route_choice_manager - INFO - Creating the local route choice manager using LocalRouteChoiceIterativeComputer\n",
      "2021/07/16 02:15:45.126 - NOMAD.local_route_choice_manager - INFO - Creating a walk level local route choice manager using WalkLevelRouteChoiceIterativeComputer\n",
      "2021/07/16 02:16:06.917 - NOMAD.local_route_choice_manager - INFO - Finished creating local route choice manager in 21.79067087173462 seconds\n",
      "2021/07/16 02:16:06.927 - NOMAD.nomad_model - INFO - Model created with PedestrianManagerAttr with pedClass = attrPedOpt\n"
     ]
    },
    {
     "name": "stdout",
     "output_type": "stream",
     "text": [
      "================================\n",
      "................................\n",
      "Simulation done. Processing data... done\n",
      "Checking convergence... done\n",
      "Runnig replication 30 with seed = 2833\n"
     ]
    },
    {
     "name": "stderr",
     "output_type": "stream",
     "text": [
      "2021/07/16 02:20:31.066 - NOMAD.local_route_choice_manager - INFO - Creating the local route choice manager using LocalRouteChoiceIterativeComputer\n",
      "2021/07/16 02:20:31.066 - NOMAD.local_route_choice_manager - INFO - Creating a walk level local route choice manager using WalkLevelRouteChoiceIterativeComputer\n",
      "2021/07/16 02:20:52.645 - NOMAD.local_route_choice_manager - INFO - Finished creating local route choice manager in 21.579628467559814 seconds\n",
      "2021/07/16 02:20:52.655 - NOMAD.nomad_model - INFO - Model created with PedestrianManagerAttr with pedClass = attrPedOpt\n"
     ]
    },
    {
     "name": "stdout",
     "output_type": "stream",
     "text": [
      "================================\n",
      "................................\n",
      "Simulation done. Processing data... done\n",
      "Runnig replication 31 with seed = 3397\n"
     ]
    },
    {
     "name": "stderr",
     "output_type": "stream",
     "text": [
      "2021/07/16 02:25:09.044 - NOMAD.local_route_choice_manager - INFO - Creating the local route choice manager using LocalRouteChoiceIterativeComputer\n",
      "2021/07/16 02:25:09.044 - NOMAD.local_route_choice_manager - INFO - Creating a walk level local route choice manager using WalkLevelRouteChoiceIterativeComputer\n",
      "2021/07/16 02:25:31.036 - NOMAD.local_route_choice_manager - INFO - Finished creating local route choice manager in 21.9927020072937 seconds\n",
      "2021/07/16 02:25:31.046 - NOMAD.nomad_model - INFO - Model created with PedestrianManagerAttr with pedClass = attrPedOpt\n"
     ]
    },
    {
     "name": "stdout",
     "output_type": "stream",
     "text": [
      "================================\n",
      "................................\n",
      "Simulation done. Processing data... done\n",
      "Runnig replication 32 with seed = 3575\n"
     ]
    },
    {
     "name": "stderr",
     "output_type": "stream",
     "text": [
      "2021/07/16 02:29:47.609 - NOMAD.local_route_choice_manager - INFO - Creating the local route choice manager using LocalRouteChoiceIterativeComputer\n",
      "2021/07/16 02:29:47.609 - NOMAD.local_route_choice_manager - INFO - Creating a walk level local route choice manager using WalkLevelRouteChoiceIterativeComputer\n",
      "2021/07/16 02:30:09.328 - NOMAD.local_route_choice_manager - INFO - Finished creating local route choice manager in 21.718925952911377 seconds\n",
      "2021/07/16 02:30:09.338 - NOMAD.nomad_model - INFO - Model created with PedestrianManagerAttr with pedClass = attrPedOpt\n"
     ]
    },
    {
     "name": "stdout",
     "output_type": "stream",
     "text": [
      "================================\n",
      "................................\n",
      "Simulation done. Processing data... done\n",
      "Runnig replication 33 with seed = 3685\n"
     ]
    },
    {
     "name": "stderr",
     "output_type": "stream",
     "text": [
      "2021/07/16 02:34:36.947 - NOMAD.local_route_choice_manager - INFO - Creating the local route choice manager using LocalRouteChoiceIterativeComputer\n",
      "2021/07/16 02:34:36.947 - NOMAD.local_route_choice_manager - INFO - Creating a walk level local route choice manager using WalkLevelRouteChoiceIterativeComputer\n",
      "2021/07/16 02:34:58.549 - NOMAD.local_route_choice_manager - INFO - Finished creating local route choice manager in 21.602057933807373 seconds\n",
      "2021/07/16 02:34:58.559 - NOMAD.nomad_model - INFO - Model created with PedestrianManagerAttr with pedClass = attrPedOpt\n"
     ]
    },
    {
     "name": "stdout",
     "output_type": "stream",
     "text": [
      "================================\n",
      "................................\n",
      "Simulation done. Processing data... done\n",
      "Runnig replication 34 with seed = 3752\n"
     ]
    },
    {
     "name": "stderr",
     "output_type": "stream",
     "text": [
      "2021/07/16 02:39:21.399 - NOMAD.local_route_choice_manager - INFO - Creating the local route choice manager using LocalRouteChoiceIterativeComputer\n",
      "2021/07/16 02:39:21.399 - NOMAD.local_route_choice_manager - INFO - Creating a walk level local route choice manager using WalkLevelRouteChoiceIterativeComputer\n",
      "2021/07/16 02:39:43.328 - NOMAD.local_route_choice_manager - INFO - Finished creating local route choice manager in 21.928223609924316 seconds\n",
      "2021/07/16 02:39:43.338 - NOMAD.nomad_model - INFO - Model created with PedestrianManagerAttr with pedClass = attrPedOpt\n"
     ]
    },
    {
     "name": "stdout",
     "output_type": "stream",
     "text": [
      "================================\n",
      "................................\n",
      "Simulation done. Processing data... done\n",
      "Checking convergence... done\n",
      "Runnig replication 35 with seed = 867\n"
     ]
    },
    {
     "name": "stderr",
     "output_type": "stream",
     "text": [
      "2021/07/16 02:44:14.259 - NOMAD.local_route_choice_manager - INFO - Creating the local route choice manager using LocalRouteChoiceIterativeComputer\n",
      "2021/07/16 02:44:14.259 - NOMAD.local_route_choice_manager - INFO - Creating a walk level local route choice manager using WalkLevelRouteChoiceIterativeComputer\n",
      "2021/07/16 02:44:36.199 - NOMAD.local_route_choice_manager - INFO - Finished creating local route choice manager in 21.939366817474365 seconds\n",
      "2021/07/16 02:44:36.219 - NOMAD.nomad_model - INFO - Model created with PedestrianManagerAttr with pedClass = attrPedOpt\n"
     ]
    },
    {
     "name": "stdout",
     "output_type": "stream",
     "text": [
      "================================\n",
      "................................\n",
      "Simulation done. Processing data... done\n",
      "Runnig replication 36 with seed = 2680\n"
     ]
    },
    {
     "name": "stderr",
     "output_type": "stream",
     "text": [
      "2021/07/16 02:48:59.081 - NOMAD.local_route_choice_manager - INFO - Creating the local route choice manager using LocalRouteChoiceIterativeComputer\n",
      "2021/07/16 02:48:59.091 - NOMAD.local_route_choice_manager - INFO - Creating a walk level local route choice manager using WalkLevelRouteChoiceIterativeComputer\n",
      "2021/07/16 02:49:21.146 - NOMAD.local_route_choice_manager - INFO - Finished creating local route choice manager in 22.05449080467224 seconds\n",
      "2021/07/16 02:49:21.148 - NOMAD.nomad_model - INFO - Model created with PedestrianManagerAttr with pedClass = attrPedOpt\n"
     ]
    },
    {
     "name": "stdout",
     "output_type": "stream",
     "text": [
      "================================\n",
      "................................\n",
      "Simulation done. Processing data... done\n",
      "Runnig replication 37 with seed = 2201\n"
     ]
    },
    {
     "name": "stderr",
     "output_type": "stream",
     "text": [
      "2021/07/16 02:53:37.098 - NOMAD.local_route_choice_manager - INFO - Creating the local route choice manager using LocalRouteChoiceIterativeComputer\n",
      "2021/07/16 02:53:37.098 - NOMAD.local_route_choice_manager - INFO - Creating a walk level local route choice manager using WalkLevelRouteChoiceIterativeComputer\n",
      "2021/07/16 02:53:59.242 - NOMAD.local_route_choice_manager - INFO - Finished creating local route choice manager in 22.144197940826416 seconds\n",
      "2021/07/16 02:53:59.242 - NOMAD.nomad_model - INFO - Model created with PedestrianManagerAttr with pedClass = attrPedOpt\n"
     ]
    },
    {
     "name": "stdout",
     "output_type": "stream",
     "text": [
      "================================\n",
      "................................\n",
      "Simulation done. Processing data... done\n",
      "Runnig replication 38 with seed = 2869\n"
     ]
    },
    {
     "name": "stderr",
     "output_type": "stream",
     "text": [
      "2021/07/16 02:58:24.988 - NOMAD.local_route_choice_manager - INFO - Creating the local route choice manager using LocalRouteChoiceIterativeComputer\n",
      "2021/07/16 02:58:24.988 - NOMAD.local_route_choice_manager - INFO - Creating a walk level local route choice manager using WalkLevelRouteChoiceIterativeComputer\n",
      "2021/07/16 02:58:47.393 - NOMAD.local_route_choice_manager - INFO - Finished creating local route choice manager in 22.404398202896118 seconds\n",
      "2021/07/16 02:58:47.401 - NOMAD.nomad_model - INFO - Model created with PedestrianManagerAttr with pedClass = attrPedOpt\n"
     ]
    },
    {
     "name": "stdout",
     "output_type": "stream",
     "text": [
      "================================\n",
      "................................\n",
      "Simulation done. Processing data... done\n",
      "Runnig replication 39 with seed = 2117\n"
     ]
    },
    {
     "name": "stderr",
     "output_type": "stream",
     "text": [
      "2021/07/16 03:03:15.545 - NOMAD.local_route_choice_manager - INFO - Creating the local route choice manager using LocalRouteChoiceIterativeComputer\n",
      "2021/07/16 03:03:15.545 - NOMAD.local_route_choice_manager - INFO - Creating a walk level local route choice manager using WalkLevelRouteChoiceIterativeComputer\n",
      "2021/07/16 03:03:37.656 - NOMAD.local_route_choice_manager - INFO - Finished creating local route choice manager in 22.1109778881073 seconds\n",
      "2021/07/16 03:03:37.656 - NOMAD.nomad_model - INFO - Model created with PedestrianManagerAttr with pedClass = attrPedOpt\n"
     ]
    },
    {
     "name": "stdout",
     "output_type": "stream",
     "text": [
      "================================\n",
      "................................\n",
      "Simulation done. Processing data... done\n",
      "Checking convergence... done\n",
      "Runnig replication 40 with seed = 601\n"
     ]
    },
    {
     "name": "stderr",
     "output_type": "stream",
     "text": [
      "2021/07/16 03:08:08.143 - NOMAD.local_route_choice_manager - INFO - Creating the local route choice manager using LocalRouteChoiceIterativeComputer\n",
      "2021/07/16 03:08:08.153 - NOMAD.local_route_choice_manager - INFO - Creating a walk level local route choice manager using WalkLevelRouteChoiceIterativeComputer\n",
      "2021/07/16 03:08:30.254 - NOMAD.local_route_choice_manager - INFO - Finished creating local route choice manager in 22.100324153900146 seconds\n",
      "2021/07/16 03:08:30.267 - NOMAD.nomad_model - INFO - Model created with PedestrianManagerAttr with pedClass = attrPedOpt\n"
     ]
    },
    {
     "name": "stdout",
     "output_type": "stream",
     "text": [
      "================================\n",
      "................................\n",
      "Simulation done. Processing data... done\n",
      "Runnig replication 41 with seed = 3489\n"
     ]
    },
    {
     "name": "stderr",
     "output_type": "stream",
     "text": [
      "2021/07/16 03:12:43.925 - NOMAD.local_route_choice_manager - INFO - Creating the local route choice manager using LocalRouteChoiceIterativeComputer\n",
      "2021/07/16 03:12:43.933 - NOMAD.local_route_choice_manager - INFO - Creating a walk level local route choice manager using WalkLevelRouteChoiceIterativeComputer\n",
      "2021/07/16 03:13:05.945 - NOMAD.local_route_choice_manager - INFO - Finished creating local route choice manager in 22.012343645095825 seconds\n",
      "2021/07/16 03:13:05.947 - NOMAD.nomad_model - INFO - Model created with PedestrianManagerAttr with pedClass = attrPedOpt\n"
     ]
    },
    {
     "name": "stdout",
     "output_type": "stream",
     "text": [
      "================================\n",
      "................................\n",
      "Simulation done. Processing data... done\n",
      "Runnig replication 42 with seed = 574\n"
     ]
    },
    {
     "name": "stderr",
     "output_type": "stream",
     "text": [
      "2021/07/16 03:17:34.025 - NOMAD.local_route_choice_manager - INFO - Creating the local route choice manager using LocalRouteChoiceIterativeComputer\n",
      "2021/07/16 03:17:34.033 - NOMAD.local_route_choice_manager - INFO - Creating a walk level local route choice manager using WalkLevelRouteChoiceIterativeComputer\n",
      "2021/07/16 03:17:55.780 - NOMAD.local_route_choice_manager - INFO - Finished creating local route choice manager in 21.74663519859314 seconds\n",
      "2021/07/16 03:17:55.782 - NOMAD.nomad_model - INFO - Model created with PedestrianManagerAttr with pedClass = attrPedOpt\n"
     ]
    },
    {
     "name": "stdout",
     "output_type": "stream",
     "text": [
      "================================\n",
      "................................\n",
      "Simulation done. Processing data... done\n",
      "Runnig replication 43 with seed = 3485\n"
     ]
    },
    {
     "name": "stderr",
     "output_type": "stream",
     "text": [
      "2021/07/16 03:22:18.315 - NOMAD.local_route_choice_manager - INFO - Creating the local route choice manager using LocalRouteChoiceIterativeComputer\n",
      "2021/07/16 03:22:18.315 - NOMAD.local_route_choice_manager - INFO - Creating a walk level local route choice manager using WalkLevelRouteChoiceIterativeComputer\n",
      "2021/07/16 03:22:40.224 - NOMAD.local_route_choice_manager - INFO - Finished creating local route choice manager in 21.908642053604126 seconds\n",
      "2021/07/16 03:22:40.226 - NOMAD.nomad_model - INFO - Model created with PedestrianManagerAttr with pedClass = attrPedOpt\n"
     ]
    },
    {
     "name": "stdout",
     "output_type": "stream",
     "text": [
      "================================\n",
      "................................\n",
      "Simulation done. Processing data... done\n",
      "Runnig replication 44 with seed = 2561\n"
     ]
    },
    {
     "name": "stderr",
     "output_type": "stream",
     "text": [
      "2021/07/16 03:27:12.246 - NOMAD.local_route_choice_manager - INFO - Creating the local route choice manager using LocalRouteChoiceIterativeComputer\n",
      "2021/07/16 03:27:12.246 - NOMAD.local_route_choice_manager - INFO - Creating a walk level local route choice manager using WalkLevelRouteChoiceIterativeComputer\n",
      "2021/07/16 03:27:34.056 - NOMAD.local_route_choice_manager - INFO - Finished creating local route choice manager in 21.810399770736694 seconds\n",
      "2021/07/16 03:27:34.064 - NOMAD.nomad_model - INFO - Model created with PedestrianManagerAttr with pedClass = attrPedOpt\n"
     ]
    },
    {
     "name": "stdout",
     "output_type": "stream",
     "text": [
      "================================\n",
      "................................\n",
      "Simulation done. Processing data... done\n",
      "Checking convergence... done\n",
      "Runnig replication 45 with seed = 1159\n"
     ]
    },
    {
     "name": "stderr",
     "output_type": "stream",
     "text": [
      "2021/07/16 03:32:00.443 - NOMAD.local_route_choice_manager - INFO - Creating the local route choice manager using LocalRouteChoiceIterativeComputer\n",
      "2021/07/16 03:32:00.463 - NOMAD.local_route_choice_manager - INFO - Creating a walk level local route choice manager using WalkLevelRouteChoiceIterativeComputer\n",
      "2021/07/16 03:32:22.510 - NOMAD.local_route_choice_manager - INFO - Finished creating local route choice manager in 22.04674196243286 seconds\n",
      "2021/07/16 03:32:22.510 - NOMAD.nomad_model - INFO - Model created with PedestrianManagerAttr with pedClass = attrPedOpt\n"
     ]
    },
    {
     "name": "stdout",
     "output_type": "stream",
     "text": [
      "================================\n",
      "................................\n",
      "Simulation done. Processing data... done\n",
      "Runnig replication 46 with seed = 486\n"
     ]
    },
    {
     "name": "stderr",
     "output_type": "stream",
     "text": [
      "2021/07/16 03:36:47.593 - NOMAD.local_route_choice_manager - INFO - Creating the local route choice manager using LocalRouteChoiceIterativeComputer\n",
      "2021/07/16 03:36:47.593 - NOMAD.local_route_choice_manager - INFO - Creating a walk level local route choice manager using WalkLevelRouteChoiceIterativeComputer\n",
      "2021/07/16 03:37:09.667 - NOMAD.local_route_choice_manager - INFO - Finished creating local route choice manager in 22.073508739471436 seconds\n",
      "2021/07/16 03:37:09.687 - NOMAD.nomad_model - INFO - Model created with PedestrianManagerAttr with pedClass = attrPedOpt\n"
     ]
    },
    {
     "name": "stdout",
     "output_type": "stream",
     "text": [
      "================================\n",
      "................................\n",
      "Simulation done. Processing data... done\n",
      "Runnig replication 47 with seed = 1549\n"
     ]
    },
    {
     "name": "stderr",
     "output_type": "stream",
     "text": [
      "2021/07/16 03:41:19.361 - NOMAD.local_route_choice_manager - INFO - Creating the local route choice manager using LocalRouteChoiceIterativeComputer\n",
      "2021/07/16 03:41:19.362 - NOMAD.local_route_choice_manager - INFO - Creating a walk level local route choice manager using WalkLevelRouteChoiceIterativeComputer\n",
      "2021/07/16 03:41:41.135 - NOMAD.local_route_choice_manager - INFO - Finished creating local route choice manager in 21.773117303848267 seconds\n",
      "2021/07/16 03:41:41.137 - NOMAD.nomad_model - INFO - Model created with PedestrianManagerAttr with pedClass = attrPedOpt\n"
     ]
    },
    {
     "name": "stdout",
     "output_type": "stream",
     "text": [
      "================================\n",
      "................................\n",
      "Simulation done. Processing data... done\n",
      "Runnig replication 48 with seed = 2787\n"
     ]
    },
    {
     "name": "stderr",
     "output_type": "stream",
     "text": [
      "2021/07/16 03:46:06.361 - NOMAD.local_route_choice_manager - INFO - Creating the local route choice manager using LocalRouteChoiceIterativeComputer\n",
      "2021/07/16 03:46:06.361 - NOMAD.local_route_choice_manager - INFO - Creating a walk level local route choice manager using WalkLevelRouteChoiceIterativeComputer\n",
      "2021/07/16 03:46:27.972 - NOMAD.local_route_choice_manager - INFO - Finished creating local route choice manager in 21.611528396606445 seconds\n",
      "2021/07/16 03:46:27.982 - NOMAD.nomad_model - INFO - Model created with PedestrianManagerAttr with pedClass = attrPedOpt\n"
     ]
    },
    {
     "name": "stdout",
     "output_type": "stream",
     "text": [
      "================================\n",
      "................................\n",
      "Simulation done. Processing data... done\n",
      "Runnig replication 49 with seed = 3950\n"
     ]
    },
    {
     "name": "stderr",
     "output_type": "stream",
     "text": [
      "2021/07/16 03:50:56.475 - NOMAD.local_route_choice_manager - INFO - Creating the local route choice manager using LocalRouteChoiceIterativeComputer\n",
      "2021/07/16 03:50:56.483 - NOMAD.local_route_choice_manager - INFO - Creating a walk level local route choice manager using WalkLevelRouteChoiceIterativeComputer\n",
      "2021/07/16 03:51:18.444 - NOMAD.local_route_choice_manager - INFO - Finished creating local route choice manager in 21.969114780426025 seconds\n",
      "2021/07/16 03:51:18.454 - NOMAD.nomad_model - INFO - Model created with PedestrianManagerAttr with pedClass = attrPedOpt\n"
     ]
    },
    {
     "name": "stdout",
     "output_type": "stream",
     "text": [
      "================================\n",
      "................................\n",
      "Simulation done. Processing data... done\n",
      "Checking convergence... done\n",
      "Runnig replication 50 with seed = 640\n"
     ]
    },
    {
     "name": "stderr",
     "output_type": "stream",
     "text": [
      "2021/07/16 03:55:42.158 - NOMAD.local_route_choice_manager - INFO - Creating the local route choice manager using LocalRouteChoiceIterativeComputer\n",
      "2021/07/16 03:55:42.178 - NOMAD.local_route_choice_manager - INFO - Creating a walk level local route choice manager using WalkLevelRouteChoiceIterativeComputer\n",
      "2021/07/16 03:56:03.895 - NOMAD.local_route_choice_manager - INFO - Finished creating local route choice manager in 21.71728539466858 seconds\n",
      "2021/07/16 03:56:03.897 - NOMAD.nomad_model - INFO - Model created with PedestrianManagerAttr with pedClass = attrPedOpt\n"
     ]
    },
    {
     "name": "stdout",
     "output_type": "stream",
     "text": [
      "================================\n",
      "................................\n",
      "Simulation done. Processing data... done\n",
      "Runnig replication 51 with seed = 1780\n"
     ]
    },
    {
     "name": "stderr",
     "output_type": "stream",
     "text": [
      "2021/07/16 04:00:31.760 - NOMAD.local_route_choice_manager - INFO - Creating the local route choice manager using LocalRouteChoiceIterativeComputer\n",
      "2021/07/16 04:00:31.770 - NOMAD.local_route_choice_manager - INFO - Creating a walk level local route choice manager using WalkLevelRouteChoiceIterativeComputer\n",
      "2021/07/16 04:00:53.693 - NOMAD.local_route_choice_manager - INFO - Finished creating local route choice manager in 21.922905683517456 seconds\n",
      "2021/07/16 04:00:53.701 - NOMAD.nomad_model - INFO - Model created with PedestrianManagerAttr with pedClass = attrPedOpt\n"
     ]
    },
    {
     "name": "stdout",
     "output_type": "stream",
     "text": [
      "================================\n",
      "................................\n",
      "Simulation done. Processing data... done\n",
      "Runnig replication 52 with seed = 2360\n"
     ]
    },
    {
     "name": "stderr",
     "output_type": "stream",
     "text": [
      "2021/07/16 04:05:17.664 - NOMAD.local_route_choice_manager - INFO - Creating the local route choice manager using LocalRouteChoiceIterativeComputer\n",
      "2021/07/16 04:05:17.664 - NOMAD.local_route_choice_manager - INFO - Creating a walk level local route choice manager using WalkLevelRouteChoiceIterativeComputer\n",
      "2021/07/16 04:05:39.663 - NOMAD.local_route_choice_manager - INFO - Finished creating local route choice manager in 21.998929738998413 seconds\n",
      "2021/07/16 04:05:39.671 - NOMAD.nomad_model - INFO - Model created with PedestrianManagerAttr with pedClass = attrPedOpt\n"
     ]
    },
    {
     "name": "stdout",
     "output_type": "stream",
     "text": [
      "================================\n",
      "................................\n",
      "Simulation done. Processing data... done\n",
      "Runnig replication 53 with seed = 2946\n"
     ]
    },
    {
     "name": "stderr",
     "output_type": "stream",
     "text": [
      "2021/07/16 04:10:00.344 - NOMAD.local_route_choice_manager - INFO - Creating the local route choice manager using LocalRouteChoiceIterativeComputer\n",
      "2021/07/16 04:10:00.344 - NOMAD.local_route_choice_manager - INFO - Creating a walk level local route choice manager using WalkLevelRouteChoiceIterativeComputer\n",
      "2021/07/16 04:10:22.384 - NOMAD.local_route_choice_manager - INFO - Finished creating local route choice manager in 22.03971290588379 seconds\n",
      "2021/07/16 04:10:22.394 - NOMAD.nomad_model - INFO - Model created with PedestrianManagerAttr with pedClass = attrPedOpt\n"
     ]
    },
    {
     "name": "stdout",
     "output_type": "stream",
     "text": [
      "================================\n",
      "................................\n",
      "Simulation done. Processing data... done\n",
      "Runnig replication 54 with seed = 3640\n"
     ]
    },
    {
     "name": "stderr",
     "output_type": "stream",
     "text": [
      "2021/07/16 04:14:39.473 - NOMAD.local_route_choice_manager - INFO - Creating the local route choice manager using LocalRouteChoiceIterativeComputer\n",
      "2021/07/16 04:14:39.473 - NOMAD.local_route_choice_manager - INFO - Creating a walk level local route choice manager using WalkLevelRouteChoiceIterativeComputer\n",
      "2021/07/16 04:15:01.112 - NOMAD.local_route_choice_manager - INFO - Finished creating local route choice manager in 21.639360189437866 seconds\n",
      "2021/07/16 04:15:01.112 - NOMAD.nomad_model - INFO - Model created with PedestrianManagerAttr with pedClass = attrPedOpt\n"
     ]
    },
    {
     "name": "stdout",
     "output_type": "stream",
     "text": [
      "================================\n",
      "................................\n",
      "Simulation done. Processing data... done\n",
      "Checking convergence... done\n",
      "Runnig replication 55 with seed = 3621\n"
     ]
    },
    {
     "name": "stderr",
     "output_type": "stream",
     "text": [
      "2021/07/16 04:19:15.419 - NOMAD.local_route_choice_manager - INFO - Creating the local route choice manager using LocalRouteChoiceIterativeComputer\n",
      "2021/07/16 04:19:15.421 - NOMAD.local_route_choice_manager - INFO - Creating a walk level local route choice manager using WalkLevelRouteChoiceIterativeComputer\n",
      "2021/07/16 04:19:37.419 - NOMAD.local_route_choice_manager - INFO - Finished creating local route choice manager in 21.997971057891846 seconds\n",
      "2021/07/16 04:19:37.421 - NOMAD.nomad_model - INFO - Model created with PedestrianManagerAttr with pedClass = attrPedOpt\n"
     ]
    },
    {
     "name": "stdout",
     "output_type": "stream",
     "text": [
      "================================\n",
      "................................\n",
      "Simulation done. Processing data... done\n",
      "Runnig replication 56 with seed = 992\n"
     ]
    },
    {
     "name": "stderr",
     "output_type": "stream",
     "text": [
      "2021/07/16 04:24:09.317 - NOMAD.local_route_choice_manager - INFO - Creating the local route choice manager using LocalRouteChoiceIterativeComputer\n",
      "2021/07/16 04:24:09.329 - NOMAD.local_route_choice_manager - INFO - Creating a walk level local route choice manager using WalkLevelRouteChoiceIterativeComputer\n",
      "2021/07/16 04:24:31.476 - NOMAD.local_route_choice_manager - INFO - Finished creating local route choice manager in 22.14725399017334 seconds\n",
      "2021/07/16 04:24:31.478 - NOMAD.nomad_model - INFO - Model created with PedestrianManagerAttr with pedClass = attrPedOpt\n"
     ]
    },
    {
     "name": "stdout",
     "output_type": "stream",
     "text": [
      "================================\n",
      "................................\n",
      "Simulation done. Processing data... done\n",
      "Runnig replication 57 with seed = 3305\n"
     ]
    },
    {
     "name": "stderr",
     "output_type": "stream",
     "text": [
      "2021/07/16 04:28:52.140 - NOMAD.local_route_choice_manager - INFO - Creating the local route choice manager using LocalRouteChoiceIterativeComputer\n",
      "2021/07/16 04:28:52.150 - NOMAD.local_route_choice_manager - INFO - Creating a walk level local route choice manager using WalkLevelRouteChoiceIterativeComputer\n",
      "2021/07/16 04:29:14.672 - NOMAD.local_route_choice_manager - INFO - Finished creating local route choice manager in 22.522636890411377 seconds\n",
      "2021/07/16 04:29:14.672 - NOMAD.nomad_model - INFO - Model created with PedestrianManagerAttr with pedClass = attrPedOpt\n"
     ]
    },
    {
     "name": "stdout",
     "output_type": "stream",
     "text": [
      "================================\n",
      "................................\n",
      "Simulation done. Processing data... done\n",
      "Runnig replication 58 with seed = 1419\n"
     ]
    },
    {
     "name": "stderr",
     "output_type": "stream",
     "text": [
      "2021/07/16 04:33:35.939 - NOMAD.local_route_choice_manager - INFO - Creating the local route choice manager using LocalRouteChoiceIterativeComputer\n",
      "2021/07/16 04:33:35.959 - NOMAD.local_route_choice_manager - INFO - Creating a walk level local route choice manager using WalkLevelRouteChoiceIterativeComputer\n",
      "2021/07/16 04:33:57.846 - NOMAD.local_route_choice_manager - INFO - Finished creating local route choice manager in 21.886831998825073 seconds\n",
      "2021/07/16 04:33:57.866 - NOMAD.nomad_model - INFO - Model created with PedestrianManagerAttr with pedClass = attrPedOpt\n"
     ]
    },
    {
     "name": "stdout",
     "output_type": "stream",
     "text": [
      "================================\n",
      "................................\n",
      "Simulation done. Processing data... done\n",
      "Runnig replication 59 with seed = 1021\n"
     ]
    },
    {
     "name": "stderr",
     "output_type": "stream",
     "text": [
      "2021/07/16 04:38:24.396 - NOMAD.local_route_choice_manager - INFO - Creating the local route choice manager using LocalRouteChoiceIterativeComputer\n",
      "2021/07/16 04:38:24.406 - NOMAD.local_route_choice_manager - INFO - Creating a walk level local route choice manager using WalkLevelRouteChoiceIterativeComputer\n",
      "2021/07/16 04:38:46.466 - NOMAD.local_route_choice_manager - INFO - Finished creating local route choice manager in 22.059858798980713 seconds\n",
      "2021/07/16 04:38:46.474 - NOMAD.nomad_model - INFO - Model created with PedestrianManagerAttr with pedClass = attrPedOpt\n"
     ]
    },
    {
     "name": "stdout",
     "output_type": "stream",
     "text": [
      "================================\n",
      "................................\n",
      "Simulation done. Processing data... done\n",
      "Checking convergence... done\n",
      "Runnig replication 60 with seed = 917\n"
     ]
    },
    {
     "name": "stderr",
     "output_type": "stream",
     "text": [
      "2021/07/16 04:43:08.064 - NOMAD.local_route_choice_manager - INFO - Creating the local route choice manager using LocalRouteChoiceIterativeComputer\n",
      "2021/07/16 04:43:08.066 - NOMAD.local_route_choice_manager - INFO - Creating a walk level local route choice manager using WalkLevelRouteChoiceIterativeComputer\n",
      "2021/07/16 04:43:31.444 - NOMAD.local_route_choice_manager - INFO - Finished creating local route choice manager in 23.37775754928589 seconds\n",
      "2021/07/16 04:43:31.452 - NOMAD.nomad_model - INFO - Model created with PedestrianManagerAttr with pedClass = attrPedOpt\n"
     ]
    },
    {
     "name": "stdout",
     "output_type": "stream",
     "text": [
      "================================\n",
      "................................\n",
      "Simulation done. Processing data... done\n",
      "Runnig replication 61 with seed = 1520\n"
     ]
    },
    {
     "name": "stderr",
     "output_type": "stream",
     "text": [
      "2021/07/16 04:48:02.734 - NOMAD.local_route_choice_manager - INFO - Creating the local route choice manager using LocalRouteChoiceIterativeComputer\n",
      "2021/07/16 04:48:02.744 - NOMAD.local_route_choice_manager - INFO - Creating a walk level local route choice manager using WalkLevelRouteChoiceIterativeComputer\n",
      "2021/07/16 04:48:24.275 - NOMAD.local_route_choice_manager - INFO - Finished creating local route choice manager in 21.531171083450317 seconds\n",
      "2021/07/16 04:48:24.285 - NOMAD.nomad_model - INFO - Model created with PedestrianManagerAttr with pedClass = attrPedOpt\n"
     ]
    },
    {
     "name": "stdout",
     "output_type": "stream",
     "text": [
      "================================\n",
      "................................\n",
      "Simulation done. Processing data... done\n",
      "Runnig replication 62 with seed = 1990\n"
     ]
    },
    {
     "name": "stderr",
     "output_type": "stream",
     "text": [
      "2021/07/16 04:52:38.919 - NOMAD.local_route_choice_manager - INFO - Creating the local route choice manager using LocalRouteChoiceIterativeComputer\n",
      "2021/07/16 04:52:38.919 - NOMAD.local_route_choice_manager - INFO - Creating a walk level local route choice manager using WalkLevelRouteChoiceIterativeComputer\n",
      "2021/07/16 04:53:00.810 - NOMAD.local_route_choice_manager - INFO - Finished creating local route choice manager in 21.890437602996826 seconds\n",
      "2021/07/16 04:53:00.810 - NOMAD.nomad_model - INFO - Model created with PedestrianManagerAttr with pedClass = attrPedOpt\n"
     ]
    },
    {
     "name": "stdout",
     "output_type": "stream",
     "text": [
      "================================\n",
      "................................\n",
      "Simulation done. Processing data... done\n",
      "Runnig replication 63 with seed = 3985\n"
     ]
    },
    {
     "name": "stderr",
     "output_type": "stream",
     "text": [
      "2021/07/16 04:57:16.011 - NOMAD.local_route_choice_manager - INFO - Creating the local route choice manager using LocalRouteChoiceIterativeComputer\n",
      "2021/07/16 04:57:16.011 - NOMAD.local_route_choice_manager - INFO - Creating a walk level local route choice manager using WalkLevelRouteChoiceIterativeComputer\n",
      "2021/07/16 04:57:37.793 - NOMAD.local_route_choice_manager - INFO - Finished creating local route choice manager in 21.781749486923218 seconds\n",
      "2021/07/16 04:57:37.801 - NOMAD.nomad_model - INFO - Model created with PedestrianManagerAttr with pedClass = attrPedOpt\n"
     ]
    },
    {
     "name": "stdout",
     "output_type": "stream",
     "text": [
      "================================\n",
      "................................\n",
      "Simulation done. Processing data... done\n",
      "Runnig replication 64 with seed = 3971\n"
     ]
    },
    {
     "name": "stderr",
     "output_type": "stream",
     "text": [
      "2021/07/16 05:02:01.315 - NOMAD.local_route_choice_manager - INFO - Creating the local route choice manager using LocalRouteChoiceIterativeComputer\n",
      "2021/07/16 05:02:01.315 - NOMAD.local_route_choice_manager - INFO - Creating a walk level local route choice manager using WalkLevelRouteChoiceIterativeComputer\n",
      "2021/07/16 05:02:23.688 - NOMAD.local_route_choice_manager - INFO - Finished creating local route choice manager in 22.37298607826233 seconds\n",
      "2021/07/16 05:02:23.698 - NOMAD.nomad_model - INFO - Model created with PedestrianManagerAttr with pedClass = attrPedOpt\n"
     ]
    },
    {
     "name": "stdout",
     "output_type": "stream",
     "text": [
      "================================\n",
      "................................\n",
      "Simulation done. Processing data... done\n",
      "Checking convergence... done\n",
      "Runnig replication 65 with seed = 3050\n"
     ]
    },
    {
     "name": "stderr",
     "output_type": "stream",
     "text": [
      "2021/07/16 05:06:44.122 - NOMAD.local_route_choice_manager - INFO - Creating the local route choice manager using LocalRouteChoiceIterativeComputer\n",
      "2021/07/16 05:06:44.122 - NOMAD.local_route_choice_manager - INFO - Creating a walk level local route choice manager using WalkLevelRouteChoiceIterativeComputer\n",
      "2021/07/16 05:07:05.570 - NOMAD.local_route_choice_manager - INFO - Finished creating local route choice manager in 21.448008060455322 seconds\n",
      "2021/07/16 05:07:05.578 - NOMAD.nomad_model - INFO - Model created with PedestrianManagerAttr with pedClass = attrPedOpt\n"
     ]
    },
    {
     "name": "stdout",
     "output_type": "stream",
     "text": [
      "================================\n",
      "................................\n",
      "Simulation done. Processing data... done\n",
      "Runnig replication 66 with seed = 2037\n"
     ]
    },
    {
     "name": "stderr",
     "output_type": "stream",
     "text": [
      "2021/07/16 05:11:22.999 - NOMAD.local_route_choice_manager - INFO - Creating the local route choice manager using LocalRouteChoiceIterativeComputer\n",
      "2021/07/16 05:11:23.001 - NOMAD.local_route_choice_manager - INFO - Creating a walk level local route choice manager using WalkLevelRouteChoiceIterativeComputer\n",
      "2021/07/16 05:11:44.677 - NOMAD.local_route_choice_manager - INFO - Finished creating local route choice manager in 21.675275802612305 seconds\n",
      "2021/07/16 05:11:44.687 - NOMAD.nomad_model - INFO - Model created with PedestrianManagerAttr with pedClass = attrPedOpt\n"
     ]
    },
    {
     "name": "stdout",
     "output_type": "stream",
     "text": [
      "================================\n",
      "................................\n",
      "Simulation done. Processing data... done\n",
      "Runnig replication 67 with seed = 2158\n"
     ]
    },
    {
     "name": "stderr",
     "output_type": "stream",
     "text": [
      "2021/07/16 05:16:04.457 - NOMAD.local_route_choice_manager - INFO - Creating the local route choice manager using LocalRouteChoiceIterativeComputer\n",
      "2021/07/16 05:16:04.457 - NOMAD.local_route_choice_manager - INFO - Creating a walk level local route choice manager using WalkLevelRouteChoiceIterativeComputer\n",
      "2021/07/16 05:16:25.810 - NOMAD.local_route_choice_manager - INFO - Finished creating local route choice manager in 21.35372543334961 seconds\n",
      "2021/07/16 05:16:25.830 - NOMAD.nomad_model - INFO - Model created with PedestrianManagerAttr with pedClass = attrPedOpt\n"
     ]
    },
    {
     "name": "stdout",
     "output_type": "stream",
     "text": [
      "================================\n",
      "................................\n",
      "Simulation done. Processing data... done\n",
      "Runnig replication 68 with seed = 309\n"
     ]
    },
    {
     "name": "stderr",
     "output_type": "stream",
     "text": [
      "2021/07/16 05:21:03.758 - NOMAD.local_route_choice_manager - INFO - Creating the local route choice manager using LocalRouteChoiceIterativeComputer\n",
      "2021/07/16 05:21:03.758 - NOMAD.local_route_choice_manager - INFO - Creating a walk level local route choice manager using WalkLevelRouteChoiceIterativeComputer\n",
      "2021/07/16 05:21:25.397 - NOMAD.local_route_choice_manager - INFO - Finished creating local route choice manager in 21.639129877090454 seconds\n",
      "2021/07/16 05:21:25.407 - NOMAD.nomad_model - INFO - Model created with PedestrianManagerAttr with pedClass = attrPedOpt\n"
     ]
    },
    {
     "name": "stdout",
     "output_type": "stream",
     "text": [
      "================================\n",
      "................................\n",
      "Simulation done. Processing data... done\n",
      "Runnig replication 69 with seed = 1580\n"
     ]
    },
    {
     "name": "stderr",
     "output_type": "stream",
     "text": [
      "2021/07/16 05:25:59.904 - NOMAD.local_route_choice_manager - INFO - Creating the local route choice manager using LocalRouteChoiceIterativeComputer\n",
      "2021/07/16 05:25:59.904 - NOMAD.local_route_choice_manager - INFO - Creating a walk level local route choice manager using WalkLevelRouteChoiceIterativeComputer\n",
      "2021/07/16 05:26:21.996 - NOMAD.local_route_choice_manager - INFO - Finished creating local route choice manager in 22.091811418533325 seconds\n",
      "2021/07/16 05:26:22.008 - NOMAD.nomad_model - INFO - Model created with PedestrianManagerAttr with pedClass = attrPedOpt\n"
     ]
    },
    {
     "name": "stdout",
     "output_type": "stream",
     "text": [
      "================================\n",
      "................................\n",
      "Simulation done. Processing data... done\n",
      "Checking convergence... done\n",
      "Runnig replication 70 with seed = 1157\n"
     ]
    },
    {
     "name": "stderr",
     "output_type": "stream",
     "text": [
      "2021/07/16 05:30:46.115 - NOMAD.local_route_choice_manager - INFO - Creating the local route choice manager using LocalRouteChoiceIterativeComputer\n",
      "2021/07/16 05:30:46.115 - NOMAD.local_route_choice_manager - INFO - Creating a walk level local route choice manager using WalkLevelRouteChoiceIterativeComputer\n",
      "2021/07/16 05:31:08.208 - NOMAD.local_route_choice_manager - INFO - Finished creating local route choice manager in 22.09340500831604 seconds\n",
      "2021/07/16 05:31:08.218 - NOMAD.nomad_model - INFO - Model created with PedestrianManagerAttr with pedClass = attrPedOpt\n"
     ]
    },
    {
     "name": "stdout",
     "output_type": "stream",
     "text": [
      "================================\n",
      "................................\n",
      "Simulation done. Processing data... done\n",
      "Runnig replication 71 with seed = 3610\n"
     ]
    },
    {
     "name": "stderr",
     "output_type": "stream",
     "text": [
      "2021/07/16 05:35:20.819 - NOMAD.local_route_choice_manager - INFO - Creating the local route choice manager using LocalRouteChoiceIterativeComputer\n",
      "2021/07/16 05:35:20.819 - NOMAD.local_route_choice_manager - INFO - Creating a walk level local route choice manager using WalkLevelRouteChoiceIterativeComputer\n",
      "2021/07/16 05:35:42.761 - NOMAD.local_route_choice_manager - INFO - Finished creating local route choice manager in 21.941181659698486 seconds\n",
      "2021/07/16 05:35:42.771 - NOMAD.nomad_model - INFO - Model created with PedestrianManagerAttr with pedClass = attrPedOpt\n"
     ]
    },
    {
     "name": "stdout",
     "output_type": "stream",
     "text": [
      "================================\n",
      "................................\n",
      "Simulation done. Processing data... done\n",
      "Runnig replication 72 with seed = 3465\n"
     ]
    },
    {
     "name": "stderr",
     "output_type": "stream",
     "text": [
      "2021/07/16 05:40:04.811 - NOMAD.local_route_choice_manager - INFO - Creating the local route choice manager using LocalRouteChoiceIterativeComputer\n",
      "2021/07/16 05:40:04.811 - NOMAD.local_route_choice_manager - INFO - Creating a walk level local route choice manager using WalkLevelRouteChoiceIterativeComputer\n",
      "2021/07/16 05:40:26.942 - NOMAD.local_route_choice_manager - INFO - Finished creating local route choice manager in 22.131431341171265 seconds\n",
      "2021/07/16 05:40:26.950 - NOMAD.nomad_model - INFO - Model created with PedestrianManagerAttr with pedClass = attrPedOpt\n"
     ]
    },
    {
     "name": "stdout",
     "output_type": "stream",
     "text": [
      "================================\n",
      "................................\n",
      "Simulation done. Processing data... done\n",
      "Runnig replication 73 with seed = 3404\n"
     ]
    },
    {
     "name": "stderr",
     "output_type": "stream",
     "text": [
      "2021/07/16 05:44:56.765 - NOMAD.local_route_choice_manager - INFO - Creating the local route choice manager using LocalRouteChoiceIterativeComputer\n",
      "2021/07/16 05:44:56.765 - NOMAD.local_route_choice_manager - INFO - Creating a walk level local route choice manager using WalkLevelRouteChoiceIterativeComputer\n",
      "2021/07/16 05:45:18.727 - NOMAD.local_route_choice_manager - INFO - Finished creating local route choice manager in 21.96172833442688 seconds\n",
      "2021/07/16 05:45:18.737 - NOMAD.nomad_model - INFO - Model created with PedestrianManagerAttr with pedClass = attrPedOpt\n"
     ]
    },
    {
     "name": "stdout",
     "output_type": "stream",
     "text": [
      "================================\n",
      "................................\n",
      "Simulation done. Processing data... done\n",
      "Runnig replication 74 with seed = 1883\n"
     ]
    },
    {
     "name": "stderr",
     "output_type": "stream",
     "text": [
      "2021/07/16 05:49:45.306 - NOMAD.local_route_choice_manager - INFO - Creating the local route choice manager using LocalRouteChoiceIterativeComputer\n",
      "2021/07/16 05:49:45.306 - NOMAD.local_route_choice_manager - INFO - Creating a walk level local route choice manager using WalkLevelRouteChoiceIterativeComputer\n",
      "2021/07/16 05:50:07.211 - NOMAD.local_route_choice_manager - INFO - Finished creating local route choice manager in 21.904860496520996 seconds\n",
      "2021/07/16 05:50:07.231 - NOMAD.nomad_model - INFO - Model created with PedestrianManagerAttr with pedClass = attrPedOpt\n"
     ]
    },
    {
     "name": "stdout",
     "output_type": "stream",
     "text": [
      "================================\n",
      "................................\n",
      "Simulation done. Processing data... done\n",
      "Checking convergence... done\n",
      "Runnig replication 75 with seed = 3514\n"
     ]
    },
    {
     "name": "stderr",
     "output_type": "stream",
     "text": [
      "2021/07/16 05:54:29.594 - NOMAD.local_route_choice_manager - INFO - Creating the local route choice manager using LocalRouteChoiceIterativeComputer\n",
      "2021/07/16 05:54:29.594 - NOMAD.local_route_choice_manager - INFO - Creating a walk level local route choice manager using WalkLevelRouteChoiceIterativeComputer\n",
      "2021/07/16 05:54:51.596 - NOMAD.local_route_choice_manager - INFO - Finished creating local route choice manager in 22.001995086669922 seconds\n",
      "2021/07/16 05:54:51.596 - NOMAD.nomad_model - INFO - Model created with PedestrianManagerAttr with pedClass = attrPedOpt\n"
     ]
    },
    {
     "name": "stdout",
     "output_type": "stream",
     "text": [
      "================================\n",
      "................................\n",
      "Simulation done. Processing data... done\n",
      "Runnig replication 76 with seed = 899\n"
     ]
    },
    {
     "name": "stderr",
     "output_type": "stream",
     "text": [
      "2021/07/16 05:59:15.961 - NOMAD.local_route_choice_manager - INFO - Creating the local route choice manager using LocalRouteChoiceIterativeComputer\n",
      "2021/07/16 05:59:15.961 - NOMAD.local_route_choice_manager - INFO - Creating a walk level local route choice manager using WalkLevelRouteChoiceIterativeComputer\n",
      "2021/07/16 05:59:37.471 - NOMAD.local_route_choice_manager - INFO - Finished creating local route choice manager in 21.50997042655945 seconds\n",
      "2021/07/16 05:59:37.471 - NOMAD.nomad_model - INFO - Model created with PedestrianManagerAttr with pedClass = attrPedOpt\n"
     ]
    },
    {
     "name": "stdout",
     "output_type": "stream",
     "text": [
      "================================\n",
      "................................\n",
      "Simulation done. Processing data... done\n",
      "Runnig replication 77 with seed = 1440\n"
     ]
    },
    {
     "name": "stderr",
     "output_type": "stream",
     "text": [
      "2021/07/16 06:04:00.225 - NOMAD.local_route_choice_manager - INFO - Creating the local route choice manager using LocalRouteChoiceIterativeComputer\n",
      "2021/07/16 06:04:00.225 - NOMAD.local_route_choice_manager - INFO - Creating a walk level local route choice manager using WalkLevelRouteChoiceIterativeComputer\n",
      "2021/07/16 06:04:22.043 - NOMAD.local_route_choice_manager - INFO - Finished creating local route choice manager in 21.817856550216675 seconds\n",
      "2021/07/16 06:04:22.065 - NOMAD.nomad_model - INFO - Model created with PedestrianManagerAttr with pedClass = attrPedOpt\n"
     ]
    },
    {
     "name": "stdout",
     "output_type": "stream",
     "text": [
      "================================\n",
      "................................\n",
      "Simulation done. Processing data... done\n",
      "Runnig replication 78 with seed = 1099\n"
     ]
    },
    {
     "name": "stderr",
     "output_type": "stream",
     "text": [
      "2021/07/16 06:08:44.519 - NOMAD.local_route_choice_manager - INFO - Creating the local route choice manager using LocalRouteChoiceIterativeComputer\n",
      "2021/07/16 06:08:44.519 - NOMAD.local_route_choice_manager - INFO - Creating a walk level local route choice manager using WalkLevelRouteChoiceIterativeComputer\n",
      "2021/07/16 06:09:06.471 - NOMAD.local_route_choice_manager - INFO - Finished creating local route choice manager in 21.951831817626953 seconds\n",
      "2021/07/16 06:09:06.473 - NOMAD.nomad_model - INFO - Model created with PedestrianManagerAttr with pedClass = attrPedOpt\n"
     ]
    },
    {
     "name": "stdout",
     "output_type": "stream",
     "text": [
      "================================\n",
      "................................\n",
      "Simulation done. Processing data... done\n",
      "Runnig replication 79 with seed = 2211\n"
     ]
    },
    {
     "name": "stderr",
     "output_type": "stream",
     "text": [
      "2021/07/16 06:13:33.487 - NOMAD.local_route_choice_manager - INFO - Creating the local route choice manager using LocalRouteChoiceIterativeComputer\n",
      "2021/07/16 06:13:33.495 - NOMAD.local_route_choice_manager - INFO - Creating a walk level local route choice manager using WalkLevelRouteChoiceIterativeComputer\n",
      "2021/07/16 06:13:55.710 - NOMAD.local_route_choice_manager - INFO - Finished creating local route choice manager in 22.21556520462036 seconds\n",
      "2021/07/16 06:13:55.710 - NOMAD.nomad_model - INFO - Model created with PedestrianManagerAttr with pedClass = attrPedOpt\n"
     ]
    },
    {
     "name": "stdout",
     "output_type": "stream",
     "text": [
      "================================\n",
      "................................\n",
      "Simulation done. Processing data... done\n",
      "Checking convergence... done\n",
      "Runnig replication 80 with seed = 547\n"
     ]
    },
    {
     "name": "stderr",
     "output_type": "stream",
     "text": [
      "2021/07/16 06:18:25.228 - NOMAD.local_route_choice_manager - INFO - Creating the local route choice manager using LocalRouteChoiceIterativeComputer\n",
      "2021/07/16 06:18:25.228 - NOMAD.local_route_choice_manager - INFO - Creating a walk level local route choice manager using WalkLevelRouteChoiceIterativeComputer\n",
      "2021/07/16 06:18:46.991 - NOMAD.local_route_choice_manager - INFO - Finished creating local route choice manager in 21.763347387313843 seconds\n",
      "2021/07/16 06:18:47.002 - NOMAD.nomad_model - INFO - Model created with PedestrianManagerAttr with pedClass = attrPedOpt\n"
     ]
    },
    {
     "name": "stdout",
     "output_type": "stream",
     "text": [
      "================================\n",
      "................................\n",
      "Simulation done. Processing data... done\n",
      "Runnig replication 81 with seed = 2320\n"
     ]
    },
    {
     "name": "stderr",
     "output_type": "stream",
     "text": [
      "2021/07/16 06:23:09.136 - NOMAD.local_route_choice_manager - INFO - Creating the local route choice manager using LocalRouteChoiceIterativeComputer\n",
      "2021/07/16 06:23:09.136 - NOMAD.local_route_choice_manager - INFO - Creating a walk level local route choice manager using WalkLevelRouteChoiceIterativeComputer\n",
      "2021/07/16 06:23:31.394 - NOMAD.local_route_choice_manager - INFO - Finished creating local route choice manager in 22.258220434188843 seconds\n",
      "2021/07/16 06:23:31.404 - NOMAD.nomad_model - INFO - Model created with PedestrianManagerAttr with pedClass = attrPedOpt\n"
     ]
    },
    {
     "name": "stdout",
     "output_type": "stream",
     "text": [
      "================================\n",
      "................................\n",
      "Simulation done. Processing data... done\n",
      "Runnig replication 82 with seed = 3679\n"
     ]
    },
    {
     "name": "stderr",
     "output_type": "stream",
     "text": [
      "2021/07/16 06:27:55.550 - NOMAD.local_route_choice_manager - INFO - Creating the local route choice manager using LocalRouteChoiceIterativeComputer\n",
      "2021/07/16 06:27:55.570 - NOMAD.local_route_choice_manager - INFO - Creating a walk level local route choice manager using WalkLevelRouteChoiceIterativeComputer\n",
      "2021/07/16 06:28:17.361 - NOMAD.local_route_choice_manager - INFO - Finished creating local route choice manager in 21.790530920028687 seconds\n",
      "2021/07/16 06:28:17.371 - NOMAD.nomad_model - INFO - Model created with PedestrianManagerAttr with pedClass = attrPedOpt\n"
     ]
    },
    {
     "name": "stdout",
     "output_type": "stream",
     "text": [
      "================================\n",
      "................................\n",
      "Simulation done. Processing data... done\n",
      "Runnig replication 83 with seed = 809\n"
     ]
    },
    {
     "name": "stderr",
     "output_type": "stream",
     "text": [
      "2021/07/16 06:32:41.036 - NOMAD.local_route_choice_manager - INFO - Creating the local route choice manager using LocalRouteChoiceIterativeComputer\n",
      "2021/07/16 06:32:41.036 - NOMAD.local_route_choice_manager - INFO - Creating a walk level local route choice manager using WalkLevelRouteChoiceIterativeComputer\n",
      "2021/07/16 06:33:02.936 - NOMAD.local_route_choice_manager - INFO - Finished creating local route choice manager in 21.899166584014893 seconds\n",
      "2021/07/16 06:33:02.946 - NOMAD.nomad_model - INFO - Model created with PedestrianManagerAttr with pedClass = attrPedOpt\n"
     ]
    },
    {
     "name": "stdout",
     "output_type": "stream",
     "text": [
      "================================\n",
      "................................\n",
      "Simulation done. Processing data... done\n",
      "Runnig replication 84 with seed = 432\n"
     ]
    },
    {
     "name": "stderr",
     "output_type": "stream",
     "text": [
      "2021/07/16 06:37:25.721 - NOMAD.local_route_choice_manager - INFO - Creating the local route choice manager using LocalRouteChoiceIterativeComputer\n",
      "2021/07/16 06:37:25.741 - NOMAD.local_route_choice_manager - INFO - Creating a walk level local route choice manager using WalkLevelRouteChoiceIterativeComputer\n",
      "2021/07/16 06:37:47.091 - NOMAD.local_route_choice_manager - INFO - Finished creating local route choice manager in 21.350102424621582 seconds\n",
      "2021/07/16 06:37:47.091 - NOMAD.nomad_model - INFO - Model created with PedestrianManagerAttr with pedClass = attrPedOpt\n"
     ]
    },
    {
     "name": "stdout",
     "output_type": "stream",
     "text": [
      "================================\n",
      "................................\n",
      "Simulation done. Processing data... done\n",
      "Checking convergence... done\n",
      "Runnig replication 85 with seed = 1106\n"
     ]
    },
    {
     "name": "stderr",
     "output_type": "stream",
     "text": [
      "2021/07/16 06:42:06.441 - NOMAD.local_route_choice_manager - INFO - Creating the local route choice manager using LocalRouteChoiceIterativeComputer\n",
      "2021/07/16 06:42:06.441 - NOMAD.local_route_choice_manager - INFO - Creating a walk level local route choice manager using WalkLevelRouteChoiceIterativeComputer\n",
      "2021/07/16 06:42:27.789 - NOMAD.local_route_choice_manager - INFO - Finished creating local route choice manager in 21.3480441570282 seconds\n",
      "2021/07/16 06:42:27.809 - NOMAD.nomad_model - INFO - Model created with PedestrianManagerAttr with pedClass = attrPedOpt\n"
     ]
    },
    {
     "name": "stdout",
     "output_type": "stream",
     "text": [
      "================================\n",
      "................................\n",
      "Simulation done. Processing data... done\n",
      "Runnig replication 86 with seed = 957\n"
     ]
    },
    {
     "name": "stderr",
     "output_type": "stream",
     "text": [
      "2021/07/16 06:46:51.952 - NOMAD.local_route_choice_manager - INFO - Creating the local route choice manager using LocalRouteChoiceIterativeComputer\n",
      "2021/07/16 06:46:51.952 - NOMAD.local_route_choice_manager - INFO - Creating a walk level local route choice manager using WalkLevelRouteChoiceIterativeComputer\n",
      "2021/07/16 06:47:13.893 - NOMAD.local_route_choice_manager - INFO - Finished creating local route choice manager in 21.941404342651367 seconds\n",
      "2021/07/16 06:47:13.893 - NOMAD.nomad_model - INFO - Model created with PedestrianManagerAttr with pedClass = attrPedOpt\n"
     ]
    },
    {
     "name": "stdout",
     "output_type": "stream",
     "text": [
      "================================\n",
      "................................\n",
      "Simulation done. Processing data... done\n",
      "Runnig replication 87 with seed = 366\n"
     ]
    },
    {
     "name": "stderr",
     "output_type": "stream",
     "text": [
      "2021/07/16 06:51:33.158 - NOMAD.local_route_choice_manager - INFO - Creating the local route choice manager using LocalRouteChoiceIterativeComputer\n",
      "2021/07/16 06:51:33.158 - NOMAD.local_route_choice_manager - INFO - Creating a walk level local route choice manager using WalkLevelRouteChoiceIterativeComputer\n",
      "2021/07/16 06:51:55.068 - NOMAD.local_route_choice_manager - INFO - Finished creating local route choice manager in 21.9100022315979 seconds\n",
      "2021/07/16 06:51:55.068 - NOMAD.nomad_model - INFO - Model created with PedestrianManagerAttr with pedClass = attrPedOpt\n"
     ]
    },
    {
     "name": "stdout",
     "output_type": "stream",
     "text": [
      "================================\n",
      "................................\n",
      "Simulation done. Processing data... done\n",
      "Runnig replication 88 with seed = 1350\n"
     ]
    },
    {
     "name": "stderr",
     "output_type": "stream",
     "text": [
      "2021/07/16 06:56:19.047 - NOMAD.local_route_choice_manager - INFO - Creating the local route choice manager using LocalRouteChoiceIterativeComputer\n",
      "2021/07/16 06:56:19.047 - NOMAD.local_route_choice_manager - INFO - Creating a walk level local route choice manager using WalkLevelRouteChoiceIterativeComputer\n",
      "2021/07/16 06:56:41.028 - NOMAD.local_route_choice_manager - INFO - Finished creating local route choice manager in 21.980929851531982 seconds\n",
      "2021/07/16 06:56:41.038 - NOMAD.nomad_model - INFO - Model created with PedestrianManagerAttr with pedClass = attrPedOpt\n"
     ]
    },
    {
     "name": "stdout",
     "output_type": "stream",
     "text": [
      "================================\n",
      "................................\n",
      "Simulation done. Processing data... done\n",
      "Runnig replication 89 with seed = 3172\n"
     ]
    },
    {
     "name": "stderr",
     "output_type": "stream",
     "text": [
      "2021/07/16 07:01:02.404 - NOMAD.local_route_choice_manager - INFO - Creating the local route choice manager using LocalRouteChoiceIterativeComputer\n",
      "2021/07/16 07:01:02.404 - NOMAD.local_route_choice_manager - INFO - Creating a walk level local route choice manager using WalkLevelRouteChoiceIterativeComputer\n",
      "2021/07/16 07:01:23.922 - NOMAD.local_route_choice_manager - INFO - Finished creating local route choice manager in 21.518434762954712 seconds\n",
      "2021/07/16 07:01:23.922 - NOMAD.nomad_model - INFO - Model created with PedestrianManagerAttr with pedClass = attrPedOpt\n"
     ]
    },
    {
     "name": "stdout",
     "output_type": "stream",
     "text": [
      "================================\n",
      "................................\n",
      "Simulation done. Processing data... done\n",
      "Checking convergence... done\n",
      "Runnig replication 90 with seed = 2352\n"
     ]
    },
    {
     "name": "stderr",
     "output_type": "stream",
     "text": [
      "2021/07/16 07:05:55.128 - NOMAD.local_route_choice_manager - INFO - Creating the local route choice manager using LocalRouteChoiceIterativeComputer\n",
      "2021/07/16 07:05:55.128 - NOMAD.local_route_choice_manager - INFO - Creating a walk level local route choice manager using WalkLevelRouteChoiceIterativeComputer\n",
      "2021/07/16 07:06:16.406 - NOMAD.local_route_choice_manager - INFO - Finished creating local route choice manager in 21.278646230697632 seconds\n",
      "2021/07/16 07:06:16.416 - NOMAD.nomad_model - INFO - Model created with PedestrianManagerAttr with pedClass = attrPedOpt\n"
     ]
    },
    {
     "name": "stdout",
     "output_type": "stream",
     "text": [
      "================================\n",
      "................................\n",
      "Simulation done. Processing data... done\n",
      "Runnig replication 91 with seed = 3580\n"
     ]
    },
    {
     "name": "stderr",
     "output_type": "stream",
     "text": [
      "2021/07/16 07:10:44.527 - NOMAD.local_route_choice_manager - INFO - Creating the local route choice manager using LocalRouteChoiceIterativeComputer\n",
      "2021/07/16 07:10:44.527 - NOMAD.local_route_choice_manager - INFO - Creating a walk level local route choice manager using WalkLevelRouteChoiceIterativeComputer\n",
      "2021/07/16 07:11:06.236 - NOMAD.local_route_choice_manager - INFO - Finished creating local route choice manager in 21.708670139312744 seconds\n",
      "2021/07/16 07:11:06.236 - NOMAD.nomad_model - INFO - Model created with PedestrianManagerAttr with pedClass = attrPedOpt\n"
     ]
    },
    {
     "name": "stdout",
     "output_type": "stream",
     "text": [
      "================================\n",
      "................................\n",
      "Simulation done. Processing data... done\n",
      "Runnig replication 92 with seed = 3669\n"
     ]
    },
    {
     "name": "stderr",
     "output_type": "stream",
     "text": [
      "2021/07/16 07:15:19.458 - NOMAD.local_route_choice_manager - INFO - Creating the local route choice manager using LocalRouteChoiceIterativeComputer\n",
      "2021/07/16 07:15:19.458 - NOMAD.local_route_choice_manager - INFO - Creating a walk level local route choice manager using WalkLevelRouteChoiceIterativeComputer\n",
      "2021/07/16 07:15:41.177 - NOMAD.local_route_choice_manager - INFO - Finished creating local route choice manager in 21.718751192092896 seconds\n",
      "2021/07/16 07:15:41.177 - NOMAD.nomad_model - INFO - Model created with PedestrianManagerAttr with pedClass = attrPedOpt\n"
     ]
    },
    {
     "name": "stdout",
     "output_type": "stream",
     "text": [
      "================================\n",
      "................................\n",
      "Simulation done. Processing data... done\n",
      "Runnig replication 93 with seed = 2197\n"
     ]
    },
    {
     "name": "stderr",
     "output_type": "stream",
     "text": [
      "2021/07/16 07:20:11.155 - NOMAD.local_route_choice_manager - INFO - Creating the local route choice manager using LocalRouteChoiceIterativeComputer\n",
      "2021/07/16 07:20:11.163 - NOMAD.local_route_choice_manager - INFO - Creating a walk level local route choice manager using WalkLevelRouteChoiceIterativeComputer\n",
      "2021/07/16 07:20:33.003 - NOMAD.local_route_choice_manager - INFO - Finished creating local route choice manager in 21.83976674079895 seconds\n",
      "2021/07/16 07:20:33.025 - NOMAD.nomad_model - INFO - Model created with PedestrianManagerAttr with pedClass = attrPedOpt\n"
     ]
    },
    {
     "name": "stdout",
     "output_type": "stream",
     "text": [
      "================================\n",
      "................................\n",
      "Simulation done. Processing data... done\n",
      "Runnig replication 94 with seed = 1809\n"
     ]
    },
    {
     "name": "stderr",
     "output_type": "stream",
     "text": [
      "2021/07/16 07:24:57.443 - NOMAD.local_route_choice_manager - INFO - Creating the local route choice manager using LocalRouteChoiceIterativeComputer\n",
      "2021/07/16 07:24:57.463 - NOMAD.local_route_choice_manager - INFO - Creating a walk level local route choice manager using WalkLevelRouteChoiceIterativeComputer\n",
      "2021/07/16 07:25:19.222 - NOMAD.local_route_choice_manager - INFO - Finished creating local route choice manager in 21.759377002716064 seconds\n",
      "2021/07/16 07:25:19.230 - NOMAD.nomad_model - INFO - Model created with PedestrianManagerAttr with pedClass = attrPedOpt\n"
     ]
    },
    {
     "name": "stdout",
     "output_type": "stream",
     "text": [
      "================================\n",
      "................................\n",
      "Simulation done. Processing data... done\n",
      "Checking convergence... done\n",
      "Runnig replication 95 with seed = 3900\n"
     ]
    },
    {
     "name": "stderr",
     "output_type": "stream",
     "text": [
      "2021/07/16 07:29:56.787 - NOMAD.local_route_choice_manager - INFO - Creating the local route choice manager using LocalRouteChoiceIterativeComputer\n",
      "2021/07/16 07:29:56.807 - NOMAD.local_route_choice_manager - INFO - Creating a walk level local route choice manager using WalkLevelRouteChoiceIterativeComputer\n",
      "2021/07/16 07:30:18.166 - NOMAD.local_route_choice_manager - INFO - Finished creating local route choice manager in 21.358647108078003 seconds\n",
      "2021/07/16 07:30:18.176 - NOMAD.nomad_model - INFO - Model created with PedestrianManagerAttr with pedClass = attrPedOpt\n"
     ]
    },
    {
     "name": "stdout",
     "output_type": "stream",
     "text": [
      "================================\n",
      "................................\n",
      "Simulation done. Processing data... done\n",
      "Runnig replication 96 with seed = 1673\n"
     ]
    },
    {
     "name": "stderr",
     "output_type": "stream",
     "text": [
      "2021/07/16 07:34:37.519 - NOMAD.local_route_choice_manager - INFO - Creating the local route choice manager using LocalRouteChoiceIterativeComputer\n",
      "2021/07/16 07:34:37.529 - NOMAD.local_route_choice_manager - INFO - Creating a walk level local route choice manager using WalkLevelRouteChoiceIterativeComputer\n",
      "2021/07/16 07:34:59.559 - NOMAD.local_route_choice_manager - INFO - Finished creating local route choice manager in 22.029932022094727 seconds\n",
      "2021/07/16 07:34:59.559 - NOMAD.nomad_model - INFO - Model created with PedestrianManagerAttr with pedClass = attrPedOpt\n"
     ]
    },
    {
     "name": "stdout",
     "output_type": "stream",
     "text": [
      "================================\n",
      "................................\n",
      "Simulation done. Processing data... done\n",
      "Runnig replication 97 with seed = 3543\n"
     ]
    },
    {
     "name": "stderr",
     "output_type": "stream",
     "text": [
      "2021/07/16 07:39:19.006 - NOMAD.local_route_choice_manager - INFO - Creating the local route choice manager using LocalRouteChoiceIterativeComputer\n",
      "2021/07/16 07:39:19.008 - NOMAD.local_route_choice_manager - INFO - Creating a walk level local route choice manager using WalkLevelRouteChoiceIterativeComputer\n",
      "2021/07/16 07:39:40.750 - NOMAD.local_route_choice_manager - INFO - Finished creating local route choice manager in 21.74177050590515 seconds\n",
      "2021/07/16 07:39:40.760 - NOMAD.nomad_model - INFO - Model created with PedestrianManagerAttr with pedClass = attrPedOpt\n"
     ]
    },
    {
     "name": "stdout",
     "output_type": "stream",
     "text": [
      "================================\n",
      "................................\n",
      "Simulation done. Processing data... done\n",
      "Runnig replication 98 with seed = 2078\n"
     ]
    },
    {
     "name": "stderr",
     "output_type": "stream",
     "text": [
      "2021/07/16 07:44:15.551 - NOMAD.local_route_choice_manager - INFO - Creating the local route choice manager using LocalRouteChoiceIterativeComputer\n",
      "2021/07/16 07:44:15.553 - NOMAD.local_route_choice_manager - INFO - Creating a walk level local route choice manager using WalkLevelRouteChoiceIterativeComputer\n",
      "2021/07/16 07:44:37.256 - NOMAD.local_route_choice_manager - INFO - Finished creating local route choice manager in 21.70246911048889 seconds\n",
      "2021/07/16 07:44:37.256 - NOMAD.nomad_model - INFO - Model created with PedestrianManagerAttr with pedClass = attrPedOpt\n"
     ]
    },
    {
     "name": "stdout",
     "output_type": "stream",
     "text": [
      "================================\n",
      "................................\n",
      "Simulation done. Processing data... done\n",
      "Runnig replication 99 with seed = 2366\n"
     ]
    },
    {
     "name": "stderr",
     "output_type": "stream",
     "text": [
      "2021/07/16 07:49:02.641 - NOMAD.local_route_choice_manager - INFO - Creating the local route choice manager using LocalRouteChoiceIterativeComputer\n",
      "2021/07/16 07:49:02.643 - NOMAD.local_route_choice_manager - INFO - Creating a walk level local route choice manager using WalkLevelRouteChoiceIterativeComputer\n",
      "2021/07/16 07:49:24.914 - NOMAD.local_route_choice_manager - INFO - Finished creating local route choice manager in 22.270775318145752 seconds\n",
      "2021/07/16 07:49:24.924 - NOMAD.nomad_model - INFO - Model created with PedestrianManagerAttr with pedClass = attrPedOpt\n"
     ]
    },
    {
     "name": "stdout",
     "output_type": "stream",
     "text": [
      "================================\n",
      "................................\n",
      "Simulation done. Processing data... done\n",
      "Checking convergence... done\n",
      "Runnig replication 100 with seed = 3320\n"
     ]
    },
    {
     "name": "stderr",
     "output_type": "stream",
     "text": [
      "2021/07/16 07:53:51.665 - NOMAD.local_route_choice_manager - INFO - Creating the local route choice manager using LocalRouteChoiceIterativeComputer\n",
      "2021/07/16 07:53:51.665 - NOMAD.local_route_choice_manager - INFO - Creating a walk level local route choice manager using WalkLevelRouteChoiceIterativeComputer\n",
      "2021/07/16 07:54:13.113 - NOMAD.local_route_choice_manager - INFO - Finished creating local route choice manager in 21.44782280921936 seconds\n",
      "2021/07/16 07:54:13.123 - NOMAD.nomad_model - INFO - Model created with PedestrianManagerAttr with pedClass = attrPedOpt\n"
     ]
    },
    {
     "name": "stdout",
     "output_type": "stream",
     "text": [
      "================================\n",
      "................................\n",
      "Simulation done. Processing data... done\n",
      "Runnig replication 101 with seed = 47\n"
     ]
    },
    {
     "name": "stderr",
     "output_type": "stream",
     "text": [
      "2021/07/16 07:58:37.676 - NOMAD.local_route_choice_manager - INFO - Creating the local route choice manager using LocalRouteChoiceIterativeComputer\n",
      "2021/07/16 07:58:37.676 - NOMAD.local_route_choice_manager - INFO - Creating a walk level local route choice manager using WalkLevelRouteChoiceIterativeComputer\n",
      "2021/07/16 07:58:59.527 - NOMAD.local_route_choice_manager - INFO - Finished creating local route choice manager in 21.851256132125854 seconds\n",
      "2021/07/16 07:58:59.535 - NOMAD.nomad_model - INFO - Model created with PedestrianManagerAttr with pedClass = attrPedOpt\n"
     ]
    },
    {
     "name": "stdout",
     "output_type": "stream",
     "text": [
      "================================\n",
      "................................\n",
      "Simulation done. Processing data... done\n",
      "Runnig replication 102 with seed = 3605\n"
     ]
    },
    {
     "name": "stderr",
     "output_type": "stream",
     "text": [
      "2021/07/16 08:03:19.776 - NOMAD.local_route_choice_manager - INFO - Creating the local route choice manager using LocalRouteChoiceIterativeComputer\n",
      "2021/07/16 08:03:19.776 - NOMAD.local_route_choice_manager - INFO - Creating a walk level local route choice manager using WalkLevelRouteChoiceIterativeComputer\n",
      "2021/07/16 08:03:41.607 - NOMAD.local_route_choice_manager - INFO - Finished creating local route choice manager in 21.83175230026245 seconds\n",
      "2021/07/16 08:03:41.607 - NOMAD.nomad_model - INFO - Model created with PedestrianManagerAttr with pedClass = attrPedOpt\n"
     ]
    },
    {
     "name": "stdout",
     "output_type": "stream",
     "text": [
      "================================\n",
      "................................\n",
      "Simulation done. Processing data... done\n",
      "Runnig replication 103 with seed = 1981\n"
     ]
    },
    {
     "name": "stderr",
     "output_type": "stream",
     "text": [
      "2021/07/16 08:08:04.165 - NOMAD.local_route_choice_manager - INFO - Creating the local route choice manager using LocalRouteChoiceIterativeComputer\n",
      "2021/07/16 08:08:04.165 - NOMAD.local_route_choice_manager - INFO - Creating a walk level local route choice manager using WalkLevelRouteChoiceIterativeComputer\n",
      "2021/07/16 08:08:25.952 - NOMAD.local_route_choice_manager - INFO - Finished creating local route choice manager in 21.786885023117065 seconds\n",
      "2021/07/16 08:08:25.960 - NOMAD.nomad_model - INFO - Model created with PedestrianManagerAttr with pedClass = attrPedOpt\n"
     ]
    },
    {
     "name": "stdout",
     "output_type": "stream",
     "text": [
      "================================\n",
      "................................\n",
      "Simulation done. Processing data... done\n",
      "Runnig replication 104 with seed = 684\n"
     ]
    },
    {
     "name": "stderr",
     "output_type": "stream",
     "text": [
      "2021/07/16 08:12:40.810 - NOMAD.local_route_choice_manager - INFO - Creating the local route choice manager using LocalRouteChoiceIterativeComputer\n",
      "2021/07/16 08:12:40.810 - NOMAD.local_route_choice_manager - INFO - Creating a walk level local route choice manager using WalkLevelRouteChoiceIterativeComputer\n",
      "2021/07/16 08:13:02.821 - NOMAD.local_route_choice_manager - INFO - Finished creating local route choice manager in 22.01090669631958 seconds\n",
      "2021/07/16 08:13:02.821 - NOMAD.nomad_model - INFO - Model created with PedestrianManagerAttr with pedClass = attrPedOpt\n"
     ]
    },
    {
     "name": "stdout",
     "output_type": "stream",
     "text": [
      "================================\n",
      "................................\n",
      "Simulation done. Processing data... done\n",
      "Checking convergence... done\n",
      "Runnig replication 105 with seed = 451\n"
     ]
    },
    {
     "name": "stderr",
     "output_type": "stream",
     "text": [
      "2021/07/16 08:17:29.956 - NOMAD.local_route_choice_manager - INFO - Creating the local route choice manager using LocalRouteChoiceIterativeComputer\n",
      "2021/07/16 08:17:29.964 - NOMAD.local_route_choice_manager - INFO - Creating a walk level local route choice manager using WalkLevelRouteChoiceIterativeComputer\n",
      "2021/07/16 08:17:52.290 - NOMAD.local_route_choice_manager - INFO - Finished creating local route choice manager in 22.326188802719116 seconds\n",
      "2021/07/16 08:17:52.310 - NOMAD.nomad_model - INFO - Model created with PedestrianManagerAttr with pedClass = attrPedOpt\n"
     ]
    },
    {
     "name": "stdout",
     "output_type": "stream",
     "text": [
      "================================\n",
      "................................\n",
      "Simulation done. Processing data... done\n",
      "Runnig replication 106 with seed = 2791\n"
     ]
    },
    {
     "name": "stderr",
     "output_type": "stream",
     "text": [
      "2021/07/16 08:22:28.826 - NOMAD.local_route_choice_manager - INFO - Creating the local route choice manager using LocalRouteChoiceIterativeComputer\n",
      "2021/07/16 08:22:28.826 - NOMAD.local_route_choice_manager - INFO - Creating a walk level local route choice manager using WalkLevelRouteChoiceIterativeComputer\n",
      "2021/07/16 08:22:50.588 - NOMAD.local_route_choice_manager - INFO - Finished creating local route choice manager in 21.762452125549316 seconds\n",
      "2021/07/16 08:22:50.608 - NOMAD.nomad_model - INFO - Model created with PedestrianManagerAttr with pedClass = attrPedOpt\n"
     ]
    },
    {
     "name": "stdout",
     "output_type": "stream",
     "text": [
      "================================\n",
      "................................\n",
      "Simulation done. Processing data... done\n",
      "Runnig replication 107 with seed = 2369\n"
     ]
    },
    {
     "name": "stderr",
     "output_type": "stream",
     "text": [
      "2021/07/16 08:27:09.244 - NOMAD.local_route_choice_manager - INFO - Creating the local route choice manager using LocalRouteChoiceIterativeComputer\n",
      "2021/07/16 08:27:09.262 - NOMAD.local_route_choice_manager - INFO - Creating a walk level local route choice manager using WalkLevelRouteChoiceIterativeComputer\n",
      "2021/07/16 08:27:31.245 - NOMAD.local_route_choice_manager - INFO - Finished creating local route choice manager in 21.982863426208496 seconds\n",
      "2021/07/16 08:27:31.245 - NOMAD.nomad_model - INFO - Model created with PedestrianManagerAttr with pedClass = attrPedOpt\n"
     ]
    },
    {
     "name": "stdout",
     "output_type": "stream",
     "text": [
      "================================\n",
      "................................\n",
      "Simulation done. Processing data... done\n",
      "Runnig replication 108 with seed = 2011\n"
     ]
    },
    {
     "name": "stderr",
     "output_type": "stream",
     "text": [
      "2021/07/16 08:31:59.190 - NOMAD.local_route_choice_manager - INFO - Creating the local route choice manager using LocalRouteChoiceIterativeComputer\n",
      "2021/07/16 08:31:59.190 - NOMAD.local_route_choice_manager - INFO - Creating a walk level local route choice manager using WalkLevelRouteChoiceIterativeComputer\n",
      "2021/07/16 08:32:20.738 - NOMAD.local_route_choice_manager - INFO - Finished creating local route choice manager in 21.548142671585083 seconds\n",
      "2021/07/16 08:32:20.740 - NOMAD.nomad_model - INFO - Model created with PedestrianManagerAttr with pedClass = attrPedOpt\n"
     ]
    },
    {
     "name": "stdout",
     "output_type": "stream",
     "text": [
      "================================\n",
      "................................\n",
      "Simulation done. Processing data... done\n",
      "Runnig replication 109 with seed = 1274\n"
     ]
    },
    {
     "name": "stderr",
     "output_type": "stream",
     "text": [
      "2021/07/16 08:36:46.096 - NOMAD.local_route_choice_manager - INFO - Creating the local route choice manager using LocalRouteChoiceIterativeComputer\n",
      "2021/07/16 08:36:46.096 - NOMAD.local_route_choice_manager - INFO - Creating a walk level local route choice manager using WalkLevelRouteChoiceIterativeComputer\n",
      "2021/07/16 08:37:08.317 - NOMAD.local_route_choice_manager - INFO - Finished creating local route choice manager in 22.2207293510437 seconds\n",
      "2021/07/16 08:37:08.317 - NOMAD.nomad_model - INFO - Model created with PedestrianManagerAttr with pedClass = attrPedOpt\n"
     ]
    },
    {
     "name": "stdout",
     "output_type": "stream",
     "text": [
      "================================\n",
      "................................\n",
      "Simulation done. Processing data... done\n",
      "Checking convergence... done\n",
      "Runnig replication 110 with seed = 1671\n"
     ]
    },
    {
     "name": "stderr",
     "output_type": "stream",
     "text": [
      "2021/07/16 08:41:37.898 - NOMAD.local_route_choice_manager - INFO - Creating the local route choice manager using LocalRouteChoiceIterativeComputer\n",
      "2021/07/16 08:41:37.898 - NOMAD.local_route_choice_manager - INFO - Creating a walk level local route choice manager using WalkLevelRouteChoiceIterativeComputer\n",
      "2021/07/16 08:41:59.708 - NOMAD.local_route_choice_manager - INFO - Finished creating local route choice manager in 21.810168981552124 seconds\n",
      "2021/07/16 08:41:59.718 - NOMAD.nomad_model - INFO - Model created with PedestrianManagerAttr with pedClass = attrPedOpt\n"
     ]
    },
    {
     "name": "stdout",
     "output_type": "stream",
     "text": [
      "================================\n",
      "................................\n",
      "Simulation done. Processing data... done\n",
      "Runnig replication 111 with seed = 956\n"
     ]
    },
    {
     "name": "stderr",
     "output_type": "stream",
     "text": [
      "2021/07/16 08:46:30.016 - NOMAD.local_route_choice_manager - INFO - Creating the local route choice manager using LocalRouteChoiceIterativeComputer\n",
      "2021/07/16 08:46:30.016 - NOMAD.local_route_choice_manager - INFO - Creating a walk level local route choice manager using WalkLevelRouteChoiceIterativeComputer\n",
      "2021/07/16 08:46:51.649 - NOMAD.local_route_choice_manager - INFO - Finished creating local route choice manager in 21.633803367614746 seconds\n",
      "2021/07/16 08:46:51.651 - NOMAD.nomad_model - INFO - Model created with PedestrianManagerAttr with pedClass = attrPedOpt\n"
     ]
    },
    {
     "name": "stdout",
     "output_type": "stream",
     "text": [
      "================================\n",
      "................................\n",
      "Simulation done. Processing data... done\n",
      "Runnig replication 112 with seed = 1510\n"
     ]
    },
    {
     "name": "stderr",
     "output_type": "stream",
     "text": [
      "2021/07/16 08:51:15.376 - NOMAD.local_route_choice_manager - INFO - Creating the local route choice manager using LocalRouteChoiceIterativeComputer\n",
      "2021/07/16 08:51:15.376 - NOMAD.local_route_choice_manager - INFO - Creating a walk level local route choice manager using WalkLevelRouteChoiceIterativeComputer\n",
      "2021/07/16 08:51:37.141 - NOMAD.local_route_choice_manager - INFO - Finished creating local route choice manager in 21.764769315719604 seconds\n",
      "2021/07/16 08:51:37.151 - NOMAD.nomad_model - INFO - Model created with PedestrianManagerAttr with pedClass = attrPedOpt\n"
     ]
    },
    {
     "name": "stdout",
     "output_type": "stream",
     "text": [
      "================================\n",
      "................................\n",
      "Simulation done. Processing data... done\n",
      "Runnig replication 113 with seed = 207\n"
     ]
    },
    {
     "name": "stderr",
     "output_type": "stream",
     "text": [
      "2021/07/16 08:55:48.608 - NOMAD.local_route_choice_manager - INFO - Creating the local route choice manager using LocalRouteChoiceIterativeComputer\n",
      "2021/07/16 08:55:48.618 - NOMAD.local_route_choice_manager - INFO - Creating a walk level local route choice manager using WalkLevelRouteChoiceIterativeComputer\n",
      "2021/07/16 08:56:10.176 - NOMAD.local_route_choice_manager - INFO - Finished creating local route choice manager in 21.558619737625122 seconds\n",
      "2021/07/16 08:56:10.186 - NOMAD.nomad_model - INFO - Model created with PedestrianManagerAttr with pedClass = attrPedOpt\n"
     ]
    },
    {
     "name": "stdout",
     "output_type": "stream",
     "text": [
      "================================\n",
      "................................\n",
      "Simulation done. Processing data... done\n",
      "Runnig replication 114 with seed = 476\n"
     ]
    },
    {
     "name": "stderr",
     "output_type": "stream",
     "text": [
      "2021/07/16 09:00:38.127 - NOMAD.local_route_choice_manager - INFO - Creating the local route choice manager using LocalRouteChoiceIterativeComputer\n",
      "2021/07/16 09:00:38.127 - NOMAD.local_route_choice_manager - INFO - Creating a walk level local route choice manager using WalkLevelRouteChoiceIterativeComputer\n",
      "2021/07/16 09:01:00.230 - NOMAD.local_route_choice_manager - INFO - Finished creating local route choice manager in 22.102412462234497 seconds\n",
      "2021/07/16 09:01:00.240 - NOMAD.nomad_model - INFO - Model created with PedestrianManagerAttr with pedClass = attrPedOpt\n"
     ]
    },
    {
     "name": "stdout",
     "output_type": "stream",
     "text": [
      "================================\n",
      "................................\n",
      "Simulation done. Processing data... done\n",
      "Checking convergence... done\n",
      "Runnig replication 115 with seed = 3178\n"
     ]
    },
    {
     "name": "stderr",
     "output_type": "stream",
     "text": [
      "2021/07/16 09:05:29.816 - NOMAD.local_route_choice_manager - INFO - Creating the local route choice manager using LocalRouteChoiceIterativeComputer\n",
      "2021/07/16 09:05:29.825 - NOMAD.local_route_choice_manager - INFO - Creating a walk level local route choice manager using WalkLevelRouteChoiceIterativeComputer\n",
      "2021/07/16 09:05:51.946 - NOMAD.local_route_choice_manager - INFO - Finished creating local route choice manager in 22.12161636352539 seconds\n",
      "2021/07/16 09:05:51.946 - NOMAD.nomad_model - INFO - Model created with PedestrianManagerAttr with pedClass = attrPedOpt\n"
     ]
    },
    {
     "name": "stdout",
     "output_type": "stream",
     "text": [
      "================================\n",
      "................................\n",
      "Simulation done. Processing data... done\n",
      "Runnig replication 116 with seed = 597\n"
     ]
    },
    {
     "name": "stderr",
     "output_type": "stream",
     "text": [
      "2021/07/16 09:10:19.818 - NOMAD.local_route_choice_manager - INFO - Creating the local route choice manager using LocalRouteChoiceIterativeComputer\n",
      "2021/07/16 09:10:19.818 - NOMAD.local_route_choice_manager - INFO - Creating a walk level local route choice manager using WalkLevelRouteChoiceIterativeComputer\n",
      "2021/07/16 09:10:41.901 - NOMAD.local_route_choice_manager - INFO - Finished creating local route choice manager in 22.083082914352417 seconds\n",
      "2021/07/16 09:10:41.901 - NOMAD.nomad_model - INFO - Model created with PedestrianManagerAttr with pedClass = attrPedOpt\n"
     ]
    },
    {
     "name": "stdout",
     "output_type": "stream",
     "text": [
      "================================\n",
      "................................\n",
      "Simulation done. Processing data... done\n",
      "Runnig replication 117 with seed = 3338\n"
     ]
    },
    {
     "name": "stderr",
     "output_type": "stream",
     "text": [
      "2021/07/16 09:15:04.914 - NOMAD.local_route_choice_manager - INFO - Creating the local route choice manager using LocalRouteChoiceIterativeComputer\n",
      "2021/07/16 09:15:04.922 - NOMAD.local_route_choice_manager - INFO - Creating a walk level local route choice manager using WalkLevelRouteChoiceIterativeComputer\n",
      "2021/07/16 09:15:26.893 - NOMAD.local_route_choice_manager - INFO - Finished creating local route choice manager in 21.971108198165894 seconds\n",
      "2021/07/16 09:15:26.903 - NOMAD.nomad_model - INFO - Model created with PedestrianManagerAttr with pedClass = attrPedOpt\n"
     ]
    },
    {
     "name": "stdout",
     "output_type": "stream",
     "text": [
      "================================\n",
      ".................."
     ]
    }
   ],
   "source": [
    "from contact_analysis import ExperimentRunner, STEPS, P_THRESHOLD\n",
    "from pathlib import Path\n",
    "\n",
    "scenarioXmlFlNm = Path(r'D:\\SurfDrive\\PhD\\Activity scheduler\\Scenarios\\paper_scenarios\\trb_paper_no_neighbourhoods.xml')\n",
    "lrcmFlNm = Path(r'D:\\SurfDrive\\PhD\\Activity scheduler\\Scenarios\\paper_scenarios\\trb_paper.lrcm')\n",
    "\n",
    "experimentRunner = ExperimentRunner(scenarioXmlFlNm, lrcmFlNm, init_replications=10, max_replications=2000, \n",
    "                                      convergence_config={STEPS:5, P_THRESHOLD:0.95},\n",
    "                                       cut_off_distances=(1.0, 1.5, 2.0))\n",
    "experimentRunner.run_experiment()\n"
   ]
  }
 ],
 "metadata": {
  "kernelspec": {
   "display_name": "Python 3",
   "language": "python",
   "name": "python3"
  },
  "language_info": {
   "codemirror_mode": {
    "name": "ipython",
    "version": 3
   },
   "file_extension": ".py",
   "mimetype": "text/x-python",
   "name": "python",
   "nbconvert_exporter": "python",
   "pygments_lexer": "ipython3",
   "version": "3.9.5"
  }
 },
 "nbformat": 4,
 "nbformat_minor": 5
}
