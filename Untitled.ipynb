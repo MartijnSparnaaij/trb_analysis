{
 "cells": [
  {
   "cell_type": "code",
   "execution_count": 4,
   "id": "40102ff7-39b4-4b13-b482-2ec00ab011ad",
   "metadata": {},
   "outputs": [],
   "source": [
    "from pathlib import Path\n",
    "import pandas as pd\n",
    "import numpy as np"
   ]
  },
  {
   "cell_type": "code",
   "execution_count": 5,
   "id": "4c09b6ac-1c0f-4747-894c-7407c894f688",
   "metadata": {},
   "outputs": [],
   "source": [
    "filename = Path('./data/processed/20210818_evening_staff_activities.csv')\n",
    "df_staff_activities = pd.read_csv(filename, parse_dates=['start_time', 'end_time'])\n",
    "\n",
    "dtypes = {'group_size': 'int', 'fully_captured': 'bool', 'visit_time': 'float'}\n",
    "filename = Path('./data/processed/20210818_evening_guest_demand.csv')\n",
    "df_guest_demand = pd.read_csv(filename, dtype=dtypes, parse_dates=['start_time', 'end_time'])"
   ]
  },
  {
   "cell_type": "code",
   "execution_count": null,
   "id": "f00e05b6-300a-4b7b-9312-6093441e060e",
   "metadata": {},
   "outputs": [],
   "source": [
    "df_guest_demand"
   ]
  },
  {
   "cell_type": "code",
   "execution_count": 6,
   "id": "423972c6-3384-458b-993f-953d32a820dc",
   "metadata": {},
   "outputs": [
    {
     "data": {
      "text/plain": [
       "(datetime.datetime(2021, 8, 18, 18, 59), datetime.datetime(2021, 8, 18, 20, 4))"
      ]
     },
     "execution_count": 6,
     "metadata": {},
     "output_type": "execute_result"
    }
   ],
   "source": [
    "import datetime\n",
    "\n",
    "measurement_pause = (datetime.datetime(2021, 8, 18, 18, 59), datetime.datetime(2021, 8, 18, 20, 4))\n",
    "\n",
    "measurement_pause\n"
   ]
  },
  {
   "cell_type": "code",
   "execution_count": 7,
   "id": "15a663d9-0c78-4929-a1e0-44454e25853c",
   "metadata": {},
   "outputs": [
    {
     "name": "stdout",
     "output_type": "stream",
     "text": [
      "14 (2021-08-18 17:12:11 - 2021-08-18 17:37:41) has no activities\n",
      "20 (2021-08-18 18:28:32 - 2021-08-18 19:20:30) has no activities\n",
      "33 (2021-08-18 18:11:12 - 2021-08-18 20:13:42) has no activities\n",
      "23 (2021-08-18 17:33:44 - 2021-10-22 11:35:59.100001) has no activities\n",
      "B3 (2021-08-18 20:10:07 - 2021-10-22 11:35:59.129778) has no activities\n",
      "33 (2021-08-18 20:54:24 - 2021-10-22 11:35:59.132807) has no activities\n"
     ]
    }
   ],
   "source": [
    "activities_per_table_per_visit_per_measurement_period = []\n",
    "import datetime\n",
    "activities_processed = None\n",
    "\n",
    "for _, row in df_guest_demand.iterrows():\n",
    "    table_id = row['table_id']\n",
    "    start_time = row['start_time']\n",
    "    end_time = row['end_time']\n",
    "    \n",
    "    if pd.isnull(end_time):\n",
    "        end_time = datetime.datetime.now()\n",
    "           \n",
    "    df_activities = df_staff_activities[(df_staff_activities['table_id'] == table_id) & (df_staff_activities['start_time'] >= start_time) & (df_staff_activities['end_time'] <= end_time)]\n",
    "    \n",
    "    try:\n",
    "        activities_processed = pd.concat([activities_processed, df_activities])\n",
    "    except:\n",
    "        activities_processed = df_activities\n",
    "    \n",
    "    df_activities_before = df_activities[df_activities['start_time'] <= measurement_pause[0]]\n",
    "    df_activities_after = df_activities[df_activities['start_time'] > measurement_pause[0]]\n",
    "    \n",
    "    if len(df_activities) != len(df_activities_before) + len(df_activities_after):\n",
    "        raise Exception('Missing')\n",
    "    \n",
    "    if len(df_activities) == 0:\n",
    "        print(f'{table_id} ({start_time} - {end_time}) has no activities')\n",
    "        continue\n",
    "    \n",
    "    if len(df_activities_before) > 0:    \n",
    "        activities_per_table_per_visit_per_measurement_period.append(df_activities_before)\n",
    "    if len(df_activities_after) > 0:    \n",
    "        activities_per_table_per_visit_per_measurement_period.append(df_activities_after)\n",
    "    \n"
   ]
  },
  {
   "cell_type": "code",
   "execution_count": null,
   "id": "68e211c1-af50-4c45-86c6-5130c4bd6ae2",
   "metadata": {},
   "outputs": [],
   "source": [
    "activities_to_process = pd.concat([activities_processed,df_staff_activities]).drop_duplicates(keep=False)"
   ]
  },
  {
   "cell_type": "markdown",
   "id": "e793efd9-0a66-431a-9403-5e76c5fbdfdd",
   "metadata": {},
   "source": [
    "Compute:\n",
    "\n",
    "1. Actvities per unit of time\n",
    "2. Activity time distribution and best fit\n",
    "3. Gap time distribution and best fit\n",
    "4. Percentage of activities without guests at table"
   ]
  },
  {
   "cell_type": "code",
   "execution_count": 8,
   "id": "e175b739-1f20-4c7f-ae8e-dd960d2433be",
   "metadata": {},
   "outputs": [
    {
     "name": "stdout",
     "output_type": "stream",
     "text": [
      "    table_id staff_id          start_time            end_time activity_type\n",
      "300       31        O 2021-08-18 20:10:30 2021-08-18 20:11:45           F&R\n",
      "316       31        O 2021-08-18 20:22:08 2021-08-18 20:22:23             O\n",
      "320       31       HM 2021-08-18 20:26:09 2021-08-18 20:26:16             S\n",
      "323       31        O 2021-08-18 20:29:57 2021-08-18 20:30:02             R\n",
      "355       31        O 2021-08-18 21:10:18 2021-08-18 21:10:27           P&R\n",
      "\n",
      "    table_id staff_id          start_time            end_time activity_type\n",
      "185       36       HM 2021-08-18 20:12:16 2021-08-18 20:12:29           S-R\n",
      "187       36       HM 2021-08-18 20:12:47 2021-08-18 20:12:50             S\n",
      "250       36        H 2021-08-18 21:14:22 2021-08-18 21:14:27             F\n",
      "262       36        H 2021-08-18 21:25:50 2021-08-18 21:26:14             P\n",
      "\n",
      "    table_id staff_id          start_time            end_time activity_type\n",
      "179       56        H 2021-08-18 20:07:53 2021-08-18 20:08:05             R\n",
      "190       56        H 2021-08-18 20:15:48 2021-08-18 20:16:03             R\n",
      "192       56        H 2021-08-18 20:16:31 2021-08-18 20:16:33             S\n",
      "211       56        H 2021-08-18 20:30:40 2021-08-18 20:31:44             O\n",
      "216       56       HM 2021-08-18 20:34:58 2021-08-18 20:35:21             S\n",
      "268       56        H 2021-08-18 21:31:24 2021-08-18 21:31:37             S\n",
      "269       56        H 2021-08-18 21:32:07 2021-08-18 21:32:32             P\n",
      "\n",
      "    table_id staff_id          start_time            end_time activity_type\n",
      "291       13        O 2021-08-18 20:03:12 2021-08-18 20:04:28           R&P\n",
      "307       13        O 2021-08-18 20:17:22 2021-08-18 20:17:34             R\n",
      "309       13        O 2021-08-18 20:18:21 2021-08-18 20:18:45             C\n",
      "331       13        O 2021-08-18 20:40:25 2021-08-18 20:40:35             F\n",
      "335       13        O 2021-08-18 20:47:57 2021-08-18 20:48:15             S\n",
      "342       13        O 2021-08-18 20:56:47 2021-08-18 20:57:05             O\n",
      "352       13       HM 2021-08-18 21:04:26 2021-08-18 21:06:44             S\n",
      "382       13        O 2021-08-18 21:43:32 2021-08-18 21:43:42             F\n",
      "385       13       HM 2021-08-18 21:46:10 2021-08-18 21:46:46             S\n",
      "\n",
      "    table_id staff_id          start_time            end_time activity_type\n",
      "295       14        O 2021-08-18 20:07:30 2021-08-18 20:07:35             S\n",
      "315       14        O 2021-08-18 20:21:32 2021-08-18 20:21:41             S\n",
      "325       14        O 2021-08-18 20:31:15 2021-08-18 20:31:48             R\n",
      "368       14        O 2021-08-18 21:27:58 2021-08-18 21:28:05             P\n",
      "371       14        Q 2021-08-18 21:29:18 2021-08-18 21:29:56             S\n",
      "384       14        O 2021-08-18 21:44:21 2021-08-18 21:47:22         F&R&P\n",
      "\n",
      "    table_id staff_id          start_time            end_time activity_type\n",
      "204       55        H 2021-08-18 20:25:00 2021-08-18 20:25:30           R-F\n",
      "207       55        H 2021-08-18 20:28:21 2021-08-18 20:28:24             R\n",
      "214       55        H 2021-08-18 20:33:07 2021-08-18 20:33:30             O\n",
      "223       55       HM 2021-08-18 20:40:19 2021-08-18 20:40:47             S\n",
      "260       55        H 2021-08-18 21:23:37 2021-08-18 21:23:49             C\n",
      "261       55        H 2021-08-18 21:24:56 2021-08-18 21:25:01             C\n",
      "265       55        H 2021-08-18 21:30:10 2021-08-18 21:30:45             W\n",
      "271       55        H 2021-08-18 21:36:42 2021-08-18 21:36:51           F-O\n",
      "275       55       AO 2021-08-18 21:38:31 2021-08-18 21:40:01             S\n",
      "\n",
      "    table_id staff_id          start_time            end_time activity_type\n",
      "181       51        H 2021-08-18 20:08:40 2021-08-18 20:08:42             S\n",
      "193       51        H 2021-08-18 20:16:36 2021-08-18 20:16:48             R\n",
      "194       51        H 2021-08-18 20:17:08 2021-08-18 20:17:22             S\n",
      "197       51       HM 2021-08-18 20:22:36 2021-08-18 20:22:59             S\n",
      "209       51        H 2021-08-18 20:29:15 2021-08-18 20:29:28             R\n",
      "228       51        H 2021-08-18 20:45:24 2021-08-18 20:45:54             R\n",
      "230       51        H 2021-08-18 20:48:51 2021-08-18 20:49:05             R\n",
      "231       51        H 2021-08-18 20:50:15 2021-08-18 20:50:27             R\n",
      "233       51        H 2021-08-18 20:52:56 2021-08-18 20:54:15             O\n",
      "234       51        H 2021-08-18 20:55:41 2021-08-18 20:55:44       Cutlery\n",
      "238       51        H 2021-08-18 21:07:18 2021-08-18 21:07:23             W\n",
      "239       51       HM 2021-08-18 21:07:32 2021-08-18 21:08:41             S\n",
      "243       51       HM 2021-08-18 21:09:42 2021-08-18 21:09:48             S\n",
      "288       51        H 2021-08-18 21:49:01 2021-08-18 21:49:11             S\n",
      "\n"
     ]
    }
   ],
   "source": [
    "activities_per_hour = []\n",
    "gaps_per_set = []\n",
    "\n",
    "for activity_set in activities_per_table_per_visit_per_measurement_period:\n",
    "        min_time = min(np.array(activity_set['start_time']))\n",
    "        max_time = max(np.array(activity_set['end_time']))\n",
    "        activity_count = len(activity_set)\n",
    "        if activity_count <= 1: \n",
    "            continue\n",
    "        meas_period = ((max_time - min_time)/np.timedelta64(1, 'h'))\n",
    "        if meas_period > 0.5: \n",
    "            activities_per_hour.append(activity_count/meas_period)\n",
    "        \n",
    "        gaps_of_set = (np.array(activity_set['start_time'][1:activity_count]) - np.array(activity_set['start_time'][0:activity_count-1]))/np.timedelta64(1, 's') \n",
    "        gaps_per_set.append(gaps_of_set)\n",
    "        \n",
    "        if np.any(gaps_of_set > 1800):\n",
    "            print(activity_set)\n",
    "            print('')\n",
    "        "
   ]
  },
  {
   "cell_type": "code",
   "execution_count": null,
   "id": "15007c03-4047-4770-9819-82a10ec1d7c1",
   "metadata": {},
   "outputs": [],
   "source": [
    "import matplotlib.pyplot as plt\n",
    "hist = plt.hist(activities_per_hour, bins=20)\n",
    "print(np.mean(activities_per_hour))\n"
   ]
  },
  {
   "cell_type": "code",
   "execution_count": 29,
   "id": "72d2a4c3-effa-49ef-b48d-8fa7cd46b813",
   "metadata": {},
   "outputs": [
    {
     "data": {
      "image/png": "[encoded data removed]",
      "text/plain": [
       "<Figure size 2052x1152 with 28 Axes>"
      ]
     },
     "metadata": {
      "needs_background": "light"
     },
     "output_type": "display_data"
    }
   ],
   "source": [
    "import matplotlib.pyplot as plt\n",
    "from math import ceil\n",
    "\n",
    "plt.rcParams['figure.figsize'] = [28.5,16]\n",
    "\n",
    "gaps_per_set_filtered = [[gap/sum(gaps_of_set) for gap in gaps_of_set] for gaps_of_set in gaps_per_set if len(gaps_of_set) > 3]\n",
    "\n",
    "col_count = 7\n",
    "row_count = int(ceil(len(gaps_per_set_filtered)/col_count))\n",
    "_, axes = plt.subplots(row_count, col_count)\n",
    "\n",
    "axes = axes.flatten()\n",
    "\n",
    "for ii, gaps_of_set in enumerate(gaps_per_set_filtered):\n",
    "    hist = axes[ii].hist(gaps_of_set)\n",
    "    axes[ii].set_title(f'Sample count = {len(gaps_of_set)}')\n"
   ]
  },
  {
   "cell_type": "markdown",
   "id": "707c73e7-03ca-4189-8baa-1cb1ad57d7bd",
   "metadata": {},
   "source": [
    "\n"
   ]
  },
  {
   "cell_type": "code",
   "execution_count": null,
   "id": "90783887-b9cb-4838-8415-25d1a0cc2cec",
   "metadata": {},
   "outputs": [],
   "source": [
    "gaps = np.array([gap for gaps_of_set in gaps_per_set for gap in gaps_of_set])\n",
    "import matplotlib.pyplot as plt\n",
    "hist = plt.hist(gaps, bins=20)\n",
    "print(np.mean(gaps))\n"
   ]
  },
  {
   "cell_type": "code",
   "execution_count": null,
   "id": "ae9d115f-984b-4046-b780-625ef205288d",
   "metadata": {},
   "outputs": [],
   "source": [
    "sorted_gaps = np.sort(gaps)\n",
    "for ii in range(20):\n",
    "    print(f'{sorted_gaps[ii]:.1f} [s]')\n",
    "    \n",
    "print(f'max = {sorted_gaps[-1]:.1f} [s]')\n",
    "\n",
    "for ii in range(20):\n",
    "    print(f'{sorted_gaps[-ii]:.1f} [s]')\n"
   ]
  },
  {
   "cell_type": "code",
   "execution_count": 9,
   "id": "6df6eb87-0c3f-47df-bbc1-5fef9b0a1d7a",
   "metadata": {},
   "outputs": [
    {
     "data": {
      "image/png": "[encoded data removed]",
      "text/plain": [
       "<Figure size 900x864 with 3 Axes>"
      ]
     },
     "metadata": {
      "needs_background": "light"
     },
     "output_type": "display_data"
    },
    {
     "name": "stdout",
     "output_type": "stream",
     "text": [
      "430.1507352941176\n"
     ]
    }
   ],
   "source": [
    "%matplotlib inline\n",
    "\n",
    "gaps = np.array([gap for gaps_of_set in gaps_per_set for gap in gaps_of_set])\n",
    "import matplotlib.pyplot as plt\n",
    "bin_sizes = [10, 20, 50] # [s]\n",
    "\n",
    "plt.rcParams['figure.figsize'] = [12.5,12]\n",
    "\n",
    "_, axes = plt.subplots(len(bin_sizes))\n",
    "\n",
    "for ii, bin_size in enumerate(bin_sizes):\n",
    "    max_bin = np.ceil(np.max(gaps)/bin_size)*bin_size\n",
    "    bins = np.arange(0, max_bin+bin_size, bin_size)\n",
    "    hist = axes[ii].hist(gaps, bins=bins)\n",
    "    axes[ii].set_title(f'Bin = {bin_size} [s]')\n",
    "    \n",
    "plt.show()\n",
    "print(np.mean(gaps))"
   ]
  },
  {
   "cell_type": "code",
   "execution_count": null,
   "id": "fcb8307b-cd1a-4687-a929-aac16c21674c",
   "metadata": {},
   "outputs": [],
   "source": [
    "from scipy import stats\n",
    "rv = stats.beta(1.2, 3, 1, 8)\n",
    "\n",
    "x = np.arange(0,10,0.1)\n",
    "plt.plot(x, rv.pdf(x))\n"
   ]
  },
  {
   "cell_type": "code",
   "execution_count": null,
   "id": "827d8144-c575-418a-8aad-16c4ba6e426f",
   "metadata": {},
   "outputs": [],
   "source": [
    "\n",
    "\n",
    "\n",
    "plt.rcParams['figure.figsize'] = [12.5,16]\n",
    "\n",
    "alphas = [0.2, 0.5, 0.7, 1, 2, 5, 10, 50, 200, 1000, 1000000]\n",
    "_, axes = plt.subplots(len(alphas))\n",
    "\n",
    "for ii, alpha in enumerate(alphas):\n",
    "    max_bin = np.ceil(np.max(gaps)/bin_size)*bin_size\n",
    "    y = np.random.default_rng().dirichlet(10*[alpha], size=1000)\n",
    "    y_flat = y.flatten()\n",
    "    hist = axes[ii].hist(y_flat)\n",
    "    axes[ii].set_title(f'Alpha = {alpha:.1f}')\n",
    "    \n",
    "plt.show()\n"
   ]
  },
  {
   "cell_type": "code",
   "execution_count": null,
   "id": "e881a072-209b-4e50-bb7c-148c65665b91",
   "metadata": {},
   "outputs": [],
   "source": [
    "430.1507352941176\n",
    "\n",
    "%%capture --no-stdout\n",
    "from scipy import stats\n",
    "\n",
    "list_of_dists = [nm for nm, _ in stats._distr_params.distcont]\n",
    "\n",
    "results = []\n",
    "\n",
    "for i in list_of_dists:\n",
    "    dist = getattr(stats, i)\n",
    "    try:\n",
    "        param = dist.fit(gaps)\n",
    "        a = stats.kstest(gaps, i, args=param)\n",
    "    except:\n",
    "        print(f'Could not fit {i}')\n",
    "        continue\n",
    "    results.append((i,a[0],a[1], param))\n",
    "        \n",
    "results.sort(key=lambda x:float(x[2]), reverse=True)"
   ]
  },
  {
   "cell_type": "code",
   "execution_count": null,
   "id": "edca5c72-2414-4fec-b3f5-47b3a42956b8",
   "metadata": {},
   "outputs": [],
   "source": [
    "for j in results:\n",
    "    print(\"{}: statistic={}, pvalue={}\".format(j[0], j[1], j[2]))\n",
    "    \n",
    "with open(Path('./data/stats/gaps_fits_starts.txt'), 'w') as f:\n",
    "    f.write('name, statistic, pvalue, params\\n')\n",
    "    for j in results:\n",
    "        f.write(f'{j[0]}, {j[1]:.4f}, {j[2]:.4f}, {j[3]}\\n')"
   ]
  },
  {
   "cell_type": "code",
   "execution_count": 12,
   "id": "328ac8dd-c5fa-42d9-9381-78354c5fb96d",
   "metadata": {},
   "outputs": [
    {
     "data": {
      "text/plain": [
       "(array([38., 44., 37., 27., 14., 18., 22., 11., 10., 12.,  2., 10.,  5.,\n",
       "         3.,  2.,  2.,  0.,  3.,  1.,  1.,  0.,  1.,  2.,  0.,  0.,  0.,\n",
       "         0.,  0.,  0.,  0.,  0.,  2.,  1.,  0.,  0.,  1.,  0.,  0.,  0.,\n",
       "         0.,  0.,  0.,  0.,  0.,  0.,  1.,  1.,  0.,  0.,  1.]),\n",
       " array([1.00000e+00, 7.48800e+01, 1.48760e+02, 2.22640e+02, 2.96520e+02,\n",
       "        3.70400e+02, 4.44280e+02, 5.18160e+02, 5.92040e+02, 6.65920e+02,\n",
       "        7.39800e+02, 8.13680e+02, 8.87560e+02, 9.61440e+02, 1.03532e+03,\n",
       "        1.10920e+03, 1.18308e+03, 1.25696e+03, 1.33084e+03, 1.40472e+03,\n",
       "        1.47860e+03, 1.55248e+03, 1.62636e+03, 1.70024e+03, 1.77412e+03,\n",
       "        1.84800e+03, 1.92188e+03, 1.99576e+03, 2.06964e+03, 2.14352e+03,\n",
       "        2.21740e+03, 2.29128e+03, 2.36516e+03, 2.43904e+03, 2.51292e+03,\n",
       "        2.58680e+03, 2.66068e+03, 2.73456e+03, 2.80844e+03, 2.88232e+03,\n",
       "        2.95620e+03, 3.03008e+03, 3.10396e+03, 3.17784e+03, 3.25172e+03,\n",
       "        3.32560e+03, 3.39948e+03, 3.47336e+03, 3.54724e+03, 3.62112e+03,\n",
       "        3.69500e+03]),\n",
       " <BarContainer object of 50 artists>)"
      ]
     },
     "execution_count": 12,
     "metadata": {},
     "output_type": "execute_result"
    },
    {
     "data": {
      "image/png": "[encoded data removed]",
      "text/plain": [
       "<Figure size 900x864 with 1 Axes>"
      ]
     },
     "metadata": {
      "needs_background": "light"
     },
     "output_type": "display_data"
    }
   ],
   "source": [
    "import dirichlet\n",
    "\n",
    "gaps[gaps<0] = 0\n",
    "\n",
    "import matplotlib.pyplot as plt\n",
    "\n",
    "plt.hist(gaps, bins = 50)"
   ]
  },
  {
   "cell_type": "code",
   "execution_count": 13,
   "id": "9924caa5-cef1-4379-80f1-8256df59b3d9",
   "metadata": {},
   "outputs": [
    {
     "name": "stdout",
     "output_type": "stream",
     "text": [
      "(272, 1)\n",
      "[1.]\n"
     ]
    }
   ],
   "source": [
    "gaps_exp = np.expand_dims(gaps, axis=1)\n",
    "\n",
    "print(gaps_exp.shape)\n",
    "\n",
    "res = dirichlet.mle(gaps_exp)\n",
    "\n",
    "print(res)"
   ]
  },
  {
   "cell_type": "code",
   "execution_count": null,
   "id": "74b0f5cc-c442-4825-aac8-481b31f45ef7",
   "metadata": {},
   "outputs": [],
   "source": [
    "i = 'dirichlet'\n",
    "dist = getattr(stats, i)\n",
    "try:\n",
    "    param = dist.fit(gaps)\n",
    "    a = stats.kstest(gaps, i, args=param)\n",
    "except:\n",
    "    print(f'Could not fit {i}')    "
   ]
  },
  {
   "cell_type": "code",
   "execution_count": null,
   "id": "4cd44b92-77f7-4677-a514-888df0395509",
   "metadata": {},
   "outputs": [],
   "source": [
    "res"
   ]
  },
  {
   "cell_type": "code",
   "execution_count": 40,
   "id": "95240cdd-3b12-4681-82a8-0ef12c216d39",
   "metadata": {},
   "outputs": [
    {
     "data": {
      "text/plain": [
       "array([False,  True, False, False,  True, False, False, False,  True,\n",
       "       False])"
      ]
     },
     "execution_count": 40,
     "metadata": {},
     "output_type": "execute_result"
    }
   ],
   "source": [
    "rand_gen = np.random.default_rng()\n",
    "a = rand_gen.binomial(1, 0.4, size=10).astype(bool)\n",
    "\n",
    "a\n"
   ]
  },
  {
   "cell_type": "code",
   "execution_count": 51,
   "id": "9022abf3-8346-4069-bb25-215c96b79e55",
   "metadata": {},
   "outputs": [
    {
     "name": "stdout",
     "output_type": "stream",
     "text": [
      "[134.26818174   7.68239053  32.57337679  40.21213597  48.83887673\n",
      "  30.92964658  11.56215229  94.51720838  13.88716849  50.31679396]\n",
      "[0.19854706 0.15365232 0.03570862 0.0776217  0.15727491 0.10131371\n",
      " 0.27588169]\n",
      "3475.4827916189333\n",
      "[688.06140901 532.47945886 123.74760024 268.99665065 545.03349139\n",
      " 351.10093543 956.06324604]\n",
      "[  10.          698.06140901 1230.54086787 1354.28846811 1623.28511875\n",
      " 2168.31861015 2519.41954558 3475.48279162 3600.         3600.        ]\n",
      "[False False  True False  True  True  True False  True  True]\n",
      "[ True  True False False False False  True False  True False]\n"
     ]
    }
   ],
   "source": [
    "rand_gen = np.random.default_rng()\n",
    "\n",
    "activityCount = 10\n",
    "afterVisitActivityCount = 2\n",
    "nextTime = 10\n",
    "endTime = 3600\n",
    "\n",
    "activityTimes = rand_gen.lognormal(2.90256, 0.937481, size=activityCount)\n",
    "print(activityTimes)\n",
    "gapFractions = rand_gen.dirichlet([1]*(activityCount - afterVisitActivityCount - 1))\n",
    "print(gapFractions)\n",
    "tStartLast = endTime - 30 - activityTimes[-(1+afterVisitActivityCount)]\n",
    "print(tStartLast)\n",
    "gaps = gapFractions*(tStartLast - nextTime)\n",
    "print(gaps)\n",
    "startTimes = np.append(np.append([nextTime], nextTime + np.cumsum(gaps)), [endTime]*afterVisitActivityCount)\n",
    "print(startTimes)\n",
    "baseBefore = rand_gen.binomial(1, 0.4, size=activityCount).astype(bool)\n",
    "baseAfter = rand_gen.binomial(1, 0.3, size=activityCount).astype(bool)\n",
    "print(baseBefore)\n",
    "print(baseAfter)"
   ]
  },
  {
   "cell_type": "code",
   "execution_count": null,
   "id": "bdae85f5-d13e-4239-bab2-f9e7939cd5c5",
   "metadata": {},
   "outputs": [],
   "source": []
  }
 ],
 "metadata": {
  "kernelspec": {
   "display_name": "Python 3 (ipykernel)",
   "language": "python",
   "name": "python3"
  },
  "language_info": {
   "codemirror_mode": {
    "name": "ipython",
    "version": 3
   },
   "file_extension": ".py",
   "mimetype": "text/x-python",
   "name": "python",
   "nbconvert_exporter": "python",
   "pygments_lexer": "ipython3",
   "version": "3.9.7"
  }
 },
 "nbformat": 4,
 "nbformat_minor": 5
}
