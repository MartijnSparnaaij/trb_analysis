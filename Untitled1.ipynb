{
 "cells": [
  {
   "cell_type": "code",
   "execution_count": null,
   "id": "c92094bb-9899-44f7-abf5-9c0ad5414ce0",
   "metadata": {},
   "outputs": [],
   "source": [
    "import numpy as np\n",
    "\n",
    "\n",
    "rand_gen = np.random.default_rng()\n",
    "\n",
    "k = 5\n",
    "\n",
    "alphas = np.arange(0.1,10,0.1)\n",
    "mean_vars = []\n",
    "var_vars = []\n",
    "    \n",
    "for alpha in alphas:\n",
    "    variances = []\n",
    "    for _ in range(100):\n",
    "        variances.append(np.var(rand_gen.dirichlet([alpha]*k)))\n",
    "        \n",
    "    print(f'alpha = {alpha:.1f}: Mean = {np.mean(variances):.5f}, Variance = {np.var(variances):.5f}')\n",
    "    mean_vars.append(np.mean(variances))\n",
    "    var_vars.append(np.var(variances))\n",
    "    \n",
    "import matplotlib.pyplot as plt\n",
    "plt.plot(alphas, mean_vars)\n",
    "plt.plot(alphas, var_vars)\n",
    "    "
   ]
  },
  {
   "cell_type": "code",
   "execution_count": 22,
   "id": "1fe8a4dd-689f-498e-90cf-5ae5ef772bd7",
   "metadata": {},
   "outputs": [
    {
     "data": {
      "text/plain": [
       "(array([1.864e+03, 1.523e+03, 1.243e+03, 1.018e+03, 8.690e+02, 7.080e+02,\n",
       "        5.780e+02, 4.680e+02, 3.860e+02, 2.990e+02, 2.620e+02, 1.880e+02,\n",
       "        1.490e+02, 1.120e+02, 7.800e+01, 6.500e+01, 5.000e+01, 3.400e+01,\n",
       "        3.100e+01, 2.100e+01, 1.700e+01, 1.000e+01, 8.000e+00, 5.000e+00,\n",
       "        7.000e+00, 4.000e+00, 1.000e+00, 0.000e+00, 0.000e+00, 2.000e+00]),\n",
       " array([1.39813843e-06, 2.22228181e-02, 4.44442380e-02, 6.66656579e-02,\n",
       "        8.88870778e-02, 1.11108498e-01, 1.33329918e-01, 1.55551338e-01,\n",
       "        1.77772757e-01, 1.99994177e-01, 2.22215597e-01, 2.44437017e-01,\n",
       "        2.66658437e-01, 2.88879857e-01, 3.11101277e-01, 3.33322697e-01,\n",
       "        3.55544117e-01, 3.77765537e-01, 3.99986957e-01, 4.22208377e-01,\n",
       "        4.44429797e-01, 4.66651216e-01, 4.88872636e-01, 5.11094056e-01,\n",
       "        5.33315476e-01, 5.55536896e-01, 5.77758316e-01, 5.99979736e-01,\n",
       "        6.22201156e-01, 6.44422576e-01, 6.66643996e-01]),\n",
       " <BarContainer object of 30 artists>)"
      ]
     },
     "execution_count": 22,
     "metadata": {},
     "output_type": "execute_result"
    },
    {
     "data": {
      "image/png": "[encoded data removed]",
      "text/plain": [
       "<Figure size 432x288 with 1 Axes>"
      ]
     },
     "metadata": {
      "needs_background": "light"
     },
     "output_type": "display_data"
    }
   ],
   "source": [
    "import numpy as np\n",
    "import matplotlib.pyplot as plt\n",
    "\n",
    "rand_gen = np.random.default_rng()\n",
    "\n",
    "a = rand_gen.dirichlet([1]*10, 1000)\n",
    "\n",
    "plt.hist(a.flatten(), bins = 30)\n"
   ]
  },
  {
   "cell_type": "code",
   "execution_count": null,
   "id": "fc36ccde-8498-49d1-bf37-4c73ce465273",
   "metadata": {},
   "outputs": [],
   "source": [
    "import matplotlib.pyplot as plt\n",
    "\n",
    "import scipy.special as sps  \n",
    "\n",
    "scale = 1\n",
    "shape = 2\n",
    "\n",
    "s = rand_gen.gamma(shape, scale,size=(10000,1))\n",
    "\n",
    "\n",
    "count, bins, ignored = plt.hist(s, 50, density=True)\n",
    "\n",
    "y = bins**(shape-1)*(np.exp(-bins/scale) /  \n",
    "\n",
    "                     (sps.gamma(shape)*scale**shape))\n",
    "\n",
    "plt.plot(bins, y, linewidth=2, color='r')  \n",
    "\n",
    "plt.show()"
   ]
  },
  {
   "cell_type": "code",
   "execution_count": null,
   "id": "3d0d9ec0-bd30-45f5-8947-b4a1d2c0095a",
   "metadata": {},
   "outputs": [],
   "source": [
    "for _ in range(20):\n",
    "    s = rand_gen.gamma(shape, scale,size=20)\n",
    "    a = s/np.sum(s)\n",
    "    print(f'{np.sum(a):.1f}, {np.var(s):.4f}, {np.var(a):.6f}, {np.var(a)/np.var(s):.6f}')\n"
   ]
  },
  {
   "cell_type": "code",
   "execution_count": null,
   "id": "dc60362d-9134-4dd2-b42d-24ae68231cce",
   "metadata": {},
   "outputs": [],
   "source": []
  },
  {
   "cell_type": "code",
   "execution_count": null,
   "id": "5cf2ecc1-5db4-4a78-aa1b-383d29a92be9",
   "metadata": {},
   "outputs": [],
   "source": []
  }
 ],
 "metadata": {
  "kernelspec": {
   "display_name": "Python 3 (ipykernel)",
   "language": "python",
   "name": "python3"
  },
  "language_info": {
   "codemirror_mode": {
    "name": "ipython",
    "version": 3
   },
   "file_extension": ".py",
   "mimetype": "text/x-python",
   "name": "python",
   "nbconvert_exporter": "python",
   "pygments_lexer": "ipython3",
   "version": "3.9.7"
  }
 },
 "nbformat": 4,
 "nbformat_minor": 5
}
