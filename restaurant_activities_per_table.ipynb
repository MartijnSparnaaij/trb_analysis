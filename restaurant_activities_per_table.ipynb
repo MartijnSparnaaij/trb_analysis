{
 "cells": [
  {
   "cell_type": "code",
   "execution_count": 1,
   "id": "bf713a38-d81b-4e81-aa27-518f29107ff1",
   "metadata": {},
   "outputs": [],
   "source": [
    "from pathlib import Path\n",
    "import pandas as pd\n",
    "import numpy as np"
   ]
  },
  {
   "cell_type": "code",
   "execution_count": 2,
   "id": "39dc6298-f0cb-4d9f-aa54-0c3516ef858b",
   "metadata": {},
   "outputs": [],
   "source": [
    "filename = Path('./data/processed/20210818_evening_staff_activities.csv')\n",
    "df_staff_activities = pd.read_csv(filename, parse_dates=['start_time', 'end_time'])\n",
    "\n",
    "dtypes = {'group_size': 'int', 'fully_captured': 'bool', 'visit_time': 'float'}\n",
    "filename = Path('./data/processed/20210818_evening_guest_demand.csv')\n",
    "df_guest_demand = pd.read_csv(filename, dtype=dtypes, parse_dates=['start_time', 'end_time'])"
   ]
  },
  {
   "cell_type": "code",
   "execution_count": 3,
   "id": "7356638e-647b-4055-8cbe-8e6cff31fb5c",
   "metadata": {},
   "outputs": [],
   "source": [
    "import datetime\n",
    "\n",
    "measurement_pause = (datetime.datetime(2021, 8, 18, 18, 59), datetime.datetime(2021, 8, 18, 20, 4))\n",
    "\n",
    "measurement_pause"
   ]
  },
  {
   "cell_type": "code",
   "execution_count": 23,
   "id": "69137a51-8dc7-4d4b-8dda-962a13b8b835",
   "metadata": {},
   "outputs": [
    {
     "name": "stdout",
     "output_type": "stream",
     "text": [
      "14 (2021-08-18 17:12:11 - 2021-08-18 17:37:41) has no activities\n",
      "20 (2021-08-18 18:28:32 - 2021-08-18 19:20:30) has no activities\n",
      "33 (2021-08-18 18:11:12 - 2021-08-18 20:13:42) has no activities\n",
      "23 (2021-08-18 17:33:44 - NaT) has no activities\n",
      "B3 (2021-08-18 20:10:07 - NaT) has no activities\n",
      "33 (2021-08-18 20:54:24 - NaT) has no activities\n"
     ]
    }
   ],
   "source": [
    "from collections import defaultdict\n",
    "import datetime\n",
    "\n",
    "activities_per_table = defaultdict(list)\n",
    "last_actvity_processed = {}\n",
    "\n",
    "for _, row in df_guest_demand.iterrows():\n",
    "    table_id = row['table_id']\n",
    "    start_time = row['start_time']\n",
    "    end_time = row['end_time']\n",
    "\n",
    "    if table_id not in last_actvity_processed:\n",
    "        df_actvities_gap = df_staff_activities[(df_staff_activities['table_id'] == table_id) & (df_staff_activities['start_time'] < start_time)]\n",
    "    else:\n",
    "        df_actvities_gap = df_staff_activities[(df_staff_activities['table_id'] == table_id) & (df_staff_activities['start_time'] < start_time) & (df_staff_activities['start_time'] > last_actvity_processed[table_id])]\n",
    "\n",
    "    if len(df_actvities_gap) > 0:\n",
    "        activities_per_table[table_id].append((False,df_actvities_gap))\n",
    "            \n",
    "    if pd.isnull(end_time):\n",
    "        df_activities = df_staff_activities[(df_staff_activities['table_id'] == table_id) & (df_staff_activities['start_time'] >= start_time)]\n",
    "    else:   \n",
    "        df_activities = df_staff_activities[(df_staff_activities['table_id'] == table_id) & (df_staff_activities['start_time'] >= start_time) & (df_staff_activities['end_time'] <= end_time)]\n",
    "        \n",
    "    df_activities_before = df_activities[df_activities['start_time'] <= measurement_pause[0]]\n",
    "    df_activities_after = df_activities[df_activities['start_time'] > measurement_pause[0]]\n",
    "    \n",
    "    if len(df_activities) != len(df_activities_before) + len(df_activities_after):\n",
    "        raise Exception('Missing')\n",
    "    \n",
    "    if len(df_activities) == 0:\n",
    "        print(f'{table_id} ({start_time} - {end_time}) has no activities')\n",
    "        continue\n",
    "    \n",
    "    if len(df_activities_before) > 0:    \n",
    "        activities_per_table[table_id].append((True, df_activities_before))\n",
    "        if len(df_activities_after) == 0:\n",
    "            last_actvity_processed[table_id] = df_activities_before['start_time'].iloc[-1]\n",
    "            \n",
    "    if len(df_activities_after) > 0:    \n",
    "        activities_per_table[table_id].append((True, df_activities_after))\n",
    "        last_actvity_processed[table_id] = df_activities_after['start_time'].iloc[-1]\n",
    "        \n",
    "for table_id, end_time in last_actvity_processed.items():\n",
    "    df_actvities_gap = df_staff_activities[(df_staff_activities['table_id'] == table_id) & (df_staff_activities['start_time'] > end_time)]\n",
    "    if len(df_actvities_gap) > 0:\n",
    "        activities_per_table[table_id].append((False, df_actvities_gap))\n",
    "       \n",
    "    "
   ]
  },
  {
   "cell_type": "code",
   "execution_count": 21,
   "id": "6b4a20a8-4e87-477f-a8d0-9b8ec5c5e93e",
   "metadata": {},
   "outputs": [
    {
     "data": {
      "text/plain": [
       "['15',\n",
       " '16',\n",
       " '54',\n",
       " '56',\n",
       " 'B2',\n",
       " '12',\n",
       " 'B3',\n",
       " '11',\n",
       " 'B1',\n",
       " '31',\n",
       " '36',\n",
       " '52',\n",
       " '17',\n",
       " '13',\n",
       " '35',\n",
       " '14',\n",
       " '55',\n",
       " '53',\n",
       " '51',\n",
       " '20']"
      ]
     },
     "execution_count": 21,
     "metadata": {},
     "output_type": "execute_result"
    }
   ],
   "source": [
    "list(activities_per_table.keys())"
   ]
  },
  {
   "cell_type": "markdown",
   "id": "9911b7c9-d513-4d55-bd53-9da4e58cff45",
   "metadata": {},
   "source": [
    "Can be used for non-guest activity count:\n",
    "- 15 (One error)\n",
    "- 54\n",
    "- 56\n",
    "- B2\n",
    "- B1\n",
    "- 31\n",
    "- 36\n",
    "- 52\n"
   ]
  },
  {
   "cell_type": "code",
   "execution_count": 80,
   "id": "caf2e69a-3364-410c-aafd-27226135a35e",
   "metadata": {},
   "outputs": [
    {
     "data": {
      "text/plain": [
       "[(True,\n",
       "      table_id staff_id          start_time            end_time activity_type\n",
       "  290       20       HM 2021-08-18 20:02:02 2021-08-18 20:04:24             S\n",
       "  292       20        Q 2021-08-18 20:04:09 2021-08-18 20:04:21             S\n",
       "  293       20       HM 2021-08-18 20:04:39 2021-08-18 20:05:05             S\n",
       "  301       20        A 2021-08-18 20:12:09 2021-08-18 20:12:23             S\n",
       "  302       20        A 2021-08-18 20:12:45 2021-08-18 20:12:52       CULTERY\n",
       "  303       20        O 2021-08-18 20:13:00 2021-08-18 20:13:09       CULTERY\n",
       "  308       20       AO 2021-08-18 20:17:54 2021-08-18 20:18:36             S\n",
       "  310       20        H 2021-08-18 20:18:27 2021-08-18 20:18:54             S\n",
       "  313       20        H 2021-08-18 20:19:34 2021-08-18 20:19:49             S\n",
       "  319       20       AO 2021-08-18 20:25:50 2021-08-18 20:26:04             S\n",
       "  324       20        O 2021-08-18 20:30:24 2021-08-18 20:30:45             R\n",
       "  327       20        Q 2021-08-18 20:33:35 2021-08-18 20:34:03             S\n",
       "  333       20        O 2021-08-18 20:41:19 2021-08-18 20:46:24           S&O\n",
       "  339       20       HM 2021-08-18 20:50:06 2021-08-18 20:51:18             S\n",
       "  340       20       HM 2021-08-18 20:51:42 2021-08-18 20:52:13             S\n",
       "  344       20        O 2021-08-18 20:57:17 2021-08-18 20:57:22             F\n",
       "  346       20       AO 2021-08-18 20:59:04 2021-08-18 20:59:22             S\n",
       "  347       20        Q 2021-08-18 20:59:15 2021-08-18 20:59:40           S&R\n",
       "  350       20        A 2021-08-18 21:02:57 2021-08-18 21:03:07             S\n",
       "  351       20        A 2021-08-18 21:03:22 2021-08-18 21:03:31             S\n",
       "  353       20        O 2021-08-18 21:06:31 2021-08-18 21:06:52             R\n",
       "  354       20        O 2021-08-18 21:07:43 2021-08-18 21:08:03             S\n",
       "  360       20        Q 2021-08-18 21:16:10 2021-08-18 21:16:30             S\n",
       "  363       20        O 2021-08-18 21:17:55 2021-08-18 21:18:10             W\n",
       "  379       20        O 2021-08-18 21:42:14 2021-08-18 21:42:19             S\n",
       "  380       20        O 2021-08-18 21:42:31 2021-08-18 21:42:35             S\n",
       "  386       20        O 2021-08-18 21:47:53 2021-08-18 21:48:32             F\n",
       "  388       20        O 2021-08-18 21:56:17 2021-08-18 21:56:34             F\n",
       "  391       20        O 2021-08-18 21:58:06 2021-08-18 21:58:14             F)]"
      ]
     },
     "execution_count": 80,
     "metadata": {},
     "output_type": "execute_result"
    }
   ],
   "source": [
    "activities_per_table['20']"
   ]
  },
  {
   "cell_type": "code",
   "execution_count": 45,
   "id": "40f1cec8-7b1c-49b1-a918-b831f7d808f5",
   "metadata": {},
   "outputs": [
    {
     "data": {
      "text/plain": [
       "array(['S', 'C', 'W', 'O', 'S-O', 'CUTLERY', 'S-R', 'R', 'W-O', 'R-O',\n",
       "       'F', 'C ', 'CUTLERY - O', 'F-O', 'F-R', 'S-O-R', 'P', 'B',\n",
       "       'GUIDE TO TABLE', 'O-R', 'R-F', 'F-R-O', 'S-F', 'R&P', 'F&O',\n",
       "       'F&R', 'CULTERY', 'P&R', 'F&P', 'S&R', 'S&O', 'F&R&P'],\n",
       "      dtype=object)"
      ]
     },
     "execution_count": 45,
     "metadata": {},
     "output_type": "execute_result"
    }
   ],
   "source": [
    "df_staff_activities['activity_type'] = df_staff_activities['activity_type'].str.upper()\n",
    "pd.unique(df_staff_activities['activity_type'])"
   ]
  },
  {
   "cell_type": "code",
   "execution_count": 61,
   "id": "12b201f8-144d-4dd3-8475-25a773e590b7",
   "metadata": {},
   "outputs": [
    {
     "name": "stdout",
     "output_type": "stream",
     "text": [
      "{'base_first': 191, 'base_after': 137, 'no_base': 141}\n",
      "{'base_first': 0.4072494669509595, 'base_after': 0.2921108742004264, 'no_base': 0.3006396588486141}\n"
     ]
    },
    {
     "data": {
      "text/html": [
       "<div>\n",
       "<style scoped>\n",
       "    .dataframe tbody tr th:only-of-type {\n",
       "        vertical-align: middle;\n",
       "    }\n",
       "\n",
       "    .dataframe tbody tr th {\n",
       "        vertical-align: top;\n",
       "    }\n",
       "\n",
       "    .dataframe thead th {\n",
       "        text-align: right;\n",
       "    }\n",
       "</style>\n",
       "<table border=\"1\" class=\"dataframe\">\n",
       "  <thead>\n",
       "    <tr style=\"text-align: right;\">\n",
       "      <th></th>\n",
       "      <th>table_id</th>\n",
       "      <th>staff_id</th>\n",
       "      <th>start_time</th>\n",
       "      <th>end_time</th>\n",
       "      <th>activity_type</th>\n",
       "    </tr>\n",
       "  </thead>\n",
       "  <tbody>\n",
       "  </tbody>\n",
       "</table>\n",
       "</div>"
      ],
      "text/plain": [
       "Empty DataFrame\n",
       "Columns: [table_id, staff_id, start_time, end_time, activity_type]\n",
       "Index: []"
      ]
     },
     "execution_count": 61,
     "metadata": {},
     "output_type": "execute_result"
    }
   ],
   "source": [
    "activity_types = {\n",
    "    'base_first': ('S', 'CUTLERY', 'B', 'W'),\n",
    "    'base_after': ('R', 'C'),\n",
    "    'no_base': ('F', 'O', 'P')\n",
    "}\n",
    "\n",
    "activity_type_count = {key:0 for key in activity_types}\n",
    "\n",
    "check = None\n",
    "\n",
    "for key, activity_types_of_base_type in activity_types.items():\n",
    "    for activity_type in activity_types_of_base_type:\n",
    "        contains_activity = df_staff_activities['activity_type'].str.contains(activity_type)\n",
    "        activity_type_count[key] += len(df_staff_activities[contains_activity == True])\n",
    "        if check is None:\n",
    "            check = contains_activity\n",
    "        else:\n",
    "            check = check | contains_activity\n",
    "\n",
    "print(activity_type_count)\n",
    "count_sum = sum(activity_type_count.values())\n",
    "print({key:value/count_sum for key, value in activity_type_count.items()})\n",
    "df_staff_activities[check == False]\n",
    "        "
   ]
  },
  {
   "cell_type": "code",
   "execution_count": 50,
   "id": "8e971803-e973-4e1f-a3aa-0c277db2a667",
   "metadata": {},
   "outputs": [
    {
     "data": {
      "text/plain": [
       "157"
      ]
     },
     "execution_count": 50,
     "metadata": {},
     "output_type": "execute_result"
    }
   ],
   "source": [
    "np."
   ]
  },
  {
   "cell_type": "code",
   "execution_count": null,
   "id": "7be84e03-11a2-4c2d-a790-1e651583387a",
   "metadata": {},
   "outputs": [],
   "source": []
  }
 ],
 "metadata": {
  "kernelspec": {
   "display_name": "Python 3 (ipykernel)",
   "language": "python",
   "name": "python3"
  },
  "language_info": {
   "codemirror_mode": {
    "name": "ipython",
    "version": 3
   },
   "file_extension": ".py",
   "mimetype": "text/x-python",
   "name": "python",
   "nbconvert_exporter": "python",
   "pygments_lexer": "ipython3",
   "version": "3.9.7"
  }
 },
 "nbformat": 4,
 "nbformat_minor": 5
}
