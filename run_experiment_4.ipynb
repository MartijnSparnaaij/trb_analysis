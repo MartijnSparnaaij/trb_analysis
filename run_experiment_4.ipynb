{
 "cells": [
  {
   "cell_type": "code",
   "execution_count": 1,
   "id": "e3053ccb-d04f-4ced-b207-4fb84670eabf",
   "metadata": {},
   "outputs": [
    {
     "name": "stdout",
     "output_type": "stream",
     "text": [
      "C:\\Users\\MartijnTU\\Jupyter_notebooks\\trb_analysis\\trb_analysis\\nomad\n",
      "6d4206d11517efa738f5bdfc434c0d5961d775d7: Thu, 15 Jul 2021 23:52 - Fixed groupID\n"
     ]
    }
   ],
   "source": [
    "try:\n",
    "    from git_nomad import pull_nomad\n",
    "except:\n",
    "    import sys; sys.path.insert(0, '..')\n",
    "    from git_nomad import pull_nomad\n",
    "    \n",
    "import socket\n",
    "if socket.gethostname() == 'SPA-DESKTOP':\n",
    "    remote_path = r\"D:\\Work_TU\\Documents\\nomad\"\n",
    "else:\n",
    "    remote_path = r\"C:\\Users\\martijnsparnaa\\Eclipse_Python_NOMAD\\nomad_trb_paper\"\n",
    "repo_path, repo = pull_nomad(remote_path, 'master')\n",
    "print(repo_path.resolve())\n",
    "\n",
    "import os\n",
    "import time\n",
    "os.chdir(repo_path)\n",
    "headcommit = repo.head.commit\n",
    "committed_date = time.strftime(\"%a, %d %b %Y %H:%M\", time.localtime(headcommit.committed_date))\n",
    "print(f'{headcommit}: {committed_date} - {headcommit.message}')"
   ]
  },
  {
   "cell_type": "code",
   "execution_count": null,
   "id": "0979be54-7a02-43c2-bb31-ec6e86b4ce11",
   "metadata": {},
   "outputs": [
    {
     "name": "stdout",
     "output_type": "stream",
     "text": [
      "Runnig replication 0 with seed = 3532\n"
     ]
    },
    {
     "name": "stderr",
     "output_type": "stream",
     "text": [
      "2021/07/15 23:52:58.059 - NOMAD.local_route_choice_manager - INFO - Creating the local route choice manager using LocalRouteChoiceIterativeComputer\n",
      "2021/07/15 23:52:58.060 - NOMAD.local_route_choice_manager - INFO - Creating a walk level local route choice manager using WalkLevelRouteChoiceIterativeComputer\n",
      "2021/07/15 23:53:19.597 - NOMAD.local_route_choice_manager - INFO - Finished creating local route choice manager in 21.53646469116211 seconds\n",
      "2021/07/15 23:53:19.601 - NOMAD.nomad_model - INFO - Model created with PedestrianManagerAttr with pedClass = attrPedOpt\n"
     ]
    },
    {
     "name": "stdout",
     "output_type": "stream",
     "text": [
      "================================\n",
      "................................\n",
      "Simulation done. Processing data... done\n",
      "Runnig replication 1 with seed = 2391\n"
     ]
    },
    {
     "name": "stderr",
     "output_type": "stream",
     "text": [
      "2021/07/15 23:57:28.437 - NOMAD.local_route_choice_manager - INFO - Creating the local route choice manager using LocalRouteChoiceIterativeComputer\n",
      "2021/07/15 23:57:28.448 - NOMAD.local_route_choice_manager - INFO - Creating a walk level local route choice manager using WalkLevelRouteChoiceIterativeComputer\n",
      "2021/07/15 23:57:49.357 - NOMAD.local_route_choice_manager - INFO - Finished creating local route choice manager in 20.909835815429688 seconds\n",
      "2021/07/15 23:57:49.361 - NOMAD.nomad_model - INFO - Model created with PedestrianManagerAttr with pedClass = attrPedOpt\n"
     ]
    },
    {
     "name": "stdout",
     "output_type": "stream",
     "text": [
      "================================\n",
      "................................\n",
      "Simulation done. Processing data... done\n",
      "Runnig replication 2 with seed = 1753\n"
     ]
    },
    {
     "name": "stderr",
     "output_type": "stream",
     "text": [
      "2021/07/16 00:01:43.348 - NOMAD.local_route_choice_manager - INFO - Creating the local route choice manager using LocalRouteChoiceIterativeComputer\n",
      "2021/07/16 00:01:43.348 - NOMAD.local_route_choice_manager - INFO - Creating a walk level local route choice manager using WalkLevelRouteChoiceIterativeComputer\n",
      "2021/07/16 00:02:04.971 - NOMAD.local_route_choice_manager - INFO - Finished creating local route choice manager in 21.622421741485596 seconds\n",
      "2021/07/16 00:02:04.971 - NOMAD.nomad_model - INFO - Model created with PedestrianManagerAttr with pedClass = attrPedOpt\n"
     ]
    },
    {
     "name": "stdout",
     "output_type": "stream",
     "text": [
      "================================\n",
      "................................\n",
      "Simulation done. Processing data... done\n",
      "Runnig replication 3 with seed = 2419\n"
     ]
    },
    {
     "name": "stderr",
     "output_type": "stream",
     "text": [
      "2021/07/16 00:06:10.937 - NOMAD.local_route_choice_manager - INFO - Creating the local route choice manager using LocalRouteChoiceIterativeComputer\n",
      "2021/07/16 00:06:10.937 - NOMAD.local_route_choice_manager - INFO - Creating a walk level local route choice manager using WalkLevelRouteChoiceIterativeComputer\n",
      "2021/07/16 00:06:32.204 - NOMAD.local_route_choice_manager - INFO - Finished creating local route choice manager in 21.26724147796631 seconds\n",
      "2021/07/16 00:06:32.204 - NOMAD.nomad_model - INFO - Model created with PedestrianManagerAttr with pedClass = attrPedOpt\n"
     ]
    },
    {
     "name": "stdout",
     "output_type": "stream",
     "text": [
      "================================\n",
      "................................\n",
      "Simulation done. Processing data... done\n",
      "Runnig replication 4 with seed = 738\n"
     ]
    },
    {
     "name": "stderr",
     "output_type": "stream",
     "text": [
      "2021/07/16 00:10:41.142 - NOMAD.local_route_choice_manager - INFO - Creating the local route choice manager using LocalRouteChoiceIterativeComputer\n",
      "2021/07/16 00:10:41.142 - NOMAD.local_route_choice_manager - INFO - Creating a walk level local route choice manager using WalkLevelRouteChoiceIterativeComputer\n",
      "2021/07/16 00:11:02.756 - NOMAD.local_route_choice_manager - INFO - Finished creating local route choice manager in 21.613715887069702 seconds\n",
      "2021/07/16 00:11:02.768 - NOMAD.nomad_model - INFO - Model created with PedestrianManagerAttr with pedClass = attrPedOpt\n"
     ]
    },
    {
     "name": "stdout",
     "output_type": "stream",
     "text": [
      "================================\n",
      "................................\n",
      "Simulation done. Processing data... done\n",
      "Runnig replication 5 with seed = 3074\n"
     ]
    },
    {
     "name": "stderr",
     "output_type": "stream",
     "text": [
      "2021/07/16 00:15:09.835 - NOMAD.local_route_choice_manager - INFO - Creating the local route choice manager using LocalRouteChoiceIterativeComputer\n",
      "2021/07/16 00:15:09.835 - NOMAD.local_route_choice_manager - INFO - Creating a walk level local route choice manager using WalkLevelRouteChoiceIterativeComputer\n",
      "2021/07/16 00:15:31.789 - NOMAD.local_route_choice_manager - INFO - Finished creating local route choice manager in 21.95407247543335 seconds\n",
      "2021/07/16 00:15:31.789 - NOMAD.nomad_model - INFO - Model created with PedestrianManagerAttr with pedClass = attrPedOpt\n"
     ]
    },
    {
     "name": "stdout",
     "output_type": "stream",
     "text": [
      "================================\n",
      "................................\n",
      "Simulation done. Processing data... done\n",
      "Runnig replication 6 with seed = 1147\n"
     ]
    },
    {
     "name": "stderr",
     "output_type": "stream",
     "text": [
      "2021/07/16 00:19:32.684 - NOMAD.local_route_choice_manager - INFO - Creating the local route choice manager using LocalRouteChoiceIterativeComputer\n",
      "2021/07/16 00:19:32.684 - NOMAD.local_route_choice_manager - INFO - Creating a walk level local route choice manager using WalkLevelRouteChoiceIterativeComputer\n",
      "2021/07/16 00:19:55.087 - NOMAD.local_route_choice_manager - INFO - Finished creating local route choice manager in 22.403234004974365 seconds\n",
      "2021/07/16 00:19:55.087 - NOMAD.nomad_model - INFO - Model created with PedestrianManagerAttr with pedClass = attrPedOpt\n"
     ]
    },
    {
     "name": "stdout",
     "output_type": "stream",
     "text": [
      "================================\n",
      "................................\n",
      "Simulation done. Processing data... done\n",
      "Runnig replication 7 with seed = 3453\n"
     ]
    },
    {
     "name": "stderr",
     "output_type": "stream",
     "text": [
      "2021/07/16 00:23:59.683 - NOMAD.local_route_choice_manager - INFO - Creating the local route choice manager using LocalRouteChoiceIterativeComputer\n",
      "2021/07/16 00:23:59.693 - NOMAD.local_route_choice_manager - INFO - Creating a walk level local route choice manager using WalkLevelRouteChoiceIterativeComputer\n",
      "2021/07/16 00:24:21.394 - NOMAD.local_route_choice_manager - INFO - Finished creating local route choice manager in 21.70130443572998 seconds\n",
      "2021/07/16 00:24:21.402 - NOMAD.nomad_model - INFO - Model created with PedestrianManagerAttr with pedClass = attrPedOpt\n"
     ]
    },
    {
     "name": "stdout",
     "output_type": "stream",
     "text": [
      "================================\n",
      "................................\n",
      "Simulation done. Processing data... done\n",
      "Runnig replication 8 with seed = 3759\n"
     ]
    },
    {
     "name": "stderr",
     "output_type": "stream",
     "text": [
      "2021/07/16 00:28:22.014 - NOMAD.local_route_choice_manager - INFO - Creating the local route choice manager using LocalRouteChoiceIterativeComputer\n",
      "2021/07/16 00:28:22.014 - NOMAD.local_route_choice_manager - INFO - Creating a walk level local route choice manager using WalkLevelRouteChoiceIterativeComputer\n",
      "2021/07/16 00:28:43.734 - NOMAD.local_route_choice_manager - INFO - Finished creating local route choice manager in 21.720192670822144 seconds\n",
      "2021/07/16 00:28:43.754 - NOMAD.nomad_model - INFO - Model created with PedestrianManagerAttr with pedClass = attrPedOpt\n"
     ]
    },
    {
     "name": "stdout",
     "output_type": "stream",
     "text": [
      "================================\n",
      "................................\n",
      "Simulation done. Processing data... done\n",
      "Runnig replication 9 with seed = 1238\n"
     ]
    },
    {
     "name": "stderr",
     "output_type": "stream",
     "text": [
      "2021/07/16 00:32:54.880 - NOMAD.local_route_choice_manager - INFO - Creating the local route choice manager using LocalRouteChoiceIterativeComputer\n",
      "2021/07/16 00:32:54.880 - NOMAD.local_route_choice_manager - INFO - Creating a walk level local route choice manager using WalkLevelRouteChoiceIterativeComputer\n",
      "2021/07/16 00:33:16.231 - NOMAD.local_route_choice_manager - INFO - Finished creating local route choice manager in 21.35088849067688 seconds\n",
      "2021/07/16 00:33:16.251 - NOMAD.nomad_model - INFO - Model created with PedestrianManagerAttr with pedClass = attrPedOpt\n"
     ]
    },
    {
     "name": "stdout",
     "output_type": "stream",
     "text": [
      "================================\n",
      "................................\n",
      "Simulation done. Processing data... done\n",
      "Checking convergence... done\n",
      "Runnig replication 10 with seed = 1449\n"
     ]
    },
    {
     "name": "stderr",
     "output_type": "stream",
     "text": [
      "2021/07/16 00:37:13.691 - NOMAD.local_route_choice_manager - INFO - Creating the local route choice manager using LocalRouteChoiceIterativeComputer\n",
      "2021/07/16 00:37:13.699 - NOMAD.local_route_choice_manager - INFO - Creating a walk level local route choice manager using WalkLevelRouteChoiceIterativeComputer\n",
      "2021/07/16 00:37:35.189 - NOMAD.local_route_choice_manager - INFO - Finished creating local route choice manager in 21.490163803100586 seconds\n",
      "2021/07/16 00:37:35.201 - NOMAD.nomad_model - INFO - Model created with PedestrianManagerAttr with pedClass = attrPedOpt\n"
     ]
    },
    {
     "name": "stdout",
     "output_type": "stream",
     "text": [
      "================================\n",
      "................................\n",
      "Simulation done. Processing data... done\n",
      "Runnig replication 11 with seed = 2150\n"
     ]
    },
    {
     "name": "stderr",
     "output_type": "stream",
     "text": [
      "2021/07/16 00:41:32.973 - NOMAD.local_route_choice_manager - INFO - Creating the local route choice manager using LocalRouteChoiceIterativeComputer\n",
      "2021/07/16 00:41:32.973 - NOMAD.local_route_choice_manager - INFO - Creating a walk level local route choice manager using WalkLevelRouteChoiceIterativeComputer\n",
      "2021/07/16 00:41:54.246 - NOMAD.local_route_choice_manager - INFO - Finished creating local route choice manager in 21.27270269393921 seconds\n",
      "2021/07/16 00:41:54.266 - NOMAD.nomad_model - INFO - Model created with PedestrianManagerAttr with pedClass = attrPedOpt\n"
     ]
    },
    {
     "name": "stdout",
     "output_type": "stream",
     "text": [
      "================================\n",
      "................................\n",
      "Simulation done. Processing data... done\n",
      "Runnig replication 12 with seed = 2518\n"
     ]
    },
    {
     "name": "stderr",
     "output_type": "stream",
     "text": [
      "2021/07/16 00:45:55.823 - NOMAD.local_route_choice_manager - INFO - Creating the local route choice manager using LocalRouteChoiceIterativeComputer\n",
      "2021/07/16 00:45:55.823 - NOMAD.local_route_choice_manager - INFO - Creating a walk level local route choice manager using WalkLevelRouteChoiceIterativeComputer\n",
      "2021/07/16 00:46:17.554 - NOMAD.local_route_choice_manager - INFO - Finished creating local route choice manager in 21.730273485183716 seconds\n",
      "2021/07/16 00:46:17.564 - NOMAD.nomad_model - INFO - Model created with PedestrianManagerAttr with pedClass = attrPedOpt\n"
     ]
    },
    {
     "name": "stdout",
     "output_type": "stream",
     "text": [
      "================================\n",
      "................................\n",
      "Simulation done. Processing data... done\n",
      "Runnig replication 13 with seed = 2107\n"
     ]
    },
    {
     "name": "stderr",
     "output_type": "stream",
     "text": [
      "2021/07/16 00:50:35.694 - NOMAD.local_route_choice_manager - INFO - Creating the local route choice manager using LocalRouteChoiceIterativeComputer\n",
      "2021/07/16 00:50:35.694 - NOMAD.local_route_choice_manager - INFO - Creating a walk level local route choice manager using WalkLevelRouteChoiceIterativeComputer\n",
      "2021/07/16 00:50:56.768 - NOMAD.local_route_choice_manager - INFO - Finished creating local route choice manager in 21.073713541030884 seconds\n",
      "2021/07/16 00:50:56.778 - NOMAD.nomad_model - INFO - Model created with PedestrianManagerAttr with pedClass = attrPedOpt\n"
     ]
    },
    {
     "name": "stdout",
     "output_type": "stream",
     "text": [
      "================================\n",
      "................................\n",
      "Simulation done. Processing data... done\n",
      "Runnig replication 14 with seed = 693\n"
     ]
    },
    {
     "name": "stderr",
     "output_type": "stream",
     "text": [
      "2021/07/16 00:54:52.052 - NOMAD.local_route_choice_manager - INFO - Creating the local route choice manager using LocalRouteChoiceIterativeComputer\n",
      "2021/07/16 00:54:52.052 - NOMAD.local_route_choice_manager - INFO - Creating a walk level local route choice manager using WalkLevelRouteChoiceIterativeComputer\n",
      "2021/07/16 00:55:13.347 - NOMAD.local_route_choice_manager - INFO - Finished creating local route choice manager in 21.29423689842224 seconds\n",
      "2021/07/16 00:55:13.357 - NOMAD.nomad_model - INFO - Model created with PedestrianManagerAttr with pedClass = attrPedOpt\n"
     ]
    },
    {
     "name": "stdout",
     "output_type": "stream",
     "text": [
      "================================\n",
      "................................\n",
      "Simulation done. Processing data... done\n",
      "Checking convergence... done\n",
      "Runnig replication 15 with seed = 1078\n"
     ]
    },
    {
     "name": "stderr",
     "output_type": "stream",
     "text": [
      "2021/07/16 00:59:17.105 - NOMAD.local_route_choice_manager - INFO - Creating the local route choice manager using LocalRouteChoiceIterativeComputer\n",
      "2021/07/16 00:59:17.107 - NOMAD.local_route_choice_manager - INFO - Creating a walk level local route choice manager using WalkLevelRouteChoiceIterativeComputer\n",
      "2021/07/16 00:59:38.749 - NOMAD.local_route_choice_manager - INFO - Finished creating local route choice manager in 21.6426522731781 seconds\n",
      "2021/07/16 00:59:38.759 - NOMAD.nomad_model - INFO - Model created with PedestrianManagerAttr with pedClass = attrPedOpt\n"
     ]
    },
    {
     "name": "stdout",
     "output_type": "stream",
     "text": [
      "================================\n",
      "................................\n",
      "Simulation done. Processing data... done\n",
      "Runnig replication 16 with seed = 1563\n"
     ]
    },
    {
     "name": "stderr",
     "output_type": "stream",
     "text": [
      "2021/07/16 01:03:41.878 - NOMAD.local_route_choice_manager - INFO - Creating the local route choice manager using LocalRouteChoiceIterativeComputer\n",
      "2021/07/16 01:03:41.878 - NOMAD.local_route_choice_manager - INFO - Creating a walk level local route choice manager using WalkLevelRouteChoiceIterativeComputer\n",
      "2021/07/16 01:04:03.818 - NOMAD.local_route_choice_manager - INFO - Finished creating local route choice manager in 21.93994641304016 seconds\n",
      "2021/07/16 01:04:03.820 - NOMAD.nomad_model - INFO - Model created with PedestrianManagerAttr with pedClass = attrPedOpt\n"
     ]
    },
    {
     "name": "stdout",
     "output_type": "stream",
     "text": [
      "================================\n",
      "................................\n",
      "Simulation done. Processing data... done\n",
      "Runnig replication 17 with seed = 2701\n"
     ]
    },
    {
     "name": "stderr",
     "output_type": "stream",
     "text": [
      "2021/07/16 01:08:01.560 - NOMAD.local_route_choice_manager - INFO - Creating the local route choice manager using LocalRouteChoiceIterativeComputer\n",
      "2021/07/16 01:08:01.560 - NOMAD.local_route_choice_manager - INFO - Creating a walk level local route choice manager using WalkLevelRouteChoiceIterativeComputer\n",
      "2021/07/16 01:08:23.590 - NOMAD.local_route_choice_manager - INFO - Finished creating local route choice manager in 22.030664443969727 seconds\n",
      "2021/07/16 01:08:23.610 - NOMAD.nomad_model - INFO - Model created with PedestrianManagerAttr with pedClass = attrPedOpt\n"
     ]
    },
    {
     "name": "stdout",
     "output_type": "stream",
     "text": [
      "================================\n",
      "................................\n",
      "Simulation done. Processing data... done\n",
      "Runnig replication 18 with seed = 1139\n"
     ]
    },
    {
     "name": "stderr",
     "output_type": "stream",
     "text": [
      "2021/07/16 01:12:39.947 - NOMAD.local_route_choice_manager - INFO - Creating the local route choice manager using LocalRouteChoiceIterativeComputer\n",
      "2021/07/16 01:12:39.950 - NOMAD.local_route_choice_manager - INFO - Creating a walk level local route choice manager using WalkLevelRouteChoiceIterativeComputer\n",
      "2021/07/16 01:13:06.558 - NOMAD.local_route_choice_manager - INFO - Finished creating local route choice manager in 26.60729956626892 seconds\n",
      "2021/07/16 01:13:06.562 - NOMAD.nomad_model - INFO - Model created with PedestrianManagerAttr with pedClass = attrPedOpt\n"
     ]
    },
    {
     "name": "stdout",
     "output_type": "stream",
     "text": [
      "================================\n",
      "................................\n",
      "Simulation done. Processing data... done\n",
      "Runnig replication 19 with seed = 3736\n"
     ]
    },
    {
     "name": "stderr",
     "output_type": "stream",
     "text": [
      "2021/07/16 01:18:36.451 - NOMAD.local_route_choice_manager - INFO - Creating the local route choice manager using LocalRouteChoiceIterativeComputer\n",
      "2021/07/16 01:18:36.451 - NOMAD.local_route_choice_manager - INFO - Creating a walk level local route choice manager using WalkLevelRouteChoiceIterativeComputer\n",
      "2021/07/16 01:19:05.947 - NOMAD.local_route_choice_manager - INFO - Finished creating local route choice manager in 29.496784687042236 seconds\n",
      "2021/07/16 01:19:05.951 - NOMAD.nomad_model - INFO - Model created with PedestrianManagerAttr with pedClass = attrPedOpt\n"
     ]
    },
    {
     "name": "stdout",
     "output_type": "stream",
     "text": [
      "================================\n",
      "................................\n",
      "Simulation done. Processing data... done\n",
      "Checking convergence... done\n",
      "Runnig replication 20 with seed = 1814\n"
     ]
    },
    {
     "name": "stderr",
     "output_type": "stream",
     "text": [
      "2021/07/16 01:24:40.172 - NOMAD.local_route_choice_manager - INFO - Creating the local route choice manager using LocalRouteChoiceIterativeComputer\n",
      "2021/07/16 01:24:40.177 - NOMAD.local_route_choice_manager - INFO - Creating a walk level local route choice manager using WalkLevelRouteChoiceIterativeComputer\n",
      "2021/07/16 01:25:12.062 - NOMAD.local_route_choice_manager - INFO - Finished creating local route choice manager in 31.884581327438354 seconds\n",
      "2021/07/16 01:25:12.070 - NOMAD.nomad_model - INFO - Model created with PedestrianManagerAttr with pedClass = attrPedOpt\n"
     ]
    },
    {
     "name": "stdout",
     "output_type": "stream",
     "text": [
      "================================\n",
      "................................\n",
      "Simulation done. Processing data... done\n",
      "Runnig replication 21 with seed = 2863\n"
     ]
    },
    {
     "name": "stderr",
     "output_type": "stream",
     "text": [
      "2021/07/16 01:29:50.598 - NOMAD.local_route_choice_manager - INFO - Creating the local route choice manager using LocalRouteChoiceIterativeComputer\n",
      "2021/07/16 01:29:50.598 - NOMAD.local_route_choice_manager - INFO - Creating a walk level local route choice manager using WalkLevelRouteChoiceIterativeComputer\n",
      "2021/07/16 01:30:12.790 - NOMAD.local_route_choice_manager - INFO - Finished creating local route choice manager in 22.191864013671875 seconds\n",
      "2021/07/16 01:30:12.798 - NOMAD.nomad_model - INFO - Model created with PedestrianManagerAttr with pedClass = attrPedOpt\n"
     ]
    },
    {
     "name": "stdout",
     "output_type": "stream",
     "text": [
      "================================\n",
      "................................\n",
      "Simulation done. Processing data... done\n",
      "Runnig replication 22 with seed = 3080\n"
     ]
    },
    {
     "name": "stderr",
     "output_type": "stream",
     "text": [
      "2021/07/16 01:34:11.492 - NOMAD.local_route_choice_manager - INFO - Creating the local route choice manager using LocalRouteChoiceIterativeComputer\n",
      "2021/07/16 01:34:11.492 - NOMAD.local_route_choice_manager - INFO - Creating a walk level local route choice manager using WalkLevelRouteChoiceIterativeComputer\n",
      "2021/07/16 01:34:32.971 - NOMAD.local_route_choice_manager - INFO - Finished creating local route choice manager in 21.47941279411316 seconds\n",
      "2021/07/16 01:34:32.980 - NOMAD.nomad_model - INFO - Model created with PedestrianManagerAttr with pedClass = attrPedOpt\n"
     ]
    },
    {
     "name": "stdout",
     "output_type": "stream",
     "text": [
      "================================\n",
      "................................\n",
      "Simulation done. Processing data... done\n",
      "Runnig replication 23 with seed = 845\n"
     ]
    },
    {
     "name": "stderr",
     "output_type": "stream",
     "text": [
      "2021/07/16 01:38:32.018 - NOMAD.local_route_choice_manager - INFO - Creating the local route choice manager using LocalRouteChoiceIterativeComputer\n",
      "2021/07/16 01:38:32.018 - NOMAD.local_route_choice_manager - INFO - Creating a walk level local route choice manager using WalkLevelRouteChoiceIterativeComputer\n",
      "2021/07/16 01:38:53.666 - NOMAD.local_route_choice_manager - INFO - Finished creating local route choice manager in 21.647801160812378 seconds\n",
      "2021/07/16 01:38:53.676 - NOMAD.nomad_model - INFO - Model created with PedestrianManagerAttr with pedClass = attrPedOpt\n"
     ]
    },
    {
     "name": "stdout",
     "output_type": "stream",
     "text": [
      "================================\n",
      "................................\n",
      "Simulation done. Processing data... done\n",
      "Runnig replication 24 with seed = 2911\n"
     ]
    },
    {
     "name": "stderr",
     "output_type": "stream",
     "text": [
      "2021/07/16 01:42:48.098 - NOMAD.local_route_choice_manager - INFO - Creating the local route choice manager using LocalRouteChoiceIterativeComputer\n",
      "2021/07/16 01:42:48.098 - NOMAD.local_route_choice_manager - INFO - Creating a walk level local route choice manager using WalkLevelRouteChoiceIterativeComputer\n",
      "2021/07/16 01:43:09.935 - NOMAD.local_route_choice_manager - INFO - Finished creating local route choice manager in 21.836983680725098 seconds\n",
      "2021/07/16 01:43:09.937 - NOMAD.nomad_model - INFO - Model created with PedestrianManagerAttr with pedClass = attrPedOpt\n"
     ]
    },
    {
     "name": "stdout",
     "output_type": "stream",
     "text": [
      "================================\n",
      "................................\n",
      "Simulation done. Processing data... done\n",
      "Checking convergence... done\n",
      "Runnig replication 25 with seed = 517\n"
     ]
    },
    {
     "name": "stderr",
     "output_type": "stream",
     "text": [
      "2021/07/16 01:47:07.637 - NOMAD.local_route_choice_manager - INFO - Creating the local route choice manager using LocalRouteChoiceIterativeComputer\n",
      "2021/07/16 01:47:07.637 - NOMAD.local_route_choice_manager - INFO - Creating a walk level local route choice manager using WalkLevelRouteChoiceIterativeComputer\n",
      "2021/07/16 01:47:29.074 - NOMAD.local_route_choice_manager - INFO - Finished creating local route choice manager in 21.43626379966736 seconds\n",
      "2021/07/16 01:47:29.104 - NOMAD.nomad_model - INFO - Model created with PedestrianManagerAttr with pedClass = attrPedOpt\n"
     ]
    },
    {
     "name": "stdout",
     "output_type": "stream",
     "text": [
      "================================\n",
      "................................\n",
      "Simulation done. Processing data... done\n",
      "Runnig replication 26 with seed = 3195\n"
     ]
    },
    {
     "name": "stderr",
     "output_type": "stream",
     "text": [
      "2021/07/16 01:51:23.884 - NOMAD.local_route_choice_manager - INFO - Creating the local route choice manager using LocalRouteChoiceIterativeComputer\n",
      "2021/07/16 01:51:23.884 - NOMAD.local_route_choice_manager - INFO - Creating a walk level local route choice manager using WalkLevelRouteChoiceIterativeComputer\n",
      "2021/07/16 01:51:44.991 - NOMAD.local_route_choice_manager - INFO - Finished creating local route choice manager in 21.10723853111267 seconds\n",
      "2021/07/16 01:51:45.001 - NOMAD.nomad_model - INFO - Model created with PedestrianManagerAttr with pedClass = attrPedOpt\n"
     ]
    },
    {
     "name": "stdout",
     "output_type": "stream",
     "text": [
      "================================\n",
      "................................\n",
      "Simulation done. Processing data... done\n",
      "Runnig replication 27 with seed = 699\n"
     ]
    },
    {
     "name": "stderr",
     "output_type": "stream",
     "text": [
      "2021/07/16 01:55:51.671 - NOMAD.local_route_choice_manager - INFO - Creating the local route choice manager using LocalRouteChoiceIterativeComputer\n",
      "2021/07/16 01:55:51.691 - NOMAD.local_route_choice_manager - INFO - Creating a walk level local route choice manager using WalkLevelRouteChoiceIterativeComputer\n",
      "2021/07/16 01:56:13.361 - NOMAD.local_route_choice_manager - INFO - Finished creating local route choice manager in 21.66983962059021 seconds\n",
      "2021/07/16 01:56:13.361 - NOMAD.nomad_model - INFO - Model created with PedestrianManagerAttr with pedClass = attrPedOpt\n"
     ]
    },
    {
     "name": "stdout",
     "output_type": "stream",
     "text": [
      "================================\n",
      "................................\n",
      "Simulation done. Processing data... done\n",
      "Runnig replication 28 with seed = 2266\n"
     ]
    },
    {
     "name": "stderr",
     "output_type": "stream",
     "text": [
      "2021/07/16 02:00:23.664 - NOMAD.local_route_choice_manager - INFO - Creating the local route choice manager using LocalRouteChoiceIterativeComputer\n",
      "2021/07/16 02:00:23.674 - NOMAD.local_route_choice_manager - INFO - Creating a walk level local route choice manager using WalkLevelRouteChoiceIterativeComputer\n",
      "2021/07/16 02:00:45.424 - NOMAD.local_route_choice_manager - INFO - Finished creating local route choice manager in 21.750006914138794 seconds\n",
      "2021/07/16 02:00:45.424 - NOMAD.nomad_model - INFO - Model created with PedestrianManagerAttr with pedClass = attrPedOpt\n"
     ]
    },
    {
     "name": "stdout",
     "output_type": "stream",
     "text": [
      "================================\n",
      "................................\n",
      "Simulation done. Processing data... done\n",
      "Runnig replication 29 with seed = 3107\n"
     ]
    },
    {
     "name": "stderr",
     "output_type": "stream",
     "text": [
      "2021/07/16 02:04:39.373 - NOMAD.local_route_choice_manager - INFO - Creating the local route choice manager using LocalRouteChoiceIterativeComputer\n",
      "2021/07/16 02:04:39.375 - NOMAD.local_route_choice_manager - INFO - Creating a walk level local route choice manager using WalkLevelRouteChoiceIterativeComputer\n",
      "2021/07/16 02:05:01.087 - NOMAD.local_route_choice_manager - INFO - Finished creating local route choice manager in 21.711880683898926 seconds\n",
      "2021/07/16 02:05:01.095 - NOMAD.nomad_model - INFO - Model created with PedestrianManagerAttr with pedClass = attrPedOpt\n"
     ]
    },
    {
     "name": "stdout",
     "output_type": "stream",
     "text": [
      "================================\n",
      "................................\n",
      "Simulation done. Processing data... done\n",
      "Checking convergence... done\n",
      "Runnig replication 30 with seed = 201\n"
     ]
    },
    {
     "name": "stderr",
     "output_type": "stream",
     "text": [
      "2021/07/16 02:09:03.856 - NOMAD.local_route_choice_manager - INFO - Creating the local route choice manager using LocalRouteChoiceIterativeComputer\n",
      "2021/07/16 02:09:03.856 - NOMAD.local_route_choice_manager - INFO - Creating a walk level local route choice manager using WalkLevelRouteChoiceIterativeComputer\n",
      "2021/07/16 02:09:25.496 - NOMAD.local_route_choice_manager - INFO - Finished creating local route choice manager in 21.64017915725708 seconds\n",
      "2021/07/16 02:09:25.506 - NOMAD.nomad_model - INFO - Model created with PedestrianManagerAttr with pedClass = attrPedOpt\n"
     ]
    },
    {
     "name": "stdout",
     "output_type": "stream",
     "text": [
      "================================\n",
      "................................\n",
      "Simulation done. Processing data... done\n",
      "Runnig replication 31 with seed = 1334\n"
     ]
    },
    {
     "name": "stderr",
     "output_type": "stream",
     "text": [
      "2021/07/16 02:13:23.824 - NOMAD.local_route_choice_manager - INFO - Creating the local route choice manager using LocalRouteChoiceIterativeComputer\n",
      "2021/07/16 02:13:23.842 - NOMAD.local_route_choice_manager - INFO - Creating a walk level local route choice manager using WalkLevelRouteChoiceIterativeComputer\n",
      "2021/07/16 02:13:45.381 - NOMAD.local_route_choice_manager - INFO - Finished creating local route choice manager in 21.539513111114502 seconds\n",
      "2021/07/16 02:13:45.389 - NOMAD.nomad_model - INFO - Model created with PedestrianManagerAttr with pedClass = attrPedOpt\n"
     ]
    },
    {
     "name": "stdout",
     "output_type": "stream",
     "text": [
      "================================\n",
      "................................\n",
      "Simulation done. Processing data... done\n",
      "Runnig replication 32 with seed = 3998\n"
     ]
    },
    {
     "name": "stderr",
     "output_type": "stream",
     "text": [
      "2021/07/16 02:17:52.666 - NOMAD.local_route_choice_manager - INFO - Creating the local route choice manager using LocalRouteChoiceIterativeComputer\n",
      "2021/07/16 02:17:52.676 - NOMAD.local_route_choice_manager - INFO - Creating a walk level local route choice manager using WalkLevelRouteChoiceIterativeComputer\n",
      "2021/07/16 02:18:14.563 - NOMAD.local_route_choice_manager - INFO - Finished creating local route choice manager in 21.887447357177734 seconds\n",
      "2021/07/16 02:18:14.584 - NOMAD.nomad_model - INFO - Model created with PedestrianManagerAttr with pedClass = attrPedOpt\n"
     ]
    },
    {
     "name": "stdout",
     "output_type": "stream",
     "text": [
      "================================\n",
      "................................\n",
      "Simulation done. Processing data... done\n",
      "Runnig replication 33 with seed = 344\n"
     ]
    },
    {
     "name": "stderr",
     "output_type": "stream",
     "text": [
      "2021/07/16 02:22:22.218 - NOMAD.local_route_choice_manager - INFO - Creating the local route choice manager using LocalRouteChoiceIterativeComputer\n",
      "2021/07/16 02:22:22.218 - NOMAD.local_route_choice_manager - INFO - Creating a walk level local route choice manager using WalkLevelRouteChoiceIterativeComputer\n",
      "2021/07/16 02:22:43.868 - NOMAD.local_route_choice_manager - INFO - Finished creating local route choice manager in 21.649718046188354 seconds\n",
      "2021/07/16 02:22:43.876 - NOMAD.nomad_model - INFO - Model created with PedestrianManagerAttr with pedClass = attrPedOpt\n"
     ]
    },
    {
     "name": "stdout",
     "output_type": "stream",
     "text": [
      "================================\n",
      "................................\n",
      "Simulation done. Processing data... done\n",
      "Runnig replication 34 with seed = 2188\n"
     ]
    },
    {
     "name": "stderr",
     "output_type": "stream",
     "text": [
      "2021/07/16 02:26:44.116 - NOMAD.local_route_choice_manager - INFO - Creating the local route choice manager using LocalRouteChoiceIterativeComputer\n",
      "2021/07/16 02:26:44.126 - NOMAD.local_route_choice_manager - INFO - Creating a walk level local route choice manager using WalkLevelRouteChoiceIterativeComputer\n",
      "2021/07/16 02:27:06.065 - NOMAD.local_route_choice_manager - INFO - Finished creating local route choice manager in 21.939080715179443 seconds\n",
      "2021/07/16 02:27:06.077 - NOMAD.nomad_model - INFO - Model created with PedestrianManagerAttr with pedClass = attrPedOpt\n"
     ]
    },
    {
     "name": "stdout",
     "output_type": "stream",
     "text": [
      "================================\n",
      "................................\n",
      "Simulation done. Processing data... done\n",
      "Checking convergence... done\n",
      "Runnig replication 35 with seed = 2425\n"
     ]
    },
    {
     "name": "stderr",
     "output_type": "stream",
     "text": [
      "2021/07/16 02:31:01.651 - NOMAD.local_route_choice_manager - INFO - Creating the local route choice manager using LocalRouteChoiceIterativeComputer\n",
      "2021/07/16 02:31:01.651 - NOMAD.local_route_choice_manager - INFO - Creating a walk level local route choice manager using WalkLevelRouteChoiceIterativeComputer\n",
      "2021/07/16 02:31:23.198 - NOMAD.local_route_choice_manager - INFO - Finished creating local route choice manager in 21.54694938659668 seconds\n",
      "2021/07/16 02:31:23.206 - NOMAD.nomad_model - INFO - Model created with PedestrianManagerAttr with pedClass = attrPedOpt\n"
     ]
    },
    {
     "name": "stdout",
     "output_type": "stream",
     "text": [
      "================================\n",
      "................................\n",
      "Simulation done. Processing data... done\n",
      "Runnig replication 36 with seed = 3433\n"
     ]
    },
    {
     "name": "stderr",
     "output_type": "stream",
     "text": [
      "2021/07/16 02:35:27.556 - NOMAD.local_route_choice_manager - INFO - Creating the local route choice manager using LocalRouteChoiceIterativeComputer\n",
      "2021/07/16 02:35:27.566 - NOMAD.local_route_choice_manager - INFO - Creating a walk level local route choice manager using WalkLevelRouteChoiceIterativeComputer\n",
      "2021/07/16 02:35:48.803 - NOMAD.local_route_choice_manager - INFO - Finished creating local route choice manager in 21.236989736557007 seconds\n",
      "2021/07/16 02:35:48.811 - NOMAD.nomad_model - INFO - Model created with PedestrianManagerAttr with pedClass = attrPedOpt\n"
     ]
    },
    {
     "name": "stdout",
     "output_type": "stream",
     "text": [
      "================================\n",
      "................................\n",
      "Simulation done. Processing data... done\n",
      "Runnig replication 37 with seed = 1373\n"
     ]
    },
    {
     "name": "stderr",
     "output_type": "stream",
     "text": [
      "2021/07/16 02:39:54.986 - NOMAD.local_route_choice_manager - INFO - Creating the local route choice manager using LocalRouteChoiceIterativeComputer\n",
      "2021/07/16 02:39:54.986 - NOMAD.local_route_choice_manager - INFO - Creating a walk level local route choice manager using WalkLevelRouteChoiceIterativeComputer\n",
      "2021/07/16 02:40:16.827 - NOMAD.local_route_choice_manager - INFO - Finished creating local route choice manager in 21.841195106506348 seconds\n",
      "2021/07/16 02:40:16.835 - NOMAD.nomad_model - INFO - Model created with PedestrianManagerAttr with pedClass = attrPedOpt\n"
     ]
    },
    {
     "name": "stdout",
     "output_type": "stream",
     "text": [
      "================================\n",
      "................................\n",
      "Simulation done. Processing data... done\n",
      "Runnig replication 38 with seed = 3628\n"
     ]
    },
    {
     "name": "stderr",
     "output_type": "stream",
     "text": [
      "2021/07/16 02:44:30.726 - NOMAD.local_route_choice_manager - INFO - Creating the local route choice manager using LocalRouteChoiceIterativeComputer\n",
      "2021/07/16 02:44:30.726 - NOMAD.local_route_choice_manager - INFO - Creating a walk level local route choice manager using WalkLevelRouteChoiceIterativeComputer\n",
      "2021/07/16 02:44:52.561 - NOMAD.local_route_choice_manager - INFO - Finished creating local route choice manager in 21.8349449634552 seconds\n",
      "2021/07/16 02:44:52.561 - NOMAD.nomad_model - INFO - Model created with PedestrianManagerAttr with pedClass = attrPedOpt\n"
     ]
    },
    {
     "name": "stdout",
     "output_type": "stream",
     "text": [
      "================================\n",
      "................................\n",
      "Simulation done. Processing data... done\n",
      "Runnig replication 39 with seed = 905\n"
     ]
    },
    {
     "name": "stderr",
     "output_type": "stream",
     "text": [
      "2021/07/16 02:49:01.029 - NOMAD.local_route_choice_manager - INFO - Creating the local route choice manager using LocalRouteChoiceIterativeComputer\n",
      "2021/07/16 02:49:01.037 - NOMAD.local_route_choice_manager - INFO - Creating a walk level local route choice manager using WalkLevelRouteChoiceIterativeComputer\n",
      "2021/07/16 02:49:22.985 - NOMAD.local_route_choice_manager - INFO - Finished creating local route choice manager in 21.948763132095337 seconds\n",
      "2021/07/16 02:49:22.993 - NOMAD.nomad_model - INFO - Model created with PedestrianManagerAttr with pedClass = attrPedOpt\n"
     ]
    },
    {
     "name": "stdout",
     "output_type": "stream",
     "text": [
      "================================\n",
      "................................\n",
      "Simulation done. Processing data... done\n",
      "Checking convergence... done\n",
      "Runnig replication 40 with seed = 3463\n"
     ]
    },
    {
     "name": "stderr",
     "output_type": "stream",
     "text": [
      "2021/07/16 02:53:39.954 - NOMAD.local_route_choice_manager - INFO - Creating the local route choice manager using LocalRouteChoiceIterativeComputer\n",
      "2021/07/16 02:53:39.956 - NOMAD.local_route_choice_manager - INFO - Creating a walk level local route choice manager using WalkLevelRouteChoiceIterativeComputer\n",
      "2021/07/16 02:54:02.254 - NOMAD.local_route_choice_manager - INFO - Finished creating local route choice manager in 22.297951698303223 seconds\n",
      "2021/07/16 02:54:02.264 - NOMAD.nomad_model - INFO - Model created with PedestrianManagerAttr with pedClass = attrPedOpt\n"
     ]
    },
    {
     "name": "stdout",
     "output_type": "stream",
     "text": [
      "================================\n",
      "................................\n",
      "Simulation done. Processing data... done\n",
      "Runnig replication 41 with seed = 1599\n"
     ]
    },
    {
     "name": "stderr",
     "output_type": "stream",
     "text": [
      "2021/07/16 02:58:01.810 - NOMAD.local_route_choice_manager - INFO - Creating the local route choice manager using LocalRouteChoiceIterativeComputer\n",
      "2021/07/16 02:58:01.810 - NOMAD.local_route_choice_manager - INFO - Creating a walk level local route choice manager using WalkLevelRouteChoiceIterativeComputer\n",
      "2021/07/16 02:58:23.844 - NOMAD.local_route_choice_manager - INFO - Finished creating local route choice manager in 22.034392595291138 seconds\n",
      "2021/07/16 02:58:23.844 - NOMAD.nomad_model - INFO - Model created with PedestrianManagerAttr with pedClass = attrPedOpt\n"
     ]
    },
    {
     "name": "stdout",
     "output_type": "stream",
     "text": [
      "================================\n",
      "................................\n",
      "Simulation done. Processing data... done\n",
      "Runnig replication 42 with seed = 26\n"
     ]
    },
    {
     "name": "stderr",
     "output_type": "stream",
     "text": [
      "2021/07/16 03:02:41.161 - NOMAD.local_route_choice_manager - INFO - Creating the local route choice manager using LocalRouteChoiceIterativeComputer\n",
      "2021/07/16 03:02:41.163 - NOMAD.local_route_choice_manager - INFO - Creating a walk level local route choice manager using WalkLevelRouteChoiceIterativeComputer\n",
      "2021/07/16 03:03:02.944 - NOMAD.local_route_choice_manager - INFO - Finished creating local route choice manager in 21.781531810760498 seconds\n",
      "2021/07/16 03:03:02.954 - NOMAD.nomad_model - INFO - Model created with PedestrianManagerAttr with pedClass = attrPedOpt\n"
     ]
    },
    {
     "name": "stdout",
     "output_type": "stream",
     "text": [
      "================================\n",
      "................................\n",
      "Simulation done. Processing data... done\n",
      "Runnig replication 43 with seed = 960\n"
     ]
    },
    {
     "name": "stderr",
     "output_type": "stream",
     "text": [
      "2021/07/16 03:07:09.832 - NOMAD.local_route_choice_manager - INFO - Creating the local route choice manager using LocalRouteChoiceIterativeComputer\n",
      "2021/07/16 03:07:09.832 - NOMAD.local_route_choice_manager - INFO - Creating a walk level local route choice manager using WalkLevelRouteChoiceIterativeComputer\n",
      "2021/07/16 03:07:31.552 - NOMAD.local_route_choice_manager - INFO - Finished creating local route choice manager in 21.720208168029785 seconds\n",
      "2021/07/16 03:07:31.552 - NOMAD.nomad_model - INFO - Model created with PedestrianManagerAttr with pedClass = attrPedOpt\n"
     ]
    },
    {
     "name": "stdout",
     "output_type": "stream",
     "text": [
      "================================\n",
      "................................\n",
      "Simulation done. Processing data... done\n",
      "Runnig replication 44 with seed = 2794\n"
     ]
    },
    {
     "name": "stderr",
     "output_type": "stream",
     "text": [
      "2021/07/16 03:11:32.342 - NOMAD.local_route_choice_manager - INFO - Creating the local route choice manager using LocalRouteChoiceIterativeComputer\n",
      "2021/07/16 03:11:32.342 - NOMAD.local_route_choice_manager - INFO - Creating a walk level local route choice manager using WalkLevelRouteChoiceIterativeComputer\n",
      "2021/07/16 03:11:53.809 - NOMAD.local_route_choice_manager - INFO - Finished creating local route choice manager in 21.46733832359314 seconds\n",
      "2021/07/16 03:11:53.811 - NOMAD.nomad_model - INFO - Model created with PedestrianManagerAttr with pedClass = attrPedOpt\n"
     ]
    },
    {
     "name": "stdout",
     "output_type": "stream",
     "text": [
      "================================\n",
      "................................\n",
      "Simulation done. Processing data... done\n",
      "Checking convergence... done\n",
      "Runnig replication 45 with seed = 946\n"
     ]
    },
    {
     "name": "stderr",
     "output_type": "stream",
     "text": [
      "2021/07/16 03:15:54.731 - NOMAD.local_route_choice_manager - INFO - Creating the local route choice manager using LocalRouteChoiceIterativeComputer\n",
      "2021/07/16 03:15:54.731 - NOMAD.local_route_choice_manager - INFO - Creating a walk level local route choice manager using WalkLevelRouteChoiceIterativeComputer\n",
      "2021/07/16 03:16:16.707 - NOMAD.local_route_choice_manager - INFO - Finished creating local route choice manager in 21.97513198852539 seconds\n",
      "2021/07/16 03:16:16.717 - NOMAD.nomad_model - INFO - Model created with PedestrianManagerAttr with pedClass = attrPedOpt\n"
     ]
    },
    {
     "name": "stdout",
     "output_type": "stream",
     "text": [
      "================================\n",
      "................................\n",
      "Simulation done. Processing data... done\n",
      "Runnig replication 46 with seed = 3025\n"
     ]
    },
    {
     "name": "stderr",
     "output_type": "stream",
     "text": [
      "2021/07/16 03:20:18.013 - NOMAD.local_route_choice_manager - INFO - Creating the local route choice manager using LocalRouteChoiceIterativeComputer\n",
      "2021/07/16 03:20:18.013 - NOMAD.local_route_choice_manager - INFO - Creating a walk level local route choice manager using WalkLevelRouteChoiceIterativeComputer\n",
      "2021/07/16 03:20:39.115 - NOMAD.local_route_choice_manager - INFO - Finished creating local route choice manager in 21.102840185165405 seconds\n",
      "2021/07/16 03:20:39.125 - NOMAD.nomad_model - INFO - Model created with PedestrianManagerAttr with pedClass = attrPedOpt\n"
     ]
    },
    {
     "name": "stdout",
     "output_type": "stream",
     "text": [
      "================================\n",
      "................................\n",
      "Simulation done. Processing data... done\n",
      "Runnig replication 47 with seed = 1291\n"
     ]
    },
    {
     "name": "stderr",
     "output_type": "stream",
     "text": [
      "2021/07/16 03:24:50.204 - NOMAD.local_route_choice_manager - INFO - Creating the local route choice manager using LocalRouteChoiceIterativeComputer\n",
      "2021/07/16 03:24:50.204 - NOMAD.local_route_choice_manager - INFO - Creating a walk level local route choice manager using WalkLevelRouteChoiceIterativeComputer\n",
      "2021/07/16 03:25:11.881 - NOMAD.local_route_choice_manager - INFO - Finished creating local route choice manager in 21.677647829055786 seconds\n",
      "2021/07/16 03:25:11.893 - NOMAD.nomad_model - INFO - Model created with PedestrianManagerAttr with pedClass = attrPedOpt\n"
     ]
    },
    {
     "name": "stdout",
     "output_type": "stream",
     "text": [
      "================================\n",
      "................................\n",
      "Simulation done. Processing data... done\n",
      "Runnig replication 48 with seed = 1443\n"
     ]
    },
    {
     "name": "stderr",
     "output_type": "stream",
     "text": [
      "2021/07/16 03:29:16.426 - NOMAD.local_route_choice_manager - INFO - Creating the local route choice manager using LocalRouteChoiceIterativeComputer\n",
      "2021/07/16 03:29:16.426 - NOMAD.local_route_choice_manager - INFO - Creating a walk level local route choice manager using WalkLevelRouteChoiceIterativeComputer\n",
      "2021/07/16 03:29:37.978 - NOMAD.local_route_choice_manager - INFO - Finished creating local route choice manager in 21.551620721817017 seconds\n",
      "2021/07/16 03:29:37.986 - NOMAD.nomad_model - INFO - Model created with PedestrianManagerAttr with pedClass = attrPedOpt\n"
     ]
    },
    {
     "name": "stdout",
     "output_type": "stream",
     "text": [
      "================================\n",
      "................................\n",
      "Simulation done. Processing data... done\n",
      "Runnig replication 49 with seed = 1087\n"
     ]
    },
    {
     "name": "stderr",
     "output_type": "stream",
     "text": [
      "2021/07/16 03:33:47.491 - NOMAD.local_route_choice_manager - INFO - Creating the local route choice manager using LocalRouteChoiceIterativeComputer\n",
      "2021/07/16 03:33:47.491 - NOMAD.local_route_choice_manager - INFO - Creating a walk level local route choice manager using WalkLevelRouteChoiceIterativeComputer\n",
      "2021/07/16 03:34:09.190 - NOMAD.local_route_choice_manager - INFO - Finished creating local route choice manager in 21.69856572151184 seconds\n",
      "2021/07/16 03:34:09.190 - NOMAD.nomad_model - INFO - Model created with PedestrianManagerAttr with pedClass = attrPedOpt\n"
     ]
    },
    {
     "name": "stdout",
     "output_type": "stream",
     "text": [
      "================================\n",
      "................................\n",
      "Simulation done. Processing data... done\n",
      "Checking convergence... done\n",
      "Runnig replication 50 with seed = 1983\n"
     ]
    },
    {
     "name": "stderr",
     "output_type": "stream",
     "text": [
      "2021/07/16 03:38:19.127 - NOMAD.local_route_choice_manager - INFO - Creating the local route choice manager using LocalRouteChoiceIterativeComputer\n",
      "2021/07/16 03:38:19.127 - NOMAD.local_route_choice_manager - INFO - Creating a walk level local route choice manager using WalkLevelRouteChoiceIterativeComputer\n",
      "2021/07/16 03:38:40.905 - NOMAD.local_route_choice_manager - INFO - Finished creating local route choice manager in 21.778749227523804 seconds\n",
      "2021/07/16 03:38:40.907 - NOMAD.nomad_model - INFO - Model created with PedestrianManagerAttr with pedClass = attrPedOpt\n"
     ]
    },
    {
     "name": "stdout",
     "output_type": "stream",
     "text": [
      "================================\n",
      "................................\n",
      "Simulation done. Processing data... done\n",
      "Runnig replication 51 with seed = 364\n"
     ]
    },
    {
     "name": "stderr",
     "output_type": "stream",
     "text": [
      "2021/07/16 03:42:46.967 - NOMAD.local_route_choice_manager - INFO - Creating the local route choice manager using LocalRouteChoiceIterativeComputer\n",
      "2021/07/16 03:42:46.967 - NOMAD.local_route_choice_manager - INFO - Creating a walk level local route choice manager using WalkLevelRouteChoiceIterativeComputer\n",
      "2021/07/16 03:43:08.797 - NOMAD.local_route_choice_manager - INFO - Finished creating local route choice manager in 21.83004069328308 seconds\n",
      "2021/07/16 03:43:08.805 - NOMAD.nomad_model - INFO - Model created with PedestrianManagerAttr with pedClass = attrPedOpt\n"
     ]
    },
    {
     "name": "stdout",
     "output_type": "stream",
     "text": [
      "================================\n",
      "................................\n",
      "Simulation done. Processing data... done\n",
      "Runnig replication 52 with seed = 2202\n"
     ]
    },
    {
     "name": "stderr",
     "output_type": "stream",
     "text": [
      "2021/07/16 03:47:01.281 - NOMAD.local_route_choice_manager - INFO - Creating the local route choice manager using LocalRouteChoiceIterativeComputer\n",
      "2021/07/16 03:47:01.281 - NOMAD.local_route_choice_manager - INFO - Creating a walk level local route choice manager using WalkLevelRouteChoiceIterativeComputer\n",
      "2021/07/16 03:47:23.063 - NOMAD.local_route_choice_manager - INFO - Finished creating local route choice manager in 21.781577825546265 seconds\n",
      "2021/07/16 03:47:23.083 - NOMAD.nomad_model - INFO - Model created with PedestrianManagerAttr with pedClass = attrPedOpt\n"
     ]
    },
    {
     "name": "stdout",
     "output_type": "stream",
     "text": [
      "================================\n",
      "................................\n",
      "Simulation done. Processing data... done\n",
      "Runnig replication 53 with seed = 2832\n"
     ]
    },
    {
     "name": "stderr",
     "output_type": "stream",
     "text": [
      "2021/07/16 03:51:24.715 - NOMAD.local_route_choice_manager - INFO - Creating the local route choice manager using LocalRouteChoiceIterativeComputer\n",
      "2021/07/16 03:51:24.725 - NOMAD.local_route_choice_manager - INFO - Creating a walk level local route choice manager using WalkLevelRouteChoiceIterativeComputer\n",
      "2021/07/16 03:51:46.313 - NOMAD.local_route_choice_manager - INFO - Finished creating local route choice manager in 21.58803415298462 seconds\n",
      "2021/07/16 03:51:46.336 - NOMAD.nomad_model - INFO - Model created with PedestrianManagerAttr with pedClass = attrPedOpt\n"
     ]
    },
    {
     "name": "stdout",
     "output_type": "stream",
     "text": [
      "================================\n",
      "................................\n",
      "Simulation done. Processing data... done\n",
      "Runnig replication 54 with seed = 120\n"
     ]
    },
    {
     "name": "stderr",
     "output_type": "stream",
     "text": [
      "2021/07/16 03:55:46.129 - NOMAD.local_route_choice_manager - INFO - Creating the local route choice manager using LocalRouteChoiceIterativeComputer\n",
      "2021/07/16 03:55:46.129 - NOMAD.local_route_choice_manager - INFO - Creating a walk level local route choice manager using WalkLevelRouteChoiceIterativeComputer\n",
      "2021/07/16 03:56:07.950 - NOMAD.local_route_choice_manager - INFO - Finished creating local route choice manager in 21.820845127105713 seconds\n",
      "2021/07/16 03:56:07.962 - NOMAD.nomad_model - INFO - Model created with PedestrianManagerAttr with pedClass = attrPedOpt\n"
     ]
    },
    {
     "name": "stdout",
     "output_type": "stream",
     "text": [
      "================================\n",
      "................................\n",
      "Simulation done. Processing data... done\n",
      "Checking convergence... done\n",
      "Runnig replication 55 with seed = 3819\n"
     ]
    },
    {
     "name": "stderr",
     "output_type": "stream",
     "text": [
      "2021/07/16 04:00:11.323 - NOMAD.local_route_choice_manager - INFO - Creating the local route choice manager using LocalRouteChoiceIterativeComputer\n",
      "2021/07/16 04:00:11.323 - NOMAD.local_route_choice_manager - INFO - Creating a walk level local route choice manager using WalkLevelRouteChoiceIterativeComputer\n",
      "2021/07/16 04:00:33.195 - NOMAD.local_route_choice_manager - INFO - Finished creating local route choice manager in 21.872254371643066 seconds\n",
      "2021/07/16 04:00:33.223 - NOMAD.nomad_model - INFO - Model created with PedestrianManagerAttr with pedClass = attrPedOpt\n"
     ]
    },
    {
     "name": "stdout",
     "output_type": "stream",
     "text": [
      "================================\n",
      "................................\n",
      "Simulation done. Processing data... done\n",
      "Runnig replication 56 with seed = 1552\n"
     ]
    },
    {
     "name": "stderr",
     "output_type": "stream",
     "text": [
      "2021/07/16 04:04:36.657 - NOMAD.local_route_choice_manager - INFO - Creating the local route choice manager using LocalRouteChoiceIterativeComputer\n",
      "2021/07/16 04:04:36.659 - NOMAD.local_route_choice_manager - INFO - Creating a walk level local route choice manager using WalkLevelRouteChoiceIterativeComputer\n",
      "2021/07/16 04:04:58.812 - NOMAD.local_route_choice_manager - INFO - Finished creating local route choice manager in 22.152615785598755 seconds\n",
      "2021/07/16 04:04:58.832 - NOMAD.nomad_model - INFO - Model created with PedestrianManagerAttr with pedClass = attrPedOpt\n"
     ]
    },
    {
     "name": "stdout",
     "output_type": "stream",
     "text": [
      "================================\n",
      "................................\n",
      "Simulation done. Processing data... done\n",
      "Runnig replication 57 with seed = 3604\n"
     ]
    },
    {
     "name": "stderr",
     "output_type": "stream",
     "text": [
      "2021/07/16 04:09:03.132 - NOMAD.local_route_choice_manager - INFO - Creating the local route choice manager using LocalRouteChoiceIterativeComputer\n",
      "2021/07/16 04:09:03.132 - NOMAD.local_route_choice_manager - INFO - Creating a walk level local route choice manager using WalkLevelRouteChoiceIterativeComputer\n",
      "2021/07/16 04:09:24.853 - NOMAD.local_route_choice_manager - INFO - Finished creating local route choice manager in 21.72127676010132 seconds\n",
      "2021/07/16 04:09:24.855 - NOMAD.nomad_model - INFO - Model created with PedestrianManagerAttr with pedClass = attrPedOpt\n"
     ]
    },
    {
     "name": "stdout",
     "output_type": "stream",
     "text": [
      "================================\n",
      "................................\n",
      "Simulation done. Processing data... done\n",
      "Runnig replication 58 with seed = 1091\n"
     ]
    },
    {
     "name": "stderr",
     "output_type": "stream",
     "text": [
      "2021/07/16 04:13:23.285 - NOMAD.local_route_choice_manager - INFO - Creating the local route choice manager using LocalRouteChoiceIterativeComputer\n",
      "2021/07/16 04:13:23.285 - NOMAD.local_route_choice_manager - INFO - Creating a walk level local route choice manager using WalkLevelRouteChoiceIterativeComputer\n",
      "2021/07/16 04:13:45.397 - NOMAD.local_route_choice_manager - INFO - Finished creating local route choice manager in 22.112420082092285 seconds\n",
      "2021/07/16 04:13:45.407 - NOMAD.nomad_model - INFO - Model created with PedestrianManagerAttr with pedClass = attrPedOpt\n"
     ]
    },
    {
     "name": "stdout",
     "output_type": "stream",
     "text": [
      "================================\n",
      "................................\n",
      "Simulation done. Processing data... done\n",
      "Runnig replication 59 with seed = 240\n"
     ]
    },
    {
     "name": "stderr",
     "output_type": "stream",
     "text": [
      "2021/07/16 04:17:47.998 - NOMAD.local_route_choice_manager - INFO - Creating the local route choice manager using LocalRouteChoiceIterativeComputer\n",
      "2021/07/16 04:17:47.998 - NOMAD.local_route_choice_manager - INFO - Creating a walk level local route choice manager using WalkLevelRouteChoiceIterativeComputer\n",
      "2021/07/16 04:18:09.626 - NOMAD.local_route_choice_manager - INFO - Finished creating local route choice manager in 21.6273033618927 seconds\n",
      "2021/07/16 04:18:09.634 - NOMAD.nomad_model - INFO - Model created with PedestrianManagerAttr with pedClass = attrPedOpt\n"
     ]
    },
    {
     "name": "stdout",
     "output_type": "stream",
     "text": [
      "================================\n",
      "................................\n",
      "Simulation done. Processing data... done\n",
      "Checking convergence... done\n",
      "Runnig replication 60 with seed = 3936\n"
     ]
    },
    {
     "name": "stderr",
     "output_type": "stream",
     "text": [
      "2021/07/16 04:22:10.025 - NOMAD.local_route_choice_manager - INFO - Creating the local route choice manager using LocalRouteChoiceIterativeComputer\n",
      "2021/07/16 04:22:10.027 - NOMAD.local_route_choice_manager - INFO - Creating a walk level local route choice manager using WalkLevelRouteChoiceIterativeComputer\n",
      "2021/07/16 04:22:32.067 - NOMAD.local_route_choice_manager - INFO - Finished creating local route choice manager in 22.040681838989258 seconds\n",
      "2021/07/16 04:22:32.067 - NOMAD.nomad_model - INFO - Model created with PedestrianManagerAttr with pedClass = attrPedOpt\n"
     ]
    },
    {
     "name": "stdout",
     "output_type": "stream",
     "text": [
      "================================\n",
      "................................\n",
      "Simulation done. Processing data... done\n",
      "Runnig replication 61 with seed = 2983\n"
     ]
    },
    {
     "name": "stderr",
     "output_type": "stream",
     "text": [
      "2021/07/16 04:26:33.947 - NOMAD.local_route_choice_manager - INFO - Creating the local route choice manager using LocalRouteChoiceIterativeComputer\n",
      "2021/07/16 04:26:33.947 - NOMAD.local_route_choice_manager - INFO - Creating a walk level local route choice manager using WalkLevelRouteChoiceIterativeComputer\n",
      "2021/07/16 04:26:55.417 - NOMAD.local_route_choice_manager - INFO - Finished creating local route choice manager in 21.469804763793945 seconds\n",
      "2021/07/16 04:26:55.435 - NOMAD.nomad_model - INFO - Model created with PedestrianManagerAttr with pedClass = attrPedOpt\n"
     ]
    },
    {
     "name": "stdout",
     "output_type": "stream",
     "text": [
      "================================\n",
      "................................\n",
      "Simulation done. Processing data... done\n",
      "Runnig replication 62 with seed = 2774\n"
     ]
    },
    {
     "name": "stderr",
     "output_type": "stream",
     "text": [
      "2021/07/16 04:30:59.228 - NOMAD.local_route_choice_manager - INFO - Creating the local route choice manager using LocalRouteChoiceIterativeComputer\n",
      "2021/07/16 04:30:59.228 - NOMAD.local_route_choice_manager - INFO - Creating a walk level local route choice manager using WalkLevelRouteChoiceIterativeComputer\n",
      "2021/07/16 04:31:20.686 - NOMAD.local_route_choice_manager - INFO - Finished creating local route choice manager in 21.458584547042847 seconds\n",
      "2021/07/16 04:31:20.696 - NOMAD.nomad_model - INFO - Model created with PedestrianManagerAttr with pedClass = attrPedOpt\n"
     ]
    },
    {
     "name": "stdout",
     "output_type": "stream",
     "text": [
      "================================\n",
      "................................\n",
      "Simulation done. Processing data... done\n",
      "Runnig replication 63 with seed = 1328\n"
     ]
    },
    {
     "name": "stderr",
     "output_type": "stream",
     "text": [
      "2021/07/16 04:35:19.573 - NOMAD.local_route_choice_manager - INFO - Creating the local route choice manager using LocalRouteChoiceIterativeComputer\n",
      "2021/07/16 04:35:19.573 - NOMAD.local_route_choice_manager - INFO - Creating a walk level local route choice manager using WalkLevelRouteChoiceIterativeComputer\n",
      "2021/07/16 04:35:41.586 - NOMAD.local_route_choice_manager - INFO - Finished creating local route choice manager in 22.012526035308838 seconds\n",
      "2021/07/16 04:35:41.586 - NOMAD.nomad_model - INFO - Model created with PedestrianManagerAttr with pedClass = attrPedOpt\n"
     ]
    },
    {
     "name": "stdout",
     "output_type": "stream",
     "text": [
      "================================\n",
      "................................\n",
      "Simulation done. Processing data... done\n",
      "Runnig replication 64 with seed = 2889\n"
     ]
    },
    {
     "name": "stderr",
     "output_type": "stream",
     "text": [
      "2021/07/16 04:39:55.485 - NOMAD.local_route_choice_manager - INFO - Creating the local route choice manager using LocalRouteChoiceIterativeComputer\n",
      "2021/07/16 04:39:55.495 - NOMAD.local_route_choice_manager - INFO - Creating a walk level local route choice manager using WalkLevelRouteChoiceIterativeComputer\n",
      "2021/07/16 04:40:17.262 - NOMAD.local_route_choice_manager - INFO - Finished creating local route choice manager in 21.76739525794983 seconds\n",
      "2021/07/16 04:40:17.262 - NOMAD.nomad_model - INFO - Model created with PedestrianManagerAttr with pedClass = attrPedOpt\n"
     ]
    },
    {
     "name": "stdout",
     "output_type": "stream",
     "text": [
      "================================\n",
      "................................\n",
      "Simulation done. Processing data... done\n",
      "Checking convergence... done\n",
      "Runnig replication 65 with seed = 1863\n"
     ]
    },
    {
     "name": "stderr",
     "output_type": "stream",
     "text": [
      "2021/07/16 04:44:36.653 - NOMAD.local_route_choice_manager - INFO - Creating the local route choice manager using LocalRouteChoiceIterativeComputer\n",
      "2021/07/16 04:44:36.653 - NOMAD.local_route_choice_manager - INFO - Creating a walk level local route choice manager using WalkLevelRouteChoiceIterativeComputer\n",
      "2021/07/16 04:44:58.886 - NOMAD.local_route_choice_manager - INFO - Finished creating local route choice manager in 22.232190132141113 seconds\n",
      "2021/07/16 04:44:58.906 - NOMAD.nomad_model - INFO - Model created with PedestrianManagerAttr with pedClass = attrPedOpt\n"
     ]
    },
    {
     "name": "stdout",
     "output_type": "stream",
     "text": [
      "================================\n",
      "................................\n",
      "Simulation done. Processing data... done\n",
      "Runnig replication 66 with seed = 3320\n"
     ]
    },
    {
     "name": "stderr",
     "output_type": "stream",
     "text": [
      "2021/07/16 04:48:59.729 - NOMAD.local_route_choice_manager - INFO - Creating the local route choice manager using LocalRouteChoiceIterativeComputer\n",
      "2021/07/16 04:48:59.739 - NOMAD.local_route_choice_manager - INFO - Creating a walk level local route choice manager using WalkLevelRouteChoiceIterativeComputer\n",
      "2021/07/16 04:49:21.350 - NOMAD.local_route_choice_manager - INFO - Finished creating local route choice manager in 21.608546018600464 seconds\n",
      "2021/07/16 04:49:21.350 - NOMAD.nomad_model - INFO - Model created with PedestrianManagerAttr with pedClass = attrPedOpt\n"
     ]
    },
    {
     "name": "stdout",
     "output_type": "stream",
     "text": [
      "================================\n",
      "................................\n",
      "Simulation done. Processing data... done\n",
      "Runnig replication 67 with seed = 1665\n"
     ]
    },
    {
     "name": "stderr",
     "output_type": "stream",
     "text": [
      "2021/07/16 04:53:22.699 - NOMAD.local_route_choice_manager - INFO - Creating the local route choice manager using LocalRouteChoiceIterativeComputer\n",
      "2021/07/16 04:53:22.719 - NOMAD.local_route_choice_manager - INFO - Creating a walk level local route choice manager using WalkLevelRouteChoiceIterativeComputer\n",
      "2021/07/16 04:53:44.277 - NOMAD.local_route_choice_manager - INFO - Finished creating local route choice manager in 21.557950973510742 seconds\n",
      "2021/07/16 04:53:44.285 - NOMAD.nomad_model - INFO - Model created with PedestrianManagerAttr with pedClass = attrPedOpt\n"
     ]
    },
    {
     "name": "stdout",
     "output_type": "stream",
     "text": [
      "================================\n",
      "................................\n",
      "Simulation done. Processing data... done\n",
      "Runnig replication 68 with seed = 3951\n"
     ]
    },
    {
     "name": "stderr",
     "output_type": "stream",
     "text": [
      "2021/07/16 04:57:50.144 - NOMAD.local_route_choice_manager - INFO - Creating the local route choice manager using LocalRouteChoiceIterativeComputer\n",
      "2021/07/16 04:57:50.144 - NOMAD.local_route_choice_manager - INFO - Creating a walk level local route choice manager using WalkLevelRouteChoiceIterativeComputer\n",
      "2021/07/16 04:58:11.421 - NOMAD.local_route_choice_manager - INFO - Finished creating local route choice manager in 21.27716636657715 seconds\n",
      "2021/07/16 04:58:11.421 - NOMAD.nomad_model - INFO - Model created with PedestrianManagerAttr with pedClass = attrPedOpt\n"
     ]
    },
    {
     "name": "stdout",
     "output_type": "stream",
     "text": [
      "================================\n",
      "................................\n",
      "Simulation done. Processing data... done\n",
      "Runnig replication 69 with seed = 2604\n"
     ]
    },
    {
     "name": "stderr",
     "output_type": "stream",
     "text": [
      "2021/07/16 05:02:07.882 - NOMAD.local_route_choice_manager - INFO - Creating the local route choice manager using LocalRouteChoiceIterativeComputer\n",
      "2021/07/16 05:02:07.882 - NOMAD.local_route_choice_manager - INFO - Creating a walk level local route choice manager using WalkLevelRouteChoiceIterativeComputer\n",
      "2021/07/16 05:02:29.640 - NOMAD.local_route_choice_manager - INFO - Finished creating local route choice manager in 21.758046627044678 seconds\n",
      "2021/07/16 05:02:29.642 - NOMAD.nomad_model - INFO - Model created with PedestrianManagerAttr with pedClass = attrPedOpt\n"
     ]
    },
    {
     "name": "stdout",
     "output_type": "stream",
     "text": [
      "================================\n",
      "................................\n",
      "Simulation done. Processing data... done\n",
      "Checking convergence... done\n",
      "Runnig replication 70 with seed = 534\n"
     ]
    },
    {
     "name": "stderr",
     "output_type": "stream",
     "text": [
      "2021/07/16 05:06:35.935 - NOMAD.local_route_choice_manager - INFO - Creating the local route choice manager using LocalRouteChoiceIterativeComputer\n",
      "2021/07/16 05:06:35.945 - NOMAD.local_route_choice_manager - INFO - Creating a walk level local route choice manager using WalkLevelRouteChoiceIterativeComputer\n",
      "2021/07/16 05:06:57.536 - NOMAD.local_route_choice_manager - INFO - Finished creating local route choice manager in 21.598631381988525 seconds\n",
      "2021/07/16 05:06:57.538 - NOMAD.nomad_model - INFO - Model created with PedestrianManagerAttr with pedClass = attrPedOpt\n"
     ]
    },
    {
     "name": "stdout",
     "output_type": "stream",
     "text": [
      "================================\n",
      "................................\n",
      "Simulation done. Processing data... done\n",
      "Runnig replication 71 with seed = 2937\n"
     ]
    },
    {
     "name": "stderr",
     "output_type": "stream",
     "text": [
      "2021/07/16 05:10:57.844 - NOMAD.local_route_choice_manager - INFO - Creating the local route choice manager using LocalRouteChoiceIterativeComputer\n",
      "2021/07/16 05:10:57.844 - NOMAD.local_route_choice_manager - INFO - Creating a walk level local route choice manager using WalkLevelRouteChoiceIterativeComputer\n",
      "2021/07/16 05:11:19.678 - NOMAD.local_route_choice_manager - INFO - Finished creating local route choice manager in 21.83419418334961 seconds\n",
      "2021/07/16 05:11:19.680 - NOMAD.nomad_model - INFO - Model created with PedestrianManagerAttr with pedClass = attrPedOpt\n"
     ]
    },
    {
     "name": "stdout",
     "output_type": "stream",
     "text": [
      "================================\n",
      "................................\n",
      "Simulation done. Processing data... done\n",
      "Runnig replication 72 with seed = 3817\n"
     ]
    },
    {
     "name": "stderr",
     "output_type": "stream",
     "text": [
      "2021/07/16 05:15:24.740 - NOMAD.local_route_choice_manager - INFO - Creating the local route choice manager using LocalRouteChoiceIterativeComputer\n",
      "2021/07/16 05:15:24.750 - NOMAD.local_route_choice_manager - INFO - Creating a walk level local route choice manager using WalkLevelRouteChoiceIterativeComputer\n",
      "2021/07/16 05:15:46.477 - NOMAD.local_route_choice_manager - INFO - Finished creating local route choice manager in 21.72662854194641 seconds\n",
      "2021/07/16 05:15:46.487 - NOMAD.nomad_model - INFO - Model created with PedestrianManagerAttr with pedClass = attrPedOpt\n"
     ]
    },
    {
     "name": "stdout",
     "output_type": "stream",
     "text": [
      "================================\n",
      "................................\n",
      "Simulation done. Processing data... done\n",
      "Runnig replication 73 with seed = 2326\n"
     ]
    },
    {
     "name": "stderr",
     "output_type": "stream",
     "text": [
      "2021/07/16 05:19:50.735 - NOMAD.local_route_choice_manager - INFO - Creating the local route choice manager using LocalRouteChoiceIterativeComputer\n",
      "2021/07/16 05:19:50.735 - NOMAD.local_route_choice_manager - INFO - Creating a walk level local route choice manager using WalkLevelRouteChoiceIterativeComputer\n",
      "2021/07/16 05:20:12.322 - NOMAD.local_route_choice_manager - INFO - Finished creating local route choice manager in 21.587645053863525 seconds\n",
      "2021/07/16 05:20:12.330 - NOMAD.nomad_model - INFO - Model created with PedestrianManagerAttr with pedClass = attrPedOpt\n"
     ]
    },
    {
     "name": "stdout",
     "output_type": "stream",
     "text": [
      "================================\n",
      "................................\n",
      "Simulation done. Processing data... done\n",
      "Runnig replication 74 with seed = 1333\n"
     ]
    },
    {
     "name": "stderr",
     "output_type": "stream",
     "text": [
      "2021/07/16 05:24:21.269 - NOMAD.local_route_choice_manager - INFO - Creating the local route choice manager using LocalRouteChoiceIterativeComputer\n",
      "2021/07/16 05:24:21.269 - NOMAD.local_route_choice_manager - INFO - Creating a walk level local route choice manager using WalkLevelRouteChoiceIterativeComputer\n",
      "2021/07/16 05:24:43.044 - NOMAD.local_route_choice_manager - INFO - Finished creating local route choice manager in 21.77471375465393 seconds\n",
      "2021/07/16 05:24:43.044 - NOMAD.nomad_model - INFO - Model created with PedestrianManagerAttr with pedClass = attrPedOpt\n"
     ]
    },
    {
     "name": "stdout",
     "output_type": "stream",
     "text": [
      "================================\n",
      "................................\n",
      "Simulation done. Processing data... done\n",
      "Checking convergence... done\n",
      "Runnig replication 75 with seed = 2468\n"
     ]
    },
    {
     "name": "stderr",
     "output_type": "stream",
     "text": [
      "2021/07/16 05:28:50.835 - NOMAD.local_route_choice_manager - INFO - Creating the local route choice manager using LocalRouteChoiceIterativeComputer\n",
      "2021/07/16 05:28:50.846 - NOMAD.local_route_choice_manager - INFO - Creating a walk level local route choice manager using WalkLevelRouteChoiceIterativeComputer\n",
      "2021/07/16 05:29:12.690 - NOMAD.local_route_choice_manager - INFO - Finished creating local route choice manager in 21.844566106796265 seconds\n",
      "2021/07/16 05:29:12.700 - NOMAD.nomad_model - INFO - Model created with PedestrianManagerAttr with pedClass = attrPedOpt\n"
     ]
    },
    {
     "name": "stdout",
     "output_type": "stream",
     "text": [
      "================================\n",
      "................................\n",
      "Simulation done. Processing data... done\n",
      "Runnig replication 76 with seed = 3549\n"
     ]
    },
    {
     "name": "stderr",
     "output_type": "stream",
     "text": [
      "2021/07/16 05:33:22.085 - NOMAD.local_route_choice_manager - INFO - Creating the local route choice manager using LocalRouteChoiceIterativeComputer\n",
      "2021/07/16 05:33:22.093 - NOMAD.local_route_choice_manager - INFO - Creating a walk level local route choice manager using WalkLevelRouteChoiceIterativeComputer\n",
      "2021/07/16 05:33:43.669 - NOMAD.local_route_choice_manager - INFO - Finished creating local route choice manager in 21.576475858688354 seconds\n",
      "2021/07/16 05:33:43.677 - NOMAD.nomad_model - INFO - Model created with PedestrianManagerAttr with pedClass = attrPedOpt\n"
     ]
    },
    {
     "name": "stdout",
     "output_type": "stream",
     "text": [
      "================================\n",
      "................................\n",
      "Simulation done. Processing data... done\n",
      "Runnig replication 77 with seed = 3308\n"
     ]
    },
    {
     "name": "stderr",
     "output_type": "stream",
     "text": [
      "2021/07/16 05:37:42.978 - NOMAD.local_route_choice_manager - INFO - Creating the local route choice manager using LocalRouteChoiceIterativeComputer\n",
      "2021/07/16 05:37:42.978 - NOMAD.local_route_choice_manager - INFO - Creating a walk level local route choice manager using WalkLevelRouteChoiceIterativeComputer\n",
      "2021/07/16 05:38:04.821 - NOMAD.local_route_choice_manager - INFO - Finished creating local route choice manager in 21.842729330062866 seconds\n",
      "2021/07/16 05:38:04.829 - NOMAD.nomad_model - INFO - Model created with PedestrianManagerAttr with pedClass = attrPedOpt\n"
     ]
    },
    {
     "name": "stdout",
     "output_type": "stream",
     "text": [
      "================================\n",
      "................................\n",
      "Simulation done. Processing data... done\n",
      "Runnig replication 78 with seed = 2570\n"
     ]
    },
    {
     "name": "stderr",
     "output_type": "stream",
     "text": [
      "2021/07/16 05:42:09.303 - NOMAD.local_route_choice_manager - INFO - Creating the local route choice manager using LocalRouteChoiceIterativeComputer\n",
      "2021/07/16 05:42:09.305 - NOMAD.local_route_choice_manager - INFO - Creating a walk level local route choice manager using WalkLevelRouteChoiceIterativeComputer\n",
      "2021/07/16 05:42:31.165 - NOMAD.local_route_choice_manager - INFO - Finished creating local route choice manager in 21.859560251235962 seconds\n",
      "2021/07/16 05:42:31.175 - NOMAD.nomad_model - INFO - Model created with PedestrianManagerAttr with pedClass = attrPedOpt\n"
     ]
    },
    {
     "name": "stdout",
     "output_type": "stream",
     "text": [
      "================================\n",
      "................................\n",
      "Simulation done. Processing data... done\n",
      "Runnig replication 79 with seed = 1263\n"
     ]
    },
    {
     "name": "stderr",
     "output_type": "stream",
     "text": [
      "2021/07/16 05:46:35.342 - NOMAD.local_route_choice_manager - INFO - Creating the local route choice manager using LocalRouteChoiceIterativeComputer\n",
      "2021/07/16 05:46:35.343 - NOMAD.local_route_choice_manager - INFO - Creating a walk level local route choice manager using WalkLevelRouteChoiceIterativeComputer\n",
      "2021/07/16 05:46:57.499 - NOMAD.local_route_choice_manager - INFO - Finished creating local route choice manager in 22.156002044677734 seconds\n",
      "2021/07/16 05:46:57.509 - NOMAD.nomad_model - INFO - Model created with PedestrianManagerAttr with pedClass = attrPedOpt\n"
     ]
    },
    {
     "name": "stdout",
     "output_type": "stream",
     "text": [
      "================================\n",
      "................................\n",
      "Simulation done. Processing data... done\n",
      "Checking convergence... done\n",
      "Runnig replication 80 with seed = 2576\n"
     ]
    },
    {
     "name": "stderr",
     "output_type": "stream",
     "text": [
      "2021/07/16 05:51:03.676 - NOMAD.local_route_choice_manager - INFO - Creating the local route choice manager using LocalRouteChoiceIterativeComputer\n",
      "2021/07/16 05:51:03.676 - NOMAD.local_route_choice_manager - INFO - Creating a walk level local route choice manager using WalkLevelRouteChoiceIterativeComputer\n",
      "2021/07/16 05:51:26.118 - NOMAD.local_route_choice_manager - INFO - Finished creating local route choice manager in 22.442331314086914 seconds\n",
      "2021/07/16 05:51:26.128 - NOMAD.nomad_model - INFO - Model created with PedestrianManagerAttr with pedClass = attrPedOpt\n"
     ]
    },
    {
     "name": "stdout",
     "output_type": "stream",
     "text": [
      "================================\n",
      "................................\n",
      "Simulation done. Processing data... done\n",
      "Runnig replication 81 with seed = 2327\n"
     ]
    },
    {
     "name": "stderr",
     "output_type": "stream",
     "text": [
      "2021/07/16 05:55:30.503 - NOMAD.local_route_choice_manager - INFO - Creating the local route choice manager using LocalRouteChoiceIterativeComputer\n",
      "2021/07/16 05:55:30.503 - NOMAD.local_route_choice_manager - INFO - Creating a walk level local route choice manager using WalkLevelRouteChoiceIterativeComputer\n",
      "2021/07/16 05:55:52.456 - NOMAD.local_route_choice_manager - INFO - Finished creating local route choice manager in 21.952473640441895 seconds\n",
      "2021/07/16 05:55:52.466 - NOMAD.nomad_model - INFO - Model created with PedestrianManagerAttr with pedClass = attrPedOpt\n"
     ]
    },
    {
     "name": "stdout",
     "output_type": "stream",
     "text": [
      "================================\n",
      "................................\n",
      "Simulation done. Processing data... done\n",
      "Runnig replication 82 with seed = 2654\n"
     ]
    },
    {
     "name": "stderr",
     "output_type": "stream",
     "text": [
      "2021/07/16 06:00:04.355 - NOMAD.local_route_choice_manager - INFO - Creating the local route choice manager using LocalRouteChoiceIterativeComputer\n",
      "2021/07/16 06:00:04.356 - NOMAD.local_route_choice_manager - INFO - Creating a walk level local route choice manager using WalkLevelRouteChoiceIterativeComputer\n",
      "2021/07/16 06:00:26.075 - NOMAD.local_route_choice_manager - INFO - Finished creating local route choice manager in 21.719111919403076 seconds\n",
      "2021/07/16 06:00:26.087 - NOMAD.nomad_model - INFO - Model created with PedestrianManagerAttr with pedClass = attrPedOpt\n"
     ]
    },
    {
     "name": "stdout",
     "output_type": "stream",
     "text": [
      "================================\n",
      "................................\n",
      "Simulation done. Processing data... done\n",
      "Runnig replication 83 with seed = 2012\n"
     ]
    },
    {
     "name": "stderr",
     "output_type": "stream",
     "text": [
      "2021/07/16 06:04:24.371 - NOMAD.local_route_choice_manager - INFO - Creating the local route choice manager using LocalRouteChoiceIterativeComputer\n",
      "2021/07/16 06:04:24.371 - NOMAD.local_route_choice_manager - INFO - Creating a walk level local route choice manager using WalkLevelRouteChoiceIterativeComputer\n",
      "2021/07/16 06:04:47.016 - NOMAD.local_route_choice_manager - INFO - Finished creating local route choice manager in 22.644883632659912 seconds\n",
      "2021/07/16 06:04:47.026 - NOMAD.nomad_model - INFO - Model created with PedestrianManagerAttr with pedClass = attrPedOpt\n"
     ]
    },
    {
     "name": "stdout",
     "output_type": "stream",
     "text": [
      "================================\n",
      "................................\n",
      "Simulation done. Processing data... done\n",
      "Runnig replication 84 with seed = 784\n"
     ]
    },
    {
     "name": "stderr",
     "output_type": "stream",
     "text": [
      "2021/07/16 06:08:45.512 - NOMAD.local_route_choice_manager - INFO - Creating the local route choice manager using LocalRouteChoiceIterativeComputer\n",
      "2021/07/16 06:08:45.512 - NOMAD.local_route_choice_manager - INFO - Creating a walk level local route choice manager using WalkLevelRouteChoiceIterativeComputer\n",
      "2021/07/16 06:09:07.245 - NOMAD.local_route_choice_manager - INFO - Finished creating local route choice manager in 21.733399152755737 seconds\n",
      "2021/07/16 06:09:07.265 - NOMAD.nomad_model - INFO - Model created with PedestrianManagerAttr with pedClass = attrPedOpt\n"
     ]
    },
    {
     "name": "stdout",
     "output_type": "stream",
     "text": [
      "================================\n",
      "................................\n",
      "Simulation done. Processing data... done\n",
      "Checking convergence... done\n",
      "Runnig replication 85 with seed = 1018\n"
     ]
    },
    {
     "name": "stderr",
     "output_type": "stream",
     "text": [
      "2021/07/16 06:13:06.377 - NOMAD.local_route_choice_manager - INFO - Creating the local route choice manager using LocalRouteChoiceIterativeComputer\n",
      "2021/07/16 06:13:06.377 - NOMAD.local_route_choice_manager - INFO - Creating a walk level local route choice manager using WalkLevelRouteChoiceIterativeComputer\n",
      "2021/07/16 06:13:28.268 - NOMAD.local_route_choice_manager - INFO - Finished creating local route choice manager in 21.89113140106201 seconds\n",
      "2021/07/16 06:13:28.276 - NOMAD.nomad_model - INFO - Model created with PedestrianManagerAttr with pedClass = attrPedOpt\n"
     ]
    },
    {
     "name": "stdout",
     "output_type": "stream",
     "text": [
      "================================\n",
      "................................\n",
      "Simulation done. Processing data... done\n",
      "Runnig replication 86 with seed = 3256\n"
     ]
    },
    {
     "name": "stderr",
     "output_type": "stream",
     "text": [
      "2021/07/16 06:17:26.040 - NOMAD.local_route_choice_manager - INFO - Creating the local route choice manager using LocalRouteChoiceIterativeComputer\n",
      "2021/07/16 06:17:26.042 - NOMAD.local_route_choice_manager - INFO - Creating a walk level local route choice manager using WalkLevelRouteChoiceIterativeComputer\n",
      "2021/07/16 06:17:47.873 - NOMAD.local_route_choice_manager - INFO - Finished creating local route choice manager in 21.832916259765625 seconds\n",
      "2021/07/16 06:17:47.883 - NOMAD.nomad_model - INFO - Model created with PedestrianManagerAttr with pedClass = attrPedOpt\n"
     ]
    },
    {
     "name": "stdout",
     "output_type": "stream",
     "text": [
      "================================\n",
      "................................\n",
      "Simulation done. Processing data... done\n",
      "Runnig replication 87 with seed = 3414\n"
     ]
    },
    {
     "name": "stderr",
     "output_type": "stream",
     "text": [
      "2021/07/16 06:21:53.037 - NOMAD.local_route_choice_manager - INFO - Creating the local route choice manager using LocalRouteChoiceIterativeComputer\n",
      "2021/07/16 06:21:53.037 - NOMAD.local_route_choice_manager - INFO - Creating a walk level local route choice manager using WalkLevelRouteChoiceIterativeComputer\n",
      "2021/07/16 06:22:14.846 - NOMAD.local_route_choice_manager - INFO - Finished creating local route choice manager in 21.809404134750366 seconds\n",
      "2021/07/16 06:22:14.866 - NOMAD.nomad_model - INFO - Model created with PedestrianManagerAttr with pedClass = attrPedOpt\n"
     ]
    },
    {
     "name": "stdout",
     "output_type": "stream",
     "text": [
      "================================\n",
      "................................\n",
      "Simulation done. Processing data... done\n",
      "Runnig replication 88 with seed = 1203\n"
     ]
    },
    {
     "name": "stderr",
     "output_type": "stream",
     "text": [
      "2021/07/16 06:26:19.546 - NOMAD.local_route_choice_manager - INFO - Creating the local route choice manager using LocalRouteChoiceIterativeComputer\n",
      "2021/07/16 06:26:19.546 - NOMAD.local_route_choice_manager - INFO - Creating a walk level local route choice manager using WalkLevelRouteChoiceIterativeComputer\n",
      "2021/07/16 06:26:41.215 - NOMAD.local_route_choice_manager - INFO - Finished creating local route choice manager in 21.669217824935913 seconds\n",
      "2021/07/16 06:26:41.217 - NOMAD.nomad_model - INFO - Model created with PedestrianManagerAttr with pedClass = attrPedOpt\n"
     ]
    },
    {
     "name": "stdout",
     "output_type": "stream",
     "text": [
      "================================\n",
      "................................\n",
      "Simulation done. Processing data... done\n",
      "Runnig replication 89 with seed = 128\n"
     ]
    },
    {
     "name": "stderr",
     "output_type": "stream",
     "text": [
      "2021/07/16 06:30:47.627 - NOMAD.local_route_choice_manager - INFO - Creating the local route choice manager using LocalRouteChoiceIterativeComputer\n",
      "2021/07/16 06:30:47.627 - NOMAD.local_route_choice_manager - INFO - Creating a walk level local route choice manager using WalkLevelRouteChoiceIterativeComputer\n",
      "2021/07/16 06:31:09.149 - NOMAD.local_route_choice_manager - INFO - Finished creating local route choice manager in 21.521843671798706 seconds\n",
      "2021/07/16 06:31:09.151 - NOMAD.nomad_model - INFO - Model created with PedestrianManagerAttr with pedClass = attrPedOpt\n"
     ]
    },
    {
     "name": "stdout",
     "output_type": "stream",
     "text": [
      "================================\n",
      "................................\n",
      "Simulation done. Processing data... done\n",
      "Checking convergence... done\n",
      "Runnig replication 90 with seed = 780\n"
     ]
    },
    {
     "name": "stderr",
     "output_type": "stream",
     "text": [
      "2021/07/16 06:35:15.949 - NOMAD.local_route_choice_manager - INFO - Creating the local route choice manager using LocalRouteChoiceIterativeComputer\n",
      "2021/07/16 06:35:15.951 - NOMAD.local_route_choice_manager - INFO - Creating a walk level local route choice manager using WalkLevelRouteChoiceIterativeComputer\n",
      "2021/07/16 06:35:37.133 - NOMAD.local_route_choice_manager - INFO - Finished creating local route choice manager in 21.181431770324707 seconds\n",
      "2021/07/16 06:35:37.141 - NOMAD.nomad_model - INFO - Model created with PedestrianManagerAttr with pedClass = attrPedOpt\n"
     ]
    },
    {
     "name": "stdout",
     "output_type": "stream",
     "text": [
      "================================\n",
      "................................\n",
      "Simulation done. Processing data... done\n",
      "Runnig replication 91 with seed = 1205\n"
     ]
    },
    {
     "name": "stderr",
     "output_type": "stream",
     "text": [
      "2021/07/16 06:39:43.777 - NOMAD.local_route_choice_manager - INFO - Creating the local route choice manager using LocalRouteChoiceIterativeComputer\n",
      "2021/07/16 06:39:43.777 - NOMAD.local_route_choice_manager - INFO - Creating a walk level local route choice manager using WalkLevelRouteChoiceIterativeComputer\n",
      "2021/07/16 06:40:05.347 - NOMAD.local_route_choice_manager - INFO - Finished creating local route choice manager in 21.569992542266846 seconds\n",
      "2021/07/16 06:40:05.357 - NOMAD.nomad_model - INFO - Model created with PedestrianManagerAttr with pedClass = attrPedOpt\n"
     ]
    },
    {
     "name": "stdout",
     "output_type": "stream",
     "text": [
      "================================\n",
      "................................\n",
      "Simulation done. Processing data... done\n",
      "Runnig replication 92 with seed = 2923\n"
     ]
    },
    {
     "name": "stderr",
     "output_type": "stream",
     "text": [
      "2021/07/16 06:44:05.942 - NOMAD.local_route_choice_manager - INFO - Creating the local route choice manager using LocalRouteChoiceIterativeComputer\n",
      "2021/07/16 06:44:05.962 - NOMAD.local_route_choice_manager - INFO - Creating a walk level local route choice manager using WalkLevelRouteChoiceIterativeComputer\n",
      "2021/07/16 06:44:27.560 - NOMAD.local_route_choice_manager - INFO - Finished creating local route choice manager in 21.5979962348938 seconds\n",
      "2021/07/16 06:44:27.569 - NOMAD.nomad_model - INFO - Model created with PedestrianManagerAttr with pedClass = attrPedOpt\n"
     ]
    },
    {
     "name": "stdout",
     "output_type": "stream",
     "text": [
      "================================\n",
      "................................\n",
      "Simulation done. Processing data... done\n",
      "Runnig replication 93 with seed = 1457\n"
     ]
    },
    {
     "name": "stderr",
     "output_type": "stream",
     "text": [
      "2021/07/16 06:48:33.793 - NOMAD.local_route_choice_manager - INFO - Creating the local route choice manager using LocalRouteChoiceIterativeComputer\n",
      "2021/07/16 06:48:33.795 - NOMAD.local_route_choice_manager - INFO - Creating a walk level local route choice manager using WalkLevelRouteChoiceIterativeComputer\n",
      "2021/07/16 06:48:56.191 - NOMAD.local_route_choice_manager - INFO - Finished creating local route choice manager in 22.396002769470215 seconds\n",
      "2021/07/16 06:48:56.211 - NOMAD.nomad_model - INFO - Model created with PedestrianManagerAttr with pedClass = attrPedOpt\n"
     ]
    },
    {
     "name": "stdout",
     "output_type": "stream",
     "text": [
      "================================\n",
      "................................\n",
      "Simulation done. Processing data... done\n",
      "Runnig replication 94 with seed = 3541\n"
     ]
    },
    {
     "name": "stderr",
     "output_type": "stream",
     "text": [
      "2021/07/16 06:52:59.725 - NOMAD.local_route_choice_manager - INFO - Creating the local route choice manager using LocalRouteChoiceIterativeComputer\n",
      "2021/07/16 06:52:59.725 - NOMAD.local_route_choice_manager - INFO - Creating a walk level local route choice manager using WalkLevelRouteChoiceIterativeComputer\n",
      "2021/07/16 06:53:21.623 - NOMAD.local_route_choice_manager - INFO - Finished creating local route choice manager in 21.89808487892151 seconds\n",
      "2021/07/16 06:53:21.623 - NOMAD.nomad_model - INFO - Model created with PedestrianManagerAttr with pedClass = attrPedOpt\n"
     ]
    },
    {
     "name": "stdout",
     "output_type": "stream",
     "text": [
      "================================\n",
      "................................\n",
      "Simulation done. Processing data... done\n",
      "Checking convergence... done\n",
      "Runnig replication 95 with seed = 646\n"
     ]
    },
    {
     "name": "stderr",
     "output_type": "stream",
     "text": [
      "2021/07/16 06:57:29.728 - NOMAD.local_route_choice_manager - INFO - Creating the local route choice manager using LocalRouteChoiceIterativeComputer\n",
      "2021/07/16 06:57:29.738 - NOMAD.local_route_choice_manager - INFO - Creating a walk level local route choice manager using WalkLevelRouteChoiceIterativeComputer\n",
      "2021/07/16 06:57:51.812 - NOMAD.local_route_choice_manager - INFO - Finished creating local route choice manager in 22.07374405860901 seconds\n",
      "2021/07/16 06:57:51.812 - NOMAD.nomad_model - INFO - Model created with PedestrianManagerAttr with pedClass = attrPedOpt\n"
     ]
    },
    {
     "name": "stdout",
     "output_type": "stream",
     "text": [
      "================================\n",
      "................................\n",
      "Simulation done. Processing data... done\n",
      "Runnig replication 96 with seed = 2977\n"
     ]
    },
    {
     "name": "stderr",
     "output_type": "stream",
     "text": [
      "2021/07/16 07:01:50.702 - NOMAD.local_route_choice_manager - INFO - Creating the local route choice manager using LocalRouteChoiceIterativeComputer\n",
      "2021/07/16 07:01:50.712 - NOMAD.local_route_choice_manager - INFO - Creating a walk level local route choice manager using WalkLevelRouteChoiceIterativeComputer\n",
      "2021/07/16 07:02:12.178 - NOMAD.local_route_choice_manager - INFO - Finished creating local route choice manager in 21.466091871261597 seconds\n",
      "2021/07/16 07:02:12.188 - NOMAD.nomad_model - INFO - Model created with PedestrianManagerAttr with pedClass = attrPedOpt\n"
     ]
    },
    {
     "name": "stdout",
     "output_type": "stream",
     "text": [
      "================================\n",
      "................................\n",
      "Simulation done. Processing data... done\n",
      "Runnig replication 97 with seed = 68\n"
     ]
    },
    {
     "name": "stderr",
     "output_type": "stream",
     "text": [
      "2021/07/16 07:06:17.650 - NOMAD.local_route_choice_manager - INFO - Creating the local route choice manager using LocalRouteChoiceIterativeComputer\n",
      "2021/07/16 07:06:17.650 - NOMAD.local_route_choice_manager - INFO - Creating a walk level local route choice manager using WalkLevelRouteChoiceIterativeComputer\n",
      "2021/07/16 07:06:39.631 - NOMAD.local_route_choice_manager - INFO - Finished creating local route choice manager in 21.981094121932983 seconds\n",
      "2021/07/16 07:06:39.639 - NOMAD.nomad_model - INFO - Model created with PedestrianManagerAttr with pedClass = attrPedOpt\n"
     ]
    },
    {
     "name": "stdout",
     "output_type": "stream",
     "text": [
      "================================\n",
      "................................\n",
      "Simulation done. Processing data... done\n",
      "Runnig replication 98 with seed = 3229\n"
     ]
    },
    {
     "name": "stderr",
     "output_type": "stream",
     "text": [
      "2021/07/16 07:10:35.801 - NOMAD.local_route_choice_manager - INFO - Creating the local route choice manager using LocalRouteChoiceIterativeComputer\n",
      "2021/07/16 07:10:35.809 - NOMAD.local_route_choice_manager - INFO - Creating a walk level local route choice manager using WalkLevelRouteChoiceIterativeComputer\n",
      "2021/07/16 07:10:57.802 - NOMAD.local_route_choice_manager - INFO - Finished creating local route choice manager in 21.99232769012451 seconds\n",
      "2021/07/16 07:10:57.822 - NOMAD.nomad_model - INFO - Model created with PedestrianManagerAttr with pedClass = attrPedOpt\n"
     ]
    },
    {
     "name": "stdout",
     "output_type": "stream",
     "text": [
      "================================\n",
      "................................\n",
      "Simulation done. Processing data... done\n",
      "Runnig replication 99 with seed = 3041\n"
     ]
    },
    {
     "name": "stderr",
     "output_type": "stream",
     "text": [
      "2021/07/16 07:15:05.822 - NOMAD.local_route_choice_manager - INFO - Creating the local route choice manager using LocalRouteChoiceIterativeComputer\n",
      "2021/07/16 07:15:05.832 - NOMAD.local_route_choice_manager - INFO - Creating a walk level local route choice manager using WalkLevelRouteChoiceIterativeComputer\n",
      "2021/07/16 07:15:27.923 - NOMAD.local_route_choice_manager - INFO - Finished creating local route choice manager in 22.091808319091797 seconds\n",
      "2021/07/16 07:15:27.933 - NOMAD.nomad_model - INFO - Model created with PedestrianManagerAttr with pedClass = attrPedOpt\n"
     ]
    },
    {
     "name": "stdout",
     "output_type": "stream",
     "text": [
      "================================\n",
      "................................\n",
      "Simulation done. Processing data... done\n",
      "Checking convergence... done\n",
      "Runnig replication 100 with seed = 2930\n"
     ]
    },
    {
     "name": "stderr",
     "output_type": "stream",
     "text": [
      "2021/07/16 07:19:29.981 - NOMAD.local_route_choice_manager - INFO - Creating the local route choice manager using LocalRouteChoiceIterativeComputer\n",
      "2021/07/16 07:19:29.981 - NOMAD.local_route_choice_manager - INFO - Creating a walk level local route choice manager using WalkLevelRouteChoiceIterativeComputer\n",
      "2021/07/16 07:19:51.661 - NOMAD.local_route_choice_manager - INFO - Finished creating local route choice manager in 21.67990756034851 seconds\n",
      "2021/07/16 07:19:51.679 - NOMAD.nomad_model - INFO - Model created with PedestrianManagerAttr with pedClass = attrPedOpt\n"
     ]
    },
    {
     "name": "stdout",
     "output_type": "stream",
     "text": [
      "================================\n",
      "................................\n",
      "Simulation done. Processing data... done\n",
      "Runnig replication 101 with seed = 3485\n"
     ]
    },
    {
     "name": "stderr",
     "output_type": "stream",
     "text": [
      "2021/07/16 07:23:52.021 - NOMAD.local_route_choice_manager - INFO - Creating the local route choice manager using LocalRouteChoiceIterativeComputer\n",
      "2021/07/16 07:23:52.029 - NOMAD.local_route_choice_manager - INFO - Creating a walk level local route choice manager using WalkLevelRouteChoiceIterativeComputer\n",
      "2021/07/16 07:24:13.490 - NOMAD.local_route_choice_manager - INFO - Finished creating local route choice manager in 21.46104407310486 seconds\n",
      "2021/07/16 07:24:13.490 - NOMAD.nomad_model - INFO - Model created with PedestrianManagerAttr with pedClass = attrPedOpt\n"
     ]
    },
    {
     "name": "stdout",
     "output_type": "stream",
     "text": [
      "================================\n",
      "................................\n",
      "Simulation done. Processing data... done\n",
      "Runnig replication 102 with seed = 3872\n"
     ]
    },
    {
     "name": "stderr",
     "output_type": "stream",
     "text": [
      "2021/07/16 07:28:14.841 - NOMAD.local_route_choice_manager - INFO - Creating the local route choice manager using LocalRouteChoiceIterativeComputer\n",
      "2021/07/16 07:28:14.861 - NOMAD.local_route_choice_manager - INFO - Creating a walk level local route choice manager using WalkLevelRouteChoiceIterativeComputer\n",
      "2021/07/16 07:28:36.604 - NOMAD.local_route_choice_manager - INFO - Finished creating local route choice manager in 21.74289894104004 seconds\n",
      "2021/07/16 07:28:36.614 - NOMAD.nomad_model - INFO - Model created with PedestrianManagerAttr with pedClass = attrPedOpt\n"
     ]
    },
    {
     "name": "stdout",
     "output_type": "stream",
     "text": [
      "================================\n",
      "................................\n",
      "Simulation done. Processing data... done\n",
      "Runnig replication 103 with seed = 3379\n"
     ]
    },
    {
     "name": "stderr",
     "output_type": "stream",
     "text": [
      "2021/07/16 07:32:33.227 - NOMAD.local_route_choice_manager - INFO - Creating the local route choice manager using LocalRouteChoiceIterativeComputer\n",
      "2021/07/16 07:32:33.237 - NOMAD.local_route_choice_manager - INFO - Creating a walk level local route choice manager using WalkLevelRouteChoiceIterativeComputer\n",
      "2021/07/16 07:32:54.829 - NOMAD.local_route_choice_manager - INFO - Finished creating local route choice manager in 21.591856718063354 seconds\n",
      "2021/07/16 07:32:54.829 - NOMAD.nomad_model - INFO - Model created with PedestrianManagerAttr with pedClass = attrPedOpt\n"
     ]
    },
    {
     "name": "stdout",
     "output_type": "stream",
     "text": [
      "================================\n",
      "................................\n",
      "Simulation done. Processing data... done\n",
      "Runnig replication 104 with seed = 2666\n"
     ]
    },
    {
     "name": "stderr",
     "output_type": "stream",
     "text": [
      "2021/07/16 07:37:00.822 - NOMAD.local_route_choice_manager - INFO - Creating the local route choice manager using LocalRouteChoiceIterativeComputer\n",
      "2021/07/16 07:37:00.822 - NOMAD.local_route_choice_manager - INFO - Creating a walk level local route choice manager using WalkLevelRouteChoiceIterativeComputer\n",
      "2021/07/16 07:37:22.701 - NOMAD.local_route_choice_manager - INFO - Finished creating local route choice manager in 21.879207849502563 seconds\n",
      "2021/07/16 07:37:22.703 - NOMAD.nomad_model - INFO - Model created with PedestrianManagerAttr with pedClass = attrPedOpt\n"
     ]
    },
    {
     "name": "stdout",
     "output_type": "stream",
     "text": [
      "================================\n",
      "................................\n",
      "Simulation done. Processing data... done\n",
      "Checking convergence... done\n",
      "Runnig replication 105 with seed = 2459\n"
     ]
    },
    {
     "name": "stderr",
     "output_type": "stream",
     "text": [
      "2021/07/16 07:41:21.972 - NOMAD.local_route_choice_manager - INFO - Creating the local route choice manager using LocalRouteChoiceIterativeComputer\n",
      "2021/07/16 07:41:21.972 - NOMAD.local_route_choice_manager - INFO - Creating a walk level local route choice manager using WalkLevelRouteChoiceIterativeComputer\n",
      "2021/07/16 07:41:44.075 - NOMAD.local_route_choice_manager - INFO - Finished creating local route choice manager in 22.103087186813354 seconds\n",
      "2021/07/16 07:41:44.075 - NOMAD.nomad_model - INFO - Model created with PedestrianManagerAttr with pedClass = attrPedOpt\n"
     ]
    },
    {
     "name": "stdout",
     "output_type": "stream",
     "text": [
      "================================\n",
      "................................\n",
      "Simulation done. Processing data... done\n",
      "Runnig replication 106 with seed = 930\n"
     ]
    },
    {
     "name": "stderr",
     "output_type": "stream",
     "text": [
      "2021/07/16 07:45:40.324 - NOMAD.local_route_choice_manager - INFO - Creating the local route choice manager using LocalRouteChoiceIterativeComputer\n",
      "2021/07/16 07:45:40.332 - NOMAD.local_route_choice_manager - INFO - Creating a walk level local route choice manager using WalkLevelRouteChoiceIterativeComputer\n",
      "2021/07/16 07:46:02.104 - NOMAD.local_route_choice_manager - INFO - Finished creating local route choice manager in 21.772867679595947 seconds\n",
      "2021/07/16 07:46:02.104 - NOMAD.nomad_model - INFO - Model created with PedestrianManagerAttr with pedClass = attrPedOpt\n"
     ]
    },
    {
     "name": "stdout",
     "output_type": "stream",
     "text": [
      "================================\n",
      "................................\n",
      "Simulation done. Processing data... done\n",
      "Runnig replication 107 with seed = 2910\n"
     ]
    },
    {
     "name": "stderr",
     "output_type": "stream",
     "text": [
      "2021/07/16 07:49:58.182 - NOMAD.local_route_choice_manager - INFO - Creating the local route choice manager using LocalRouteChoiceIterativeComputer\n",
      "2021/07/16 07:49:58.182 - NOMAD.local_route_choice_manager - INFO - Creating a walk level local route choice manager using WalkLevelRouteChoiceIterativeComputer\n",
      "2021/07/16 07:50:19.652 - NOMAD.local_route_choice_manager - INFO - Finished creating local route choice manager in 21.469372034072876 seconds\n",
      "2021/07/16 07:50:19.664 - NOMAD.nomad_model - INFO - Model created with PedestrianManagerAttr with pedClass = attrPedOpt\n"
     ]
    },
    {
     "name": "stdout",
     "output_type": "stream",
     "text": [
      "================================\n",
      "................................\n",
      "Simulation done. Processing data... done\n",
      "Runnig replication 108 with seed = 1321\n"
     ]
    },
    {
     "name": "stderr",
     "output_type": "stream",
     "text": [
      "2021/07/16 07:54:26.426 - NOMAD.local_route_choice_manager - INFO - Creating the local route choice manager using LocalRouteChoiceIterativeComputer\n",
      "2021/07/16 07:54:26.436 - NOMAD.local_route_choice_manager - INFO - Creating a walk level local route choice manager using WalkLevelRouteChoiceIterativeComputer\n",
      "2021/07/16 07:54:48.278 - NOMAD.local_route_choice_manager - INFO - Finished creating local route choice manager in 21.84226107597351 seconds\n",
      "2021/07/16 07:54:48.278 - NOMAD.nomad_model - INFO - Model created with PedestrianManagerAttr with pedClass = attrPedOpt\n"
     ]
    },
    {
     "name": "stdout",
     "output_type": "stream",
     "text": [
      "================================\n",
      "................................\n",
      "Simulation done. Processing data... done\n",
      "Runnig replication 109 with seed = 2611\n"
     ]
    },
    {
     "name": "stderr",
     "output_type": "stream",
     "text": [
      "2021/07/16 07:59:01.885 - NOMAD.local_route_choice_manager - INFO - Creating the local route choice manager using LocalRouteChoiceIterativeComputer\n",
      "2021/07/16 07:59:01.895 - NOMAD.local_route_choice_manager - INFO - Creating a walk level local route choice manager using WalkLevelRouteChoiceIterativeComputer\n",
      "2021/07/16 07:59:23.964 - NOMAD.local_route_choice_manager - INFO - Finished creating local route choice manager in 22.06972908973694 seconds\n",
      "2021/07/16 07:59:23.964 - NOMAD.nomad_model - INFO - Model created with PedestrianManagerAttr with pedClass = attrPedOpt\n"
     ]
    },
    {
     "name": "stdout",
     "output_type": "stream",
     "text": [
      "================================\n",
      "................................\n",
      "Simulation done. Processing data... done\n",
      "Checking convergence... done\n",
      "Runnig replication 110 with seed = 3928\n"
     ]
    },
    {
     "name": "stderr",
     "output_type": "stream",
     "text": [
      "2021/07/16 08:03:37.742 - NOMAD.local_route_choice_manager - INFO - Creating the local route choice manager using LocalRouteChoiceIterativeComputer\n",
      "2021/07/16 08:03:37.742 - NOMAD.local_route_choice_manager - INFO - Creating a walk level local route choice manager using WalkLevelRouteChoiceIterativeComputer\n",
      "2021/07/16 08:03:59.686 - NOMAD.local_route_choice_manager - INFO - Finished creating local route choice manager in 21.943909406661987 seconds\n",
      "2021/07/16 08:03:59.696 - NOMAD.nomad_model - INFO - Model created with PedestrianManagerAttr with pedClass = attrPedOpt\n"
     ]
    },
    {
     "name": "stdout",
     "output_type": "stream",
     "text": [
      "================================\n",
      "................................\n",
      "Simulation done. Processing data... done\n",
      "Runnig replication 111 with seed = 1758\n"
     ]
    },
    {
     "name": "stderr",
     "output_type": "stream",
     "text": [
      "2021/07/16 08:07:58.866 - NOMAD.local_route_choice_manager - INFO - Creating the local route choice manager using LocalRouteChoiceIterativeComputer\n",
      "2021/07/16 08:07:58.866 - NOMAD.local_route_choice_manager - INFO - Creating a walk level local route choice manager using WalkLevelRouteChoiceIterativeComputer\n",
      "2021/07/16 08:08:20.659 - NOMAD.local_route_choice_manager - INFO - Finished creating local route choice manager in 21.79267954826355 seconds\n",
      "2021/07/16 08:08:20.671 - NOMAD.nomad_model - INFO - Model created with PedestrianManagerAttr with pedClass = attrPedOpt\n"
     ]
    },
    {
     "name": "stdout",
     "output_type": "stream",
     "text": [
      "================================\n",
      "................................\n",
      "Simulation done. Processing data... done\n",
      "Runnig replication 112 with seed = 2541\n"
     ]
    },
    {
     "name": "stderr",
     "output_type": "stream",
     "text": [
      "2021/07/16 08:12:29.754 - NOMAD.local_route_choice_manager - INFO - Creating the local route choice manager using LocalRouteChoiceIterativeComputer\n",
      "2021/07/16 08:12:29.754 - NOMAD.local_route_choice_manager - INFO - Creating a walk level local route choice manager using WalkLevelRouteChoiceIterativeComputer\n",
      "2021/07/16 08:12:51.547 - NOMAD.local_route_choice_manager - INFO - Finished creating local route choice manager in 21.792423009872437 seconds\n",
      "2021/07/16 08:12:51.547 - NOMAD.nomad_model - INFO - Model created with PedestrianManagerAttr with pedClass = attrPedOpt\n"
     ]
    },
    {
     "name": "stdout",
     "output_type": "stream",
     "text": [
      "================================\n",
      "................................\n",
      "Simulation done. Processing data... done\n",
      "Runnig replication 113 with seed = 33\n"
     ]
    },
    {
     "name": "stderr",
     "output_type": "stream",
     "text": [
      "2021/07/16 08:16:55.653 - NOMAD.local_route_choice_manager - INFO - Creating the local route choice manager using LocalRouteChoiceIterativeComputer\n",
      "2021/07/16 08:16:55.661 - NOMAD.local_route_choice_manager - INFO - Creating a walk level local route choice manager using WalkLevelRouteChoiceIterativeComputer\n",
      "2021/07/16 08:17:17.404 - NOMAD.local_route_choice_manager - INFO - Finished creating local route choice manager in 21.742948293685913 seconds\n",
      "2021/07/16 08:17:17.414 - NOMAD.nomad_model - INFO - Model created with PedestrianManagerAttr with pedClass = attrPedOpt\n"
     ]
    },
    {
     "name": "stdout",
     "output_type": "stream",
     "text": [
      "================================\n",
      "................................\n",
      "Simulation done. Processing data... done\n",
      "Runnig replication 114 with seed = 2303\n"
     ]
    },
    {
     "name": "stderr",
     "output_type": "stream",
     "text": [
      "2021/07/16 08:21:15.735 - NOMAD.local_route_choice_manager - INFO - Creating the local route choice manager using LocalRouteChoiceIterativeComputer\n",
      "2021/07/16 08:21:15.753 - NOMAD.local_route_choice_manager - INFO - Creating a walk level local route choice manager using WalkLevelRouteChoiceIterativeComputer\n",
      "2021/07/16 08:21:37.870 - NOMAD.local_route_choice_manager - INFO - Finished creating local route choice manager in 22.117204427719116 seconds\n",
      "2021/07/16 08:21:37.870 - NOMAD.nomad_model - INFO - Model created with PedestrianManagerAttr with pedClass = attrPedOpt\n"
     ]
    },
    {
     "name": "stdout",
     "output_type": "stream",
     "text": [
      "================================\n",
      "................................\n",
      "Simulation done. Processing data... done\n",
      "Checking convergence... done\n",
      "Runnig replication 115 with seed = 3497\n"
     ]
    },
    {
     "name": "stderr",
     "output_type": "stream",
     "text": [
      "2021/07/16 08:25:48.865 - NOMAD.local_route_choice_manager - INFO - Creating the local route choice manager using LocalRouteChoiceIterativeComputer\n",
      "2021/07/16 08:25:48.885 - NOMAD.local_route_choice_manager - INFO - Creating a walk level local route choice manager using WalkLevelRouteChoiceIterativeComputer\n",
      "2021/07/16 08:26:10.940 - NOMAD.local_route_choice_manager - INFO - Finished creating local route choice manager in 22.054680109024048 seconds\n",
      "2021/07/16 08:26:10.948 - NOMAD.nomad_model - INFO - Model created with PedestrianManagerAttr with pedClass = attrPedOpt\n"
     ]
    },
    {
     "name": "stdout",
     "output_type": "stream",
     "text": [
      "================================\n",
      "................................\n",
      "Simulation done. Processing data... done\n",
      "Runnig replication 116 with seed = 1227\n"
     ]
    },
    {
     "name": "stderr",
     "output_type": "stream",
     "text": [
      "2021/07/16 08:30:15.335 - NOMAD.local_route_choice_manager - INFO - Creating the local route choice manager using LocalRouteChoiceIterativeComputer\n",
      "2021/07/16 08:30:15.335 - NOMAD.local_route_choice_manager - INFO - Creating a walk level local route choice manager using WalkLevelRouteChoiceIterativeComputer\n",
      "2021/07/16 08:30:36.879 - NOMAD.local_route_choice_manager - INFO - Finished creating local route choice manager in 21.543628215789795 seconds\n",
      "2021/07/16 08:30:36.899 - NOMAD.nomad_model - INFO - Model created with PedestrianManagerAttr with pedClass = attrPedOpt\n"
     ]
    },
    {
     "name": "stdout",
     "output_type": "stream",
     "text": [
      "================================\n",
      "................................\n",
      "Simulation done. Processing data... done\n",
      "Runnig replication 117 with seed = 1651\n"
     ]
    },
    {
     "name": "stderr",
     "output_type": "stream",
     "text": [
      "2021/07/16 08:34:46.354 - NOMAD.local_route_choice_manager - INFO - Creating the local route choice manager using LocalRouteChoiceIterativeComputer\n",
      "2021/07/16 08:34:46.354 - NOMAD.local_route_choice_manager - INFO - Creating a walk level local route choice manager using WalkLevelRouteChoiceIterativeComputer\n",
      "2021/07/16 08:35:08.208 - NOMAD.local_route_choice_manager - INFO - Finished creating local route choice manager in 21.854425191879272 seconds\n",
      "2021/07/16 08:35:08.218 - NOMAD.nomad_model - INFO - Model created with PedestrianManagerAttr with pedClass = attrPedOpt\n"
     ]
    },
    {
     "name": "stdout",
     "output_type": "stream",
     "text": [
      "================================\n",
      "................................\n",
      "Simulation done. Processing data... done\n",
      "Runnig replication 118 with seed = 3272\n"
     ]
    },
    {
     "name": "stderr",
     "output_type": "stream",
     "text": [
      "2021/07/16 08:39:03.474 - NOMAD.local_route_choice_manager - INFO - Creating the local route choice manager using LocalRouteChoiceIterativeComputer\n",
      "2021/07/16 08:39:03.502 - NOMAD.local_route_choice_manager - INFO - Creating a walk level local route choice manager using WalkLevelRouteChoiceIterativeComputer\n",
      "2021/07/16 08:39:25.130 - NOMAD.local_route_choice_manager - INFO - Finished creating local route choice manager in 21.62826371192932 seconds\n",
      "2021/07/16 08:39:25.132 - NOMAD.nomad_model - INFO - Model created with PedestrianManagerAttr with pedClass = attrPedOpt\n"
     ]
    },
    {
     "name": "stdout",
     "output_type": "stream",
     "text": [
      "================================\n",
      "................................\n",
      "Simulation done. Processing data... done\n",
      "Runnig replication 119 with seed = 3016\n"
     ]
    },
    {
     "name": "stderr",
     "output_type": "stream",
     "text": [
      "2021/07/16 08:43:33.987 - NOMAD.local_route_choice_manager - INFO - Creating the local route choice manager using LocalRouteChoiceIterativeComputer\n",
      "2021/07/16 08:43:33.987 - NOMAD.local_route_choice_manager - INFO - Creating a walk level local route choice manager using WalkLevelRouteChoiceIterativeComputer\n",
      "2021/07/16 08:43:56.045 - NOMAD.local_route_choice_manager - INFO - Finished creating local route choice manager in 22.058447122573853 seconds\n",
      "2021/07/16 08:43:56.057 - NOMAD.nomad_model - INFO - Model created with PedestrianManagerAttr with pedClass = attrPedOpt\n"
     ]
    },
    {
     "name": "stdout",
     "output_type": "stream",
     "text": [
      "================================\n",
      "................................\n",
      "Simulation done. Processing data... done\n",
      "Checking convergence... done\n",
      "Runnig replication 120 with seed = 985\n"
     ]
    },
    {
     "name": "stderr",
     "output_type": "stream",
     "text": [
      "2021/07/16 08:48:04.170 - NOMAD.local_route_choice_manager - INFO - Creating the local route choice manager using LocalRouteChoiceIterativeComputer\n",
      "2021/07/16 08:48:04.190 - NOMAD.local_route_choice_manager - INFO - Creating a walk level local route choice manager using WalkLevelRouteChoiceIterativeComputer\n",
      "2021/07/16 08:48:26.263 - NOMAD.local_route_choice_manager - INFO - Finished creating local route choice manager in 22.07284379005432 seconds\n",
      "2021/07/16 08:48:26.263 - NOMAD.nomad_model - INFO - Model created with PedestrianManagerAttr with pedClass = attrPedOpt\n"
     ]
    },
    {
     "name": "stdout",
     "output_type": "stream",
     "text": [
      "================================\n",
      "................................\n",
      "Simulation done. Processing data... done\n",
      "Runnig replication 121 with seed = 857\n"
     ]
    },
    {
     "name": "stderr",
     "output_type": "stream",
     "text": [
      "2021/07/16 08:52:19.403 - NOMAD.local_route_choice_manager - INFO - Creating the local route choice manager using LocalRouteChoiceIterativeComputer\n",
      "2021/07/16 08:52:19.403 - NOMAD.local_route_choice_manager - INFO - Creating a walk level local route choice manager using WalkLevelRouteChoiceIterativeComputer\n",
      "2021/07/16 08:52:41.492 - NOMAD.local_route_choice_manager - INFO - Finished creating local route choice manager in 22.089330196380615 seconds\n",
      "2021/07/16 08:52:41.502 - NOMAD.nomad_model - INFO - Model created with PedestrianManagerAttr with pedClass = attrPedOpt\n"
     ]
    },
    {
     "name": "stdout",
     "output_type": "stream",
     "text": [
      "================================\n",
      "................................\n",
      "Simulation done. Processing data... done\n",
      "Runnig replication 122 with seed = 1639\n"
     ]
    },
    {
     "name": "stderr",
     "output_type": "stream",
     "text": [
      "2021/07/16 08:56:39.896 - NOMAD.local_route_choice_manager - INFO - Creating the local route choice manager using LocalRouteChoiceIterativeComputer\n",
      "2021/07/16 08:56:39.896 - NOMAD.local_route_choice_manager - INFO - Creating a walk level local route choice manager using WalkLevelRouteChoiceIterativeComputer\n",
      "2021/07/16 08:57:01.755 - NOMAD.local_route_choice_manager - INFO - Finished creating local route choice manager in 21.858964204788208 seconds\n",
      "2021/07/16 08:57:01.757 - NOMAD.nomad_model - INFO - Model created with PedestrianManagerAttr with pedClass = attrPedOpt\n"
     ]
    },
    {
     "name": "stdout",
     "output_type": "stream",
     "text": [
      "================================\n",
      "................................\n",
      "Simulation done. Processing data... done\n",
      "Runnig replication 123 with seed = 2593\n"
     ]
    },
    {
     "name": "stderr",
     "output_type": "stream",
     "text": [
      "2021/07/16 09:01:07.826 - NOMAD.local_route_choice_manager - INFO - Creating the local route choice manager using LocalRouteChoiceIterativeComputer\n",
      "2021/07/16 09:01:07.826 - NOMAD.local_route_choice_manager - INFO - Creating a walk level local route choice manager using WalkLevelRouteChoiceIterativeComputer\n",
      "2021/07/16 09:01:29.787 - NOMAD.local_route_choice_manager - INFO - Finished creating local route choice manager in 21.961607933044434 seconds\n",
      "2021/07/16 09:01:29.787 - NOMAD.nomad_model - INFO - Model created with PedestrianManagerAttr with pedClass = attrPedOpt\n"
     ]
    },
    {
     "name": "stdout",
     "output_type": "stream",
     "text": [
      "================================\n",
      "................................\n",
      "Simulation done. Processing data... done\n",
      "Runnig replication 124 with seed = 513\n"
     ]
    },
    {
     "name": "stderr",
     "output_type": "stream",
     "text": [
      "2021/07/16 09:05:26.045 - NOMAD.local_route_choice_manager - INFO - Creating the local route choice manager using LocalRouteChoiceIterativeComputer\n",
      "2021/07/16 09:05:26.045 - NOMAD.local_route_choice_manager - INFO - Creating a walk level local route choice manager using WalkLevelRouteChoiceIterativeComputer\n",
      "2021/07/16 09:05:47.929 - NOMAD.local_route_choice_manager - INFO - Finished creating local route choice manager in 21.88428497314453 seconds\n",
      "2021/07/16 09:05:47.948 - NOMAD.nomad_model - INFO - Model created with PedestrianManagerAttr with pedClass = attrPedOpt\n"
     ]
    },
    {
     "name": "stdout",
     "output_type": "stream",
     "text": [
      "================================\n",
      "................................\n",
      "Simulation done. Processing data... done\n",
      "Checking convergence... done\n",
      "Runnig replication 125 with seed = 3509\n"
     ]
    },
    {
     "name": "stderr",
     "output_type": "stream",
     "text": [
      "2021/07/16 09:09:56.233 - NOMAD.local_route_choice_manager - INFO - Creating the local route choice manager using LocalRouteChoiceIterativeComputer\n",
      "2021/07/16 09:09:56.233 - NOMAD.local_route_choice_manager - INFO - Creating a walk level local route choice manager using WalkLevelRouteChoiceIterativeComputer\n",
      "2021/07/16 09:10:17.712 - NOMAD.local_route_choice_manager - INFO - Finished creating local route choice manager in 21.478874683380127 seconds\n",
      "2021/07/16 09:10:17.720 - NOMAD.nomad_model - INFO - Model created with PedestrianManagerAttr with pedClass = attrPedOpt\n"
     ]
    },
    {
     "name": "stdout",
     "output_type": "stream",
     "text": [
      "================================\n",
      "................................\n",
      "Simulation done. Processing data... done\n",
      "Runnig replication 126 with seed = 1781\n"
     ]
    },
    {
     "name": "stderr",
     "output_type": "stream",
     "text": [
      "2021/07/16 09:14:25.616 - NOMAD.local_route_choice_manager - INFO - Creating the local route choice manager using LocalRouteChoiceIterativeComputer\n",
      "2021/07/16 09:14:25.616 - NOMAD.local_route_choice_manager - INFO - Creating a walk level local route choice manager using WalkLevelRouteChoiceIterativeComputer\n",
      "2021/07/16 09:14:47.355 - NOMAD.local_route_choice_manager - INFO - Finished creating local route choice manager in 21.7393057346344 seconds\n",
      "2021/07/16 09:14:47.363 - NOMAD.nomad_model - INFO - Model created with PedestrianManagerAttr with pedClass = attrPedOpt\n"
     ]
    },
    {
     "name": "stdout",
     "output_type": "stream",
     "text": [
      "================================\n",
      ".................."
     ]
    }
   ],
   "source": [
    "from contact_analysis import ExperimentRunner, STEPS, P_THRESHOLD\n",
    "from pathlib import Path\n",
    "\n",
    "scenarioXmlFlNm = Path(r'D:\\SurfDrive\\PhD\\Activity scheduler\\Scenarios\\paper_scenarios\\trb_paper_longer_visit.xml')\n",
    "lrcmFlNm = Path(r'D:\\SurfDrive\\PhD\\Activity scheduler\\Scenarios\\paper_scenarios\\trb_paper.lrcm')\n",
    "\n",
    "experimentRunner = ExperimentRunner(scenarioXmlFlNm, lrcmFlNm, init_replications=10, max_replications=2000, \n",
    "                                      convergence_config={STEPS:5, P_THRESHOLD:0.95},\n",
    "                                       cut_off_distances=(1.0, 1.5, 2.0))\n",
    "experimentRunner.run_experiment()\n"
   ]
  }
 ],
 "metadata": {
  "kernelspec": {
   "display_name": "Python 3",
   "language": "python",
   "name": "python3"
  },
  "language_info": {
   "codemirror_mode": {
    "name": "ipython",
    "version": 3
   },
   "file_extension": ".py",
   "mimetype": "text/x-python",
   "name": "python",
   "nbconvert_exporter": "python",
   "pygments_lexer": "ipython3",
   "version": "3.9.5"
  }
 },
 "nbformat": 4,
 "nbformat_minor": 5
}
