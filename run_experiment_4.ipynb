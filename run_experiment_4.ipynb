{
 "cells": [
  {
   "cell_type": "code",
   "execution_count": 1,
   "id": "e3053ccb-d04f-4ced-b207-4fb84670eabf",
   "metadata": {},
   "outputs": [
    {
     "name": "stdout",
     "output_type": "stream",
     "text": [
      "C:\\Users\\MartijnTU\\Jupyter_notebooks\\trb_analysis\\trb_analysis\\nomad\n",
      "c241e40d5232b58142d176859c29d9a5a69c2f4a: Fri, 23 Jul 2021 16:39 - Merge branch 'trb_paper' of https://gitlab.tudelft.nl/active-mode-models/nomad.git\n"
     ]
    }
   ],
   "source": [
    "try:\n",
    "    from git_nomad import pull_nomad\n",
    "except:\n",
    "    import sys; sys.path.insert(0, '..')\n",
    "    from git_nomad import pull_nomad\n",
    "    \n",
    "import socket\n",
    "if socket.gethostname() == 'SPA-DESKTOP':\n",
    "    remote_path = r\"D:\\Work_TU\\Documents\\nomad\"\n",
    "else:\n",
    "    remote_path = r\"C:\\Users\\martijnsparnaa\\Eclipse_Python_NOMAD\\nomad_trb_paper\"\n",
    "repo_path, repo = pull_nomad(remote_path, 'master')\n",
    "print(repo_path.resolve())\n",
    "\n",
    "import os\n",
    "import time\n",
    "os.chdir(repo_path)\n",
    "headcommit = repo.head.commit\n",
    "committed_date = time.strftime(\"%a, %d %b %Y %H:%M\", time.localtime(headcommit.committed_date))\n",
    "print(f'{headcommit}: {committed_date} - {headcommit.message}')"
   ]
  },
  {
   "cell_type": "code",
   "execution_count": null,
   "id": "0979be54-7a02-43c2-bb31-ec6e86b4ce11",
   "metadata": {},
   "outputs": [],
   "source": [
    "from contact_analysis import ExperimentRunner, STEPS, P_THRESHOLD\n",
    "from pathlib import Path\n",
    "\n",
    "scenarioXmlFlNm = Path(r'D:\\SurfDrive\\PhD\\Activity scheduler\\Scenarios\\paper_scenarios\\trb_paper_longer_visit.xml')\n",
    "lrcmFlNm = Path(r'D:\\SurfDrive\\PhD\\Activity scheduler\\Scenarios\\paper_scenarios\\trb_paper.lrcm')\n",
    "\n",
    "experimentRunner = ExperimentRunner(scenarioXmlFlNm, lrcmFlNm, init_replications=10, max_replications=2000, \n",
    "                                      convergence_config={STEPS:5, P_THRESHOLD:0.95},\n",
    "                                       cut_off_distances=(1.0, 1.5, 2.0))\n",
    "experimentRunner.run_experiment()\n"
   ]
  },
  {
   "cell_type": "code",
   "execution_count": null,
   "id": "a06cbf6b-e73c-41c4-b1bd-687401aa65db",
   "metadata": {},
   "outputs": [
    {
     "name": "stdout",
     "output_type": "stream",
     "text": [
      "Running replication 212 with seed = 3677\n"
     ]
    },
    {
     "name": "stderr",
     "output_type": "stream",
     "text": [
      "2021/07/24 09:45:24.602 - NOMAD.local_route_choice_manager - INFO - Creating the local route choice manager using LocalRouteChoiceIterativeComputer + C\n",
      "2021/07/24 09:45:24.602 - NOMAD.local_route_choice_manager - INFO - Creating a walk level local route choice manager using WalkLevelRouteChoiceIterativeComputer + C\n",
      "2021/07/24 09:45:46.219 - NOMAD.local_route_choice_manager - INFO - Finished creating local route choice manager in 21.61645221710205 seconds\n",
      "2021/07/24 09:45:46.221 - NOMAD.nomad_model - INFO - Model created with PedestrianManagerAttr with pedClass = attrPedPedForcesC\n"
     ]
    },
    {
     "name": "stdout",
     "output_type": "stream",
     "text": [
      "================================\n",
      "................................\n",
      "Simulation done. Processing data... done\n",
      "Saving data to file...done\n",
      "Running replication 213 with seed = 371\n"
     ]
    },
    {
     "name": "stderr",
     "output_type": "stream",
     "text": [
      "2021/07/24 09:49:25.493 - NOMAD.local_route_choice_manager - INFO - Creating the local route choice manager using LocalRouteChoiceIterativeComputer + C\n",
      "2021/07/24 09:49:25.493 - NOMAD.local_route_choice_manager - INFO - Creating a walk level local route choice manager using WalkLevelRouteChoiceIterativeComputer + C\n",
      "2021/07/24 09:49:46.989 - NOMAD.local_route_choice_manager - INFO - Finished creating local route choice manager in 21.496448278427124 seconds\n",
      "2021/07/24 09:49:46.999 - NOMAD.nomad_model - INFO - Model created with PedestrianManagerAttr with pedClass = attrPedPedForcesC\n"
     ]
    },
    {
     "name": "stdout",
     "output_type": "stream",
     "text": [
      "================================\n",
      "................................\n",
      "Simulation done. Processing data... done\n",
      "Saving data to file...done\n",
      "Running replication 214 with seed = 2143\n"
     ]
    },
    {
     "name": "stderr",
     "output_type": "stream",
     "text": [
      "2021/07/24 09:53:14.359 - NOMAD.local_route_choice_manager - INFO - Creating the local route choice manager using LocalRouteChoiceIterativeComputer + C\n",
      "2021/07/24 09:53:14.359 - NOMAD.local_route_choice_manager - INFO - Creating a walk level local route choice manager using WalkLevelRouteChoiceIterativeComputer + C\n",
      "2021/07/24 09:53:36.318 - NOMAD.local_route_choice_manager - INFO - Finished creating local route choice manager in 21.959500074386597 seconds\n",
      "2021/07/24 09:53:36.320 - NOMAD.nomad_model - INFO - Model created with PedestrianManagerAttr with pedClass = attrPedPedForcesC\n"
     ]
    },
    {
     "name": "stdout",
     "output_type": "stream",
     "text": [
      "================================\n",
      "................................\n",
      "Simulation done. Processing data... done\n",
      "Saving data to file...done\n",
      "Running replication 215 with seed = 1841\n"
     ]
    },
    {
     "name": "stderr",
     "output_type": "stream",
     "text": [
      "2021/07/24 09:57:04.303 - NOMAD.local_route_choice_manager - INFO - Creating the local route choice manager using LocalRouteChoiceIterativeComputer + C\n",
      "2021/07/24 09:57:04.303 - NOMAD.local_route_choice_manager - INFO - Creating a walk level local route choice manager using WalkLevelRouteChoiceIterativeComputer + C\n",
      "2021/07/24 09:57:25.198 - NOMAD.local_route_choice_manager - INFO - Finished creating local route choice manager in 20.89509415626526 seconds\n",
      "2021/07/24 09:57:25.208 - NOMAD.nomad_model - INFO - Model created with PedestrianManagerAttr with pedClass = attrPedPedForcesC\n"
     ]
    },
    {
     "name": "stdout",
     "output_type": "stream",
     "text": [
      "================================\n",
      "................................\n",
      "Simulation done. Processing data... done\n",
      "Checking convergence... done\n",
      "Saving data to file...done\n",
      "Running replication 216 with seed = 2108\n"
     ]
    },
    {
     "name": "stderr",
     "output_type": "stream",
     "text": [
      "2021/07/24 10:00:49.565 - NOMAD.local_route_choice_manager - INFO - Creating the local route choice manager using LocalRouteChoiceIterativeComputer + C\n",
      "2021/07/24 10:00:49.573 - NOMAD.local_route_choice_manager - INFO - Creating a walk level local route choice manager using WalkLevelRouteChoiceIterativeComputer + C\n",
      "2021/07/24 10:01:11.090 - NOMAD.local_route_choice_manager - INFO - Finished creating local route choice manager in 21.51662302017212 seconds\n",
      "2021/07/24 10:01:11.100 - NOMAD.nomad_model - INFO - Model created with PedestrianManagerAttr with pedClass = attrPedPedForcesC\n"
     ]
    },
    {
     "name": "stdout",
     "output_type": "stream",
     "text": [
      "================================\n",
      "................................\n",
      "Simulation done. Processing data... done\n",
      "Saving data to file...done\n",
      "Running replication 217 with seed = 2476\n"
     ]
    },
    {
     "name": "stderr",
     "output_type": "stream",
     "text": [
      "2021/07/24 10:04:33.990 - NOMAD.local_route_choice_manager - INFO - Creating the local route choice manager using LocalRouteChoiceIterativeComputer + C\n",
      "2021/07/24 10:04:33.990 - NOMAD.local_route_choice_manager - INFO - Creating a walk level local route choice manager using WalkLevelRouteChoiceIterativeComputer + C\n",
      "2021/07/24 10:04:55.248 - NOMAD.local_route_choice_manager - INFO - Finished creating local route choice manager in 21.257704496383667 seconds\n",
      "2021/07/24 10:04:55.250 - NOMAD.nomad_model - INFO - Model created with PedestrianManagerAttr with pedClass = attrPedPedForcesC\n"
     ]
    },
    {
     "name": "stdout",
     "output_type": "stream",
     "text": [
      "================================\n",
      "................................\n",
      "Simulation done. Processing data... done\n",
      "Saving data to file...done\n",
      "Running replication 218 with seed = 3812\n"
     ]
    },
    {
     "name": "stderr",
     "output_type": "stream",
     "text": [
      "2021/07/24 10:08:10.534 - NOMAD.local_route_choice_manager - INFO - Creating the local route choice manager using LocalRouteChoiceIterativeComputer + C\n",
      "2021/07/24 10:08:10.534 - NOMAD.local_route_choice_manager - INFO - Creating a walk level local route choice manager using WalkLevelRouteChoiceIterativeComputer + C\n",
      "2021/07/24 10:08:31.450 - NOMAD.local_route_choice_manager - INFO - Finished creating local route choice manager in 20.916076183319092 seconds\n",
      "2021/07/24 10:08:31.450 - NOMAD.nomad_model - INFO - Model created with PedestrianManagerAttr with pedClass = attrPedPedForcesC\n"
     ]
    },
    {
     "name": "stdout",
     "output_type": "stream",
     "text": [
      "================================\n",
      "................................\n",
      "Simulation done. Processing data... done\n",
      "Saving data to file...done\n",
      "Running replication 219 with seed = 491\n"
     ]
    },
    {
     "name": "stderr",
     "output_type": "stream",
     "text": [
      "2021/07/24 10:11:54.337 - NOMAD.local_route_choice_manager - INFO - Creating the local route choice manager using LocalRouteChoiceIterativeComputer + C\n",
      "2021/07/24 10:11:54.337 - NOMAD.local_route_choice_manager - INFO - Creating a walk level local route choice manager using WalkLevelRouteChoiceIterativeComputer + C\n",
      "2021/07/24 10:12:15.292 - NOMAD.local_route_choice_manager - INFO - Finished creating local route choice manager in 20.954502820968628 seconds\n",
      "2021/07/24 10:12:15.292 - NOMAD.nomad_model - INFO - Model created with PedestrianManagerAttr with pedClass = attrPedPedForcesC\n"
     ]
    },
    {
     "name": "stdout",
     "output_type": "stream",
     "text": [
      "================================\n",
      "................................\n",
      "Simulation done. Processing data... done\n",
      "Saving data to file...done\n",
      "Running replication 220 with seed = 2791\n"
     ]
    },
    {
     "name": "stderr",
     "output_type": "stream",
     "text": [
      "2021/07/24 10:15:32.675 - NOMAD.local_route_choice_manager - INFO - Creating the local route choice manager using LocalRouteChoiceIterativeComputer + C\n",
      "2021/07/24 10:15:32.675 - NOMAD.local_route_choice_manager - INFO - Creating a walk level local route choice manager using WalkLevelRouteChoiceIterativeComputer + C\n",
      "2021/07/24 10:15:53.661 - NOMAD.local_route_choice_manager - INFO - Finished creating local route choice manager in 20.985869884490967 seconds\n",
      "2021/07/24 10:15:53.661 - NOMAD.nomad_model - INFO - Model created with PedestrianManagerAttr with pedClass = attrPedPedForcesC\n"
     ]
    },
    {
     "name": "stdout",
     "output_type": "stream",
     "text": [
      "================================\n",
      "................................\n",
      "Simulation done. Processing data... done\n",
      "Checking convergence... done\n",
      "Saving data to file...done\n",
      "Running replication 221 with seed = 3841\n"
     ]
    },
    {
     "name": "stderr",
     "output_type": "stream",
     "text": [
      "2021/07/24 10:19:14.438 - NOMAD.local_route_choice_manager - INFO - Creating the local route choice manager using LocalRouteChoiceIterativeComputer + C\n",
      "2021/07/24 10:19:14.439 - NOMAD.local_route_choice_manager - INFO - Creating a walk level local route choice manager using WalkLevelRouteChoiceIterativeComputer + C\n",
      "2021/07/24 10:19:35.371 - NOMAD.local_route_choice_manager - INFO - Finished creating local route choice manager in 20.931629419326782 seconds\n",
      "2021/07/24 10:19:35.373 - NOMAD.nomad_model - INFO - Model created with PedestrianManagerAttr with pedClass = attrPedPedForcesC\n"
     ]
    },
    {
     "name": "stdout",
     "output_type": "stream",
     "text": [
      "================================\n",
      "................................\n",
      "Simulation done. Processing data... done\n",
      "Saving data to file...done\n",
      "Running replication 222 with seed = 2411\n"
     ]
    },
    {
     "name": "stderr",
     "output_type": "stream",
     "text": [
      "2021/07/24 10:22:50.656 - NOMAD.local_route_choice_manager - INFO - Creating the local route choice manager using LocalRouteChoiceIterativeComputer + C\n",
      "2021/07/24 10:22:50.656 - NOMAD.local_route_choice_manager - INFO - Creating a walk level local route choice manager using WalkLevelRouteChoiceIterativeComputer + C\n",
      "2021/07/24 10:23:11.732 - NOMAD.local_route_choice_manager - INFO - Finished creating local route choice manager in 21.07547426223755 seconds\n",
      "2021/07/24 10:23:11.734 - NOMAD.nomad_model - INFO - Model created with PedestrianManagerAttr with pedClass = attrPedPedForcesC\n"
     ]
    },
    {
     "name": "stdout",
     "output_type": "stream",
     "text": [
      "================================\n",
      "................................\n",
      "Simulation done. Processing data... done\n",
      "Saving data to file...done\n",
      "Running replication 223 with seed = 2099\n"
     ]
    },
    {
     "name": "stderr",
     "output_type": "stream",
     "text": [
      "2021/07/24 10:26:30.701 - NOMAD.local_route_choice_manager - INFO - Creating the local route choice manager using LocalRouteChoiceIterativeComputer + C\n",
      "2021/07/24 10:26:30.701 - NOMAD.local_route_choice_manager - INFO - Creating a walk level local route choice manager using WalkLevelRouteChoiceIterativeComputer + C\n",
      "2021/07/24 10:26:51.534 - NOMAD.local_route_choice_manager - INFO - Finished creating local route choice manager in 20.83280301094055 seconds\n",
      "2021/07/24 10:26:51.544 - NOMAD.nomad_model - INFO - Model created with PedestrianManagerAttr with pedClass = attrPedPedForcesC\n"
     ]
    },
    {
     "name": "stdout",
     "output_type": "stream",
     "text": [
      "================================\n",
      "................................\n",
      "Simulation done. Processing data... done\n",
      "Saving data to file...done\n",
      "Running replication 224 with seed = 2814\n"
     ]
    },
    {
     "name": "stderr",
     "output_type": "stream",
     "text": [
      "2021/07/24 10:30:13.192 - NOMAD.local_route_choice_manager - INFO - Creating the local route choice manager using LocalRouteChoiceIterativeComputer + C\n",
      "2021/07/24 10:30:13.192 - NOMAD.local_route_choice_manager - INFO - Creating a walk level local route choice manager using WalkLevelRouteChoiceIterativeComputer + C\n",
      "2021/07/24 10:30:34.459 - NOMAD.local_route_choice_manager - INFO - Finished creating local route choice manager in 21.26694917678833 seconds\n",
      "2021/07/24 10:30:34.459 - NOMAD.nomad_model - INFO - Model created with PedestrianManagerAttr with pedClass = attrPedPedForcesC\n"
     ]
    },
    {
     "name": "stdout",
     "output_type": "stream",
     "text": [
      "================================\n",
      "................................\n",
      "Simulation done. Processing data... done\n",
      "Saving data to file...done\n",
      "Running replication 225 with seed = 3779\n"
     ]
    },
    {
     "name": "stderr",
     "output_type": "stream",
     "text": [
      "2021/07/24 10:33:52.863 - NOMAD.local_route_choice_manager - INFO - Creating the local route choice manager using LocalRouteChoiceIterativeComputer + C\n",
      "2021/07/24 10:33:52.863 - NOMAD.local_route_choice_manager - INFO - Creating a walk level local route choice manager using WalkLevelRouteChoiceIterativeComputer + C\n",
      "2021/07/24 10:34:14.018 - NOMAD.local_route_choice_manager - INFO - Finished creating local route choice manager in 21.154547929763794 seconds\n",
      "2021/07/24 10:34:14.018 - NOMAD.nomad_model - INFO - Model created with PedestrianManagerAttr with pedClass = attrPedPedForcesC\n"
     ]
    },
    {
     "name": "stdout",
     "output_type": "stream",
     "text": [
      "================================\n",
      "................................\n",
      "Simulation done. Processing data... done\n",
      "Checking convergence... done\n",
      "Saving data to file...done\n",
      "Running replication 226 with seed = 1101\n"
     ]
    },
    {
     "name": "stderr",
     "output_type": "stream",
     "text": [
      "2021/07/24 10:37:27.630 - NOMAD.local_route_choice_manager - INFO - Creating the local route choice manager using LocalRouteChoiceIterativeComputer + C\n",
      "2021/07/24 10:37:27.630 - NOMAD.local_route_choice_manager - INFO - Creating a walk level local route choice manager using WalkLevelRouteChoiceIterativeComputer + C\n",
      "2021/07/24 10:37:48.657 - NOMAD.local_route_choice_manager - INFO - Finished creating local route choice manager in 21.026999473571777 seconds\n",
      "2021/07/24 10:37:48.665 - NOMAD.nomad_model - INFO - Model created with PedestrianManagerAttr with pedClass = attrPedPedForcesC\n"
     ]
    },
    {
     "name": "stdout",
     "output_type": "stream",
     "text": [
      "================================\n",
      "................................\n",
      "Simulation done. Processing data... done\n",
      "Saving data to file...done\n",
      "Running replication 227 with seed = 571\n"
     ]
    },
    {
     "name": "stderr",
     "output_type": "stream",
     "text": [
      "2021/07/24 10:41:03.331 - NOMAD.local_route_choice_manager - INFO - Creating the local route choice manager using LocalRouteChoiceIterativeComputer + C\n",
      "2021/07/24 10:41:03.331 - NOMAD.local_route_choice_manager - INFO - Creating a walk level local route choice manager using WalkLevelRouteChoiceIterativeComputer + C\n",
      "2021/07/24 10:41:24.989 - NOMAD.local_route_choice_manager - INFO - Finished creating local route choice manager in 21.658511877059937 seconds\n",
      "2021/07/24 10:41:24.991 - NOMAD.nomad_model - INFO - Model created with PedestrianManagerAttr with pedClass = attrPedPedForcesC\n"
     ]
    },
    {
     "name": "stdout",
     "output_type": "stream",
     "text": [
      "================================\n",
      "................................\n",
      "Simulation done. Processing data... done\n",
      "Saving data to file...done\n",
      "Running replication 228 with seed = 2728\n"
     ]
    },
    {
     "name": "stderr",
     "output_type": "stream",
     "text": [
      "2021/07/24 10:44:55.327 - NOMAD.local_route_choice_manager - INFO - Creating the local route choice manager using LocalRouteChoiceIterativeComputer + C\n",
      "2021/07/24 10:44:55.327 - NOMAD.local_route_choice_manager - INFO - Creating a walk level local route choice manager using WalkLevelRouteChoiceIterativeComputer + C\n",
      "2021/07/24 10:45:16.694 - NOMAD.local_route_choice_manager - INFO - Finished creating local route choice manager in 21.367449522018433 seconds\n",
      "2021/07/24 10:45:16.694 - NOMAD.nomad_model - INFO - Model created with PedestrianManagerAttr with pedClass = attrPedPedForcesC\n"
     ]
    },
    {
     "name": "stdout",
     "output_type": "stream",
     "text": [
      "================================\n",
      "................................\n",
      "Simulation done. Processing data... done\n",
      "Saving data to file...done\n",
      "Running replication 229 with seed = 3296\n"
     ]
    },
    {
     "name": "stderr",
     "output_type": "stream",
     "text": [
      "2021/07/24 10:48:31.815 - NOMAD.local_route_choice_manager - INFO - Creating the local route choice manager using LocalRouteChoiceIterativeComputer + C\n",
      "2021/07/24 10:48:31.815 - NOMAD.local_route_choice_manager - INFO - Creating a walk level local route choice manager using WalkLevelRouteChoiceIterativeComputer + C\n",
      "2021/07/24 10:48:53.206 - NOMAD.local_route_choice_manager - INFO - Finished creating local route choice manager in 21.390225172042847 seconds\n",
      "2021/07/24 10:48:53.216 - NOMAD.nomad_model - INFO - Model created with PedestrianManagerAttr with pedClass = attrPedPedForcesC\n"
     ]
    },
    {
     "name": "stdout",
     "output_type": "stream",
     "text": [
      "================================\n",
      "................................\n",
      "Simulation done. Processing data... done\n",
      "Saving data to file...done\n",
      "Running replication 230 with seed = 3956\n"
     ]
    },
    {
     "name": "stderr",
     "output_type": "stream",
     "text": [
      "2021/07/24 10:52:29.296 - NOMAD.local_route_choice_manager - INFO - Creating the local route choice manager using LocalRouteChoiceIterativeComputer + C\n",
      "2021/07/24 10:52:29.296 - NOMAD.local_route_choice_manager - INFO - Creating a walk level local route choice manager using WalkLevelRouteChoiceIterativeComputer + C\n",
      "2021/07/24 10:52:51.059 - NOMAD.local_route_choice_manager - INFO - Finished creating local route choice manager in 21.762927055358887 seconds\n",
      "2021/07/24 10:52:51.069 - NOMAD.nomad_model - INFO - Model created with PedestrianManagerAttr with pedClass = attrPedPedForcesC\n"
     ]
    },
    {
     "name": "stdout",
     "output_type": "stream",
     "text": [
      "================================\n",
      "................................\n",
      "Simulation done. Processing data... done\n",
      "Checking convergence... done\n",
      "Saving data to file...done\n",
      "Running replication 231 with seed = 3534\n"
     ]
    },
    {
     "name": "stderr",
     "output_type": "stream",
     "text": [
      "2021/07/24 10:56:18.857 - NOMAD.local_route_choice_manager - INFO - Creating the local route choice manager using LocalRouteChoiceIterativeComputer + C\n",
      "2021/07/24 10:56:18.857 - NOMAD.local_route_choice_manager - INFO - Creating a walk level local route choice manager using WalkLevelRouteChoiceIterativeComputer + C\n",
      "2021/07/24 10:56:40.360 - NOMAD.local_route_choice_manager - INFO - Finished creating local route choice manager in 21.50308108329773 seconds\n",
      "2021/07/24 10:56:40.362 - NOMAD.nomad_model - INFO - Model created with PedestrianManagerAttr with pedClass = attrPedPedForcesC\n"
     ]
    },
    {
     "name": "stdout",
     "output_type": "stream",
     "text": [
      "================================\n",
      "................................\n",
      "Simulation done. Processing data... done\n",
      "Saving data to file...done\n",
      "Running replication 232 with seed = 600\n"
     ]
    },
    {
     "name": "stderr",
     "output_type": "stream",
     "text": [
      "2021/07/24 11:00:07.646 - NOMAD.local_route_choice_manager - INFO - Creating the local route choice manager using LocalRouteChoiceIterativeComputer + C\n",
      "2021/07/24 11:00:07.646 - NOMAD.local_route_choice_manager - INFO - Creating a walk level local route choice manager using WalkLevelRouteChoiceIterativeComputer + C\n",
      "2021/07/24 11:00:28.958 - NOMAD.local_route_choice_manager - INFO - Finished creating local route choice manager in 21.311755418777466 seconds\n",
      "2021/07/24 11:00:28.966 - NOMAD.nomad_model - INFO - Model created with PedestrianManagerAttr with pedClass = attrPedPedForcesC\n"
     ]
    },
    {
     "name": "stdout",
     "output_type": "stream",
     "text": [
      "================================\n",
      "................................\n",
      "Simulation done. Processing data... done\n",
      "Saving data to file...done\n",
      "Running replication 233 with seed = 211\n"
     ]
    },
    {
     "name": "stderr",
     "output_type": "stream",
     "text": [
      "2021/07/24 11:03:52.200 - NOMAD.local_route_choice_manager - INFO - Creating the local route choice manager using LocalRouteChoiceIterativeComputer + C\n",
      "2021/07/24 11:03:52.200 - NOMAD.local_route_choice_manager - INFO - Creating a walk level local route choice manager using WalkLevelRouteChoiceIterativeComputer + C\n",
      "2021/07/24 11:04:13.642 - NOMAD.local_route_choice_manager - INFO - Finished creating local route choice manager in 21.44161581993103 seconds\n",
      "2021/07/24 11:04:13.644 - NOMAD.nomad_model - INFO - Model created with PedestrianManagerAttr with pedClass = attrPedPedForcesC\n"
     ]
    },
    {
     "name": "stdout",
     "output_type": "stream",
     "text": [
      "================================\n",
      "................................\n",
      "Simulation done. Processing data... done\n",
      "Saving data to file...done\n",
      "Running replication 234 with seed = 1848\n"
     ]
    },
    {
     "name": "stderr",
     "output_type": "stream",
     "text": [
      "2021/07/24 11:07:42.466 - NOMAD.local_route_choice_manager - INFO - Creating the local route choice manager using LocalRouteChoiceIterativeComputer + C\n",
      "2021/07/24 11:07:42.466 - NOMAD.local_route_choice_manager - INFO - Creating a walk level local route choice manager using WalkLevelRouteChoiceIterativeComputer + C\n",
      "2021/07/24 11:08:04.290 - NOMAD.local_route_choice_manager - INFO - Finished creating local route choice manager in 21.82329773902893 seconds\n",
      "2021/07/24 11:08:04.290 - NOMAD.nomad_model - INFO - Model created with PedestrianManagerAttr with pedClass = attrPedPedForcesC\n"
     ]
    },
    {
     "name": "stdout",
     "output_type": "stream",
     "text": [
      "================================\n",
      "................................\n",
      "Simulation done. Processing data... done\n",
      "Saving data to file...done\n",
      "Running replication 235 with seed = 3559\n"
     ]
    },
    {
     "name": "stderr",
     "output_type": "stream",
     "text": [
      "2021/07/24 11:11:30.621 - NOMAD.local_route_choice_manager - INFO - Creating the local route choice manager using LocalRouteChoiceIterativeComputer + C\n",
      "2021/07/24 11:11:30.621 - NOMAD.local_route_choice_manager - INFO - Creating a walk level local route choice manager using WalkLevelRouteChoiceIterativeComputer + C\n",
      "2021/07/24 11:11:51.954 - NOMAD.local_route_choice_manager - INFO - Finished creating local route choice manager in 21.33276629447937 seconds\n",
      "2021/07/24 11:11:51.956 - NOMAD.nomad_model - INFO - Model created with PedestrianManagerAttr with pedClass = attrPedPedForcesC\n"
     ]
    },
    {
     "name": "stdout",
     "output_type": "stream",
     "text": [
      "================================\n",
      "................................\n",
      "Simulation done. Processing data... done\n",
      "Checking convergence... done\n",
      "Saving data to file...done\n",
      "Running replication 236 with seed = 2882\n"
     ]
    },
    {
     "name": "stderr",
     "output_type": "stream",
     "text": [
      "2021/07/24 11:15:19.498 - NOMAD.local_route_choice_manager - INFO - Creating the local route choice manager using LocalRouteChoiceIterativeComputer + C\n",
      "2021/07/24 11:15:19.501 - NOMAD.local_route_choice_manager - INFO - Creating a walk level local route choice manager using WalkLevelRouteChoiceIterativeComputer + C\n",
      "2021/07/24 11:15:40.864 - NOMAD.local_route_choice_manager - INFO - Finished creating local route choice manager in 21.363078355789185 seconds\n",
      "2021/07/24 11:15:40.864 - NOMAD.nomad_model - INFO - Model created with PedestrianManagerAttr with pedClass = attrPedPedForcesC\n"
     ]
    },
    {
     "name": "stdout",
     "output_type": "stream",
     "text": [
      "================================\n",
      "................................\n",
      "Simulation done. Processing data... done\n",
      "Saving data to file...done\n",
      "Running replication 237 with seed = 2823\n"
     ]
    },
    {
     "name": "stderr",
     "output_type": "stream",
     "text": [
      "2021/07/24 11:18:55.728 - NOMAD.local_route_choice_manager - INFO - Creating the local route choice manager using LocalRouteChoiceIterativeComputer + C\n",
      "2021/07/24 11:18:55.728 - NOMAD.local_route_choice_manager - INFO - Creating a walk level local route choice manager using WalkLevelRouteChoiceIterativeComputer + C\n",
      "2021/07/24 11:19:16.805 - NOMAD.local_route_choice_manager - INFO - Finished creating local route choice manager in 21.07727551460266 seconds\n",
      "2021/07/24 11:19:16.815 - NOMAD.nomad_model - INFO - Model created with PedestrianManagerAttr with pedClass = attrPedPedForcesC\n"
     ]
    },
    {
     "name": "stdout",
     "output_type": "stream",
     "text": [
      "================================\n",
      "................................\n",
      "Simulation done. Processing data... done\n",
      "Saving data to file...done\n",
      "Running replication 238 with seed = 3148\n"
     ]
    },
    {
     "name": "stderr",
     "output_type": "stream",
     "text": [
      "2021/07/24 11:22:36.675 - NOMAD.local_route_choice_manager - INFO - Creating the local route choice manager using LocalRouteChoiceIterativeComputer + C\n",
      "2021/07/24 11:22:36.675 - NOMAD.local_route_choice_manager - INFO - Creating a walk level local route choice manager using WalkLevelRouteChoiceIterativeComputer + C\n",
      "2021/07/24 11:22:57.769 - NOMAD.local_route_choice_manager - INFO - Finished creating local route choice manager in 21.09410548210144 seconds\n",
      "2021/07/24 11:22:57.779 - NOMAD.nomad_model - INFO - Model created with PedestrianManagerAttr with pedClass = attrPedPedForcesC\n"
     ]
    },
    {
     "name": "stdout",
     "output_type": "stream",
     "text": [
      "================================\n",
      "................................\n",
      "Simulation done. Processing data... done\n",
      "Saving data to file...done\n",
      "Running replication 239 with seed = 1694\n"
     ]
    },
    {
     "name": "stderr",
     "output_type": "stream",
     "text": [
      "2021/07/24 11:26:15.832 - NOMAD.local_route_choice_manager - INFO - Creating the local route choice manager using LocalRouteChoiceIterativeComputer + C\n",
      "2021/07/24 11:26:15.832 - NOMAD.local_route_choice_manager - INFO - Creating a walk level local route choice manager using WalkLevelRouteChoiceIterativeComputer + C\n",
      "2021/07/24 11:26:36.297 - NOMAD.local_route_choice_manager - INFO - Finished creating local route choice manager in 20.465893030166626 seconds\n",
      "2021/07/24 11:26:36.297 - NOMAD.nomad_model - INFO - Model created with PedestrianManagerAttr with pedClass = attrPedPedForcesC\n"
     ]
    },
    {
     "name": "stdout",
     "output_type": "stream",
     "text": [
      "================================\n",
      "................................\n",
      "Simulation done. Processing data... done\n",
      "Saving data to file...done\n",
      "Running replication 240 with seed = 3938\n"
     ]
    },
    {
     "name": "stderr",
     "output_type": "stream",
     "text": [
      "2021/07/24 11:29:54.843 - NOMAD.local_route_choice_manager - INFO - Creating the local route choice manager using LocalRouteChoiceIterativeComputer + C\n",
      "2021/07/24 11:29:54.843 - NOMAD.local_route_choice_manager - INFO - Creating a walk level local route choice manager using WalkLevelRouteChoiceIterativeComputer + C\n",
      "2021/07/24 11:30:15.993 - NOMAD.local_route_choice_manager - INFO - Finished creating local route choice manager in 21.1499183177948 seconds\n",
      "2021/07/24 11:30:16.001 - NOMAD.nomad_model - INFO - Model created with PedestrianManagerAttr with pedClass = attrPedPedForcesC\n"
     ]
    },
    {
     "name": "stdout",
     "output_type": "stream",
     "text": [
      "================================\n",
      "................................\n",
      "Simulation done. Processing data... done\n",
      "Checking convergence... done\n",
      "Saving data to file...done\n",
      "Running replication 241 with seed = 1088\n"
     ]
    },
    {
     "name": "stderr",
     "output_type": "stream",
     "text": [
      "2021/07/24 11:33:37.654 - NOMAD.local_route_choice_manager - INFO - Creating the local route choice manager using LocalRouteChoiceIterativeComputer + C\n",
      "2021/07/24 11:33:37.654 - NOMAD.local_route_choice_manager - INFO - Creating a walk level local route choice manager using WalkLevelRouteChoiceIterativeComputer + C\n",
      "2021/07/24 11:33:58.389 - NOMAD.local_route_choice_manager - INFO - Finished creating local route choice manager in 20.735105276107788 seconds\n",
      "2021/07/24 11:33:58.394 - NOMAD.nomad_model - INFO - Model created with PedestrianManagerAttr with pedClass = attrPedPedForcesC\n"
     ]
    },
    {
     "name": "stdout",
     "output_type": "stream",
     "text": [
      "================================\n",
      "................................\n",
      "Simulation done. Processing data... done\n",
      "Saving data to file...done\n",
      "Running replication 242 with seed = 3857\n"
     ]
    },
    {
     "name": "stderr",
     "output_type": "stream",
     "text": [
      "2021/07/24 11:37:19.251 - NOMAD.local_route_choice_manager - INFO - Creating the local route choice manager using LocalRouteChoiceIterativeComputer + C\n",
      "2021/07/24 11:37:19.253 - NOMAD.local_route_choice_manager - INFO - Creating a walk level local route choice manager using WalkLevelRouteChoiceIterativeComputer + C\n",
      "2021/07/24 11:37:40.641 - NOMAD.local_route_choice_manager - INFO - Finished creating local route choice manager in 21.387183666229248 seconds\n",
      "2021/07/24 11:37:40.641 - NOMAD.nomad_model - INFO - Model created with PedestrianManagerAttr with pedClass = attrPedPedForcesC\n"
     ]
    },
    {
     "name": "stdout",
     "output_type": "stream",
     "text": [
      "================================\n",
      "................................\n",
      "Simulation done. Processing data... done\n",
      "Saving data to file...done\n",
      "Running replication 243 with seed = 1828\n"
     ]
    },
    {
     "name": "stderr",
     "output_type": "stream",
     "text": [
      "2021/07/24 11:40:54.811 - NOMAD.local_route_choice_manager - INFO - Creating the local route choice manager using LocalRouteChoiceIterativeComputer + C\n",
      "2021/07/24 11:40:54.811 - NOMAD.local_route_choice_manager - INFO - Creating a walk level local route choice manager using WalkLevelRouteChoiceIterativeComputer + C\n",
      "2021/07/24 11:41:16.398 - NOMAD.local_route_choice_manager - INFO - Finished creating local route choice manager in 21.58680272102356 seconds\n",
      "2021/07/24 11:41:16.408 - NOMAD.nomad_model - INFO - Model created with PedestrianManagerAttr with pedClass = attrPedPedForcesC\n"
     ]
    },
    {
     "name": "stdout",
     "output_type": "stream",
     "text": [
      "================================\n",
      "................................\n",
      "Simulation done. Processing data... done\n",
      "Saving data to file...done\n",
      "Running replication 244 with seed = 3773\n"
     ]
    },
    {
     "name": "stderr",
     "output_type": "stream",
     "text": [
      "2021/07/24 11:44:34.931 - NOMAD.local_route_choice_manager - INFO - Creating the local route choice manager using LocalRouteChoiceIterativeComputer + C\n",
      "2021/07/24 11:44:34.931 - NOMAD.local_route_choice_manager - INFO - Creating a walk level local route choice manager using WalkLevelRouteChoiceIterativeComputer + C\n",
      "2021/07/24 11:44:57.250 - NOMAD.local_route_choice_manager - INFO - Finished creating local route choice manager in 22.3192777633667 seconds\n",
      "2021/07/24 11:44:57.252 - NOMAD.nomad_model - INFO - Model created with PedestrianManagerAttr with pedClass = attrPedPedForcesC\n"
     ]
    },
    {
     "name": "stdout",
     "output_type": "stream",
     "text": [
      "================================\n",
      "................................\n",
      "Simulation done. Processing data... done\n",
      "Saving data to file...done\n",
      "Running replication 245 with seed = 732\n"
     ]
    },
    {
     "name": "stderr",
     "output_type": "stream",
     "text": [
      "2021/07/24 11:48:15.488 - NOMAD.local_route_choice_manager - INFO - Creating the local route choice manager using LocalRouteChoiceIterativeComputer + C\n",
      "2021/07/24 11:48:15.488 - NOMAD.local_route_choice_manager - INFO - Creating a walk level local route choice manager using WalkLevelRouteChoiceIterativeComputer + C\n",
      "2021/07/24 11:48:37.343 - NOMAD.local_route_choice_manager - INFO - Finished creating local route choice manager in 21.855365753173828 seconds\n",
      "2021/07/24 11:48:37.345 - NOMAD.nomad_model - INFO - Model created with PedestrianManagerAttr with pedClass = attrPedPedForcesC\n"
     ]
    },
    {
     "name": "stdout",
     "output_type": "stream",
     "text": [
      "================================\n",
      ".FAILED\n",
      "\n",
      "Running replication 246 with seed = 2816\n"
     ]
    },
    {
     "name": "stderr",
     "output_type": "stream",
     "text": [
      "Traceback (most recent call last):\n",
      "  File \"C:\\Users\\MartijnTU\\Jupyter_notebooks\\trb_analysis\\trb_analysis\\contact_analysis.py\", line 133, in run_experiment\n",
      "    nomad_model.start()\n",
      "  File \"C:\\Users\\MartijnTU\\Jupyter_notebooks\\trb_analysis\\trb_analysis\\nomad\\NOMAD\\nomad_model.py\", line 158, in start\n",
      "    self.runSimulation()\n",
      "  File \"C:\\Users\\MartijnTU\\Jupyter_notebooks\\trb_analysis\\trb_analysis\\nomad\\NOMAD\\nomad_model.py\", line 190, in runSimulation\n",
      "    self.doMajorTimeStep()\n",
      "  File \"C:\\Users\\MartijnTU\\Jupyter_notebooks\\trb_analysis\\trb_analysis\\nomad\\NOMAD\\nomad_model.py\", line 203, in doMajorTimeStep\n",
      "    self.addPeds2Simulation()\n",
      "  File \"C:\\Users\\MartijnTU\\Jupyter_notebooks\\trb_analysis\\trb_analysis\\nomad\\NOMAD\\nomad_model.py\", line 239, in addPeds2Simulation\n",
      "    peds2add = self.demandManager.getPeds2Add2Simulation()\n",
      "  File \"C:\\Users\\MartijnTU\\Jupyter_notebooks\\trb_analysis\\trb_analysis\\nomad\\NOMAD\\demand_manager.py\", line 117, in getPeds2Add2Simulation\n",
      "    peds2add += source.getPedsThatCanBeAdded(peds2addFromSource)\n",
      "  File \"C:\\Users\\MartijnTU\\Jupyter_notebooks\\trb_analysis\\trb_analysis\\nomad\\NOMAD\\demand_manager.py\", line 232, in getPedsThatCanBeAdded\n",
      "    maxPeds2placeCount, locationArgs = self.getPlacementInfo(len(peds2add))\n",
      "  File \"C:\\Users\\MartijnTU\\Jupyter_notebooks\\trb_analysis\\trb_analysis\\nomad\\NOMAD\\demand_manager.py\", line 261, in getPlacementInfo\n",
      "    locations, maxPeds2placeCount = self.getPlacementLocations(ped2placeCount)\n",
      "  File \"C:\\Users\\MartijnTU\\Jupyter_notebooks\\trb_analysis\\trb_analysis\\nomad\\NOMAD\\general_functions.py\", line 130, in getPlacementLocations\n",
      "    lineSegmentArray = self.getAvailableLineSegments(self._maxPedRadius, self._maxPedRadius2, self._maxPedDiameter)\n",
      "  File \"C:\\Users\\MartijnTU\\Jupyter_notebooks\\trb_analysis\\trb_analysis\\nomad\\NOMAD\\general_functions.py\", line 116, in getAvailableLineSegments\n",
      "    lineVec_x, lineVec_y, buffer_x, buffer_y = getLineVectorAndBuffer(lineSegments[ii], maxPedRadius)\n",
      "  File \"C:\\Users\\MartijnTU\\Jupyter_notebooks\\trb_analysis\\trb_analysis\\nomad\\NOMAD\\general_functions.py\", line 183, in getLineVectorAndBuffer\n",
      "    lineVec_y = lineSegment.coords[1][1] - lineSegment.coords[0][1]\n",
      "  File \"C:\\Users\\MartijnTU\\anaconda3\\envs\\nomad_experiments\\lib\\site-packages\\shapely\\coords.py\", line 74, in __getitem__\n",
      "    m = self.__len__()\n",
      "  File \"C:\\Users\\MartijnTU\\anaconda3\\envs\\nomad_experiments\\lib\\site-packages\\shapely\\coords.py\", line 49, in __len__\n",
      "    self._update()\n",
      "  File \"C:\\Users\\MartijnTU\\anaconda3\\envs\\nomad_experiments\\lib\\site-packages\\shapely\\coords.py\", line 46, in _update\n",
      "    self._cseq = lgeos.GEOSGeom_getCoordSeq(self.__p__._geom)\n",
      "KeyboardInterrupt\n"
     ]
    }
   ],
   "source": [
    "from contact_analysis import continue_from_file\n",
    "from pathlib import Path\n",
    "\n",
    "experiment_filename = Path(r'D:\\SurfDrive\\PhD\\Activity scheduler\\Scenarios\\paper_scenarios\\trb_paper_longer_visit_experiment_r4.json')\n",
    "combined_stats_filename = Path(r'D:\\SurfDrive\\PhD\\Activity scheduler\\Scenarios\\paper_scenarios\\trb_paper_longer_visit_combined.stats_r4.npz')\n",
    "\n",
    "continue_from_file(experiment_filename, combined_stats_filename)"
   ]
  },
  {
   "cell_type": "code",
   "execution_count": null,
   "id": "9dfbef88-3768-4529-9736-9ade2e0f105f",
   "metadata": {},
   "outputs": [],
   "source": []
  }
 ],
 "metadata": {
  "kernelspec": {
   "display_name": "Python 3",
   "language": "python",
   "name": "python3"
  },
  "language_info": {
   "codemirror_mode": {
    "name": "ipython",
    "version": 3
   },
   "file_extension": ".py",
   "mimetype": "text/x-python",
   "name": "python",
   "nbconvert_exporter": "python",
   "pygments_lexer": "ipython3",
   "version": "3.9.5"
  }
 },
 "nbformat": 4,
 "nbformat_minor": 5
}
