{
 "cells": [
  {
   "cell_type": "markdown",
   "id": "3a56a1f7-5781-40d8-8c13-c1b1f2d2c23b",
   "metadata": {},
   "source": [
    "# Process the restaurant data\n",
    "\n",
    "Process the restaurant data such that it can be used for different kinds of analyses\n",
    "\n",
    "The atomic unit of the analysis is an activity which has the following properties:\n",
    "1. Start time [hh:mm;ss]\n",
    "2. End time [hh:mm;ss]\n",
    "3. Location ID\n",
    "4. Staff ID (only relevant for staff activities)\n",
    "5. Activity type\n",
    "\n",
    "\n",
    "\n",
    "\n",
    "\n",
    "\n",
    "\n",
    "The resulting data sets are:\n",
    "1. The sequence of activities performed by a staff member per continuous observation time frame \n",
    "2. The sequence of activities performed per table per continuous observation time frame and per group visit\n",
    "3. Demand pattern per table\n",
    "4. Toilet visits\n"
   ]
  },
  {
   "cell_type": "code",
   "execution_count": 1,
   "id": "572887fe-348b-436a-bbcc-966b025a360e",
   "metadata": {},
   "outputs": [],
   "source": [
    "from pathlib import Path\n",
    "import pandas as pd\n"
   ]
  },
  {
   "cell_type": "markdown",
   "id": "c4a1beb6-ab66-487e-9f0a-4e4ddc09e505",
   "metadata": {},
   "source": [
    "## Clean and save data in pandas dataframe format"
   ]
  },
  {
   "cell_type": "markdown",
   "id": "f49d63ed-8e21-4490-a81b-3d165626af44",
   "metadata": {},
   "source": [
    "### Staff activities - evening 18-08-2021"
   ]
  },
  {
   "cell_type": "code",
   "execution_count": 9,
   "id": "1a2b0ab2-7b8b-4080-9147-256cf0ee83c6",
   "metadata": {},
   "outputs": [],
   "source": [
    "filename = Path('./data/raw/20210818E1_AM-ZZ.xlsm')\n",
    "df_staff_actvities_1 = pd.read_excel(filename, sheet_name='Staff table visit (Staff)', header=10, skiprows=[11,101], usecols='B:F', engine='openpyxl')\n",
    "\n",
    "filename = Path('./data/raw/20210818E2_AM-ZZ.xlsm')\n",
    "df_staff_actvities_2 = pd.read_excel(filename, sheet_name='Staff table visit (Staff)', header=10, skiprows=[11,123], usecols='B:F', engine='openpyxl')\n",
    "\n",
    "df_staff_actvities = pd.concat([df_staff_actvities_1, df_staff_actvities_2], ignore_index=True)\n",
    "df_staff_actvities.rename(columns={'Table ID': 'table_id', 'Staff ID (names or name initials)': 'staff_id',\n",
    "                                  'Arrival time': 'start_time', 'Departure time': 'end_time',\n",
    "                                  'Visit type (Taking order - O/ Serving order-S/ Check-out&Pay - P/ Cleaning - C / checking for feedback|tasting - F)': 'activity_type'}, inplace=True)\n",
    "\n",
    "out_filename = Path('./data/processed/20210818_evening_staff_activities.csv')\n",
    "df_staff_actvities.to_csv(out_filename, index=False)"
   ]
  },
  {
   "cell_type": "markdown",
   "id": "ce920662-451b-46a8-bf2e-afbcb9029bbd",
   "metadata": {},
   "source": [
    "### Guest demand - evening 18-08-2021"
   ]
  },
  {
   "cell_type": "code",
   "execution_count": 3,
   "id": "e566f957-415d-4f20-bda5-29afe9cee6ce",
   "metadata": {},
   "outputs": [],
   "source": [
    "filename = Path('./data/raw/20210818_1710_MS_SSO_DataForCalibration.xlsm')\n",
    "df_demand_raw = pd.read_excel(filename, sheet_name='Customer demand (all the time)', header=21, usecols='B:G', engine='openpyxl')\n",
    "\n",
    "from extract_distribution import extract_visits_per_table\n",
    "df_demand = extract_visits_per_table(df_demand_raw)\n",
    "\n",
    "out_filename = Path('./data/processed/20210818_evening_guest_demand.csv')\n",
    "df_demand.to_csv(out_filename, index=False)"
   ]
  },
  {
   "cell_type": "markdown",
   "id": "18cef0ec-ea48-43a9-84bf-3d5720708d52",
   "metadata": {},
   "source": [
    "### Toilet visits - evening 18-08-2021"
   ]
  },
  {
   "cell_type": "code",
   "execution_count": 27,
   "id": "410d329b-d714-4240-8ee9-3eac5f938e50",
   "metadata": {},
   "outputs": [],
   "source": [
    "filename = Path('./data/raw/20210818_1710_MS_SSO_DataForCalibration.xlsm')\n",
    "df_toilet_raw = pd.read_excel(filename, sheet_name='Toilet visit', header=7, usecols='B:D', engine='openpyxl')\n",
    "\n",
    "df_toilet = df_toilet_raw.drop(df_toilet_raw[df_toilet_raw['Type (Guest - G or Staff - S)'].isnull()].index)\n",
    "df_toilet.rename(columns={'Type (Guest - G or Staff - S)': 'guest_or_staff',\n",
    "                                  'Arrival time': 'start_time', 'Departure time': 'end_time'}, inplace=True)\n",
    "\n",
    "\n",
    "import numpy as np\n",
    "import datetime\n",
    "\n",
    "df_toilet['start_time'] = df_toilet['start_time'].apply(lambda value: value if isinstance(value, datetime.datetime) else np.nan)\n",
    "df_toilet['end_time'] = df_toilet['end_time'].apply(lambda value: value if isinstance(value, datetime.datetime) else np.nan)\n",
    "df_toilet['visit_time'] = df_toilet.apply(lambda row: (row['end_time'] - row['start_time'])/np.timedelta64(1, 's') if pd.notnull(row['start_time']) and pd.notnull(row['end_time']) else np.nan, axis=1)\n",
    "\n",
    "df_toilet[df_toilet['visit_time'].isnull()]\n",
    "\n",
    "out_filename = Path('./data/processed/20210818_evening_toilet_visits.csv')\n",
    "df_toilet.to_csv(out_filename, index=False)"
   ]
  },
  {
   "cell_type": "markdown",
   "id": "04c528de-29d6-48e4-b04f-a80f436fe1aa",
   "metadata": {},
   "source": []
  },
  {
   "cell_type": "code",
   "execution_count": 7,
   "id": "c9a503b5-416c-4293-9a19-7d529bddd7bd",
   "metadata": {},
   "outputs": [
    {
     "data": {
      "text/plain": [
       "0      19.0\n",
       "1       9.0\n",
       "2       6.0\n",
       "3       3.0\n",
       "4       3.0\n",
       "       ... \n",
       "387     8.0\n",
       "388    17.0\n",
       "389     5.0\n",
       "390     6.0\n",
       "391     8.0\n",
       "Length: 392, dtype: float64"
      ]
     },
     "execution_count": 7,
     "metadata": {},
     "output_type": "execute_result"
    }
   ],
   "source": []
  },
  {
   "cell_type": "code",
   "execution_count": 8,
   "id": "9b8f28f3-9018-4668-91af-3229cf461aeb",
   "metadata": {},
   "outputs": [
    {
     "data": {
      "text/plain": [
       "170    76.0\n",
       "171    10.0\n",
       "172     6.0\n",
       "173    26.0\n",
       "174    24.0\n",
       "175    12.0\n",
       "176    32.0\n",
       "177     8.0\n",
       "178    11.0\n",
       "179    12.0\n",
       "dtype: float64"
      ]
     },
     "execution_count": 8,
     "metadata": {},
     "output_type": "execute_result"
    }
   ],
   "source": []
  },
  {
   "cell_type": "code",
   "execution_count": null,
   "id": "243cacf3-0b28-4d09-b14c-f6725194680d",
   "metadata": {},
   "outputs": [],
   "source": []
  }
 ],
 "metadata": {
  "kernelspec": {
   "display_name": "Python 3",
   "language": "python",
   "name": "python3"
  },
  "language_info": {
   "codemirror_mode": {
    "name": "ipython",
    "version": 3
   },
   "file_extension": ".py",
   "mimetype": "text/x-python",
   "name": "python",
   "nbconvert_exporter": "python",
   "pygments_lexer": "ipython3",
   "version": "3.9.4"
  }
 },
 "nbformat": 4,
 "nbformat_minor": 5
}
