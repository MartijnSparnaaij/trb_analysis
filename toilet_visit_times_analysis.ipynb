{
 "cells": [
  {
   "cell_type": "markdown",
   "id": "8014be9b-c2e3-4694-acff-fa50c1a10292",
   "metadata": {},
   "source": [
    "# Analysis of toilet visit time distribution"
   ]
  },
  {
   "cell_type": "code",
   "execution_count": null,
   "id": "cf5eeb41-afae-4ff9-af22-8a7c046446a3",
   "metadata": {},
   "outputs": [],
   "source": [
    "from pathlib import Path\n",
    "import pandas as pd\n",
    "import matplotlib.pyplot as plt\n",
    "import ast\n",
    "import numpy as np\n",
    "import scipy.stats as stats\n",
    "from math import ceil"
   ]
  },
  {
   "cell_type": "markdown",
   "id": "ff3f2952-5460-4faa-b2e8-b854670b0d45",
   "metadata": {},
   "source": [
    "### Import data"
   ]
  },
  {
   "cell_type": "code",
   "execution_count": null,
   "id": "d39b14c8-be5a-41b8-86c4-836b78f120bb",
   "metadata": {},
   "outputs": [],
   "source": [
    "filename = Path('./data/processed/20210818_evening_toilet_visits.csv')\n",
    "df = pd.read_csv(filename, parse_dates=['start_time', 'end_time'])\n",
    "visit_times = df['visit_time'][df['visit_time'].notnull()]"
   ]
  },
  {
   "cell_type": "markdown",
   "id": "d5335df1-c668-4919-9a1a-934193f3629a",
   "metadata": {},
   "source": [
    "### Plot histogram for several bin counts"
   ]
  },
  {
   "cell_type": "code",
   "execution_count": null,
   "id": "259a2e62-1a71-4110-ae4e-b0f177772546",
   "metadata": {},
   "outputs": [],
   "source": [
    "plt.rcParams['figure.figsize'] = [22.5,12]\n",
    "\n",
    "bin_counts = [10, 20, 40]\n",
    "alpha_step = 0.6/(len(bin_counts) - 1)\n",
    "for ii, bin_count in enumerate(bin_counts):\n",
    "    hist = plt.hist(visit_times, bins=bin_count, density=True, label=f'Bin count = {bin_count}', alpha=1-ii*alpha_step)\n",
    "    \n",
    "plt.text(0.5,0.5, f'Sample size = {len(visit_times)}', horizontalalignment='center', verticalalignment='center', transform = plt.gca().transAxes, fontsize=14)\n",
    "leg = plt.legend(fontsize=14)"
   ]
  },
  {
   "cell_type": "markdown",
   "id": "9bcac02f-a6ee-4c6e-b894-be4146716d55",
   "metadata": {},
   "source": [
    "### Determine the goodness-of-fit of the different fitted distribution\n",
    "- ks = Kolmogorov smirnov (p-value)\n",
    "- cvm = Cramer-von Mises Tests (p-value) (more powerfull than ks as ks assumes the data to be normally distributed)\n",
    "- p = Parameter count of the distribution\n",
    "- pear = Pearson rank correlation (used by Yufei)\n"
   ]
  },
  {
   "cell_type": "code",
   "execution_count": null,
   "id": "11669d0e-f3d7-4815-b0fb-0e789bdb63d6",
   "metadata": {},
   "outputs": [],
   "source": [
    "%%capture --no-stdout\n",
    "\n",
    "def process_line(line):\n",
    "    line = line.strip()\n",
    "    start_ind = 0\n",
    "    parts = []\n",
    "    for ii in range(3):\n",
    "        comma_index = line.find(',', start_ind)\n",
    "        value = line[start_ind:comma_index].strip()\n",
    "        if ii == 1 or ii == 2:\n",
    "            value = float(value)        \n",
    "        start_ind = comma_index + 1\n",
    "        parts.append(value)\n",
    "        \n",
    "    parts.append(ast.literal_eval(line[start_ind:].strip()))\n",
    "    return parts\n",
    "\n",
    "with open(Path('./data/stats/toilet_fits.txt'), 'r') as f:\n",
    "    lines = [process_line(line) for line in f if '#' not in line]\n",
    "\n",
    "min_value = min(visit_times)\n",
    "max_value = max(visit_times)    \n",
    "\n",
    "y, x = np.histogram(visit_times, bins=10, density=True)\n",
    "bin_size = x[1] - x[0]\n",
    "x = x[1:] - bin_size\n",
    "\n",
    "distrs = []\n",
    "name_length_max = 0\n",
    "for ii, distr_data in enumerate(lines):\n",
    "    res = stats.cramervonmises(visit_times, distr_data[0], args=distr_data[3])\n",
    "    dist = getattr(stats, distr_data[0])(*distr_data[3])\n",
    "    y_dist = dist.pdf(x)    \n",
    "    try:\n",
    "        r, p_pearson = stats.pearsonr(y, y_dist)   \n",
    "    except:\n",
    "        r = np.nan\n",
    "        p_pearson = np.nan\n",
    "    distrs.append((distr_data[0], distr_data[2], res.pvalue, distr_data[3], r, p_pearson))\n",
    "    \n",
    "    if len(distr_data[0]) > name_length_max:\n",
    "        name_length_max = len(distr_data[0])\n",
    "\n",
    "distrs.sort(key=lambda el: el[2], reverse=True)        \n",
    "    \n",
    "print(f'{\"name\":>{name_length_max}s} - {\"ks\":>6s} - {\"cvm\":>6s} - p - {\"pear_r\":>6s} - {\"pear_p\":>6s}')\n",
    "for name, ks_p_value, cvm_p_value, params, r, p_pearson in distrs:    \n",
    "    print(f'{name:>{name_length_max}s} - {ks_p_value:.4f} - {cvm_p_value:.4f} - {len(params)} - {r:.4f} - {p_pearson:.4f}')"
   ]
  },
  {
   "cell_type": "markdown",
   "id": "d5944a58-d8d4-45be-8af3-d166808cc72e",
   "metadata": {},
   "source": [
    "### Plots showing the fit of the distributions, truncated using a minimum an maximum value based on the data"
   ]
  },
  {
   "cell_type": "code",
   "execution_count": null,
   "id": "1207927f-1f9d-4ba8-82b2-358879930222",
   "metadata": {},
   "outputs": [],
   "source": [
    "plt.rcParams['figure.figsize'] = [28.5,180]\n",
    "\n",
    "col_count = 5\n",
    "row_count = int(ceil(len(lines)/col_count))\n",
    "_, axes = plt.subplots(row_count, col_count)\n",
    "\n",
    "axes = axes.flatten()\n",
    "\n",
    "import scipy.stats as stats\n",
    "\n",
    "min_value = 10 #min(visit_times)\n",
    "max_value = 450 #max(visit_times)\n",
    "\n",
    "x_per_lim = 0.0001\n",
    "\n",
    "for ii, distr_data in enumerate(distrs):\n",
    "    name, ks_p_value, cvm_p_value, params, p_r, p_p = distr_data\n",
    "    for jj, bin_count in enumerate(bin_counts):\n",
    "        hist = axes[ii].hist(visit_times, bins=bin_count, density=True, label=f'Bin count = {bin_count}', alpha=1-jj*alpha_step)\n",
    "    \n",
    "    dist = getattr(stats, name)(*params)\n",
    "    x = np.arange(max(min_value, dist.ppf(x_per_lim)), min(max_value,dist.ppf(1-x_per_lim)), 10)\n",
    "    axes[ii].plot(x, dist.pdf(x), linewidth=4, label='Pdf')\n",
    "    axes[ii].set_title(f'{name} - p = {cvm_p_value:.4f} : {ks_p_value:.4f}')\n",
    "    leg = axes[ii].legend(fontsize=14)\n"
   ]
  },
  {
   "cell_type": "code",
   "execution_count": null,
   "id": "4ef19c4c-3a6b-44a2-bd15-96ab83b090c3",
   "metadata": {},
   "outputs": [],
   "source": []
  }
 ],
 "metadata": {
  "kernelspec": {
   "display_name": "Python 3 (ipykernel)",
   "language": "python",
   "name": "python3"
  },
  "language_info": {
   "codemirror_mode": {
    "name": "ipython",
    "version": 3
   },
   "file_extension": ".py",
   "mimetype": "text/x-python",
   "name": "python",
   "nbconvert_exporter": "python",
   "pygments_lexer": "ipython3",
   "version": "3.9.7"
  }
 },
 "nbformat": 4,
 "nbformat_minor": 5
}
