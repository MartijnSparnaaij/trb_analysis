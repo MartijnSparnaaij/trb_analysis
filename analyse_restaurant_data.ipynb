{
 "cells": [
  {
   "cell_type": "code",
   "execution_count": null,
   "id": "0a72af23-25b8-41b2-8d19-2daf0c41501b",
   "metadata": {},
   "outputs": [],
   "source": [
    "from pathlib import Path\n",
    "import pandas as pd\n"
   ]
  },
  {
   "cell_type": "code",
   "execution_count": null,
   "id": "2074add4-2c63-4662-ae1f-20a589a83701",
   "metadata": {},
   "outputs": [],
   "source": [
    "filename = Path('./data/processed/20210818_evening_toilet_visits.csv')\n",
    "df = pd.read_csv(filename)\n",
    "\n",
    "df\n"
   ]
  },
  {
   "cell_type": "code",
   "execution_count": null,
   "id": "a1aeecd9-d529-4294-8d74-e3d9a98694f0",
   "metadata": {},
   "outputs": [],
   "source": [
    "vist_times = df['visit_time'][df['visit_time'].notnull()]\n",
    "ax = vist_times.plot.hist(bins=10, alpha=0.5)\n",
    "\n"
   ]
  },
  {
   "cell_type": "code",
   "execution_count": null,
   "id": "84f17fc2-cb9d-4ff1-8825-18bb24be5b34",
   "metadata": {},
   "outputs": [],
   "source": [
    "%%capture --no-stdout\n",
    "from scipy import stats\n",
    "\n",
    "list_of_dists = [nm for nm, _ in stats._distr_params.distcont]\n",
    "\n",
    "results = []\n",
    "\n",
    "for i in list_of_dists:\n",
    "    dist = getattr(stats, i)\n",
    "    try:\n",
    "        param = dist.fit(vist_times)\n",
    "        a = stats.kstest(vist_times, i, args=param)\n",
    "    except:\n",
    "        print(f'Could not fit {i}')\n",
    "        continue\n",
    "    results.append((i,a[0],a[1], param))\n",
    "        \n",
    "results.sort(key=lambda x:float(x[2]), reverse=True)\n",
    "    "
   ]
  },
  {
   "cell_type": "code",
   "execution_count": null,
   "id": "cb7c7bfe-33e6-4a70-91cd-aceec3f0a095",
   "metadata": {},
   "outputs": [],
   "source": [
    "for j in results:\n",
    "    print(\"{}: statistic={}, pvalue={}\".format(j[0], j[1], j[2]))\n",
    "    \n",
    "with open(Path('./data/stats/toilet_fits.txt'), 'w') as f:\n",
    "    f.write('name, statistic, pvalue, params\\n')\n",
    "    for j in results:\n",
    "        f.write(f'{j[0]}, {j[1]:.4f}, {j[2]:.4f}, {j[3]}\\n')"
   ]
  },
  {
   "cell_type": "markdown",
   "id": "f4f46cd8-706a-4c57-bd93-1cb824f0d480",
   "metadata": {},
   "source": [
    "## Activity times"
   ]
  },
  {
   "cell_type": "code",
   "execution_count": null,
   "id": "b4c96a51-e3a9-4821-9b26-75d847f52944",
   "metadata": {},
   "outputs": [],
   "source": [
    "filename = Path('./data/processed/20210818_evening_staff_activities.csv')\n",
    "df = pd.read_csv(filename, parse_dates=['start_time', 'end_time'])\n",
    "\n",
    "df"
   ]
  },
  {
   "cell_type": "code",
   "execution_count": null,
   "id": "0f52ad75-f0af-4322-aeed-e994257f827c",
   "metadata": {},
   "outputs": [],
   "source": [
    "import numpy as np\n",
    "\n",
    "activitiy_times = np.array((df['end_time'] - df['start_time'])/np.timedelta64(1, 's'))"
   ]
  },
  {
   "cell_type": "code",
   "execution_count": null,
   "id": "aab9237f-62f8-43d6-b53a-4da293734bcf",
   "metadata": {},
   "outputs": [],
   "source": [
    "import matplotlib.pyplot as plt\n",
    "hist = plt.hist(activitiy_times, bins=15)\n",
    "print(np.mean(activitiy_times))"
   ]
  },
  {
   "cell_type": "code",
   "execution_count": null,
   "id": "90c9209e-3847-49f0-bcbb-2537d0a4cdaf",
   "metadata": {},
   "outputs": [],
   "source": [
    "%%capture --no-stdout\n",
    "from scipy import stats\n",
    "\n",
    "list_of_dists = [nm for nm, _ in stats._distr_params.distcont]\n",
    "\n",
    "results = []\n",
    "\n",
    "for i in list_of_dists:\n",
    "    dist = getattr(stats, i)\n",
    "    try:\n",
    "        param = dist.fit(activitiy_times)\n",
    "        a = stats.kstest(activitiy_times, i, args=param)\n",
    "    except:\n",
    "        print(f'Could not fit {i}')\n",
    "        continue\n",
    "    results.append((i,a[0],a[1], param))\n",
    "        \n",
    "results.sort(key=lambda x:float(x[2]), reverse=True)"
   ]
  },
  {
   "cell_type": "code",
   "execution_count": null,
   "id": "8ec06b4d-b073-4eb2-9c99-cbf0cc7424da",
   "metadata": {},
   "outputs": [],
   "source": [
    "for j in results:\n",
    "    print(\"{}: statistic={}, pvalue={}\".format(j[0], j[1], j[2]))\n",
    "    \n",
    "with open(Path('./data/stats/activitiy_time_fits.txt'), 'w') as f:\n",
    "    f.write('name, statistic, pvalue, params\\n')\n",
    "    for j in results:\n",
    "        f.write(f'{j[0]}, {j[1]:.4f}, {j[2]:.4f}, {j[3]}\\n')"
   ]
  },
  {
   "cell_type": "code",
   "execution_count": null,
   "id": "33b35dc9-f15b-446a-96a0-293fe82301ac",
   "metadata": {},
   "outputs": [],
   "source": []
  }
 ],
 "metadata": {
  "kernelspec": {
   "display_name": "Python 3 (ipykernel)",
   "language": "python",
   "name": "python3"
  },
  "language_info": {
   "codemirror_mode": {
    "name": "ipython",
    "version": 3
   },
   "file_extension": ".py",
   "mimetype": "text/x-python",
   "name": "python",
   "nbconvert_exporter": "python",
   "pygments_lexer": "ipython3",
   "version": "3.9.7"
  }
 },
 "nbformat": 4,
 "nbformat_minor": 5
}
