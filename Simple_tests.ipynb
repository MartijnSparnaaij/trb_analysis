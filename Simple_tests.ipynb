{
 "cells": [
  {
   "cell_type": "code",
   "execution_count": 1,
   "id": "0a0fe97c-65f7-482f-b88f-a8679bad37ed",
   "metadata": {},
   "outputs": [
    {
     "data": {
      "text/plain": [
       "array([0.05, 0.1 , 0.15, 0.2 , 0.25, 0.3 , 0.35, 0.4 , 0.45, 0.5 , 0.55,\n",
       "       0.6 , 0.65, 0.7 , 0.75, 0.8 , 0.85, 0.9 , 0.95, 1.  ])"
      ]
     },
     "execution_count": 1,
     "metadata": {},
     "output_type": "execute_result"
    }
   ],
   "source": [
    "import numpy as np\n",
    "step_size = 0.05\n",
    "probabilities = np.arange(step_size, 1.0+step_size, step_size)\n",
    "\n"
   ]
  },
  {
   "cell_type": "code",
   "execution_count": 5,
   "id": "65a76173-3bd3-48f3-a4d9-516dbb02c4fb",
   "metadata": {},
   "outputs": [
    {
     "name": "stdout",
     "output_type": "stream",
     "text": [
      "     asisaasibi\n"
     ]
    }
   ],
   "source": [
    "print(f'{\"asisaasibi\":>15}')"
   ]
  },
  {
   "cell_type": "code",
   "execution_count": 6,
   "id": "7fe3a7b9-ff73-482f-a463-f1476db66bff",
   "metadata": {},
   "outputs": [
    {
     "data": {
      "text/plain": [
       "1.140175425099138"
      ]
     },
     "execution_count": 6,
     "metadata": {},
     "output_type": "execute_result"
    }
   ],
   "source": [
    "import math\n",
    "math.sqrt(0.3**2 + 1.1**2)"
   ]
  },
  {
   "cell_type": "code",
   "execution_count": 2,
   "id": "6faf84ae-0ee8-41aa-a816-0fed40719f69",
   "metadata": {},
   "outputs": [
    {
     "data": {
      "text/plain": [
       "0"
      ]
     },
     "execution_count": 2,
     "metadata": {},
     "output_type": "execute_result"
    }
   ],
   "source": [
    "import numpy as np\n",
    "\n",
    "valueArray = np.array([[1,2], [2,2], [2,1]])\n",
    "\n",
    "cut_off_distance = 0.5\n",
    "time_step = 1\n",
    "\n",
    "time_step*np.sum(valueArray[:,1] <= cut_off_distance)"
   ]
  },
  {
   "cell_type": "code",
   "execution_count": 6,
   "id": "81a60139-dc11-4cf4-9fc0-4eb35df16e9d",
   "metadata": {},
   "outputs": [
    {
     "name": "stdout",
     "output_type": "stream",
     "text": [
      "False\n",
      "False\n",
      "True\n",
      "True\n"
     ]
    }
   ],
   "source": [
    "from shapely.geometry.point import Point\n",
    "from shapely.geometry.polygon import Polygon\n",
    "\n",
    "pol = Polygon(((0,0), (1,0), (1,1), (0,1)))\n",
    "\n",
    "point = Point((0.1,0.1))\n",
    "point = Point((0,0))\n",
    "\n",
    "print(point.contains(pol))\n",
    "print(pol.contains(point))\n",
    "print(pol.intersects(point))\n",
    "print(pol.touches(point))\n"
   ]
  },
  {
   "cell_type": "code",
   "execution_count": 7,
   "id": "e2479425-efee-4369-a1c4-3170cd488af7",
   "metadata": {},
   "outputs": [
    {
     "name": "stdout",
     "output_type": "stream",
     "text": [
      "(0.004705882352941176, 0.004705882352941176, 0.01568627450980392, 1.0)\n",
      "(0.0, 0.0, 0.0, 1.0)\n"
     ]
    },
    {
     "data": {
      "image/png": "[encoded data removed]",
      "text/html": [
       "<div style=\"vertical-align: middle;\"><strong>CMRmap</strong> </div><div class=\"cmap\"><img alt=\"CMRmap colormap\" title=\"CMRmap\" style=\"border: 1px solid #555;\" src=\"data:image/png;base64,iVBORw0KGgoAAAANSUhEUgAAAgAAAABACAYAAABsv8+/AAAAFXRFWHRUaXRsZQBDTVJtYXAgY29sb3JtYXBWnHtIAAAAG3RFWHREZXNjcmlwdGlvbgBDTVJtYXAgY29sb3JtYXAfC2OsAAAAMHRFWHRBdXRob3IATWF0cGxvdGxpYiB2My40LjIsIGh0dHBzOi8vbWF0cGxvdGxpYi5vcmes1mPdAAAAMnRFWHRTb2Z0d2FyZQBNYXRwbG90bGliIHYzLjQuMiwgaHR0cHM6Ly9tYXRwbG90bGliLm9yZ4Jw/PoAAAGqSURBVHic7dbBasJAFEDRmcT+/xfXdGEsaNFaKIXmnrN5jHlEEEnuHGNsY4wx52k8m8vy/Pr/3Vsvcyw3c7k7P5qv7r26/9f3W8bc5/ky52Wu1/M+13k+5N76ufd+O/fPT5/n90Puzf36tmzj8sNsN+dtOd+dj7Y39jnv5qPPj7a3L+zPw7E/D7/MZT3k3v37YYwH74f59s3eq/f76d7t9//2917/HgBAiAAAgCABAABBAgAAggQAAAQJAAAIEgAAECQAACBIAABAkAAAgCABAABBAgAAggQAAAQJAAAIEgAAECQAACBIAABAkAAAgCABAABBAgAAggQAAAQJAAAIEgAAECQAACBIAABAkAAAgCABAABBAgAAggQAAAQJAAAIEgAAECQAACBIAABAkAAAgCABAABBAgAAggQAAAQJAAAIEgAAECQAACBIAABAkAAAgCABAABBAgAAggQAAAQJAAAIEgAAECQAACBIAABAkAAAgCABAABBAgAAggQAAAQJAAAIEgAAECQAACBIAABAkAAAgCABAABBAgAAggQAAAQJAAAIEgAAEPQBpiZ8fDGEsAsAAAAASUVORK5CYII=\"></div><div style=\"vertical-align: middle; max-width: 514px; display: flex; justify-content: space-between;\"><div style=\"float: left;\"><div title=\"#000000ff\" style=\"display: inline-block; width: 1em; height: 1em; margin: 0; vertical-align: middle; border: 1px solid #555; background-color: #000000ff;\"></div> under</div><div style=\"margin: 0 auto; display: inline-block;\">bad <div title=\"#00000000\" style=\"display: inline-block; width: 1em; height: 1em; margin: 0; vertical-align: middle; border: 1px solid #555; background-color: #00000000;\"></div></div><div style=\"float: right;\">over <div title=\"#ffffffff\" style=\"display: inline-block; width: 1em; height: 1em; margin: 0; vertical-align: middle; border: 1px solid #555; background-color: #ffffffff;\"></div></div>"
      ],
      "text/plain": [
       "<matplotlib.colors.LinearSegmentedColormap at 0x1bf751588b0>"
      ]
     },
     "execution_count": 7,
     "metadata": {},
     "output_type": "execute_result"
    }
   ],
   "source": [
    "from matplotlib import cm\n",
    "\n",
    "colorMap = cm.get_cmap('CMRmap')\n",
    "\n",
    "print(colorMap(1))\n",
    "print(colorMap(0))\n",
    "\n",
    "colorMap\n",
    "\n"
   ]
  },
  {
   "cell_type": "code",
   "execution_count": null,
   "id": "60eb7ea5-b523-4916-b501-cd0ff5065c08",
   "metadata": {},
   "outputs": [],
   "source": []
  }
 ],
 "metadata": {
  "kernelspec": {
   "display_name": "Python 3",
   "language": "python",
   "name": "python3"
  },
  "language_info": {
   "codemirror_mode": {
    "name": "ipython",
    "version": 3
   },
   "file_extension": ".py",
   "mimetype": "text/x-python",
   "name": "python",
   "nbconvert_exporter": "python",
   "pygments_lexer": "ipython3",
   "version": "3.9.5"
  }
 },
 "nbformat": 4,
 "nbformat_minor": 5
}
