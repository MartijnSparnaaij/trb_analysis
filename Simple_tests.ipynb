{
 "cells": [
  {
   "cell_type": "code",
   "execution_count": 1,
   "id": "0a0fe97c-65f7-482f-b88f-a8679bad37ed",
   "metadata": {},
   "outputs": [
    {
     "data": {
      "text/plain": [
       "array([0.05, 0.1 , 0.15, 0.2 , 0.25, 0.3 , 0.35, 0.4 , 0.45, 0.5 , 0.55,\n",
       "       0.6 , 0.65, 0.7 , 0.75, 0.8 , 0.85, 0.9 , 0.95, 1.  ])"
      ]
     },
     "execution_count": 1,
     "metadata": {},
     "output_type": "execute_result"
    }
   ],
   "source": [
    "import numpy as np\n",
    "step_size = 0.05\n",
    "probabilities = np.arange(step_size, 1.0+step_size, step_size)\n",
    "\n"
   ]
  },
  {
   "cell_type": "code",
   "execution_count": 5,
   "id": "65a76173-3bd3-48f3-a4d9-516dbb02c4fb",
   "metadata": {},
   "outputs": [
    {
     "name": "stdout",
     "output_type": "stream",
     "text": [
      "     asisaasibi\n"
     ]
    }
   ],
   "source": [
    "print(f'{\"asisaasibi\":>15}')"
   ]
  },
  {
   "cell_type": "code",
   "execution_count": 6,
   "id": "7fe3a7b9-ff73-482f-a463-f1476db66bff",
   "metadata": {},
   "outputs": [
    {
     "data": {
      "text/plain": [
       "1.140175425099138"
      ]
     },
     "execution_count": 6,
     "metadata": {},
     "output_type": "execute_result"
    }
   ],
   "source": [
    "import math\n",
    "math.sqrt(0.3**2 + 1.1**2)"
   ]
  },
  {
   "cell_type": "code",
   "execution_count": 2,
   "id": "6faf84ae-0ee8-41aa-a816-0fed40719f69",
   "metadata": {},
   "outputs": [
    {
     "data": {
      "text/plain": [
       "0"
      ]
     },
     "execution_count": 2,
     "metadata": {},
     "output_type": "execute_result"
    }
   ],
   "source": [
    "import numpy as np\n",
    "\n",
    "valueArray = np.array([[1,2], [2,2], [2,1]])\n",
    "\n",
    "cut_off_distance = 0.5\n",
    "time_step = 1\n",
    "\n",
    "time_step*np.sum(valueArray[:,1] <= cut_off_distance)"
   ]
  },
  {
   "cell_type": "code",
   "execution_count": null,
   "id": "81a60139-dc11-4cf4-9fc0-4eb35df16e9d",
   "metadata": {},
   "outputs": [],
   "source": []
  }
 ],
 "metadata": {
  "kernelspec": {
   "display_name": "Python 3",
   "language": "python",
   "name": "python3"
  },
  "language_info": {
   "codemirror_mode": {
    "name": "ipython",
    "version": 3
   },
   "file_extension": ".py",
   "mimetype": "text/x-python",
   "name": "python",
   "nbconvert_exporter": "python",
   "pygments_lexer": "ipython3",
   "version": "3.9.4"
  }
 },
 "nbformat": 4,
 "nbformat_minor": 5
}
