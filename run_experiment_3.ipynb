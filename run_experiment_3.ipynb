{
 "cells": [
  {
   "cell_type": "code",
   "execution_count": 1,
   "id": "e3053ccb-d04f-4ced-b207-4fb84670eabf",
   "metadata": {},
   "outputs": [
    {
     "name": "stdout",
     "output_type": "stream",
     "text": [
      "C:\\Users\\MartijnTU\\Jupyter_notebooks\\trb_analysis\\trb_analysis\\nomad\n",
      "c241e40d5232b58142d176859c29d9a5a69c2f4a: Fri, 23 Jul 2021 16:39 - Merge branch 'trb_paper' of https://gitlab.tudelft.nl/active-mode-models/nomad.git\n"
     ]
    }
   ],
   "source": [
    "try:\n",
    "    from git_nomad import pull_nomad\n",
    "except:\n",
    "    import sys; sys.path.insert(0, '..')\n",
    "    from git_nomad import pull_nomad\n",
    "    \n",
    "import socket\n",
    "if socket.gethostname() == 'SPA-DESKTOP':\n",
    "    remote_path = r\"D:\\Work_TU\\Documents\\nomad\"\n",
    "else:\n",
    "    remote_path = r\"C:\\Users\\martijnsparnaa\\Eclipse_Python_NOMAD\\nomad_trb_paper\"\n",
    "repo_path, repo = pull_nomad(remote_path, 'master')\n",
    "print(repo_path.resolve())\n",
    "\n",
    "import os\n",
    "import time\n",
    "os.chdir(repo_path)\n",
    "headcommit = repo.head.commit\n",
    "committed_date = time.strftime(\"%a, %d %b %Y %H:%M\", time.localtime(headcommit.committed_date))\n",
    "print(f'{headcommit}: {committed_date} - {headcommit.message}')"
   ]
  },
  {
   "cell_type": "code",
   "execution_count": null,
   "id": "0979be54-7a02-43c2-bb31-ec6e86b4ce11",
   "metadata": {},
   "outputs": [],
   "source": [
    "from contact_analysis import ExperimentRunner, STEPS, P_THRESHOLD\n",
    "from pathlib import Path\n",
    "\n",
    "scenarioXmlFlNm = Path(r'D:\\SurfDrive\\PhD\\Activity scheduler\\Scenarios\\paper_scenarios\\trb_paper_no_shifts.xml')\n",
    "lrcmFlNm = Path(r'D:\\SurfDrive\\PhD\\Activity scheduler\\Scenarios\\paper_scenarios\\trb_paper.lrcm')\n",
    "\n",
    "experimentRunner = ExperimentRunner(scenarioXmlFlNm, lrcmFlNm, init_replications=10, max_replications=2000, \n",
    "                                      convergence_config={STEPS:5, P_THRESHOLD:0.95},\n",
    "                                       cut_off_distances=(1.0, 1.5, 2.0))\n",
    "experimentRunner.run_experiment()\n"
   ]
  },
  {
   "cell_type": "code",
   "execution_count": null,
   "id": "92fe0702-b94d-4c69-aed4-9b2e68177bff",
   "metadata": {},
   "outputs": [
    {
     "name": "stdout",
     "output_type": "stream",
     "text": [
      "Running replication 139 with seed = 1980\n"
     ]
    },
    {
     "name": "stderr",
     "output_type": "stream",
     "text": [
      "2021/07/24 00:30:11.241 - NOMAD.local_route_choice_manager - INFO - Creating the local route choice manager using LocalRouteChoiceIterativeComputer + C\n",
      "2021/07/24 00:30:11.241 - NOMAD.local_route_choice_manager - INFO - Creating a walk level local route choice manager using WalkLevelRouteChoiceIterativeComputer + C\n",
      "2021/07/24 00:30:33.785 - NOMAD.local_route_choice_manager - INFO - Finished creating local route choice manager in 22.543578624725342 seconds\n",
      "2021/07/24 00:30:33.791 - NOMAD.nomad_model - INFO - Model created with PedestrianManagerAttr with pedClass = attrPedPedForcesC\n"
     ]
    },
    {
     "name": "stdout",
     "output_type": "stream",
     "text": [
      "==================================\n",
      "..................................\n",
      "Simulation done. Processing data... done\n",
      "Saving data to file...done\n",
      "Running replication 140 with seed = 985\n"
     ]
    },
    {
     "name": "stderr",
     "output_type": "stream",
     "text": [
      "2021/07/24 00:34:11.799 - NOMAD.local_route_choice_manager - INFO - Creating the local route choice manager using LocalRouteChoiceIterativeComputer + C\n",
      "2021/07/24 00:34:11.807 - NOMAD.local_route_choice_manager - INFO - Creating a walk level local route choice manager using WalkLevelRouteChoiceIterativeComputer + C\n",
      "2021/07/24 00:34:33.630 - NOMAD.local_route_choice_manager - INFO - Finished creating local route choice manager in 21.822206497192383 seconds\n",
      "2021/07/24 00:34:33.635 - NOMAD.nomad_model - INFO - Model created with PedestrianManagerAttr with pedClass = attrPedPedForcesC\n"
     ]
    },
    {
     "name": "stdout",
     "output_type": "stream",
     "text": [
      "==================================\n",
      "..................................\n",
      "Simulation done. Processing data... done\n",
      "Checking convergence... done\n",
      "Saving data to file...done\n",
      "Running replication 141 with seed = 1525\n"
     ]
    },
    {
     "name": "stderr",
     "output_type": "stream",
     "text": [
      "2021/07/24 00:38:23.452 - NOMAD.local_route_choice_manager - INFO - Creating the local route choice manager using LocalRouteChoiceIterativeComputer + C\n",
      "2021/07/24 00:38:23.464 - NOMAD.local_route_choice_manager - INFO - Creating a walk level local route choice manager using WalkLevelRouteChoiceIterativeComputer + C\n",
      "2021/07/24 00:38:44.908 - NOMAD.local_route_choice_manager - INFO - Finished creating local route choice manager in 21.443721771240234 seconds\n",
      "2021/07/24 00:38:44.931 - NOMAD.nomad_model - INFO - Model created with PedestrianManagerAttr with pedClass = attrPedPedForcesC\n"
     ]
    },
    {
     "name": "stdout",
     "output_type": "stream",
     "text": [
      "==================================\n",
      "..................................\n",
      "Simulation done. Processing data... done\n",
      "Saving data to file...done\n",
      "Running replication 142 with seed = 3562\n"
     ]
    },
    {
     "name": "stderr",
     "output_type": "stream",
     "text": [
      "2021/07/24 00:42:28.671 - NOMAD.local_route_choice_manager - INFO - Creating the local route choice manager using LocalRouteChoiceIterativeComputer + C\n",
      "2021/07/24 00:42:28.671 - NOMAD.local_route_choice_manager - INFO - Creating a walk level local route choice manager using WalkLevelRouteChoiceIterativeComputer + C\n",
      "2021/07/24 00:42:51.608 - NOMAD.local_route_choice_manager - INFO - Finished creating local route choice manager in 22.93700361251831 seconds\n",
      "2021/07/24 00:42:51.624 - NOMAD.nomad_model - INFO - Model created with PedestrianManagerAttr with pedClass = attrPedPedForcesC\n"
     ]
    },
    {
     "name": "stdout",
     "output_type": "stream",
     "text": [
      "==================================\n",
      "..................................\n",
      "Simulation done. Processing data... done\n",
      "Saving data to file...done\n",
      "Running replication 143 with seed = 3164\n"
     ]
    },
    {
     "name": "stderr",
     "output_type": "stream",
     "text": [
      "2021/07/24 00:46:38.081 - NOMAD.local_route_choice_manager - INFO - Creating the local route choice manager using LocalRouteChoiceIterativeComputer + C\n",
      "2021/07/24 00:46:38.083 - NOMAD.local_route_choice_manager - INFO - Creating a walk level local route choice manager using WalkLevelRouteChoiceIterativeComputer + C\n",
      "2021/07/24 00:46:59.504 - NOMAD.local_route_choice_manager - INFO - Finished creating local route choice manager in 21.421226978302002 seconds\n",
      "2021/07/24 00:46:59.504 - NOMAD.nomad_model - INFO - Model created with PedestrianManagerAttr with pedClass = attrPedPedForcesC\n"
     ]
    },
    {
     "name": "stdout",
     "output_type": "stream",
     "text": [
      "==================================\n",
      "..................................\n",
      "Simulation done. Processing data... done\n",
      "Saving data to file...done\n",
      "Running replication 144 with seed = 2070\n"
     ]
    },
    {
     "name": "stderr",
     "output_type": "stream",
     "text": [
      "2021/07/24 00:50:47.223 - NOMAD.local_route_choice_manager - INFO - Creating the local route choice manager using LocalRouteChoiceIterativeComputer + C\n",
      "2021/07/24 00:50:47.223 - NOMAD.local_route_choice_manager - INFO - Creating a walk level local route choice manager using WalkLevelRouteChoiceIterativeComputer + C\n",
      "2021/07/24 00:51:08.380 - NOMAD.local_route_choice_manager - INFO - Finished creating local route choice manager in 21.15716314315796 seconds\n",
      "2021/07/24 00:51:08.400 - NOMAD.nomad_model - INFO - Model created with PedestrianManagerAttr with pedClass = attrPedPedForcesC\n"
     ]
    },
    {
     "name": "stdout",
     "output_type": "stream",
     "text": [
      "==================================\n",
      "..................................\n",
      "Simulation done. Processing data... done\n",
      "Saving data to file...done\n",
      "Running replication 145 with seed = 1063\n"
     ]
    },
    {
     "name": "stderr",
     "output_type": "stream",
     "text": [
      "2021/07/24 00:54:54.319 - NOMAD.local_route_choice_manager - INFO - Creating the local route choice manager using LocalRouteChoiceIterativeComputer + C\n",
      "2021/07/24 00:54:54.319 - NOMAD.local_route_choice_manager - INFO - Creating a walk level local route choice manager using WalkLevelRouteChoiceIterativeComputer + C\n",
      "2021/07/24 00:55:15.615 - NOMAD.local_route_choice_manager - INFO - Finished creating local route choice manager in 21.296697854995728 seconds\n",
      "2021/07/24 00:55:15.615 - NOMAD.nomad_model - INFO - Model created with PedestrianManagerAttr with pedClass = attrPedPedForcesC\n"
     ]
    },
    {
     "name": "stdout",
     "output_type": "stream",
     "text": [
      "==================================\n",
      "..................................\n",
      "Simulation done. Processing data... done\n",
      "Checking convergence... done\n",
      "Saving data to file...done\n",
      "Running replication 146 with seed = 404\n"
     ]
    },
    {
     "name": "stderr",
     "output_type": "stream",
     "text": [
      "2021/07/24 00:58:56.995 - NOMAD.local_route_choice_manager - INFO - Creating the local route choice manager using LocalRouteChoiceIterativeComputer + C\n",
      "2021/07/24 00:58:57.005 - NOMAD.local_route_choice_manager - INFO - Creating a walk level local route choice manager using WalkLevelRouteChoiceIterativeComputer + C\n",
      "2021/07/24 00:59:18.583 - NOMAD.local_route_choice_manager - INFO - Finished creating local route choice manager in 21.57741069793701 seconds\n",
      "2021/07/24 00:59:18.592 - NOMAD.nomad_model - INFO - Model created with PedestrianManagerAttr with pedClass = attrPedPedForcesC\n"
     ]
    },
    {
     "name": "stdout",
     "output_type": "stream",
     "text": [
      "==================================\n",
      "..................................\n",
      "Simulation done. Processing data... done\n",
      "Saving data to file...done\n",
      "Running replication 147 with seed = 226\n"
     ]
    },
    {
     "name": "stderr",
     "output_type": "stream",
     "text": [
      "2021/07/24 01:03:03.489 - NOMAD.local_route_choice_manager - INFO - Creating the local route choice manager using LocalRouteChoiceIterativeComputer + C\n",
      "2021/07/24 01:03:03.489 - NOMAD.local_route_choice_manager - INFO - Creating a walk level local route choice manager using WalkLevelRouteChoiceIterativeComputer + C\n",
      "2021/07/24 01:03:24.966 - NOMAD.local_route_choice_manager - INFO - Finished creating local route choice manager in 21.477184295654297 seconds\n",
      "2021/07/24 01:03:24.974 - NOMAD.nomad_model - INFO - Model created with PedestrianManagerAttr with pedClass = attrPedPedForcesC\n"
     ]
    },
    {
     "name": "stdout",
     "output_type": "stream",
     "text": [
      "==================================\n",
      "..................................\n",
      "Simulation done. Processing data... done\n",
      "Saving data to file...done\n",
      "Running replication 148 with seed = 1438\n"
     ]
    },
    {
     "name": "stderr",
     "output_type": "stream",
     "text": [
      "2021/07/24 01:07:06.072 - NOMAD.local_route_choice_manager - INFO - Creating the local route choice manager using LocalRouteChoiceIterativeComputer + C\n",
      "2021/07/24 01:07:06.072 - NOMAD.local_route_choice_manager - INFO - Creating a walk level local route choice manager using WalkLevelRouteChoiceIterativeComputer + C\n",
      "2021/07/24 01:07:27.360 - NOMAD.local_route_choice_manager - INFO - Finished creating local route choice manager in 21.287322998046875 seconds\n",
      "2021/07/24 01:07:27.370 - NOMAD.nomad_model - INFO - Model created with PedestrianManagerAttr with pedClass = attrPedPedForcesC\n"
     ]
    },
    {
     "name": "stdout",
     "output_type": "stream",
     "text": [
      "==================================\n",
      "..................................\n",
      "Simulation done. Processing data... done\n",
      "Saving data to file...done\n",
      "Running replication 149 with seed = 1590\n"
     ]
    },
    {
     "name": "stderr",
     "output_type": "stream",
     "text": [
      "2021/07/24 01:11:16.177 - NOMAD.local_route_choice_manager - INFO - Creating the local route choice manager using LocalRouteChoiceIterativeComputer + C\n",
      "2021/07/24 01:11:16.187 - NOMAD.local_route_choice_manager - INFO - Creating a walk level local route choice manager using WalkLevelRouteChoiceIterativeComputer + C\n",
      "2021/07/24 01:11:37.427 - NOMAD.local_route_choice_manager - INFO - Finished creating local route choice manager in 21.23991084098816 seconds\n",
      "2021/07/24 01:11:37.437 - NOMAD.nomad_model - INFO - Model created with PedestrianManagerAttr with pedClass = attrPedPedForcesC\n"
     ]
    },
    {
     "name": "stdout",
     "output_type": "stream",
     "text": [
      "==================================\n",
      "..................................\n",
      "Simulation done. Processing data... done\n",
      "Saving data to file...done\n",
      "Running replication 150 with seed = 2717\n"
     ]
    },
    {
     "name": "stderr",
     "output_type": "stream",
     "text": [
      "2021/07/24 01:15:12.023 - NOMAD.local_route_choice_manager - INFO - Creating the local route choice manager using LocalRouteChoiceIterativeComputer + C\n",
      "2021/07/24 01:15:12.031 - NOMAD.local_route_choice_manager - INFO - Creating a walk level local route choice manager using WalkLevelRouteChoiceIterativeComputer + C\n",
      "2021/07/24 01:15:33.068 - NOMAD.local_route_choice_manager - INFO - Finished creating local route choice manager in 21.0362606048584 seconds\n",
      "2021/07/24 01:15:33.090 - NOMAD.nomad_model - INFO - Model created with PedestrianManagerAttr with pedClass = attrPedPedForcesC\n"
     ]
    },
    {
     "name": "stdout",
     "output_type": "stream",
     "text": [
      "==================================\n",
      "..................................\n",
      "Simulation done. Processing data... done\n",
      "Checking convergence... done\n",
      "Saving data to file...done\n",
      "Running replication 151 with seed = 2809\n"
     ]
    },
    {
     "name": "stderr",
     "output_type": "stream",
     "text": [
      "2021/07/24 01:19:10.480 - NOMAD.local_route_choice_manager - INFO - Creating the local route choice manager using LocalRouteChoiceIterativeComputer + C\n",
      "2021/07/24 01:19:10.498 - NOMAD.local_route_choice_manager - INFO - Creating a walk level local route choice manager using WalkLevelRouteChoiceIterativeComputer + C\n",
      "2021/07/24 01:19:31.795 - NOMAD.local_route_choice_manager - INFO - Finished creating local route choice manager in 21.29745101928711 seconds\n",
      "2021/07/24 01:19:31.797 - NOMAD.nomad_model - INFO - Model created with PedestrianManagerAttr with pedClass = attrPedPedForcesC\n"
     ]
    },
    {
     "name": "stdout",
     "output_type": "stream",
     "text": [
      "==================================\n",
      "..................................\n",
      "Simulation done. Processing data... done\n",
      "Saving data to file...done\n",
      "Running replication 152 with seed = 1872\n"
     ]
    },
    {
     "name": "stderr",
     "output_type": "stream",
     "text": [
      "2021/07/24 01:23:11.881 - NOMAD.local_route_choice_manager - INFO - Creating the local route choice manager using LocalRouteChoiceIterativeComputer + C\n",
      "2021/07/24 01:23:11.881 - NOMAD.local_route_choice_manager - INFO - Creating a walk level local route choice manager using WalkLevelRouteChoiceIterativeComputer + C\n",
      "2021/07/24 01:23:33.047 - NOMAD.local_route_choice_manager - INFO - Finished creating local route choice manager in 21.166276693344116 seconds\n",
      "2021/07/24 01:23:33.057 - NOMAD.nomad_model - INFO - Model created with PedestrianManagerAttr with pedClass = attrPedPedForcesC\n"
     ]
    },
    {
     "name": "stdout",
     "output_type": "stream",
     "text": [
      "==================================\n",
      "..................................\n",
      "Simulation done. Processing data... done\n",
      "Saving data to file...done\n",
      "Running replication 153 with seed = 3223\n"
     ]
    },
    {
     "name": "stderr",
     "output_type": "stream",
     "text": [
      "2021/07/24 01:27:10.490 - NOMAD.local_route_choice_manager - INFO - Creating the local route choice manager using LocalRouteChoiceIterativeComputer + C\n",
      "2021/07/24 01:27:10.502 - NOMAD.local_route_choice_manager - INFO - Creating a walk level local route choice manager using WalkLevelRouteChoiceIterativeComputer + C\n",
      "2021/07/24 01:27:31.719 - NOMAD.local_route_choice_manager - INFO - Finished creating local route choice manager in 21.216440439224243 seconds\n",
      "2021/07/24 01:27:31.727 - NOMAD.nomad_model - INFO - Model created with PedestrianManagerAttr with pedClass = attrPedPedForcesC\n"
     ]
    },
    {
     "name": "stdout",
     "output_type": "stream",
     "text": [
      "==================================\n",
      "..................................\n",
      "Simulation done. Processing data... done\n",
      "Saving data to file...done\n",
      "Running replication 154 with seed = 2025\n"
     ]
    },
    {
     "name": "stderr",
     "output_type": "stream",
     "text": [
      "2021/07/24 01:31:11.811 - NOMAD.local_route_choice_manager - INFO - Creating the local route choice manager using LocalRouteChoiceIterativeComputer + C\n",
      "2021/07/24 01:31:11.811 - NOMAD.local_route_choice_manager - INFO - Creating a walk level local route choice manager using WalkLevelRouteChoiceIterativeComputer + C\n",
      "2021/07/24 01:31:32.828 - NOMAD.local_route_choice_manager - INFO - Finished creating local route choice manager in 21.017173528671265 seconds\n",
      "2021/07/24 01:31:32.836 - NOMAD.nomad_model - INFO - Model created with PedestrianManagerAttr with pedClass = attrPedPedForcesC\n"
     ]
    },
    {
     "name": "stdout",
     "output_type": "stream",
     "text": [
      "==================================\n",
      "..................................\n",
      "Simulation done. Processing data... done\n",
      "Saving data to file...done\n",
      "Running replication 155 with seed = 636\n"
     ]
    },
    {
     "name": "stderr",
     "output_type": "stream",
     "text": [
      "2021/07/24 01:35:08.214 - NOMAD.local_route_choice_manager - INFO - Creating the local route choice manager using LocalRouteChoiceIterativeComputer + C\n",
      "2021/07/24 01:35:08.216 - NOMAD.local_route_choice_manager - INFO - Creating a walk level local route choice manager using WalkLevelRouteChoiceIterativeComputer + C\n",
      "2021/07/24 01:35:29.503 - NOMAD.local_route_choice_manager - INFO - Finished creating local route choice manager in 21.28728413581848 seconds\n",
      "2021/07/24 01:35:29.503 - NOMAD.nomad_model - INFO - Model created with PedestrianManagerAttr with pedClass = attrPedPedForcesC\n"
     ]
    },
    {
     "name": "stdout",
     "output_type": "stream",
     "text": [
      "==================================\n",
      "..................................\n",
      "Simulation done. Processing data... done\n",
      "Checking convergence... done\n",
      "Saving data to file...done\n",
      "Running replication 156 with seed = 222\n"
     ]
    },
    {
     "name": "stderr",
     "output_type": "stream",
     "text": [
      "2021/07/24 01:39:14.624 - NOMAD.local_route_choice_manager - INFO - Creating the local route choice manager using LocalRouteChoiceIterativeComputer + C\n",
      "2021/07/24 01:39:14.624 - NOMAD.local_route_choice_manager - INFO - Creating a walk level local route choice manager using WalkLevelRouteChoiceIterativeComputer + C\n",
      "2021/07/24 01:39:36.638 - NOMAD.local_route_choice_manager - INFO - Finished creating local route choice manager in 22.013842582702637 seconds\n",
      "2021/07/24 01:39:36.638 - NOMAD.nomad_model - INFO - Model created with PedestrianManagerAttr with pedClass = attrPedPedForcesC\n"
     ]
    },
    {
     "name": "stdout",
     "output_type": "stream",
     "text": [
      "==================================\n",
      "..................................\n",
      "Simulation done. Processing data... done\n",
      "Saving data to file...done\n",
      "Running replication 157 with seed = 3086\n"
     ]
    },
    {
     "name": "stderr",
     "output_type": "stream",
     "text": [
      "2021/07/24 01:43:14.044 - NOMAD.local_route_choice_manager - INFO - Creating the local route choice manager using LocalRouteChoiceIterativeComputer + C\n",
      "2021/07/24 01:43:14.044 - NOMAD.local_route_choice_manager - INFO - Creating a walk level local route choice manager using WalkLevelRouteChoiceIterativeComputer + C\n",
      "2021/07/24 01:43:35.965 - NOMAD.local_route_choice_manager - INFO - Finished creating local route choice manager in 21.920591354370117 seconds\n",
      "2021/07/24 01:43:35.983 - NOMAD.nomad_model - INFO - Model created with PedestrianManagerAttr with pedClass = attrPedPedForcesC\n"
     ]
    },
    {
     "name": "stdout",
     "output_type": "stream",
     "text": [
      "==================================\n",
      "..................................\n",
      "Simulation done. Processing data... done\n",
      "Saving data to file...done\n",
      "Running replication 158 with seed = 2995\n"
     ]
    },
    {
     "name": "stderr",
     "output_type": "stream",
     "text": [
      "2021/07/24 01:47:24.925 - NOMAD.local_route_choice_manager - INFO - Creating the local route choice manager using LocalRouteChoiceIterativeComputer + C\n",
      "2021/07/24 01:47:24.925 - NOMAD.local_route_choice_manager - INFO - Creating a walk level local route choice manager using WalkLevelRouteChoiceIterativeComputer + C\n",
      "2021/07/24 01:47:47.046 - NOMAD.local_route_choice_manager - INFO - Finished creating local route choice manager in 22.12047553062439 seconds\n",
      "2021/07/24 01:47:47.048 - NOMAD.nomad_model - INFO - Model created with PedestrianManagerAttr with pedClass = attrPedPedForcesC\n"
     ]
    },
    {
     "name": "stdout",
     "output_type": "stream",
     "text": [
      "==================================\n",
      "..................................\n",
      "Simulation done. Processing data... done\n",
      "Saving data to file...done\n",
      "Running replication 159 with seed = 1594\n"
     ]
    },
    {
     "name": "stderr",
     "output_type": "stream",
     "text": [
      "2021/07/24 01:51:32.897 - NOMAD.local_route_choice_manager - INFO - Creating the local route choice manager using LocalRouteChoiceIterativeComputer + C\n",
      "2021/07/24 01:51:32.897 - NOMAD.local_route_choice_manager - INFO - Creating a walk level local route choice manager using WalkLevelRouteChoiceIterativeComputer + C\n",
      "2021/07/24 01:51:54.687 - NOMAD.local_route_choice_manager - INFO - Finished creating local route choice manager in 21.78999924659729 seconds\n",
      "2021/07/24 01:51:54.707 - NOMAD.nomad_model - INFO - Model created with PedestrianManagerAttr with pedClass = attrPedPedForcesC\n"
     ]
    },
    {
     "name": "stdout",
     "output_type": "stream",
     "text": [
      "==================================\n",
      "..................................\n",
      "Simulation done. Processing data... done\n",
      "Saving data to file...done\n",
      "Running replication 160 with seed = 3049\n"
     ]
    },
    {
     "name": "stderr",
     "output_type": "stream",
     "text": [
      "2021/07/24 01:55:34.299 - NOMAD.local_route_choice_manager - INFO - Creating the local route choice manager using LocalRouteChoiceIterativeComputer + C\n",
      "2021/07/24 01:55:34.307 - NOMAD.local_route_choice_manager - INFO - Creating a walk level local route choice manager using WalkLevelRouteChoiceIterativeComputer + C\n",
      "2021/07/24 01:55:55.535 - NOMAD.local_route_choice_manager - INFO - Finished creating local route choice manager in 21.228049516677856 seconds\n",
      "2021/07/24 01:55:55.545 - NOMAD.nomad_model - INFO - Model created with PedestrianManagerAttr with pedClass = attrPedPedForcesC\n"
     ]
    },
    {
     "name": "stdout",
     "output_type": "stream",
     "text": [
      "==================================\n",
      "..................................\n",
      "Simulation done. Processing data... done\n",
      "Checking convergence... done\n",
      "Saving data to file...done\n",
      "Running replication 161 with seed = 2480\n"
     ]
    },
    {
     "name": "stderr",
     "output_type": "stream",
     "text": [
      "2021/07/24 01:59:38.479 - NOMAD.local_route_choice_manager - INFO - Creating the local route choice manager using LocalRouteChoiceIterativeComputer + C\n",
      "2021/07/24 01:59:38.479 - NOMAD.local_route_choice_manager - INFO - Creating a walk level local route choice manager using WalkLevelRouteChoiceIterativeComputer + C\n",
      "2021/07/24 01:59:59.794 - NOMAD.local_route_choice_manager - INFO - Finished creating local route choice manager in 21.315313816070557 seconds\n",
      "2021/07/24 01:59:59.796 - NOMAD.nomad_model - INFO - Model created with PedestrianManagerAttr with pedClass = attrPedPedForcesC\n"
     ]
    },
    {
     "name": "stdout",
     "output_type": "stream",
     "text": [
      "==================================\n",
      "..................................\n",
      "Simulation done. Processing data... done\n",
      "Saving data to file...done\n",
      "Running replication 162 with seed = 1998\n"
     ]
    },
    {
     "name": "stderr",
     "output_type": "stream",
     "text": [
      "2021/07/24 02:03:34.061 - NOMAD.local_route_choice_manager - INFO - Creating the local route choice manager using LocalRouteChoiceIterativeComputer + C\n",
      "2021/07/24 02:03:34.061 - NOMAD.local_route_choice_manager - INFO - Creating a walk level local route choice manager using WalkLevelRouteChoiceIterativeComputer + C\n",
      "2021/07/24 02:03:55.419 - NOMAD.local_route_choice_manager - INFO - Finished creating local route choice manager in 21.358002185821533 seconds\n",
      "2021/07/24 02:03:55.439 - NOMAD.nomad_model - INFO - Model created with PedestrianManagerAttr with pedClass = attrPedPedForcesC\n"
     ]
    },
    {
     "name": "stdout",
     "output_type": "stream",
     "text": [
      "==================================\n",
      "..................................\n",
      "Simulation done. Processing data... done\n",
      "Saving data to file...done\n",
      "Running replication 163 with seed = 2146\n"
     ]
    },
    {
     "name": "stderr",
     "output_type": "stream",
     "text": [
      "2021/07/24 02:07:39.415 - NOMAD.local_route_choice_manager - INFO - Creating the local route choice manager using LocalRouteChoiceIterativeComputer + C\n",
      "2021/07/24 02:07:39.415 - NOMAD.local_route_choice_manager - INFO - Creating a walk level local route choice manager using WalkLevelRouteChoiceIterativeComputer + C\n",
      "2021/07/24 02:08:00.953 - NOMAD.local_route_choice_manager - INFO - Finished creating local route choice manager in 21.537872314453125 seconds\n",
      "2021/07/24 02:08:00.963 - NOMAD.nomad_model - INFO - Model created with PedestrianManagerAttr with pedClass = attrPedPedForcesC\n"
     ]
    },
    {
     "name": "stdout",
     "output_type": "stream",
     "text": [
      "==================================\n",
      "..................................\n",
      "Simulation done. Processing data... done\n",
      "Saving data to file...done\n",
      "Running replication 164 with seed = 3975\n"
     ]
    },
    {
     "name": "stderr",
     "output_type": "stream",
     "text": [
      "2021/07/24 02:11:36.249 - NOMAD.local_route_choice_manager - INFO - Creating the local route choice manager using LocalRouteChoiceIterativeComputer + C\n",
      "2021/07/24 02:11:36.249 - NOMAD.local_route_choice_manager - INFO - Creating a walk level local route choice manager using WalkLevelRouteChoiceIterativeComputer + C\n",
      "2021/07/24 02:11:57.557 - NOMAD.local_route_choice_manager - INFO - Finished creating local route choice manager in 21.30786442756653 seconds\n",
      "2021/07/24 02:11:57.557 - NOMAD.nomad_model - INFO - Model created with PedestrianManagerAttr with pedClass = attrPedPedForcesC\n"
     ]
    },
    {
     "name": "stdout",
     "output_type": "stream",
     "text": [
      "==================================\n",
      "..................................\n",
      "Simulation done. Processing data... done\n",
      "Saving data to file...done\n",
      "Running replication 165 with seed = 2765\n"
     ]
    },
    {
     "name": "stderr",
     "output_type": "stream",
     "text": [
      "2021/07/24 02:15:35.494 - NOMAD.local_route_choice_manager - INFO - Creating the local route choice manager using LocalRouteChoiceIterativeComputer + C\n",
      "2021/07/24 02:15:35.494 - NOMAD.local_route_choice_manager - INFO - Creating a walk level local route choice manager using WalkLevelRouteChoiceIterativeComputer + C\n",
      "2021/07/24 02:15:57.152 - NOMAD.local_route_choice_manager - INFO - Finished creating local route choice manager in 21.657222270965576 seconds\n",
      "2021/07/24 02:15:57.154 - NOMAD.nomad_model - INFO - Model created with PedestrianManagerAttr with pedClass = attrPedPedForcesC\n"
     ]
    },
    {
     "name": "stdout",
     "output_type": "stream",
     "text": [
      "==================================\n",
      "..................................\n",
      "Simulation done. Processing data... done\n",
      "Checking convergence... done\n",
      "Saving data to file...done\n",
      "Running replication 166 with seed = 2187\n"
     ]
    },
    {
     "name": "stderr",
     "output_type": "stream",
     "text": [
      "2021/07/24 02:19:38.177 - NOMAD.local_route_choice_manager - INFO - Creating the local route choice manager using LocalRouteChoiceIterativeComputer + C\n",
      "2021/07/24 02:19:38.177 - NOMAD.local_route_choice_manager - INFO - Creating a walk level local route choice manager using WalkLevelRouteChoiceIterativeComputer + C\n",
      "2021/07/24 02:19:59.442 - NOMAD.local_route_choice_manager - INFO - Finished creating local route choice manager in 21.26553726196289 seconds\n",
      "2021/07/24 02:19:59.450 - NOMAD.nomad_model - INFO - Model created with PedestrianManagerAttr with pedClass = attrPedPedForcesC\n"
     ]
    },
    {
     "name": "stdout",
     "output_type": "stream",
     "text": [
      "==================================\n",
      "..................................\n",
      "Simulation done. Processing data... done\n",
      "Saving data to file...done\n",
      "Running replication 167 with seed = 1727\n"
     ]
    },
    {
     "name": "stderr",
     "output_type": "stream",
     "text": [
      "2021/07/24 02:23:39.711 - NOMAD.local_route_choice_manager - INFO - Creating the local route choice manager using LocalRouteChoiceIterativeComputer + C\n",
      "2021/07/24 02:23:39.711 - NOMAD.local_route_choice_manager - INFO - Creating a walk level local route choice manager using WalkLevelRouteChoiceIterativeComputer + C\n",
      "2021/07/24 02:24:01.210 - NOMAD.local_route_choice_manager - INFO - Finished creating local route choice manager in 21.49875283241272 seconds\n",
      "2021/07/24 02:24:01.220 - NOMAD.nomad_model - INFO - Model created with PedestrianManagerAttr with pedClass = attrPedPedForcesC\n"
     ]
    },
    {
     "name": "stdout",
     "output_type": "stream",
     "text": [
      "==================================\n",
      "..................................\n",
      "Simulation done. Processing data... done\n",
      "Saving data to file...done\n",
      "Running replication 168 with seed = 333\n"
     ]
    },
    {
     "name": "stderr",
     "output_type": "stream",
     "text": [
      "2021/07/24 02:27:44.213 - NOMAD.local_route_choice_manager - INFO - Creating the local route choice manager using LocalRouteChoiceIterativeComputer + C\n",
      "2021/07/24 02:27:44.221 - NOMAD.local_route_choice_manager - INFO - Creating a walk level local route choice manager using WalkLevelRouteChoiceIterativeComputer + C\n",
      "2021/07/24 02:28:05.479 - NOMAD.local_route_choice_manager - INFO - Finished creating local route choice manager in 21.257722854614258 seconds\n",
      "2021/07/24 02:28:05.497 - NOMAD.nomad_model - INFO - Model created with PedestrianManagerAttr with pedClass = attrPedPedForcesC\n"
     ]
    },
    {
     "name": "stdout",
     "output_type": "stream",
     "text": [
      "==================================\n",
      "..................................\n",
      "Simulation done. Processing data... done\n",
      "Saving data to file...done\n",
      "Running replication 169 with seed = 154\n"
     ]
    },
    {
     "name": "stderr",
     "output_type": "stream",
     "text": [
      "2021/07/24 02:31:50.365 - NOMAD.local_route_choice_manager - INFO - Creating the local route choice manager using LocalRouteChoiceIterativeComputer + C\n",
      "2021/07/24 02:31:50.365 - NOMAD.local_route_choice_manager - INFO - Creating a walk level local route choice manager using WalkLevelRouteChoiceIterativeComputer + C\n",
      "2021/07/24 02:32:11.561 - NOMAD.local_route_choice_manager - INFO - Finished creating local route choice manager in 21.196147680282593 seconds\n",
      "2021/07/24 02:32:11.571 - NOMAD.nomad_model - INFO - Model created with PedestrianManagerAttr with pedClass = attrPedPedForcesC\n"
     ]
    },
    {
     "name": "stdout",
     "output_type": "stream",
     "text": [
      "==================================\n",
      "..................................\n",
      "Simulation done. Processing data... done\n",
      "Saving data to file...done\n",
      "Running replication 170 with seed = 2937\n"
     ]
    },
    {
     "name": "stderr",
     "output_type": "stream",
     "text": [
      "2021/07/24 02:35:54.400 - NOMAD.local_route_choice_manager - INFO - Creating the local route choice manager using LocalRouteChoiceIterativeComputer + C\n",
      "2021/07/24 02:35:54.410 - NOMAD.local_route_choice_manager - INFO - Creating a walk level local route choice manager using WalkLevelRouteChoiceIterativeComputer + C\n",
      "2021/07/24 02:36:15.917 - NOMAD.local_route_choice_manager - INFO - Finished creating local route choice manager in 21.507144927978516 seconds\n",
      "2021/07/24 02:36:15.919 - NOMAD.nomad_model - INFO - Model created with PedestrianManagerAttr with pedClass = attrPedPedForcesC\n"
     ]
    },
    {
     "name": "stdout",
     "output_type": "stream",
     "text": [
      "==================================\n",
      "..................................\n",
      "Simulation done. Processing data... done\n",
      "Checking convergence... done\n",
      "Saving data to file...done\n",
      "Running replication 171 with seed = 1672\n"
     ]
    },
    {
     "name": "stderr",
     "output_type": "stream",
     "text": [
      "2021/07/24 02:39:56.696 - NOMAD.local_route_choice_manager - INFO - Creating the local route choice manager using LocalRouteChoiceIterativeComputer + C\n",
      "2021/07/24 02:39:56.696 - NOMAD.local_route_choice_manager - INFO - Creating a walk level local route choice manager using WalkLevelRouteChoiceIterativeComputer + C\n",
      "2021/07/24 02:40:17.982 - NOMAD.local_route_choice_manager - INFO - Finished creating local route choice manager in 21.28594970703125 seconds\n",
      "2021/07/24 02:40:17.992 - NOMAD.nomad_model - INFO - Model created with PedestrianManagerAttr with pedClass = attrPedPedForcesC\n"
     ]
    },
    {
     "name": "stdout",
     "output_type": "stream",
     "text": [
      "==================================\n",
      "..................................\n",
      "Simulation done. Processing data... done\n",
      "Saving data to file...done\n",
      "Running replication 172 with seed = 5\n"
     ]
    },
    {
     "name": "stderr",
     "output_type": "stream",
     "text": [
      "2021/07/24 02:43:59.349 - NOMAD.local_route_choice_manager - INFO - Creating the local route choice manager using LocalRouteChoiceIterativeComputer + C\n",
      "2021/07/24 02:43:59.349 - NOMAD.local_route_choice_manager - INFO - Creating a walk level local route choice manager using WalkLevelRouteChoiceIterativeComputer + C\n",
      "2021/07/24 02:44:20.846 - NOMAD.local_route_choice_manager - INFO - Finished creating local route choice manager in 21.496817350387573 seconds\n",
      "2021/07/24 02:44:20.856 - NOMAD.nomad_model - INFO - Model created with PedestrianManagerAttr with pedClass = attrPedPedForcesC\n"
     ]
    },
    {
     "name": "stdout",
     "output_type": "stream",
     "text": [
      "==================================\n",
      "..................................\n",
      "Simulation done. Processing data... done\n",
      "Saving data to file...done\n",
      "Running replication 173 with seed = 2482\n"
     ]
    },
    {
     "name": "stderr",
     "output_type": "stream",
     "text": [
      "2021/07/24 02:47:57.854 - NOMAD.local_route_choice_manager - INFO - Creating the local route choice manager using LocalRouteChoiceIterativeComputer + C\n",
      "2021/07/24 02:47:57.854 - NOMAD.local_route_choice_manager - INFO - Creating a walk level local route choice manager using WalkLevelRouteChoiceIterativeComputer + C\n",
      "2021/07/24 02:48:18.901 - NOMAD.local_route_choice_manager - INFO - Finished creating local route choice manager in 21.04627561569214 seconds\n",
      "2021/07/24 02:48:18.921 - NOMAD.nomad_model - INFO - Model created with PedestrianManagerAttr with pedClass = attrPedPedForcesC\n"
     ]
    },
    {
     "name": "stdout",
     "output_type": "stream",
     "text": [
      "==================================\n",
      "..................................\n",
      "Simulation done. Processing data... done\n",
      "Saving data to file...done\n",
      "Running replication 174 with seed = 3055\n"
     ]
    },
    {
     "name": "stderr",
     "output_type": "stream",
     "text": [
      "2021/07/24 02:51:55.882 - NOMAD.local_route_choice_manager - INFO - Creating the local route choice manager using LocalRouteChoiceIterativeComputer + C\n",
      "2021/07/24 02:51:55.884 - NOMAD.local_route_choice_manager - INFO - Creating a walk level local route choice manager using WalkLevelRouteChoiceIterativeComputer + C\n",
      "2021/07/24 02:52:17.553 - NOMAD.local_route_choice_manager - INFO - Finished creating local route choice manager in 21.668812036514282 seconds\n",
      "2021/07/24 02:52:17.553 - NOMAD.nomad_model - INFO - Model created with PedestrianManagerAttr with pedClass = attrPedPedForcesC\n"
     ]
    },
    {
     "name": "stdout",
     "output_type": "stream",
     "text": [
      "==================================\n",
      "..................................\n",
      "Simulation done. Processing data... done\n",
      "Saving data to file...done\n",
      "Running replication 175 with seed = 712\n"
     ]
    },
    {
     "name": "stderr",
     "output_type": "stream",
     "text": [
      "2021/07/24 02:56:00.048 - NOMAD.local_route_choice_manager - INFO - Creating the local route choice manager using LocalRouteChoiceIterativeComputer + C\n",
      "2021/07/24 02:56:00.048 - NOMAD.local_route_choice_manager - INFO - Creating a walk level local route choice manager using WalkLevelRouteChoiceIterativeComputer + C\n",
      "2021/07/24 02:56:21.655 - NOMAD.local_route_choice_manager - INFO - Finished creating local route choice manager in 21.60705018043518 seconds\n",
      "2021/07/24 02:56:21.657 - NOMAD.nomad_model - INFO - Model created with PedestrianManagerAttr with pedClass = attrPedPedForcesC\n"
     ]
    },
    {
     "name": "stdout",
     "output_type": "stream",
     "text": [
      "==================================\n",
      "..................................\n",
      "Simulation done. Processing data... done\n",
      "Checking convergence... done\n",
      "Saving data to file...done\n",
      "Running replication 176 with seed = 1935\n"
     ]
    },
    {
     "name": "stderr",
     "output_type": "stream",
     "text": [
      "2021/07/24 02:59:58.491 - NOMAD.local_route_choice_manager - INFO - Creating the local route choice manager using LocalRouteChoiceIterativeComputer + C\n",
      "2021/07/24 02:59:58.499 - NOMAD.local_route_choice_manager - INFO - Creating a walk level local route choice manager using WalkLevelRouteChoiceIterativeComputer + C\n",
      "2021/07/24 03:00:20.424 - NOMAD.local_route_choice_manager - INFO - Finished creating local route choice manager in 21.924622297286987 seconds\n",
      "2021/07/24 03:00:20.424 - NOMAD.nomad_model - INFO - Model created with PedestrianManagerAttr with pedClass = attrPedPedForcesC\n"
     ]
    },
    {
     "name": "stdout",
     "output_type": "stream",
     "text": [
      "==================================\n",
      "..................................\n",
      "Simulation done. Processing data... done\n",
      "Saving data to file...done\n",
      "Running replication 177 with seed = 3176\n"
     ]
    },
    {
     "name": "stderr",
     "output_type": "stream",
     "text": [
      "2021/07/24 03:04:07.356 - NOMAD.local_route_choice_manager - INFO - Creating the local route choice manager using LocalRouteChoiceIterativeComputer + C\n",
      "2021/07/24 03:04:07.356 - NOMAD.local_route_choice_manager - INFO - Creating a walk level local route choice manager using WalkLevelRouteChoiceIterativeComputer + C\n",
      "2021/07/24 03:04:29.034 - NOMAD.local_route_choice_manager - INFO - Finished creating local route choice manager in 21.678159952163696 seconds\n",
      "2021/07/24 03:04:29.044 - NOMAD.nomad_model - INFO - Model created with PedestrianManagerAttr with pedClass = attrPedPedForcesC\n"
     ]
    },
    {
     "name": "stdout",
     "output_type": "stream",
     "text": [
      "==================================\n",
      "..................................\n",
      "Simulation done. Processing data... done\n",
      "Saving data to file...done\n",
      "Running replication 178 with seed = 3269\n"
     ]
    },
    {
     "name": "stderr",
     "output_type": "stream",
     "text": [
      "2021/07/24 03:08:09.249 - NOMAD.local_route_choice_manager - INFO - Creating the local route choice manager using LocalRouteChoiceIterativeComputer + C\n",
      "2021/07/24 03:08:09.249 - NOMAD.local_route_choice_manager - INFO - Creating a walk level local route choice manager using WalkLevelRouteChoiceIterativeComputer + C\n",
      "2021/07/24 03:08:30.635 - NOMAD.local_route_choice_manager - INFO - Finished creating local route choice manager in 21.38574981689453 seconds\n",
      "2021/07/24 03:08:30.637 - NOMAD.nomad_model - INFO - Model created with PedestrianManagerAttr with pedClass = attrPedPedForcesC\n"
     ]
    },
    {
     "name": "stdout",
     "output_type": "stream",
     "text": [
      "==================================\n",
      "..................................\n",
      "Simulation done. Processing data... done\n",
      "Saving data to file...done\n",
      "Running replication 179 with seed = 3719\n"
     ]
    },
    {
     "name": "stderr",
     "output_type": "stream",
     "text": [
      "2021/07/24 03:12:15.682 - NOMAD.local_route_choice_manager - INFO - Creating the local route choice manager using LocalRouteChoiceIterativeComputer + C\n",
      "2021/07/24 03:12:15.682 - NOMAD.local_route_choice_manager - INFO - Creating a walk level local route choice manager using WalkLevelRouteChoiceIterativeComputer + C\n",
      "2021/07/24 03:12:37.398 - NOMAD.local_route_choice_manager - INFO - Finished creating local route choice manager in 21.71565270423889 seconds\n",
      "2021/07/24 03:12:37.408 - NOMAD.nomad_model - INFO - Model created with PedestrianManagerAttr with pedClass = attrPedPedForcesC\n"
     ]
    },
    {
     "name": "stdout",
     "output_type": "stream",
     "text": [
      "==================================\n",
      "..................................\n",
      "Simulation done. Processing data... done\n",
      "Saving data to file...done\n",
      "Running replication 180 with seed = 2601\n"
     ]
    },
    {
     "name": "stderr",
     "output_type": "stream",
     "text": [
      "2021/07/24 03:16:19.909 - NOMAD.local_route_choice_manager - INFO - Creating the local route choice manager using LocalRouteChoiceIterativeComputer + C\n",
      "2021/07/24 03:16:19.909 - NOMAD.local_route_choice_manager - INFO - Creating a walk level local route choice manager using WalkLevelRouteChoiceIterativeComputer + C\n",
      "2021/07/24 03:16:41.401 - NOMAD.local_route_choice_manager - INFO - Finished creating local route choice manager in 21.492053270339966 seconds\n",
      "2021/07/24 03:16:41.406 - NOMAD.nomad_model - INFO - Model created with PedestrianManagerAttr with pedClass = attrPedPedForcesC\n"
     ]
    },
    {
     "name": "stdout",
     "output_type": "stream",
     "text": [
      "==================================\n",
      "..................................\n",
      "Simulation done. Processing data... done\n",
      "Checking convergence... done\n",
      "Saving data to file...done\n",
      "Running replication 181 with seed = 2613\n"
     ]
    },
    {
     "name": "stderr",
     "output_type": "stream",
     "text": [
      "2021/07/24 03:20:20.201 - NOMAD.local_route_choice_manager - INFO - Creating the local route choice manager using LocalRouteChoiceIterativeComputer + C\n",
      "2021/07/24 03:20:20.201 - NOMAD.local_route_choice_manager - INFO - Creating a walk level local route choice manager using WalkLevelRouteChoiceIterativeComputer + C\n",
      "2021/07/24 03:20:41.579 - NOMAD.local_route_choice_manager - INFO - Finished creating local route choice manager in 21.377673149108887 seconds\n",
      "2021/07/24 03:20:41.587 - NOMAD.nomad_model - INFO - Model created with PedestrianManagerAttr with pedClass = attrPedPedForcesC\n"
     ]
    },
    {
     "name": "stdout",
     "output_type": "stream",
     "text": [
      "==================================\n",
      "..................................\n",
      "Simulation done. Processing data... done\n",
      "Saving data to file...done\n",
      "Running replication 182 with seed = 710\n"
     ]
    },
    {
     "name": "stderr",
     "output_type": "stream",
     "text": [
      "2021/07/24 03:24:20.643 - NOMAD.local_route_choice_manager - INFO - Creating the local route choice manager using LocalRouteChoiceIterativeComputer + C\n",
      "2021/07/24 03:24:20.643 - NOMAD.local_route_choice_manager - INFO - Creating a walk level local route choice manager using WalkLevelRouteChoiceIterativeComputer + C\n",
      "2021/07/24 03:24:42.082 - NOMAD.local_route_choice_manager - INFO - Finished creating local route choice manager in 21.439705848693848 seconds\n",
      "2021/07/24 03:24:42.090 - NOMAD.nomad_model - INFO - Model created with PedestrianManagerAttr with pedClass = attrPedPedForcesC\n"
     ]
    },
    {
     "name": "stdout",
     "output_type": "stream",
     "text": [
      "==================================\n",
      "..................................\n",
      "Simulation done. Processing data... done\n",
      "Saving data to file...done\n",
      "Running replication 183 with seed = 730\n"
     ]
    },
    {
     "name": "stderr",
     "output_type": "stream",
     "text": [
      "2021/07/24 03:28:28.809 - NOMAD.local_route_choice_manager - INFO - Creating the local route choice manager using LocalRouteChoiceIterativeComputer + C\n",
      "2021/07/24 03:28:28.827 - NOMAD.local_route_choice_manager - INFO - Creating a walk level local route choice manager using WalkLevelRouteChoiceIterativeComputer + C\n",
      "2021/07/24 03:28:50.732 - NOMAD.local_route_choice_manager - INFO - Finished creating local route choice manager in 21.90548825263977 seconds\n",
      "2021/07/24 03:28:50.752 - NOMAD.nomad_model - INFO - Model created with PedestrianManagerAttr with pedClass = attrPedPedForcesC\n"
     ]
    },
    {
     "name": "stdout",
     "output_type": "stream",
     "text": [
      "==================================\n",
      "..................................\n",
      "Simulation done. Processing data... done\n",
      "Saving data to file...done\n",
      "Running replication 184 with seed = 2744\n"
     ]
    },
    {
     "name": "stderr",
     "output_type": "stream",
     "text": [
      "2021/07/24 03:32:36.485 - NOMAD.local_route_choice_manager - INFO - Creating the local route choice manager using LocalRouteChoiceIterativeComputer + C\n",
      "2021/07/24 03:32:36.503 - NOMAD.local_route_choice_manager - INFO - Creating a walk level local route choice manager using WalkLevelRouteChoiceIterativeComputer + C\n",
      "2021/07/24 03:32:57.441 - NOMAD.local_route_choice_manager - INFO - Finished creating local route choice manager in 20.937350511550903 seconds\n",
      "2021/07/24 03:32:57.451 - NOMAD.nomad_model - INFO - Model created with PedestrianManagerAttr with pedClass = attrPedPedForcesC\n"
     ]
    },
    {
     "name": "stdout",
     "output_type": "stream",
     "text": [
      "==================================\n",
      "..................................\n",
      "Simulation done. Processing data... done\n",
      "Saving data to file...done\n",
      "Running replication 185 with seed = 3121\n"
     ]
    },
    {
     "name": "stderr",
     "output_type": "stream",
     "text": [
      "2021/07/24 03:36:30.584 - NOMAD.local_route_choice_manager - INFO - Creating the local route choice manager using LocalRouteChoiceIterativeComputer + C\n",
      "2021/07/24 03:36:30.594 - NOMAD.local_route_choice_manager - INFO - Creating a walk level local route choice manager using WalkLevelRouteChoiceIterativeComputer + C\n",
      "2021/07/24 03:36:52.475 - NOMAD.local_route_choice_manager - INFO - Finished creating local route choice manager in 21.880861043930054 seconds\n",
      "2021/07/24 03:36:52.477 - NOMAD.nomad_model - INFO - Model created with PedestrianManagerAttr with pedClass = attrPedPedForcesC\n"
     ]
    },
    {
     "name": "stdout",
     "output_type": "stream",
     "text": [
      "==================================\n",
      "..................................\n",
      "Simulation done. Processing data... done\n",
      "Checking convergence... done\n",
      "Saving data to file...done\n",
      "Running replication 186 with seed = 1988\n"
     ]
    },
    {
     "name": "stderr",
     "output_type": "stream",
     "text": [
      "2021/07/24 03:40:32.180 - NOMAD.local_route_choice_manager - INFO - Creating the local route choice manager using LocalRouteChoiceIterativeComputer + C\n",
      "2021/07/24 03:40:32.192 - NOMAD.local_route_choice_manager - INFO - Creating a walk level local route choice manager using WalkLevelRouteChoiceIterativeComputer + C\n",
      "2021/07/24 03:40:54.144 - NOMAD.local_route_choice_manager - INFO - Finished creating local route choice manager in 21.951750993728638 seconds\n",
      "2021/07/24 03:40:54.152 - NOMAD.nomad_model - INFO - Model created with PedestrianManagerAttr with pedClass = attrPedPedForcesC\n"
     ]
    },
    {
     "name": "stdout",
     "output_type": "stream",
     "text": [
      "==================================\n",
      "..................................\n",
      "Simulation done. Processing data... done\n",
      "Saving data to file...done\n",
      "Running replication 187 with seed = 381\n"
     ]
    },
    {
     "name": "stderr",
     "output_type": "stream",
     "text": [
      "2021/07/24 03:44:34.036 - NOMAD.local_route_choice_manager - INFO - Creating the local route choice manager using LocalRouteChoiceIterativeComputer + C\n",
      "2021/07/24 03:44:34.036 - NOMAD.local_route_choice_manager - INFO - Creating a walk level local route choice manager using WalkLevelRouteChoiceIterativeComputer + C\n",
      "2021/07/24 03:44:55.654 - NOMAD.local_route_choice_manager - INFO - Finished creating local route choice manager in 21.61843729019165 seconds\n",
      "2021/07/24 03:44:55.656 - NOMAD.nomad_model - INFO - Model created with PedestrianManagerAttr with pedClass = attrPedPedForcesC\n"
     ]
    },
    {
     "name": "stdout",
     "output_type": "stream",
     "text": [
      "==================================\n",
      "..................................\n",
      "Simulation done. Processing data... done\n",
      "Saving data to file...done\n",
      "Running replication 188 with seed = 850\n"
     ]
    },
    {
     "name": "stderr",
     "output_type": "stream",
     "text": [
      "2021/07/24 03:48:39.587 - NOMAD.local_route_choice_manager - INFO - Creating the local route choice manager using LocalRouteChoiceIterativeComputer + C\n",
      "2021/07/24 03:48:39.587 - NOMAD.local_route_choice_manager - INFO - Creating a walk level local route choice manager using WalkLevelRouteChoiceIterativeComputer + C\n",
      "2021/07/24 03:49:00.669 - NOMAD.local_route_choice_manager - INFO - Finished creating local route choice manager in 21.081856727600098 seconds\n",
      "2021/07/24 03:49:00.671 - NOMAD.nomad_model - INFO - Model created with PedestrianManagerAttr with pedClass = attrPedPedForcesC\n"
     ]
    },
    {
     "name": "stdout",
     "output_type": "stream",
     "text": [
      "==================================\n",
      "..................................\n",
      "Simulation done. Processing data... done\n",
      "Saving data to file...done\n",
      "Running replication 189 with seed = 3844\n"
     ]
    },
    {
     "name": "stderr",
     "output_type": "stream",
     "text": [
      "2021/07/24 03:52:45.109 - NOMAD.local_route_choice_manager - INFO - Creating the local route choice manager using LocalRouteChoiceIterativeComputer + C\n",
      "2021/07/24 03:52:45.109 - NOMAD.local_route_choice_manager - INFO - Creating a walk level local route choice manager using WalkLevelRouteChoiceIterativeComputer + C\n",
      "2021/07/24 03:53:06.857 - NOMAD.local_route_choice_manager - INFO - Finished creating local route choice manager in 21.74801754951477 seconds\n",
      "2021/07/24 03:53:06.865 - NOMAD.nomad_model - INFO - Model created with PedestrianManagerAttr with pedClass = attrPedPedForcesC\n"
     ]
    },
    {
     "name": "stdout",
     "output_type": "stream",
     "text": [
      "==================================\n",
      "..................................\n",
      "Simulation done. Processing data... done\n",
      "Saving data to file...done\n",
      "Running replication 190 with seed = 742\n"
     ]
    },
    {
     "name": "stderr",
     "output_type": "stream",
     "text": [
      "2021/07/24 03:56:49.568 - NOMAD.local_route_choice_manager - INFO - Creating the local route choice manager using LocalRouteChoiceIterativeComputer + C\n",
      "2021/07/24 03:56:49.568 - NOMAD.local_route_choice_manager - INFO - Creating a walk level local route choice manager using WalkLevelRouteChoiceIterativeComputer + C\n",
      "2021/07/24 03:57:10.436 - NOMAD.local_route_choice_manager - INFO - Finished creating local route choice manager in 20.867687940597534 seconds\n",
      "2021/07/24 03:57:10.444 - NOMAD.nomad_model - INFO - Model created with PedestrianManagerAttr with pedClass = attrPedPedForcesC\n"
     ]
    },
    {
     "name": "stdout",
     "output_type": "stream",
     "text": [
      "==================================\n",
      "..................................\n",
      "Simulation done. Processing data... done\n",
      "Checking convergence... done\n",
      "Saving data to file...done\n",
      "Running replication 191 with seed = 3711\n"
     ]
    },
    {
     "name": "stderr",
     "output_type": "stream",
     "text": [
      "2021/07/24 04:00:54.514 - NOMAD.local_route_choice_manager - INFO - Creating the local route choice manager using LocalRouteChoiceIterativeComputer + C\n",
      "2021/07/24 04:00:54.514 - NOMAD.local_route_choice_manager - INFO - Creating a walk level local route choice manager using WalkLevelRouteChoiceIterativeComputer + C\n",
      "2021/07/24 04:01:15.396 - NOMAD.local_route_choice_manager - INFO - Finished creating local route choice manager in 20.882445096969604 seconds\n",
      "2021/07/24 04:01:15.396 - NOMAD.nomad_model - INFO - Model created with PedestrianManagerAttr with pedClass = attrPedPedForcesC\n"
     ]
    },
    {
     "name": "stdout",
     "output_type": "stream",
     "text": [
      "==================================\n",
      "..................................\n",
      "Simulation done. Processing data... done\n",
      "Saving data to file...done\n",
      "Running replication 192 with seed = 3244\n"
     ]
    },
    {
     "name": "stderr",
     "output_type": "stream",
     "text": [
      "2021/07/24 04:04:52.466 - NOMAD.local_route_choice_manager - INFO - Creating the local route choice manager using LocalRouteChoiceIterativeComputer + C\n",
      "2021/07/24 04:04:52.466 - NOMAD.local_route_choice_manager - INFO - Creating a walk level local route choice manager using WalkLevelRouteChoiceIterativeComputer + C\n",
      "2021/07/24 04:05:13.514 - NOMAD.local_route_choice_manager - INFO - Finished creating local route choice manager in 21.04802179336548 seconds\n",
      "2021/07/24 04:05:13.534 - NOMAD.nomad_model - INFO - Model created with PedestrianManagerAttr with pedClass = attrPedPedForcesC\n"
     ]
    },
    {
     "name": "stdout",
     "output_type": "stream",
     "text": [
      "==================================\n",
      "..................................\n",
      "Simulation done. Processing data... done\n",
      "Saving data to file...done\n",
      "Running replication 193 with seed = 2945\n"
     ]
    },
    {
     "name": "stderr",
     "output_type": "stream",
     "text": [
      "2021/07/24 04:08:49.463 - NOMAD.local_route_choice_manager - INFO - Creating the local route choice manager using LocalRouteChoiceIterativeComputer + C\n",
      "2021/07/24 04:08:49.463 - NOMAD.local_route_choice_manager - INFO - Creating a walk level local route choice manager using WalkLevelRouteChoiceIterativeComputer + C\n",
      "2021/07/24 04:09:11.275 - NOMAD.local_route_choice_manager - INFO - Finished creating local route choice manager in 21.81153392791748 seconds\n",
      "2021/07/24 04:09:11.285 - NOMAD.nomad_model - INFO - Model created with PedestrianManagerAttr with pedClass = attrPedPedForcesC\n"
     ]
    },
    {
     "name": "stdout",
     "output_type": "stream",
     "text": [
      "==================================\n",
      "..................................\n",
      "Simulation done. Processing data... done\n",
      "Saving data to file...done\n",
      "Running replication 194 with seed = 48\n"
     ]
    },
    {
     "name": "stderr",
     "output_type": "stream",
     "text": [
      "2021/07/24 04:12:49.110 - NOMAD.local_route_choice_manager - INFO - Creating the local route choice manager using LocalRouteChoiceIterativeComputer + C\n",
      "2021/07/24 04:12:49.110 - NOMAD.local_route_choice_manager - INFO - Creating a walk level local route choice manager using WalkLevelRouteChoiceIterativeComputer + C\n",
      "2021/07/24 04:13:10.115 - NOMAD.local_route_choice_manager - INFO - Finished creating local route choice manager in 21.005066633224487 seconds\n",
      "2021/07/24 04:13:10.115 - NOMAD.nomad_model - INFO - Model created with PedestrianManagerAttr with pedClass = attrPedPedForcesC\n"
     ]
    },
    {
     "name": "stdout",
     "output_type": "stream",
     "text": [
      "==================================\n",
      "..................................\n",
      "Simulation done. Processing data... done\n",
      "Saving data to file...done\n",
      "Running replication 195 with seed = 1563\n"
     ]
    },
    {
     "name": "stderr",
     "output_type": "stream",
     "text": [
      "2021/07/24 04:16:50.886 - NOMAD.local_route_choice_manager - INFO - Creating the local route choice manager using LocalRouteChoiceIterativeComputer + C\n",
      "2021/07/24 04:16:50.894 - NOMAD.local_route_choice_manager - INFO - Creating a walk level local route choice manager using WalkLevelRouteChoiceIterativeComputer + C\n",
      "2021/07/24 04:17:12.172 - NOMAD.local_route_choice_manager - INFO - Finished creating local route choice manager in 21.277656078338623 seconds\n",
      "2021/07/24 04:17:12.192 - NOMAD.nomad_model - INFO - Model created with PedestrianManagerAttr with pedClass = attrPedPedForcesC\n"
     ]
    },
    {
     "name": "stdout",
     "output_type": "stream",
     "text": [
      "==================================\n",
      "..................................\n",
      "Simulation done. Processing data... done\n",
      "Checking convergence... done\n",
      "Saving data to file...done\n",
      "Running replication 196 with seed = 1366\n"
     ]
    },
    {
     "name": "stderr",
     "output_type": "stream",
     "text": [
      "2021/07/24 04:20:49.408 - NOMAD.local_route_choice_manager - INFO - Creating the local route choice manager using LocalRouteChoiceIterativeComputer + C\n",
      "2021/07/24 04:20:49.408 - NOMAD.local_route_choice_manager - INFO - Creating a walk level local route choice manager using WalkLevelRouteChoiceIterativeComputer + C\n",
      "2021/07/24 04:21:11.028 - NOMAD.local_route_choice_manager - INFO - Finished creating local route choice manager in 21.61992573738098 seconds\n",
      "2021/07/24 04:21:11.028 - NOMAD.nomad_model - INFO - Model created with PedestrianManagerAttr with pedClass = attrPedPedForcesC\n"
     ]
    },
    {
     "name": "stdout",
     "output_type": "stream",
     "text": [
      "==================================\n",
      "..................................\n",
      "Simulation done. Processing data... done\n",
      "Saving data to file...done\n",
      "Running replication 197 with seed = 3430\n"
     ]
    },
    {
     "name": "stderr",
     "output_type": "stream",
     "text": [
      "2021/07/24 04:24:54.628 - NOMAD.local_route_choice_manager - INFO - Creating the local route choice manager using LocalRouteChoiceIterativeComputer + C\n",
      "2021/07/24 04:24:54.628 - NOMAD.local_route_choice_manager - INFO - Creating a walk level local route choice manager using WalkLevelRouteChoiceIterativeComputer + C\n",
      "2021/07/24 04:25:15.825 - NOMAD.local_route_choice_manager - INFO - Finished creating local route choice manager in 21.19725465774536 seconds\n",
      "2021/07/24 04:25:15.843 - NOMAD.nomad_model - INFO - Model created with PedestrianManagerAttr with pedClass = attrPedPedForcesC\n"
     ]
    },
    {
     "name": "stdout",
     "output_type": "stream",
     "text": [
      "==================================\n",
      "..................................\n",
      "Simulation done. Processing data... done\n",
      "Saving data to file...done\n",
      "Running replication 198 with seed = 2475\n"
     ]
    },
    {
     "name": "stderr",
     "output_type": "stream",
     "text": [
      "2021/07/24 04:28:56.998 - NOMAD.local_route_choice_manager - INFO - Creating the local route choice manager using LocalRouteChoiceIterativeComputer + C\n",
      "2021/07/24 04:28:56.998 - NOMAD.local_route_choice_manager - INFO - Creating a walk level local route choice manager using WalkLevelRouteChoiceIterativeComputer + C\n",
      "2021/07/24 04:29:18.270 - NOMAD.local_route_choice_manager - INFO - Finished creating local route choice manager in 21.271363973617554 seconds\n",
      "2021/07/24 04:29:18.270 - NOMAD.nomad_model - INFO - Model created with PedestrianManagerAttr with pedClass = attrPedPedForcesC\n"
     ]
    },
    {
     "name": "stdout",
     "output_type": "stream",
     "text": [
      "==================================\n",
      "..................................\n",
      "Simulation done. Processing data... done\n",
      "Saving data to file...done\n",
      "Running replication 199 with seed = 2661\n"
     ]
    },
    {
     "name": "stderr",
     "output_type": "stream",
     "text": [
      "2021/07/24 04:32:57.591 - NOMAD.local_route_choice_manager - INFO - Creating the local route choice manager using LocalRouteChoiceIterativeComputer + C\n",
      "2021/07/24 04:32:57.591 - NOMAD.local_route_choice_manager - INFO - Creating a walk level local route choice manager using WalkLevelRouteChoiceIterativeComputer + C\n",
      "2021/07/24 04:33:18.953 - NOMAD.local_route_choice_manager - INFO - Finished creating local route choice manager in 21.362147092819214 seconds\n",
      "2021/07/24 04:33:18.963 - NOMAD.nomad_model - INFO - Model created with PedestrianManagerAttr with pedClass = attrPedPedForcesC\n"
     ]
    },
    {
     "name": "stdout",
     "output_type": "stream",
     "text": [
      "==================================\n",
      "..................................\n",
      "Simulation done. Processing data... done\n",
      "Saving data to file...done\n",
      "Running replication 200 with seed = 1772\n"
     ]
    },
    {
     "name": "stderr",
     "output_type": "stream",
     "text": [
      "2021/07/24 04:37:00.131 - NOMAD.local_route_choice_manager - INFO - Creating the local route choice manager using LocalRouteChoiceIterativeComputer + C\n",
      "2021/07/24 04:37:00.149 - NOMAD.local_route_choice_manager - INFO - Creating a walk level local route choice manager using WalkLevelRouteChoiceIterativeComputer + C\n",
      "2021/07/24 04:37:21.667 - NOMAD.local_route_choice_manager - INFO - Finished creating local route choice manager in 21.518317222595215 seconds\n",
      "2021/07/24 04:37:21.677 - NOMAD.nomad_model - INFO - Model created with PedestrianManagerAttr with pedClass = attrPedPedForcesC\n"
     ]
    },
    {
     "name": "stdout",
     "output_type": "stream",
     "text": [
      "==================================\n",
      "..................................\n",
      "Simulation done. Processing data... done\n",
      "Checking convergence... done\n",
      "Saving data to file...done\n",
      "Running replication 201 with seed = 2021\n"
     ]
    },
    {
     "name": "stderr",
     "output_type": "stream",
     "text": [
      "2021/07/24 04:41:08.974 - NOMAD.local_route_choice_manager - INFO - Creating the local route choice manager using LocalRouteChoiceIterativeComputer + C\n",
      "2021/07/24 04:41:08.974 - NOMAD.local_route_choice_manager - INFO - Creating a walk level local route choice manager using WalkLevelRouteChoiceIterativeComputer + C\n",
      "2021/07/24 04:41:30.490 - NOMAD.local_route_choice_manager - INFO - Finished creating local route choice manager in 21.516123056411743 seconds\n",
      "2021/07/24 04:41:30.492 - NOMAD.nomad_model - INFO - Model created with PedestrianManagerAttr with pedClass = attrPedPedForcesC\n"
     ]
    },
    {
     "name": "stdout",
     "output_type": "stream",
     "text": [
      "==================================\n",
      "..................................\n",
      "Simulation done. Processing data... done\n",
      "Saving data to file...done\n",
      "Running replication 202 with seed = 2005\n"
     ]
    },
    {
     "name": "stderr",
     "output_type": "stream",
     "text": [
      "2021/07/24 04:45:13.955 - NOMAD.local_route_choice_manager - INFO - Creating the local route choice manager using LocalRouteChoiceIterativeComputer + C\n",
      "2021/07/24 04:45:13.955 - NOMAD.local_route_choice_manager - INFO - Creating a walk level local route choice manager using WalkLevelRouteChoiceIterativeComputer + C\n",
      "2021/07/24 04:45:34.889 - NOMAD.local_route_choice_manager - INFO - Finished creating local route choice manager in 20.9334397315979 seconds\n",
      "2021/07/24 04:45:34.891 - NOMAD.nomad_model - INFO - Model created with PedestrianManagerAttr with pedClass = attrPedPedForcesC\n"
     ]
    },
    {
     "name": "stdout",
     "output_type": "stream",
     "text": [
      "==================================\n",
      ".............................."
     ]
    }
   ],
   "source": [
    "from contact_analysis import continue_from_file\n",
    "from pathlib import Path\n",
    "\n",
    "experiment_filename = Path(r'D:\\SurfDrive\\PhD\\Activity scheduler\\Scenarios\\paper_scenarios\\trb_paper_no_shifts_experiment_r4.json')\n",
    "combined_stats_filename = Path(r'D:\\SurfDrive\\PhD\\Activity scheduler\\Scenarios\\paper_scenarios\\trb_paper_no_shifts_combined.stats_r4.npz')\n",
    "\n",
    "continue_from_file(experiment_filename, combined_stats_filename)"
   ]
  },
  {
   "cell_type": "code",
   "execution_count": null,
   "id": "036448bd-d280-46c0-b65d-fb1356788891",
   "metadata": {},
   "outputs": [],
   "source": []
  }
 ],
 "metadata": {
  "kernelspec": {
   "display_name": "Python 3",
   "language": "python",
   "name": "python3"
  },
  "language_info": {
   "codemirror_mode": {
    "name": "ipython",
    "version": 3
   },
   "file_extension": ".py",
   "mimetype": "text/x-python",
   "name": "python",
   "nbconvert_exporter": "python",
   "pygments_lexer": "ipython3",
   "version": "3.9.5"
  }
 },
 "nbformat": 4,
 "nbformat_minor": 5
}
