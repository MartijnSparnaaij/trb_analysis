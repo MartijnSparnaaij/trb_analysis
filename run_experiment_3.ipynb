{
 "cells": [
  {
   "cell_type": "code",
   "execution_count": 1,
   "id": "e3053ccb-d04f-4ced-b207-4fb84670eabf",
   "metadata": {},
   "outputs": [
    {
     "name": "stdout",
     "output_type": "stream",
     "text": [
      "C:\\Users\\MartijnTU\\Jupyter_notebooks\\trb_analysis\\trb_analysis\\nomad\n",
      "6d4206d11517efa738f5bdfc434c0d5961d775d7: Thu, 15 Jul 2021 23:52 - Fixed groupID\n"
     ]
    }
   ],
   "source": [
    "try:\n",
    "    from git_nomad import pull_nomad\n",
    "except:\n",
    "    import sys; sys.path.insert(0, '..')\n",
    "    from git_nomad import pull_nomad\n",
    "    \n",
    "import socket\n",
    "if socket.gethostname() == 'SPA-DESKTOP':\n",
    "    remote_path = r\"D:\\Work_TU\\Documents\\nomad\"\n",
    "else:\n",
    "    remote_path = r\"C:\\Users\\martijnsparnaa\\Eclipse_Python_NOMAD\\nomad_trb_paper\"\n",
    "repo_path, repo = pull_nomad(remote_path, 'master')\n",
    "print(repo_path.resolve())\n",
    "\n",
    "import os\n",
    "import time\n",
    "os.chdir(repo_path)\n",
    "headcommit = repo.head.commit\n",
    "committed_date = time.strftime(\"%a, %d %b %Y %H:%M\", time.localtime(headcommit.committed_date))\n",
    "print(f'{headcommit}: {committed_date} - {headcommit.message}')"
   ]
  },
  {
   "cell_type": "code",
   "execution_count": null,
   "id": "0979be54-7a02-43c2-bb31-ec6e86b4ce11",
   "metadata": {},
   "outputs": [
    {
     "name": "stdout",
     "output_type": "stream",
     "text": [
      "Runnig replication 0 with seed = 855\n"
     ]
    },
    {
     "name": "stderr",
     "output_type": "stream",
     "text": [
      "2021/07/15 23:52:55.104 - NOMAD.local_route_choice_manager - INFO - Creating the local route choice manager using LocalRouteChoiceIterativeComputer\n",
      "2021/07/15 23:52:55.105 - NOMAD.local_route_choice_manager - INFO - Creating a walk level local route choice manager using WalkLevelRouteChoiceIterativeComputer\n",
      "2021/07/15 23:53:16.981 - NOMAD.local_route_choice_manager - INFO - Finished creating local route choice manager in 21.875823497772217 seconds\n",
      "2021/07/15 23:53:16.992 - NOMAD.nomad_model - INFO - Model created with PedestrianManagerAttr with pedClass = attrPedOpt\n"
     ]
    },
    {
     "name": "stdout",
     "output_type": "stream",
     "text": [
      "==================================\n",
      "..................................\n",
      "Simulation done. Processing data... done\n",
      "Runnig replication 1 with seed = 3757\n"
     ]
    },
    {
     "name": "stderr",
     "output_type": "stream",
     "text": [
      "2021/07/15 23:57:29.671 - NOMAD.local_route_choice_manager - INFO - Creating the local route choice manager using LocalRouteChoiceIterativeComputer\n",
      "2021/07/15 23:57:29.671 - NOMAD.local_route_choice_manager - INFO - Creating a walk level local route choice manager using WalkLevelRouteChoiceIterativeComputer\n",
      "2021/07/15 23:57:50.565 - NOMAD.local_route_choice_manager - INFO - Finished creating local route choice manager in 20.89331078529358 seconds\n",
      "2021/07/15 23:57:50.573 - NOMAD.nomad_model - INFO - Model created with PedestrianManagerAttr with pedClass = attrPedOpt\n"
     ]
    },
    {
     "name": "stdout",
     "output_type": "stream",
     "text": [
      "==================================\n",
      "..................................\n",
      "Simulation done. Processing data... done\n",
      "Runnig replication 2 with seed = 1706\n"
     ]
    },
    {
     "name": "stderr",
     "output_type": "stream",
     "text": [
      "2021/07/16 00:02:18.072 - NOMAD.local_route_choice_manager - INFO - Creating the local route choice manager using LocalRouteChoiceIterativeComputer\n",
      "2021/07/16 00:02:18.072 - NOMAD.local_route_choice_manager - INFO - Creating a walk level local route choice manager using WalkLevelRouteChoiceIterativeComputer\n",
      "2021/07/16 00:02:39.570 - NOMAD.local_route_choice_manager - INFO - Finished creating local route choice manager in 21.49845051765442 seconds\n",
      "2021/07/16 00:02:39.570 - NOMAD.nomad_model - INFO - Model created with PedestrianManagerAttr with pedClass = attrPedOpt\n"
     ]
    },
    {
     "name": "stdout",
     "output_type": "stream",
     "text": [
      "==================================\n",
      "..................................\n",
      "Simulation done. Processing data... done\n",
      "Runnig replication 3 with seed = 269\n"
     ]
    },
    {
     "name": "stderr",
     "output_type": "stream",
     "text": [
      "2021/07/16 00:07:00.108 - NOMAD.local_route_choice_manager - INFO - Creating the local route choice manager using LocalRouteChoiceIterativeComputer\n",
      "2021/07/16 00:07:00.110 - NOMAD.local_route_choice_manager - INFO - Creating a walk level local route choice manager using WalkLevelRouteChoiceIterativeComputer\n",
      "2021/07/16 00:07:21.857 - NOMAD.local_route_choice_manager - INFO - Finished creating local route choice manager in 21.74652409553528 seconds\n",
      "2021/07/16 00:07:21.857 - NOMAD.nomad_model - INFO - Model created with PedestrianManagerAttr with pedClass = attrPedOpt\n"
     ]
    },
    {
     "name": "stdout",
     "output_type": "stream",
     "text": [
      "==================================\n",
      "..................................\n",
      "Simulation done. Processing data... done\n",
      "Runnig replication 4 with seed = 3268\n"
     ]
    },
    {
     "name": "stderr",
     "output_type": "stream",
     "text": [
      "2021/07/16 00:11:32.176 - NOMAD.local_route_choice_manager - INFO - Creating the local route choice manager using LocalRouteChoiceIterativeComputer\n",
      "2021/07/16 00:11:32.186 - NOMAD.local_route_choice_manager - INFO - Creating a walk level local route choice manager using WalkLevelRouteChoiceIterativeComputer\n",
      "2021/07/16 00:11:53.552 - NOMAD.local_route_choice_manager - INFO - Finished creating local route choice manager in 21.365983724594116 seconds\n",
      "2021/07/16 00:11:53.562 - NOMAD.nomad_model - INFO - Model created with PedestrianManagerAttr with pedClass = attrPedOpt\n"
     ]
    },
    {
     "name": "stdout",
     "output_type": "stream",
     "text": [
      "==================================\n",
      "..................................\n",
      "Simulation done. Processing data... done\n",
      "Runnig replication 5 with seed = 3118\n"
     ]
    },
    {
     "name": "stderr",
     "output_type": "stream",
     "text": [
      "2021/07/16 00:16:12.792 - NOMAD.local_route_choice_manager - INFO - Creating the local route choice manager using LocalRouteChoiceIterativeComputer\n",
      "2021/07/16 00:16:12.792 - NOMAD.local_route_choice_manager - INFO - Creating a walk level local route choice manager using WalkLevelRouteChoiceIterativeComputer\n",
      "2021/07/16 00:16:33.586 - NOMAD.local_route_choice_manager - INFO - Finished creating local route choice manager in 20.794257879257202 seconds\n",
      "2021/07/16 00:16:33.588 - NOMAD.nomad_model - INFO - Model created with PedestrianManagerAttr with pedClass = attrPedOpt\n"
     ]
    },
    {
     "name": "stdout",
     "output_type": "stream",
     "text": [
      "==================================\n",
      "..................................\n",
      "Simulation done. Processing data... done\n",
      "Runnig replication 6 with seed = 1325\n"
     ]
    },
    {
     "name": "stderr",
     "output_type": "stream",
     "text": [
      "2021/07/16 00:20:51.357 - NOMAD.local_route_choice_manager - INFO - Creating the local route choice manager using LocalRouteChoiceIterativeComputer\n",
      "2021/07/16 00:20:51.357 - NOMAD.local_route_choice_manager - INFO - Creating a walk level local route choice manager using WalkLevelRouteChoiceIterativeComputer\n",
      "2021/07/16 00:21:12.412 - NOMAD.local_route_choice_manager - INFO - Finished creating local route choice manager in 21.05471897125244 seconds\n",
      "2021/07/16 00:21:12.432 - NOMAD.nomad_model - INFO - Model created with PedestrianManagerAttr with pedClass = attrPedOpt\n"
     ]
    },
    {
     "name": "stdout",
     "output_type": "stream",
     "text": [
      "==================================\n",
      "..................................\n",
      "Simulation done. Processing data... done\n",
      "Runnig replication 7 with seed = 1793\n"
     ]
    },
    {
     "name": "stderr",
     "output_type": "stream",
     "text": [
      "2021/07/16 00:25:26.584 - NOMAD.local_route_choice_manager - INFO - Creating the local route choice manager using LocalRouteChoiceIterativeComputer\n",
      "2021/07/16 00:25:26.584 - NOMAD.local_route_choice_manager - INFO - Creating a walk level local route choice manager using WalkLevelRouteChoiceIterativeComputer\n",
      "2021/07/16 00:25:48.132 - NOMAD.local_route_choice_manager - INFO - Finished creating local route choice manager in 21.548733711242676 seconds\n",
      "2021/07/16 00:25:48.140 - NOMAD.nomad_model - INFO - Model created with PedestrianManagerAttr with pedClass = attrPedOpt\n"
     ]
    },
    {
     "name": "stdout",
     "output_type": "stream",
     "text": [
      "==================================\n",
      "..................................\n",
      "Simulation done. Processing data... done\n",
      "Runnig replication 8 with seed = 688\n"
     ]
    },
    {
     "name": "stderr",
     "output_type": "stream",
     "text": [
      "2021/07/16 00:30:03.638 - NOMAD.local_route_choice_manager - INFO - Creating the local route choice manager using LocalRouteChoiceIterativeComputer\n",
      "2021/07/16 00:30:03.638 - NOMAD.local_route_choice_manager - INFO - Creating a walk level local route choice manager using WalkLevelRouteChoiceIterativeComputer\n",
      "2021/07/16 00:30:24.916 - NOMAD.local_route_choice_manager - INFO - Finished creating local route choice manager in 21.27745223045349 seconds\n",
      "2021/07/16 00:30:24.924 - NOMAD.nomad_model - INFO - Model created with PedestrianManagerAttr with pedClass = attrPedOpt\n"
     ]
    },
    {
     "name": "stdout",
     "output_type": "stream",
     "text": [
      "==================================\n",
      "..................................\n",
      "Simulation done. Processing data... done\n",
      "Runnig replication 9 with seed = 2119\n"
     ]
    },
    {
     "name": "stderr",
     "output_type": "stream",
     "text": [
      "2021/07/16 00:34:31.645 - NOMAD.local_route_choice_manager - INFO - Creating the local route choice manager using LocalRouteChoiceIterativeComputer\n",
      "2021/07/16 00:34:31.653 - NOMAD.local_route_choice_manager - INFO - Creating a walk level local route choice manager using WalkLevelRouteChoiceIterativeComputer\n",
      "2021/07/16 00:34:53.164 - NOMAD.local_route_choice_manager - INFO - Finished creating local route choice manager in 21.5111141204834 seconds\n",
      "2021/07/16 00:34:53.172 - NOMAD.nomad_model - INFO - Model created with PedestrianManagerAttr with pedClass = attrPedOpt\n"
     ]
    },
    {
     "name": "stdout",
     "output_type": "stream",
     "text": [
      "==================================\n",
      "..................................\n",
      "Simulation done. Processing data... done\n",
      "Checking convergence... done\n",
      "Runnig replication 10 with seed = 3193\n"
     ]
    },
    {
     "name": "stderr",
     "output_type": "stream",
     "text": [
      "2021/07/16 00:39:05.602 - NOMAD.local_route_choice_manager - INFO - Creating the local route choice manager using LocalRouteChoiceIterativeComputer\n",
      "2021/07/16 00:39:05.602 - NOMAD.local_route_choice_manager - INFO - Creating a walk level local route choice manager using WalkLevelRouteChoiceIterativeComputer\n",
      "2021/07/16 00:39:26.826 - NOMAD.local_route_choice_manager - INFO - Finished creating local route choice manager in 21.22481679916382 seconds\n",
      "2021/07/16 00:39:26.836 - NOMAD.nomad_model - INFO - Model created with PedestrianManagerAttr with pedClass = attrPedOpt\n"
     ]
    },
    {
     "name": "stdout",
     "output_type": "stream",
     "text": [
      "==================================\n",
      "..................................\n",
      "Simulation done. Processing data... done\n",
      "Runnig replication 11 with seed = 2804\n"
     ]
    },
    {
     "name": "stderr",
     "output_type": "stream",
     "text": [
      "2021/07/16 00:43:38.551 - NOMAD.local_route_choice_manager - INFO - Creating the local route choice manager using LocalRouteChoiceIterativeComputer\n",
      "2021/07/16 00:43:38.559 - NOMAD.local_route_choice_manager - INFO - Creating a walk level local route choice manager using WalkLevelRouteChoiceIterativeComputer\n",
      "2021/07/16 00:43:59.777 - NOMAD.local_route_choice_manager - INFO - Finished creating local route choice manager in 21.21742033958435 seconds\n",
      "2021/07/16 00:43:59.779 - NOMAD.nomad_model - INFO - Model created with PedestrianManagerAttr with pedClass = attrPedOpt\n"
     ]
    },
    {
     "name": "stdout",
     "output_type": "stream",
     "text": [
      "==================================\n",
      "..................................\n",
      "Simulation done. Processing data... done\n",
      "Runnig replication 12 with seed = 3267\n"
     ]
    },
    {
     "name": "stderr",
     "output_type": "stream",
     "text": [
      "2021/07/16 00:48:15.056 - NOMAD.local_route_choice_manager - INFO - Creating the local route choice manager using LocalRouteChoiceIterativeComputer\n",
      "2021/07/16 00:48:15.056 - NOMAD.local_route_choice_manager - INFO - Creating a walk level local route choice manager using WalkLevelRouteChoiceIterativeComputer\n",
      "2021/07/16 00:48:37.193 - NOMAD.local_route_choice_manager - INFO - Finished creating local route choice manager in 22.136942148208618 seconds\n",
      "2021/07/16 00:48:37.201 - NOMAD.nomad_model - INFO - Model created with PedestrianManagerAttr with pedClass = attrPedOpt\n"
     ]
    },
    {
     "name": "stdout",
     "output_type": "stream",
     "text": [
      "==================================\n",
      "..................................\n",
      "Simulation done. Processing data... done\n",
      "Runnig replication 13 with seed = 2174\n"
     ]
    },
    {
     "name": "stderr",
     "output_type": "stream",
     "text": [
      "2021/07/16 00:52:48.674 - NOMAD.local_route_choice_manager - INFO - Creating the local route choice manager using LocalRouteChoiceIterativeComputer\n",
      "2021/07/16 00:52:48.674 - NOMAD.local_route_choice_manager - INFO - Creating a walk level local route choice manager using WalkLevelRouteChoiceIterativeComputer\n",
      "2021/07/16 00:53:10.446 - NOMAD.local_route_choice_manager - INFO - Finished creating local route choice manager in 21.77118468284607 seconds\n",
      "2021/07/16 00:53:10.454 - NOMAD.nomad_model - INFO - Model created with PedestrianManagerAttr with pedClass = attrPedOpt\n"
     ]
    },
    {
     "name": "stdout",
     "output_type": "stream",
     "text": [
      "==================================\n",
      "..................................\n",
      "Simulation done. Processing data... done\n",
      "Runnig replication 14 with seed = 1995\n"
     ]
    },
    {
     "name": "stderr",
     "output_type": "stream",
     "text": [
      "2021/07/16 00:57:21.150 - NOMAD.local_route_choice_manager - INFO - Creating the local route choice manager using LocalRouteChoiceIterativeComputer\n",
      "2021/07/16 00:57:21.150 - NOMAD.local_route_choice_manager - INFO - Creating a walk level local route choice manager using WalkLevelRouteChoiceIterativeComputer\n",
      "2021/07/16 00:57:42.731 - NOMAD.local_route_choice_manager - INFO - Finished creating local route choice manager in 21.580843687057495 seconds\n",
      "2021/07/16 00:57:42.741 - NOMAD.nomad_model - INFO - Model created with PedestrianManagerAttr with pedClass = attrPedOpt\n"
     ]
    },
    {
     "name": "stdout",
     "output_type": "stream",
     "text": [
      "==================================\n",
      "..................................\n",
      "Simulation done. Processing data... done\n",
      "Checking convergence... done\n",
      "Runnig replication 15 with seed = 1941\n"
     ]
    },
    {
     "name": "stderr",
     "output_type": "stream",
     "text": [
      "2021/07/16 01:01:45.510 - NOMAD.local_route_choice_manager - INFO - Creating the local route choice manager using LocalRouteChoiceIterativeComputer\n",
      "2021/07/16 01:01:45.510 - NOMAD.local_route_choice_manager - INFO - Creating a walk level local route choice manager using WalkLevelRouteChoiceIterativeComputer\n",
      "2021/07/16 01:02:07.370 - NOMAD.local_route_choice_manager - INFO - Finished creating local route choice manager in 21.859704971313477 seconds\n",
      "2021/07/16 01:02:07.390 - NOMAD.nomad_model - INFO - Model created with PedestrianManagerAttr with pedClass = attrPedOpt\n"
     ]
    },
    {
     "name": "stdout",
     "output_type": "stream",
     "text": [
      "==================================\n",
      "..................................\n",
      "Simulation done. Processing data... done\n",
      "Runnig replication 16 with seed = 1372\n"
     ]
    },
    {
     "name": "stderr",
     "output_type": "stream",
     "text": [
      "2021/07/16 01:06:14.763 - NOMAD.local_route_choice_manager - INFO - Creating the local route choice manager using LocalRouteChoiceIterativeComputer\n",
      "2021/07/16 01:06:14.763 - NOMAD.local_route_choice_manager - INFO - Creating a walk level local route choice manager using WalkLevelRouteChoiceIterativeComputer\n",
      "2021/07/16 01:06:36.197 - NOMAD.local_route_choice_manager - INFO - Finished creating local route choice manager in 21.434433221817017 seconds\n",
      "2021/07/16 01:06:36.208 - NOMAD.nomad_model - INFO - Model created with PedestrianManagerAttr with pedClass = attrPedOpt\n"
     ]
    },
    {
     "name": "stdout",
     "output_type": "stream",
     "text": [
      "==================================\n",
      "..................................\n",
      "Simulation done. Processing data... done\n",
      "Runnig replication 17 with seed = 448\n"
     ]
    },
    {
     "name": "stderr",
     "output_type": "stream",
     "text": [
      "2021/07/16 01:10:42.458 - NOMAD.local_route_choice_manager - INFO - Creating the local route choice manager using LocalRouteChoiceIterativeComputer\n",
      "2021/07/16 01:10:42.458 - NOMAD.local_route_choice_manager - INFO - Creating a walk level local route choice manager using WalkLevelRouteChoiceIterativeComputer\n",
      "2021/07/16 01:11:04.260 - NOMAD.local_route_choice_manager - INFO - Finished creating local route choice manager in 21.80207109451294 seconds\n",
      "2021/07/16 01:11:04.272 - NOMAD.nomad_model - INFO - Model created with PedestrianManagerAttr with pedClass = attrPedOpt\n"
     ]
    },
    {
     "name": "stdout",
     "output_type": "stream",
     "text": [
      "==================================\n",
      "..................................\n",
      "Simulation done. Processing data... done\n",
      "Runnig replication 18 with seed = 291\n"
     ]
    },
    {
     "name": "stderr",
     "output_type": "stream",
     "text": [
      "2021/07/16 01:16:12.938 - NOMAD.local_route_choice_manager - INFO - Creating the local route choice manager using LocalRouteChoiceIterativeComputer\n",
      "2021/07/16 01:16:12.938 - NOMAD.local_route_choice_manager - INFO - Creating a walk level local route choice manager using WalkLevelRouteChoiceIterativeComputer\n",
      "2021/07/16 01:16:46.014 - NOMAD.local_route_choice_manager - INFO - Finished creating local route choice manager in 33.076499462127686 seconds\n",
      "2021/07/16 01:16:46.022 - NOMAD.nomad_model - INFO - Model created with PedestrianManagerAttr with pedClass = attrPedOpt\n"
     ]
    },
    {
     "name": "stdout",
     "output_type": "stream",
     "text": [
      "==================================\n",
      "..................................\n",
      "Simulation done. Processing data... done\n",
      "Runnig replication 19 with seed = 3592\n"
     ]
    },
    {
     "name": "stderr",
     "output_type": "stream",
     "text": [
      "2021/07/16 01:22:58.240 - NOMAD.local_route_choice_manager - INFO - Creating the local route choice manager using LocalRouteChoiceIterativeComputer\n",
      "2021/07/16 01:22:58.240 - NOMAD.local_route_choice_manager - INFO - Creating a walk level local route choice manager using WalkLevelRouteChoiceIterativeComputer\n",
      "2021/07/16 01:23:29.230 - NOMAD.local_route_choice_manager - INFO - Finished creating local route choice manager in 30.990714073181152 seconds\n",
      "2021/07/16 01:23:29.232 - NOMAD.nomad_model - INFO - Model created with PedestrianManagerAttr with pedClass = attrPedOpt\n"
     ]
    },
    {
     "name": "stdout",
     "output_type": "stream",
     "text": [
      "==================================\n",
      "..................................\n",
      "Simulation done. Processing data... done\n",
      "Checking convergence... done\n",
      "Runnig replication 20 with seed = 271\n"
     ]
    },
    {
     "name": "stderr",
     "output_type": "stream",
     "text": [
      "2021/07/16 01:28:39.665 - NOMAD.local_route_choice_manager - INFO - Creating the local route choice manager using LocalRouteChoiceIterativeComputer\n",
      "2021/07/16 01:28:39.673 - NOMAD.local_route_choice_manager - INFO - Creating a walk level local route choice manager using WalkLevelRouteChoiceIterativeComputer\n",
      "2021/07/16 01:29:01.223 - NOMAD.local_route_choice_manager - INFO - Finished creating local route choice manager in 21.55025601387024 seconds\n",
      "2021/07/16 01:29:01.233 - NOMAD.nomad_model - INFO - Model created with PedestrianManagerAttr with pedClass = attrPedOpt\n"
     ]
    },
    {
     "name": "stdout",
     "output_type": "stream",
     "text": [
      "==================================\n",
      "..................................\n",
      "Simulation done. Processing data... done\n",
      "Runnig replication 21 with seed = 676\n"
     ]
    },
    {
     "name": "stderr",
     "output_type": "stream",
     "text": [
      "2021/07/16 01:33:11.462 - NOMAD.local_route_choice_manager - INFO - Creating the local route choice manager using LocalRouteChoiceIterativeComputer\n",
      "2021/07/16 01:33:11.464 - NOMAD.local_route_choice_manager - INFO - Creating a walk level local route choice manager using WalkLevelRouteChoiceIterativeComputer\n",
      "2021/07/16 01:33:33.215 - NOMAD.local_route_choice_manager - INFO - Finished creating local route choice manager in 21.75125288963318 seconds\n",
      "2021/07/16 01:33:33.225 - NOMAD.nomad_model - INFO - Model created with PedestrianManagerAttr with pedClass = attrPedOpt\n"
     ]
    },
    {
     "name": "stdout",
     "output_type": "stream",
     "text": [
      "==================================\n",
      "..................................\n",
      "Simulation done. Processing data... done\n",
      "Runnig replication 22 with seed = 3822\n"
     ]
    },
    {
     "name": "stderr",
     "output_type": "stream",
     "text": [
      "2021/07/16 01:37:43.748 - NOMAD.local_route_choice_manager - INFO - Creating the local route choice manager using LocalRouteChoiceIterativeComputer\n",
      "2021/07/16 01:37:43.748 - NOMAD.local_route_choice_manager - INFO - Creating a walk level local route choice manager using WalkLevelRouteChoiceIterativeComputer\n",
      "2021/07/16 01:38:04.903 - NOMAD.local_route_choice_manager - INFO - Finished creating local route choice manager in 21.15522050857544 seconds\n",
      "2021/07/16 01:38:04.903 - NOMAD.nomad_model - INFO - Model created with PedestrianManagerAttr with pedClass = attrPedOpt\n"
     ]
    },
    {
     "name": "stdout",
     "output_type": "stream",
     "text": [
      "==================================\n",
      "..................................\n",
      "Simulation done. Processing data... done\n",
      "Runnig replication 23 with seed = 1128\n"
     ]
    },
    {
     "name": "stderr",
     "output_type": "stream",
     "text": [
      "2021/07/16 01:42:15.171 - NOMAD.local_route_choice_manager - INFO - Creating the local route choice manager using LocalRouteChoiceIterativeComputer\n",
      "2021/07/16 01:42:15.173 - NOMAD.local_route_choice_manager - INFO - Creating a walk level local route choice manager using WalkLevelRouteChoiceIterativeComputer\n",
      "2021/07/16 01:42:36.759 - NOMAD.local_route_choice_manager - INFO - Finished creating local route choice manager in 21.58675479888916 seconds\n",
      "2021/07/16 01:42:36.769 - NOMAD.nomad_model - INFO - Model created with PedestrianManagerAttr with pedClass = attrPedOpt\n"
     ]
    },
    {
     "name": "stdout",
     "output_type": "stream",
     "text": [
      "==================================\n",
      "..................................\n",
      "Simulation done. Processing data... done\n",
      "Runnig replication 24 with seed = 3196\n"
     ]
    },
    {
     "name": "stderr",
     "output_type": "stream",
     "text": [
      "2021/07/16 01:46:53.656 - NOMAD.local_route_choice_manager - INFO - Creating the local route choice manager using LocalRouteChoiceIterativeComputer\n",
      "2021/07/16 01:46:53.656 - NOMAD.local_route_choice_manager - INFO - Creating a walk level local route choice manager using WalkLevelRouteChoiceIterativeComputer\n",
      "2021/07/16 01:47:14.767 - NOMAD.local_route_choice_manager - INFO - Finished creating local route choice manager in 21.111590147018433 seconds\n",
      "2021/07/16 01:47:14.778 - NOMAD.nomad_model - INFO - Model created with PedestrianManagerAttr with pedClass = attrPedOpt\n"
     ]
    },
    {
     "name": "stdout",
     "output_type": "stream",
     "text": [
      "==================================\n",
      "..................................\n",
      "Simulation done. Processing data... done\n",
      "Checking convergence... done\n",
      "Runnig replication 25 with seed = 3546\n"
     ]
    },
    {
     "name": "stderr",
     "output_type": "stream",
     "text": [
      "2021/07/16 01:51:28.014 - NOMAD.local_route_choice_manager - INFO - Creating the local route choice manager using LocalRouteChoiceIterativeComputer\n",
      "2021/07/16 01:51:28.014 - NOMAD.local_route_choice_manager - INFO - Creating a walk level local route choice manager using WalkLevelRouteChoiceIterativeComputer\n",
      "2021/07/16 01:51:49.769 - NOMAD.local_route_choice_manager - INFO - Finished creating local route choice manager in 21.75549578666687 seconds\n",
      "2021/07/16 01:51:49.777 - NOMAD.nomad_model - INFO - Model created with PedestrianManagerAttr with pedClass = attrPedOpt\n"
     ]
    },
    {
     "name": "stdout",
     "output_type": "stream",
     "text": [
      "==================================\n",
      "..................................\n",
      "Simulation done. Processing data... done\n",
      "Runnig replication 26 with seed = 3005\n"
     ]
    },
    {
     "name": "stderr",
     "output_type": "stream",
     "text": [
      "2021/07/16 01:56:15.415 - NOMAD.local_route_choice_manager - INFO - Creating the local route choice manager using LocalRouteChoiceIterativeComputer\n",
      "2021/07/16 01:56:15.417 - NOMAD.local_route_choice_manager - INFO - Creating a walk level local route choice manager using WalkLevelRouteChoiceIterativeComputer\n",
      "2021/07/16 01:56:36.958 - NOMAD.local_route_choice_manager - INFO - Finished creating local route choice manager in 21.540496826171875 seconds\n",
      "2021/07/16 01:56:36.968 - NOMAD.nomad_model - INFO - Model created with PedestrianManagerAttr with pedClass = attrPedOpt\n"
     ]
    },
    {
     "name": "stdout",
     "output_type": "stream",
     "text": [
      "==================================\n",
      "..................................\n",
      "Simulation done. Processing data... done\n",
      "Runnig replication 27 with seed = 1609\n"
     ]
    },
    {
     "name": "stderr",
     "output_type": "stream",
     "text": [
      "2021/07/16 02:01:02.631 - NOMAD.local_route_choice_manager - INFO - Creating the local route choice manager using LocalRouteChoiceIterativeComputer\n",
      "2021/07/16 02:01:02.631 - NOMAD.local_route_choice_manager - INFO - Creating a walk level local route choice manager using WalkLevelRouteChoiceIterativeComputer\n",
      "2021/07/16 02:01:24.381 - NOMAD.local_route_choice_manager - INFO - Finished creating local route choice manager in 21.74992823600769 seconds\n",
      "2021/07/16 02:01:24.383 - NOMAD.nomad_model - INFO - Model created with PedestrianManagerAttr with pedClass = attrPedOpt\n"
     ]
    },
    {
     "name": "stdout",
     "output_type": "stream",
     "text": [
      "==================================\n",
      "..................................\n",
      "Simulation done. Processing data... done\n",
      "Runnig replication 28 with seed = 1181\n"
     ]
    },
    {
     "name": "stderr",
     "output_type": "stream",
     "text": [
      "2021/07/16 02:05:39.483 - NOMAD.local_route_choice_manager - INFO - Creating the local route choice manager using LocalRouteChoiceIterativeComputer\n",
      "2021/07/16 02:05:39.483 - NOMAD.local_route_choice_manager - INFO - Creating a walk level local route choice manager using WalkLevelRouteChoiceIterativeComputer\n",
      "2021/07/16 02:06:00.821 - NOMAD.local_route_choice_manager - INFO - Finished creating local route choice manager in 21.33822751045227 seconds\n",
      "2021/07/16 02:06:00.832 - NOMAD.nomad_model - INFO - Model created with PedestrianManagerAttr with pedClass = attrPedOpt\n"
     ]
    },
    {
     "name": "stdout",
     "output_type": "stream",
     "text": [
      "==================================\n",
      "..................................\n",
      "Simulation done. Processing data... done\n",
      "Runnig replication 29 with seed = 1415\n"
     ]
    },
    {
     "name": "stderr",
     "output_type": "stream",
     "text": [
      "2021/07/16 02:10:12.566 - NOMAD.local_route_choice_manager - INFO - Creating the local route choice manager using LocalRouteChoiceIterativeComputer\n",
      "2021/07/16 02:10:12.566 - NOMAD.local_route_choice_manager - INFO - Creating a walk level local route choice manager using WalkLevelRouteChoiceIterativeComputer\n",
      "2021/07/16 02:10:34.213 - NOMAD.local_route_choice_manager - INFO - Finished creating local route choice manager in 21.64765238761902 seconds\n",
      "2021/07/16 02:10:34.215 - NOMAD.nomad_model - INFO - Model created with PedestrianManagerAttr with pedClass = attrPedOpt\n"
     ]
    },
    {
     "name": "stdout",
     "output_type": "stream",
     "text": [
      "==================================\n",
      "..................................\n",
      "Simulation done. Processing data... done\n",
      "Checking convergence... done\n",
      "Runnig replication 30 with seed = 161\n"
     ]
    },
    {
     "name": "stderr",
     "output_type": "stream",
     "text": [
      "2021/07/16 02:14:55.585 - NOMAD.local_route_choice_manager - INFO - Creating the local route choice manager using LocalRouteChoiceIterativeComputer\n",
      "2021/07/16 02:14:55.585 - NOMAD.local_route_choice_manager - INFO - Creating a walk level local route choice manager using WalkLevelRouteChoiceIterativeComputer\n",
      "2021/07/16 02:15:16.914 - NOMAD.local_route_choice_manager - INFO - Finished creating local route choice manager in 21.32900381088257 seconds\n",
      "2021/07/16 02:15:16.924 - NOMAD.nomad_model - INFO - Model created with PedestrianManagerAttr with pedClass = attrPedOpt\n"
     ]
    },
    {
     "name": "stdout",
     "output_type": "stream",
     "text": [
      "==================================\n",
      "..................................\n",
      "Simulation done. Processing data... done\n",
      "Runnig replication 31 with seed = 3033\n"
     ]
    },
    {
     "name": "stderr",
     "output_type": "stream",
     "text": [
      "2021/07/16 02:19:34.468 - NOMAD.local_route_choice_manager - INFO - Creating the local route choice manager using LocalRouteChoiceIterativeComputer\n",
      "2021/07/16 02:19:34.469 - NOMAD.local_route_choice_manager - INFO - Creating a walk level local route choice manager using WalkLevelRouteChoiceIterativeComputer\n",
      "2021/07/16 02:19:55.807 - NOMAD.local_route_choice_manager - INFO - Finished creating local route choice manager in 21.33735942840576 seconds\n",
      "2021/07/16 02:19:55.807 - NOMAD.nomad_model - INFO - Model created with PedestrianManagerAttr with pedClass = attrPedOpt\n"
     ]
    },
    {
     "name": "stdout",
     "output_type": "stream",
     "text": [
      "==================================\n",
      "..................................\n",
      "Simulation done. Processing data... done\n",
      "Runnig replication 32 with seed = 3652\n"
     ]
    },
    {
     "name": "stderr",
     "output_type": "stream",
     "text": [
      "2021/07/16 02:24:08.095 - NOMAD.local_route_choice_manager - INFO - Creating the local route choice manager using LocalRouteChoiceIterativeComputer\n",
      "2021/07/16 02:24:08.095 - NOMAD.local_route_choice_manager - INFO - Creating a walk level local route choice manager using WalkLevelRouteChoiceIterativeComputer\n",
      "2021/07/16 02:24:29.582 - NOMAD.local_route_choice_manager - INFO - Finished creating local route choice manager in 21.48685073852539 seconds\n",
      "2021/07/16 02:24:29.592 - NOMAD.nomad_model - INFO - Model created with PedestrianManagerAttr with pedClass = attrPedOpt\n"
     ]
    },
    {
     "name": "stdout",
     "output_type": "stream",
     "text": [
      "==================================\n",
      "..................................\n",
      "Simulation done. Processing data... done\n",
      "Runnig replication 33 with seed = 1536\n"
     ]
    },
    {
     "name": "stderr",
     "output_type": "stream",
     "text": [
      "2021/07/16 02:28:42.149 - NOMAD.local_route_choice_manager - INFO - Creating the local route choice manager using LocalRouteChoiceIterativeComputer\n",
      "2021/07/16 02:28:42.167 - NOMAD.local_route_choice_manager - INFO - Creating a walk level local route choice manager using WalkLevelRouteChoiceIterativeComputer\n",
      "2021/07/16 02:29:03.444 - NOMAD.local_route_choice_manager - INFO - Finished creating local route choice manager in 21.277387619018555 seconds\n",
      "2021/07/16 02:29:03.444 - NOMAD.nomad_model - INFO - Model created with PedestrianManagerAttr with pedClass = attrPedOpt\n"
     ]
    },
    {
     "name": "stdout",
     "output_type": "stream",
     "text": [
      "==================================\n",
      "..................................\n",
      "Simulation done. Processing data... done\n",
      "Runnig replication 34 with seed = 2720\n"
     ]
    },
    {
     "name": "stderr",
     "output_type": "stream",
     "text": [
      "2021/07/16 02:33:28.126 - NOMAD.local_route_choice_manager - INFO - Creating the local route choice manager using LocalRouteChoiceIterativeComputer\n",
      "2021/07/16 02:33:28.126 - NOMAD.local_route_choice_manager - INFO - Creating a walk level local route choice manager using WalkLevelRouteChoiceIterativeComputer\n",
      "2021/07/16 02:33:49.366 - NOMAD.local_route_choice_manager - INFO - Finished creating local route choice manager in 21.239849090576172 seconds\n",
      "2021/07/16 02:33:49.383 - NOMAD.nomad_model - INFO - Model created with PedestrianManagerAttr with pedClass = attrPedOpt\n"
     ]
    },
    {
     "name": "stdout",
     "output_type": "stream",
     "text": [
      "==================================\n",
      "..................................\n",
      "Simulation done. Processing data... done\n",
      "Checking convergence... done\n",
      "Runnig replication 35 with seed = 3804\n"
     ]
    },
    {
     "name": "stderr",
     "output_type": "stream",
     "text": [
      "2021/07/16 02:38:03.570 - NOMAD.local_route_choice_manager - INFO - Creating the local route choice manager using LocalRouteChoiceIterativeComputer\n",
      "2021/07/16 02:38:03.580 - NOMAD.local_route_choice_manager - INFO - Creating a walk level local route choice manager using WalkLevelRouteChoiceIterativeComputer\n",
      "2021/07/16 02:38:25.391 - NOMAD.local_route_choice_manager - INFO - Finished creating local route choice manager in 21.81062388420105 seconds\n",
      "2021/07/16 02:38:25.399 - NOMAD.nomad_model - INFO - Model created with PedestrianManagerAttr with pedClass = attrPedOpt\n"
     ]
    },
    {
     "name": "stdout",
     "output_type": "stream",
     "text": [
      "==================================\n",
      "..................................\n",
      "Simulation done. Processing data... done\n",
      "Runnig replication 36 with seed = 3458\n"
     ]
    },
    {
     "name": "stderr",
     "output_type": "stream",
     "text": [
      "2021/07/16 02:42:46.175 - NOMAD.local_route_choice_manager - INFO - Creating the local route choice manager using LocalRouteChoiceIterativeComputer\n",
      "2021/07/16 02:42:46.203 - NOMAD.local_route_choice_manager - INFO - Creating a walk level local route choice manager using WalkLevelRouteChoiceIterativeComputer\n",
      "2021/07/16 02:43:08.215 - NOMAD.local_route_choice_manager - INFO - Finished creating local route choice manager in 22.012712478637695 seconds\n",
      "2021/07/16 02:43:08.217 - NOMAD.nomad_model - INFO - Model created with PedestrianManagerAttr with pedClass = attrPedOpt\n"
     ]
    },
    {
     "name": "stdout",
     "output_type": "stream",
     "text": [
      "==================================\n",
      "..................................\n",
      "Simulation done. Processing data... done\n",
      "Runnig replication 37 with seed = 764\n"
     ]
    },
    {
     "name": "stderr",
     "output_type": "stream",
     "text": [
      "2021/07/16 02:47:06.725 - NOMAD.local_route_choice_manager - INFO - Creating the local route choice manager using LocalRouteChoiceIterativeComputer\n",
      "2021/07/16 02:47:06.725 - NOMAD.local_route_choice_manager - INFO - Creating a walk level local route choice manager using WalkLevelRouteChoiceIterativeComputer\n",
      "2021/07/16 02:47:28.499 - NOMAD.local_route_choice_manager - INFO - Finished creating local route choice manager in 21.7743399143219 seconds\n",
      "2021/07/16 02:47:28.520 - NOMAD.nomad_model - INFO - Model created with PedestrianManagerAttr with pedClass = attrPedOpt\n"
     ]
    },
    {
     "name": "stdout",
     "output_type": "stream",
     "text": [
      "==================================\n",
      "..................................\n",
      "Simulation done. Processing data... done\n",
      "Runnig replication 38 with seed = 3429\n"
     ]
    },
    {
     "name": "stderr",
     "output_type": "stream",
     "text": [
      "2021/07/16 02:51:53.165 - NOMAD.local_route_choice_manager - INFO - Creating the local route choice manager using LocalRouteChoiceIterativeComputer\n",
      "2021/07/16 02:51:53.167 - NOMAD.local_route_choice_manager - INFO - Creating a walk level local route choice manager using WalkLevelRouteChoiceIterativeComputer\n",
      "2021/07/16 02:52:15.087 - NOMAD.local_route_choice_manager - INFO - Finished creating local route choice manager in 21.920305967330933 seconds\n",
      "2021/07/16 02:52:15.087 - NOMAD.nomad_model - INFO - Model created with PedestrianManagerAttr with pedClass = attrPedOpt\n"
     ]
    },
    {
     "name": "stdout",
     "output_type": "stream",
     "text": [
      "==================================\n",
      "..................................\n",
      "Simulation done. Processing data... done\n",
      "Runnig replication 39 with seed = 2629\n"
     ]
    },
    {
     "name": "stderr",
     "output_type": "stream",
     "text": [
      "2021/07/16 02:56:40.304 - NOMAD.local_route_choice_manager - INFO - Creating the local route choice manager using LocalRouteChoiceIterativeComputer\n",
      "2021/07/16 02:56:40.304 - NOMAD.local_route_choice_manager - INFO - Creating a walk level local route choice manager using WalkLevelRouteChoiceIterativeComputer\n",
      "2021/07/16 02:57:02.526 - NOMAD.local_route_choice_manager - INFO - Finished creating local route choice manager in 22.221267700195312 seconds\n",
      "2021/07/16 02:57:02.536 - NOMAD.nomad_model - INFO - Model created with PedestrianManagerAttr with pedClass = attrPedOpt\n"
     ]
    },
    {
     "name": "stdout",
     "output_type": "stream",
     "text": [
      "==================================\n",
      "..................................\n",
      "Simulation done. Processing data... done\n",
      "Checking convergence... done\n",
      "Runnig replication 40 with seed = 1315\n"
     ]
    },
    {
     "name": "stderr",
     "output_type": "stream",
     "text": [
      "2021/07/16 03:01:37.085 - NOMAD.local_route_choice_manager - INFO - Creating the local route choice manager using LocalRouteChoiceIterativeComputer\n",
      "2021/07/16 03:01:37.085 - NOMAD.local_route_choice_manager - INFO - Creating a walk level local route choice manager using WalkLevelRouteChoiceIterativeComputer\n",
      "2021/07/16 03:01:58.410 - NOMAD.local_route_choice_manager - INFO - Finished creating local route choice manager in 21.32575249671936 seconds\n",
      "2021/07/16 03:01:58.431 - NOMAD.nomad_model - INFO - Model created with PedestrianManagerAttr with pedClass = attrPedOpt\n"
     ]
    },
    {
     "name": "stdout",
     "output_type": "stream",
     "text": [
      "==================================\n",
      "..................................\n",
      "Simulation done. Processing data... done\n",
      "Runnig replication 41 with seed = 427\n"
     ]
    },
    {
     "name": "stderr",
     "output_type": "stream",
     "text": [
      "2021/07/16 03:06:23.311 - NOMAD.local_route_choice_manager - INFO - Creating the local route choice manager using LocalRouteChoiceIterativeComputer\n",
      "2021/07/16 03:06:23.331 - NOMAD.local_route_choice_manager - INFO - Creating a walk level local route choice manager using WalkLevelRouteChoiceIterativeComputer\n",
      "2021/07/16 03:06:44.519 - NOMAD.local_route_choice_manager - INFO - Finished creating local route choice manager in 21.187443733215332 seconds\n",
      "2021/07/16 03:06:44.529 - NOMAD.nomad_model - INFO - Model created with PedestrianManagerAttr with pedClass = attrPedOpt\n"
     ]
    },
    {
     "name": "stdout",
     "output_type": "stream",
     "text": [
      "==================================\n",
      "..................................\n",
      "Simulation done. Processing data... done\n",
      "Runnig replication 42 with seed = 2848\n"
     ]
    },
    {
     "name": "stderr",
     "output_type": "stream",
     "text": [
      "2021/07/16 03:10:58.040 - NOMAD.local_route_choice_manager - INFO - Creating the local route choice manager using LocalRouteChoiceIterativeComputer\n",
      "2021/07/16 03:10:58.048 - NOMAD.local_route_choice_manager - INFO - Creating a walk level local route choice manager using WalkLevelRouteChoiceIterativeComputer\n",
      "2021/07/16 03:11:19.561 - NOMAD.local_route_choice_manager - INFO - Finished creating local route choice manager in 21.512671947479248 seconds\n",
      "2021/07/16 03:11:19.571 - NOMAD.nomad_model - INFO - Model created with PedestrianManagerAttr with pedClass = attrPedOpt\n"
     ]
    },
    {
     "name": "stdout",
     "output_type": "stream",
     "text": [
      "==================================\n",
      "..................................\n",
      "Simulation done. Processing data... done\n",
      "Runnig replication 43 with seed = 2784\n"
     ]
    },
    {
     "name": "stderr",
     "output_type": "stream",
     "text": [
      "2021/07/16 03:15:37.631 - NOMAD.local_route_choice_manager - INFO - Creating the local route choice manager using LocalRouteChoiceIterativeComputer\n",
      "2021/07/16 03:15:37.631 - NOMAD.local_route_choice_manager - INFO - Creating a walk level local route choice manager using WalkLevelRouteChoiceIterativeComputer\n",
      "2021/07/16 03:15:58.948 - NOMAD.local_route_choice_manager - INFO - Finished creating local route choice manager in 21.317261695861816 seconds\n",
      "2021/07/16 03:15:58.958 - NOMAD.nomad_model - INFO - Model created with PedestrianManagerAttr with pedClass = attrPedOpt\n"
     ]
    },
    {
     "name": "stdout",
     "output_type": "stream",
     "text": [
      "==================================\n",
      "..................................\n",
      "Simulation done. Processing data... done\n",
      "Runnig replication 44 with seed = 2801\n"
     ]
    },
    {
     "name": "stderr",
     "output_type": "stream",
     "text": [
      "2021/07/16 03:20:10.378 - NOMAD.local_route_choice_manager - INFO - Creating the local route choice manager using LocalRouteChoiceIterativeComputer\n",
      "2021/07/16 03:20:10.398 - NOMAD.local_route_choice_manager - INFO - Creating a walk level local route choice manager using WalkLevelRouteChoiceIterativeComputer\n",
      "2021/07/16 03:20:31.863 - NOMAD.local_route_choice_manager - INFO - Finished creating local route choice manager in 21.46438431739807 seconds\n",
      "2021/07/16 03:20:31.865 - NOMAD.nomad_model - INFO - Model created with PedestrianManagerAttr with pedClass = attrPedOpt\n"
     ]
    },
    {
     "name": "stdout",
     "output_type": "stream",
     "text": [
      "==================================\n",
      "..................................\n",
      "Simulation done. Processing data... done\n",
      "Checking convergence... done\n",
      "Runnig replication 45 with seed = 3985\n"
     ]
    },
    {
     "name": "stderr",
     "output_type": "stream",
     "text": [
      "2021/07/16 03:24:58.601 - NOMAD.local_route_choice_manager - INFO - Creating the local route choice manager using LocalRouteChoiceIterativeComputer\n",
      "2021/07/16 03:24:58.621 - NOMAD.local_route_choice_manager - INFO - Creating a walk level local route choice manager using WalkLevelRouteChoiceIterativeComputer\n",
      "2021/07/16 03:25:20.266 - NOMAD.local_route_choice_manager - INFO - Finished creating local route choice manager in 21.645164966583252 seconds\n",
      "2021/07/16 03:25:20.284 - NOMAD.nomad_model - INFO - Model created with PedestrianManagerAttr with pedClass = attrPedOpt\n"
     ]
    },
    {
     "name": "stdout",
     "output_type": "stream",
     "text": [
      "==================================\n",
      "..................................\n",
      "Simulation done. Processing data... done\n",
      "Runnig replication 46 with seed = 587\n"
     ]
    },
    {
     "name": "stderr",
     "output_type": "stream",
     "text": [
      "2021/07/16 03:29:30.988 - NOMAD.local_route_choice_manager - INFO - Creating the local route choice manager using LocalRouteChoiceIterativeComputer\n",
      "2021/07/16 03:29:30.990 - NOMAD.local_route_choice_manager - INFO - Creating a walk level local route choice manager using WalkLevelRouteChoiceIterativeComputer\n",
      "2021/07/16 03:29:52.703 - NOMAD.local_route_choice_manager - INFO - Finished creating local route choice manager in 21.71334195137024 seconds\n",
      "2021/07/16 03:29:52.715 - NOMAD.nomad_model - INFO - Model created with PedestrianManagerAttr with pedClass = attrPedOpt\n"
     ]
    },
    {
     "name": "stdout",
     "output_type": "stream",
     "text": [
      "==================================\n",
      "..................................\n",
      "Simulation done. Processing data... done\n",
      "Runnig replication 47 with seed = 1332\n"
     ]
    },
    {
     "name": "stderr",
     "output_type": "stream",
     "text": [
      "2021/07/16 03:34:01.750 - NOMAD.local_route_choice_manager - INFO - Creating the local route choice manager using LocalRouteChoiceIterativeComputer\n",
      "2021/07/16 03:34:01.750 - NOMAD.local_route_choice_manager - INFO - Creating a walk level local route choice manager using WalkLevelRouteChoiceIterativeComputer\n",
      "2021/07/16 03:34:23.343 - NOMAD.local_route_choice_manager - INFO - Finished creating local route choice manager in 21.59327006340027 seconds\n",
      "2021/07/16 03:34:23.351 - NOMAD.nomad_model - INFO - Model created with PedestrianManagerAttr with pedClass = attrPedOpt\n"
     ]
    },
    {
     "name": "stdout",
     "output_type": "stream",
     "text": [
      "==================================\n",
      "..................................\n",
      "Simulation done. Processing data... done\n",
      "Runnig replication 48 with seed = 1086\n"
     ]
    },
    {
     "name": "stderr",
     "output_type": "stream",
     "text": [
      "2021/07/16 03:38:43.235 - NOMAD.local_route_choice_manager - INFO - Creating the local route choice manager using LocalRouteChoiceIterativeComputer\n",
      "2021/07/16 03:38:43.235 - NOMAD.local_route_choice_manager - INFO - Creating a walk level local route choice manager using WalkLevelRouteChoiceIterativeComputer\n",
      "2021/07/16 03:39:04.835 - NOMAD.local_route_choice_manager - INFO - Finished creating local route choice manager in 21.59987711906433 seconds\n",
      "2021/07/16 03:39:04.835 - NOMAD.nomad_model - INFO - Model created with PedestrianManagerAttr with pedClass = attrPedOpt\n"
     ]
    },
    {
     "name": "stdout",
     "output_type": "stream",
     "text": [
      "==================================\n",
      "..................................\n",
      "Simulation done. Processing data... done\n",
      "Runnig replication 49 with seed = 3322\n"
     ]
    },
    {
     "name": "stderr",
     "output_type": "stream",
     "text": [
      "2021/07/16 03:43:08.004 - NOMAD.local_route_choice_manager - INFO - Creating the local route choice manager using LocalRouteChoiceIterativeComputer\n",
      "2021/07/16 03:43:08.025 - NOMAD.local_route_choice_manager - INFO - Creating a walk level local route choice manager using WalkLevelRouteChoiceIterativeComputer\n",
      "2021/07/16 03:43:30.984 - NOMAD.local_route_choice_manager - INFO - Finished creating local route choice manager in 22.959879398345947 seconds\n",
      "2021/07/16 03:43:30.992 - NOMAD.nomad_model - INFO - Model created with PedestrianManagerAttr with pedClass = attrPedOpt\n"
     ]
    },
    {
     "name": "stdout",
     "output_type": "stream",
     "text": [
      "==================================\n",
      "..................................\n",
      "Simulation done. Processing data... done\n",
      "Checking convergence... done\n",
      "Runnig replication 50 with seed = 1889\n"
     ]
    },
    {
     "name": "stderr",
     "output_type": "stream",
     "text": [
      "2021/07/16 03:47:51.242 - NOMAD.local_route_choice_manager - INFO - Creating the local route choice manager using LocalRouteChoiceIterativeComputer\n",
      "2021/07/16 03:47:51.252 - NOMAD.local_route_choice_manager - INFO - Creating a walk level local route choice manager using WalkLevelRouteChoiceIterativeComputer\n",
      "2021/07/16 03:48:12.971 - NOMAD.local_route_choice_manager - INFO - Finished creating local route choice manager in 21.71931767463684 seconds\n",
      "2021/07/16 03:48:12.971 - NOMAD.nomad_model - INFO - Model created with PedestrianManagerAttr with pedClass = attrPedOpt\n"
     ]
    },
    {
     "name": "stdout",
     "output_type": "stream",
     "text": [
      "==================================\n",
      "..................................\n",
      "Simulation done. Processing data... done\n",
      "Runnig replication 51 with seed = 3313\n"
     ]
    },
    {
     "name": "stderr",
     "output_type": "stream",
     "text": [
      "2021/07/16 03:52:20.697 - NOMAD.local_route_choice_manager - INFO - Creating the local route choice manager using LocalRouteChoiceIterativeComputer\n",
      "2021/07/16 03:52:20.697 - NOMAD.local_route_choice_manager - INFO - Creating a walk level local route choice manager using WalkLevelRouteChoiceIterativeComputer\n",
      "2021/07/16 03:52:42.574 - NOMAD.local_route_choice_manager - INFO - Finished creating local route choice manager in 21.876514673233032 seconds\n",
      "2021/07/16 03:52:42.576 - NOMAD.nomad_model - INFO - Model created with PedestrianManagerAttr with pedClass = attrPedOpt\n"
     ]
    },
    {
     "name": "stdout",
     "output_type": "stream",
     "text": [
      "==================================\n",
      "..................................\n",
      "Simulation done. Processing data... done\n",
      "Runnig replication 52 with seed = 2028\n"
     ]
    },
    {
     "name": "stderr",
     "output_type": "stream",
     "text": [
      "2021/07/16 03:56:52.838 - NOMAD.local_route_choice_manager - INFO - Creating the local route choice manager using LocalRouteChoiceIterativeComputer\n",
      "2021/07/16 03:56:52.838 - NOMAD.local_route_choice_manager - INFO - Creating a walk level local route choice manager using WalkLevelRouteChoiceIterativeComputer\n",
      "2021/07/16 03:57:14.456 - NOMAD.local_route_choice_manager - INFO - Finished creating local route choice manager in 21.618532180786133 seconds\n",
      "2021/07/16 03:57:14.464 - NOMAD.nomad_model - INFO - Model created with PedestrianManagerAttr with pedClass = attrPedOpt\n"
     ]
    },
    {
     "name": "stdout",
     "output_type": "stream",
     "text": [
      "==================================\n",
      "..................................\n",
      "Simulation done. Processing data... done\n",
      "Runnig replication 53 with seed = 1019\n"
     ]
    },
    {
     "name": "stderr",
     "output_type": "stream",
     "text": [
      "2021/07/16 04:01:34.504 - NOMAD.local_route_choice_manager - INFO - Creating the local route choice manager using LocalRouteChoiceIterativeComputer\n",
      "2021/07/16 04:01:34.504 - NOMAD.local_route_choice_manager - INFO - Creating a walk level local route choice manager using WalkLevelRouteChoiceIterativeComputer\n",
      "2021/07/16 04:01:55.914 - NOMAD.local_route_choice_manager - INFO - Finished creating local route choice manager in 21.409788131713867 seconds\n",
      "2021/07/16 04:01:55.922 - NOMAD.nomad_model - INFO - Model created with PedestrianManagerAttr with pedClass = attrPedOpt\n"
     ]
    },
    {
     "name": "stdout",
     "output_type": "stream",
     "text": [
      "==================================\n",
      "..................................\n",
      "Simulation done. Processing data... done\n",
      "Runnig replication 54 with seed = 1429\n"
     ]
    },
    {
     "name": "stderr",
     "output_type": "stream",
     "text": [
      "2021/07/16 04:06:02.724 - NOMAD.local_route_choice_manager - INFO - Creating the local route choice manager using LocalRouteChoiceIterativeComputer\n",
      "2021/07/16 04:06:02.724 - NOMAD.local_route_choice_manager - INFO - Creating a walk level local route choice manager using WalkLevelRouteChoiceIterativeComputer\n",
      "2021/07/16 04:06:24.898 - NOMAD.local_route_choice_manager - INFO - Finished creating local route choice manager in 22.173701286315918 seconds\n",
      "2021/07/16 04:06:24.906 - NOMAD.nomad_model - INFO - Model created with PedestrianManagerAttr with pedClass = attrPedOpt\n"
     ]
    },
    {
     "name": "stdout",
     "output_type": "stream",
     "text": [
      "==================================\n",
      "..................................\n",
      "Simulation done. Processing data... done\n",
      "Checking convergence... done\n",
      "Runnig replication 55 with seed = 2588\n"
     ]
    },
    {
     "name": "stderr",
     "output_type": "stream",
     "text": [
      "2021/07/16 04:10:38.368 - NOMAD.local_route_choice_manager - INFO - Creating the local route choice manager using LocalRouteChoiceIterativeComputer\n",
      "2021/07/16 04:10:38.368 - NOMAD.local_route_choice_manager - INFO - Creating a walk level local route choice manager using WalkLevelRouteChoiceIterativeComputer\n",
      "2021/07/16 04:10:59.955 - NOMAD.local_route_choice_manager - INFO - Finished creating local route choice manager in 21.58703589439392 seconds\n",
      "2021/07/16 04:10:59.957 - NOMAD.nomad_model - INFO - Model created with PedestrianManagerAttr with pedClass = attrPedOpt\n"
     ]
    },
    {
     "name": "stdout",
     "output_type": "stream",
     "text": [
      "==================================\n",
      "..................................\n",
      "Simulation done. Processing data... done\n",
      "Runnig replication 56 with seed = 1786\n"
     ]
    },
    {
     "name": "stderr",
     "output_type": "stream",
     "text": [
      "2021/07/16 04:15:22.494 - NOMAD.local_route_choice_manager - INFO - Creating the local route choice manager using LocalRouteChoiceIterativeComputer\n",
      "2021/07/16 04:15:22.494 - NOMAD.local_route_choice_manager - INFO - Creating a walk level local route choice manager using WalkLevelRouteChoiceIterativeComputer\n",
      "2021/07/16 04:15:44.142 - NOMAD.local_route_choice_manager - INFO - Finished creating local route choice manager in 21.6476993560791 seconds\n",
      "2021/07/16 04:15:44.142 - NOMAD.nomad_model - INFO - Model created with PedestrianManagerAttr with pedClass = attrPedOpt\n"
     ]
    },
    {
     "name": "stdout",
     "output_type": "stream",
     "text": [
      "==================================\n",
      "..................................\n",
      "Simulation done. Processing data... done\n",
      "Runnig replication 57 with seed = 2380\n"
     ]
    },
    {
     "name": "stderr",
     "output_type": "stream",
     "text": [
      "2021/07/16 04:20:04.840 - NOMAD.local_route_choice_manager - INFO - Creating the local route choice manager using LocalRouteChoiceIterativeComputer\n",
      "2021/07/16 04:20:04.849 - NOMAD.local_route_choice_manager - INFO - Creating a walk level local route choice manager using WalkLevelRouteChoiceIterativeComputer\n",
      "2021/07/16 04:20:26.853 - NOMAD.local_route_choice_manager - INFO - Finished creating local route choice manager in 22.00411820411682 seconds\n",
      "2021/07/16 04:20:26.873 - NOMAD.nomad_model - INFO - Model created with PedestrianManagerAttr with pedClass = attrPedOpt\n"
     ]
    },
    {
     "name": "stdout",
     "output_type": "stream",
     "text": [
      "==================================\n",
      "..................................\n",
      "Simulation done. Processing data... done\n",
      "Runnig replication 58 with seed = 3919\n"
     ]
    },
    {
     "name": "stderr",
     "output_type": "stream",
     "text": [
      "2021/07/16 04:24:36.193 - NOMAD.local_route_choice_manager - INFO - Creating the local route choice manager using LocalRouteChoiceIterativeComputer\n",
      "2021/07/16 04:24:36.193 - NOMAD.local_route_choice_manager - INFO - Creating a walk level local route choice manager using WalkLevelRouteChoiceIterativeComputer\n",
      "2021/07/16 04:24:58.133 - NOMAD.local_route_choice_manager - INFO - Finished creating local route choice manager in 21.94045662879944 seconds\n",
      "2021/07/16 04:24:58.145 - NOMAD.nomad_model - INFO - Model created with PedestrianManagerAttr with pedClass = attrPedOpt\n"
     ]
    },
    {
     "name": "stdout",
     "output_type": "stream",
     "text": [
      "==================================\n",
      "..................................\n",
      "Simulation done. Processing data... done\n",
      "Runnig replication 59 with seed = 3447\n"
     ]
    },
    {
     "name": "stderr",
     "output_type": "stream",
     "text": [
      "2021/07/16 04:29:31.395 - NOMAD.local_route_choice_manager - INFO - Creating the local route choice manager using LocalRouteChoiceIterativeComputer\n",
      "2021/07/16 04:29:31.405 - NOMAD.local_route_choice_manager - INFO - Creating a walk level local route choice manager using WalkLevelRouteChoiceIterativeComputer\n",
      "2021/07/16 04:29:53.112 - NOMAD.local_route_choice_manager - INFO - Finished creating local route choice manager in 21.70693612098694 seconds\n",
      "2021/07/16 04:29:53.114 - NOMAD.nomad_model - INFO - Model created with PedestrianManagerAttr with pedClass = attrPedOpt\n"
     ]
    },
    {
     "name": "stdout",
     "output_type": "stream",
     "text": [
      "==================================\n",
      "..................................\n",
      "Simulation done. Processing data... done\n",
      "Checking convergence... done\n",
      "Runnig replication 60 with seed = 2774\n"
     ]
    },
    {
     "name": "stderr",
     "output_type": "stream",
     "text": [
      "2021/07/16 04:34:08.241 - NOMAD.local_route_choice_manager - INFO - Creating the local route choice manager using LocalRouteChoiceIterativeComputer\n",
      "2021/07/16 04:34:08.251 - NOMAD.local_route_choice_manager - INFO - Creating a walk level local route choice manager using WalkLevelRouteChoiceIterativeComputer\n",
      "2021/07/16 04:34:30.009 - NOMAD.local_route_choice_manager - INFO - Finished creating local route choice manager in 21.758477687835693 seconds\n",
      "2021/07/16 04:34:30.011 - NOMAD.nomad_model - INFO - Model created with PedestrianManagerAttr with pedClass = attrPedOpt\n"
     ]
    },
    {
     "name": "stdout",
     "output_type": "stream",
     "text": [
      "==================================\n",
      "..................................\n",
      "Simulation done. Processing data... done\n",
      "Runnig replication 61 with seed = 2190\n"
     ]
    },
    {
     "name": "stderr",
     "output_type": "stream",
     "text": [
      "2021/07/16 04:38:54.382 - NOMAD.local_route_choice_manager - INFO - Creating the local route choice manager using LocalRouteChoiceIterativeComputer\n",
      "2021/07/16 04:38:54.382 - NOMAD.local_route_choice_manager - INFO - Creating a walk level local route choice manager using WalkLevelRouteChoiceIterativeComputer\n",
      "2021/07/16 04:39:16.020 - NOMAD.local_route_choice_manager - INFO - Finished creating local route choice manager in 21.637950897216797 seconds\n",
      "2021/07/16 04:39:16.020 - NOMAD.nomad_model - INFO - Model created with PedestrianManagerAttr with pedClass = attrPedOpt\n"
     ]
    },
    {
     "name": "stdout",
     "output_type": "stream",
     "text": [
      "==================================\n",
      "..................................\n",
      "Simulation done. Processing data... done\n",
      "Runnig replication 62 with seed = 2869\n"
     ]
    },
    {
     "name": "stderr",
     "output_type": "stream",
     "text": [
      "2021/07/16 04:43:28.684 - NOMAD.local_route_choice_manager - INFO - Creating the local route choice manager using LocalRouteChoiceIterativeComputer\n",
      "2021/07/16 04:43:28.684 - NOMAD.local_route_choice_manager - INFO - Creating a walk level local route choice manager using WalkLevelRouteChoiceIterativeComputer\n",
      "2021/07/16 04:43:50.262 - NOMAD.local_route_choice_manager - INFO - Finished creating local route choice manager in 21.578904628753662 seconds\n",
      "2021/07/16 04:43:50.262 - NOMAD.nomad_model - INFO - Model created with PedestrianManagerAttr with pedClass = attrPedOpt\n"
     ]
    },
    {
     "name": "stdout",
     "output_type": "stream",
     "text": [
      "==================================\n",
      "..................................\n",
      "Simulation done. Processing data... done\n",
      "Runnig replication 63 with seed = 216\n"
     ]
    },
    {
     "name": "stderr",
     "output_type": "stream",
     "text": [
      "2021/07/16 04:48:01.680 - NOMAD.local_route_choice_manager - INFO - Creating the local route choice manager using LocalRouteChoiceIterativeComputer\n",
      "2021/07/16 04:48:01.680 - NOMAD.local_route_choice_manager - INFO - Creating a walk level local route choice manager using WalkLevelRouteChoiceIterativeComputer\n",
      "2021/07/16 04:48:23.110 - NOMAD.local_route_choice_manager - INFO - Finished creating local route choice manager in 21.43042492866516 seconds\n",
      "2021/07/16 04:48:23.130 - NOMAD.nomad_model - INFO - Model created with PedestrianManagerAttr with pedClass = attrPedOpt\n"
     ]
    },
    {
     "name": "stdout",
     "output_type": "stream",
     "text": [
      "==================================\n",
      "..................................\n",
      "Simulation done. Processing data... done\n",
      "Runnig replication 64 with seed = 1588\n"
     ]
    },
    {
     "name": "stderr",
     "output_type": "stream",
     "text": [
      "2021/07/16 04:52:37.976 - NOMAD.local_route_choice_manager - INFO - Creating the local route choice manager using LocalRouteChoiceIterativeComputer\n",
      "2021/07/16 04:52:37.976 - NOMAD.local_route_choice_manager - INFO - Creating a walk level local route choice manager using WalkLevelRouteChoiceIterativeComputer\n",
      "2021/07/16 04:52:59.632 - NOMAD.local_route_choice_manager - INFO - Finished creating local route choice manager in 21.655507564544678 seconds\n",
      "2021/07/16 04:52:59.644 - NOMAD.nomad_model - INFO - Model created with PedestrianManagerAttr with pedClass = attrPedOpt\n"
     ]
    },
    {
     "name": "stdout",
     "output_type": "stream",
     "text": [
      "==================================\n",
      "..................................\n",
      "Simulation done. Processing data... done\n",
      "Checking convergence... done\n",
      "Runnig replication 65 with seed = 844\n"
     ]
    },
    {
     "name": "stderr",
     "output_type": "stream",
     "text": [
      "2021/07/16 04:57:12.219 - NOMAD.local_route_choice_manager - INFO - Creating the local route choice manager using LocalRouteChoiceIterativeComputer\n",
      "2021/07/16 04:57:12.219 - NOMAD.local_route_choice_manager - INFO - Creating a walk level local route choice manager using WalkLevelRouteChoiceIterativeComputer\n",
      "2021/07/16 04:57:34.384 - NOMAD.local_route_choice_manager - INFO - Finished creating local route choice manager in 22.1646785736084 seconds\n",
      "2021/07/16 04:57:34.391 - NOMAD.nomad_model - INFO - Model created with PedestrianManagerAttr with pedClass = attrPedOpt\n"
     ]
    },
    {
     "name": "stdout",
     "output_type": "stream",
     "text": [
      "==================================\n",
      "..................................\n",
      "Simulation done. Processing data... done\n",
      "Runnig replication 66 with seed = 123\n"
     ]
    },
    {
     "name": "stderr",
     "output_type": "stream",
     "text": [
      "2021/07/16 05:01:50.917 - NOMAD.local_route_choice_manager - INFO - Creating the local route choice manager using LocalRouteChoiceIterativeComputer\n",
      "2021/07/16 05:01:50.917 - NOMAD.local_route_choice_manager - INFO - Creating a walk level local route choice manager using WalkLevelRouteChoiceIterativeComputer\n",
      "2021/07/16 05:02:12.299 - NOMAD.local_route_choice_manager - INFO - Finished creating local route choice manager in 21.382254362106323 seconds\n",
      "2021/07/16 05:02:12.319 - NOMAD.nomad_model - INFO - Model created with PedestrianManagerAttr with pedClass = attrPedOpt\n"
     ]
    },
    {
     "name": "stdout",
     "output_type": "stream",
     "text": [
      "==================================\n",
      "..................................\n",
      "Simulation done. Processing data... done\n",
      "Runnig replication 67 with seed = 1788\n"
     ]
    },
    {
     "name": "stderr",
     "output_type": "stream",
     "text": [
      "2021/07/16 05:06:36.007 - NOMAD.local_route_choice_manager - INFO - Creating the local route choice manager using LocalRouteChoiceIterativeComputer\n",
      "2021/07/16 05:06:36.007 - NOMAD.local_route_choice_manager - INFO - Creating a walk level local route choice manager using WalkLevelRouteChoiceIterativeComputer\n",
      "2021/07/16 05:06:57.136 - NOMAD.local_route_choice_manager - INFO - Finished creating local route choice manager in 21.128732681274414 seconds\n",
      "2021/07/16 05:06:57.146 - NOMAD.nomad_model - INFO - Model created with PedestrianManagerAttr with pedClass = attrPedOpt\n"
     ]
    },
    {
     "name": "stdout",
     "output_type": "stream",
     "text": [
      "==================================\n",
      "..................................\n",
      "Simulation done. Processing data... done\n",
      "Runnig replication 68 with seed = 3888\n"
     ]
    },
    {
     "name": "stderr",
     "output_type": "stream",
     "text": [
      "2021/07/16 05:11:10.390 - NOMAD.local_route_choice_manager - INFO - Creating the local route choice manager using LocalRouteChoiceIterativeComputer\n",
      "2021/07/16 05:11:10.390 - NOMAD.local_route_choice_manager - INFO - Creating a walk level local route choice manager using WalkLevelRouteChoiceIterativeComputer\n",
      "2021/07/16 05:11:31.917 - NOMAD.local_route_choice_manager - INFO - Finished creating local route choice manager in 21.527682781219482 seconds\n",
      "2021/07/16 05:11:31.927 - NOMAD.nomad_model - INFO - Model created with PedestrianManagerAttr with pedClass = attrPedOpt\n"
     ]
    },
    {
     "name": "stdout",
     "output_type": "stream",
     "text": [
      "==================================\n",
      "..................................\n",
      "Simulation done. Processing data... done\n",
      "Runnig replication 69 with seed = 2073\n"
     ]
    },
    {
     "name": "stderr",
     "output_type": "stream",
     "text": [
      "2021/07/16 05:15:49.395 - NOMAD.local_route_choice_manager - INFO - Creating the local route choice manager using LocalRouteChoiceIterativeComputer\n",
      "2021/07/16 05:15:49.403 - NOMAD.local_route_choice_manager - INFO - Creating a walk level local route choice manager using WalkLevelRouteChoiceIterativeComputer\n",
      "2021/07/16 05:16:10.781 - NOMAD.local_route_choice_manager - INFO - Finished creating local route choice manager in 21.37802243232727 seconds\n",
      "2021/07/16 05:16:10.789 - NOMAD.nomad_model - INFO - Model created with PedestrianManagerAttr with pedClass = attrPedOpt\n"
     ]
    },
    {
     "name": "stdout",
     "output_type": "stream",
     "text": [
      "==================================\n",
      "..................................\n",
      "Simulation done. Processing data... done\n",
      "Checking convergence... done\n",
      "Runnig replication 70 with seed = 1357\n"
     ]
    },
    {
     "name": "stderr",
     "output_type": "stream",
     "text": [
      "2021/07/16 05:20:19.194 - NOMAD.local_route_choice_manager - INFO - Creating the local route choice manager using LocalRouteChoiceIterativeComputer\n",
      "2021/07/16 05:20:19.194 - NOMAD.local_route_choice_manager - INFO - Creating a walk level local route choice manager using WalkLevelRouteChoiceIterativeComputer\n",
      "2021/07/16 05:20:40.752 - NOMAD.local_route_choice_manager - INFO - Finished creating local route choice manager in 21.558241367340088 seconds\n",
      "2021/07/16 05:20:40.752 - NOMAD.nomad_model - INFO - Model created with PedestrianManagerAttr with pedClass = attrPedOpt\n"
     ]
    },
    {
     "name": "stdout",
     "output_type": "stream",
     "text": [
      "==================================\n",
      "..................................\n",
      "Simulation done. Processing data... done\n",
      "Runnig replication 71 with seed = 2000\n"
     ]
    },
    {
     "name": "stderr",
     "output_type": "stream",
     "text": [
      "2021/07/16 05:25:00.194 - NOMAD.local_route_choice_manager - INFO - Creating the local route choice manager using LocalRouteChoiceIterativeComputer\n",
      "2021/07/16 05:25:00.194 - NOMAD.local_route_choice_manager - INFO - Creating a walk level local route choice manager using WalkLevelRouteChoiceIterativeComputer\n",
      "2021/07/16 05:25:21.511 - NOMAD.local_route_choice_manager - INFO - Finished creating local route choice manager in 21.31708335876465 seconds\n",
      "2021/07/16 05:25:21.531 - NOMAD.nomad_model - INFO - Model created with PedestrianManagerAttr with pedClass = attrPedOpt\n"
     ]
    },
    {
     "name": "stdout",
     "output_type": "stream",
     "text": [
      "==================================\n",
      "..................................\n",
      "Simulation done. Processing data... done\n",
      "Runnig replication 72 with seed = 2691\n"
     ]
    },
    {
     "name": "stderr",
     "output_type": "stream",
     "text": [
      "2021/07/16 05:29:32.628 - NOMAD.local_route_choice_manager - INFO - Creating the local route choice manager using LocalRouteChoiceIterativeComputer\n",
      "2021/07/16 05:29:32.630 - NOMAD.local_route_choice_manager - INFO - Creating a walk level local route choice manager using WalkLevelRouteChoiceIterativeComputer\n",
      "2021/07/16 05:29:54.016 - NOMAD.local_route_choice_manager - INFO - Finished creating local route choice manager in 21.386369943618774 seconds\n",
      "2021/07/16 05:29:54.036 - NOMAD.nomad_model - INFO - Model created with PedestrianManagerAttr with pedClass = attrPedOpt\n"
     ]
    },
    {
     "name": "stdout",
     "output_type": "stream",
     "text": [
      "==================================\n",
      "..................................\n",
      "Simulation done. Processing data... done\n",
      "Runnig replication 73 with seed = 2009\n"
     ]
    },
    {
     "name": "stderr",
     "output_type": "stream",
     "text": [
      "2021/07/16 05:34:08.781 - NOMAD.local_route_choice_manager - INFO - Creating the local route choice manager using LocalRouteChoiceIterativeComputer\n",
      "2021/07/16 05:34:08.781 - NOMAD.local_route_choice_manager - INFO - Creating a walk level local route choice manager using WalkLevelRouteChoiceIterativeComputer\n",
      "2021/07/16 05:34:30.046 - NOMAD.local_route_choice_manager - INFO - Finished creating local route choice manager in 21.265515565872192 seconds\n",
      "2021/07/16 05:34:30.046 - NOMAD.nomad_model - INFO - Model created with PedestrianManagerAttr with pedClass = attrPedOpt\n"
     ]
    },
    {
     "name": "stdout",
     "output_type": "stream",
     "text": [
      "==================================\n",
      "..................................\n",
      "Simulation done. Processing data... done\n",
      "Runnig replication 74 with seed = 3895\n"
     ]
    },
    {
     "name": "stderr",
     "output_type": "stream",
     "text": [
      "2021/07/16 05:38:47.251 - NOMAD.local_route_choice_manager - INFO - Creating the local route choice manager using LocalRouteChoiceIterativeComputer\n",
      "2021/07/16 05:38:47.251 - NOMAD.local_route_choice_manager - INFO - Creating a walk level local route choice manager using WalkLevelRouteChoiceIterativeComputer\n",
      "2021/07/16 05:39:09.120 - NOMAD.local_route_choice_manager - INFO - Finished creating local route choice manager in 21.86811900138855 seconds\n",
      "2021/07/16 05:39:09.132 - NOMAD.nomad_model - INFO - Model created with PedestrianManagerAttr with pedClass = attrPedOpt\n"
     ]
    },
    {
     "name": "stdout",
     "output_type": "stream",
     "text": [
      "==================================\n",
      "..................................\n",
      "Simulation done. Processing data... done\n",
      "Checking convergence... done\n",
      "Runnig replication 75 with seed = 2879\n"
     ]
    },
    {
     "name": "stderr",
     "output_type": "stream",
     "text": [
      "2021/07/16 05:43:21.914 - NOMAD.local_route_choice_manager - INFO - Creating the local route choice manager using LocalRouteChoiceIterativeComputer\n",
      "2021/07/16 05:43:21.914 - NOMAD.local_route_choice_manager - INFO - Creating a walk level local route choice manager using WalkLevelRouteChoiceIterativeComputer\n",
      "2021/07/16 05:43:43.595 - NOMAD.local_route_choice_manager - INFO - Finished creating local route choice manager in 21.681194067001343 seconds\n",
      "2021/07/16 05:43:43.613 - NOMAD.nomad_model - INFO - Model created with PedestrianManagerAttr with pedClass = attrPedOpt\n"
     ]
    },
    {
     "name": "stdout",
     "output_type": "stream",
     "text": [
      "==================================\n",
      "..................................\n",
      "Simulation done. Processing data... done\n",
      "Runnig replication 76 with seed = 3666\n"
     ]
    },
    {
     "name": "stderr",
     "output_type": "stream",
     "text": [
      "2021/07/16 05:47:51.133 - NOMAD.local_route_choice_manager - INFO - Creating the local route choice manager using LocalRouteChoiceIterativeComputer\n",
      "2021/07/16 05:47:51.133 - NOMAD.local_route_choice_manager - INFO - Creating a walk level local route choice manager using WalkLevelRouteChoiceIterativeComputer\n",
      "2021/07/16 05:48:12.660 - NOMAD.local_route_choice_manager - INFO - Finished creating local route choice manager in 21.526204109191895 seconds\n",
      "2021/07/16 05:48:12.662 - NOMAD.nomad_model - INFO - Model created with PedestrianManagerAttr with pedClass = attrPedOpt\n"
     ]
    },
    {
     "name": "stdout",
     "output_type": "stream",
     "text": [
      "==================================\n",
      "..................................\n",
      "Simulation done. Processing data... done\n",
      "Runnig replication 77 with seed = 2164\n"
     ]
    },
    {
     "name": "stderr",
     "output_type": "stream",
     "text": [
      "2021/07/16 05:52:19.236 - NOMAD.local_route_choice_manager - INFO - Creating the local route choice manager using LocalRouteChoiceIterativeComputer\n",
      "2021/07/16 05:52:19.238 - NOMAD.local_route_choice_manager - INFO - Creating a walk level local route choice manager using WalkLevelRouteChoiceIterativeComputer\n",
      "2021/07/16 05:52:40.662 - NOMAD.local_route_choice_manager - INFO - Finished creating local route choice manager in 21.424001455307007 seconds\n",
      "2021/07/16 05:52:40.664 - NOMAD.nomad_model - INFO - Model created with PedestrianManagerAttr with pedClass = attrPedOpt\n"
     ]
    },
    {
     "name": "stdout",
     "output_type": "stream",
     "text": [
      "==================================\n",
      "..................................\n",
      "Simulation done. Processing data... done\n",
      "Runnig replication 78 with seed = 2778\n"
     ]
    },
    {
     "name": "stderr",
     "output_type": "stream",
     "text": [
      "2021/07/16 05:56:53.016 - NOMAD.local_route_choice_manager - INFO - Creating the local route choice manager using LocalRouteChoiceIterativeComputer\n",
      "2021/07/16 05:56:53.016 - NOMAD.local_route_choice_manager - INFO - Creating a walk level local route choice manager using WalkLevelRouteChoiceIterativeComputer\n",
      "2021/07/16 05:57:14.713 - NOMAD.local_route_choice_manager - INFO - Finished creating local route choice manager in 21.696823835372925 seconds\n",
      "2021/07/16 05:57:14.715 - NOMAD.nomad_model - INFO - Model created with PedestrianManagerAttr with pedClass = attrPedOpt\n"
     ]
    },
    {
     "name": "stdout",
     "output_type": "stream",
     "text": [
      "==================================\n",
      "..................................\n",
      "Simulation done. Processing data... done\n",
      "Runnig replication 79 with seed = 591\n"
     ]
    },
    {
     "name": "stderr",
     "output_type": "stream",
     "text": [
      "2021/07/16 06:01:31.618 - NOMAD.local_route_choice_manager - INFO - Creating the local route choice manager using LocalRouteChoiceIterativeComputer\n",
      "2021/07/16 06:01:31.618 - NOMAD.local_route_choice_manager - INFO - Creating a walk level local route choice manager using WalkLevelRouteChoiceIterativeComputer\n",
      "2021/07/16 06:01:53.490 - NOMAD.local_route_choice_manager - INFO - Finished creating local route choice manager in 21.87178087234497 seconds\n",
      "2021/07/16 06:01:53.500 - NOMAD.nomad_model - INFO - Model created with PedestrianManagerAttr with pedClass = attrPedOpt\n"
     ]
    },
    {
     "name": "stdout",
     "output_type": "stream",
     "text": [
      "==================================\n",
      "..................................\n",
      "Simulation done. Processing data... done\n",
      "Checking convergence... done\n",
      "Runnig replication 80 with seed = 2481\n"
     ]
    },
    {
     "name": "stderr",
     "output_type": "stream",
     "text": [
      "2021/07/16 06:06:17.130 - NOMAD.local_route_choice_manager - INFO - Creating the local route choice manager using LocalRouteChoiceIterativeComputer\n",
      "2021/07/16 06:06:17.130 - NOMAD.local_route_choice_manager - INFO - Creating a walk level local route choice manager using WalkLevelRouteChoiceIterativeComputer\n",
      "2021/07/16 06:06:38.912 - NOMAD.local_route_choice_manager - INFO - Finished creating local route choice manager in 21.781471252441406 seconds\n",
      "2021/07/16 06:06:38.920 - NOMAD.nomad_model - INFO - Model created with PedestrianManagerAttr with pedClass = attrPedOpt\n"
     ]
    },
    {
     "name": "stdout",
     "output_type": "stream",
     "text": [
      "==================================\n",
      "..................................\n",
      "Simulation done. Processing data... done\n",
      "Runnig replication 81 with seed = 2777\n"
     ]
    },
    {
     "name": "stderr",
     "output_type": "stream",
     "text": [
      "2021/07/16 06:10:54.325 - NOMAD.local_route_choice_manager - INFO - Creating the local route choice manager using LocalRouteChoiceIterativeComputer\n",
      "2021/07/16 06:10:54.325 - NOMAD.local_route_choice_manager - INFO - Creating a walk level local route choice manager using WalkLevelRouteChoiceIterativeComputer\n",
      "2021/07/16 06:11:16.254 - NOMAD.local_route_choice_manager - INFO - Finished creating local route choice manager in 21.92914605140686 seconds\n",
      "2021/07/16 06:11:16.254 - NOMAD.nomad_model - INFO - Model created with PedestrianManagerAttr with pedClass = attrPedOpt\n"
     ]
    },
    {
     "name": "stdout",
     "output_type": "stream",
     "text": [
      "==================================\n",
      "..................................\n",
      "Simulation done. Processing data... done\n",
      "Runnig replication 82 with seed = 848\n"
     ]
    },
    {
     "name": "stderr",
     "output_type": "stream",
     "text": [
      "2021/07/16 06:15:53.944 - NOMAD.local_route_choice_manager - INFO - Creating the local route choice manager using LocalRouteChoiceIterativeComputer\n",
      "2021/07/16 06:15:53.944 - NOMAD.local_route_choice_manager - INFO - Creating a walk level local route choice manager using WalkLevelRouteChoiceIterativeComputer\n",
      "2021/07/16 06:16:15.754 - NOMAD.local_route_choice_manager - INFO - Finished creating local route choice manager in 21.809868574142456 seconds\n",
      "2021/07/16 06:16:15.764 - NOMAD.nomad_model - INFO - Model created with PedestrianManagerAttr with pedClass = attrPedOpt\n"
     ]
    },
    {
     "name": "stdout",
     "output_type": "stream",
     "text": [
      "==================================\n",
      "..................................\n",
      "Simulation done. Processing data... done\n",
      "Runnig replication 83 with seed = 44\n"
     ]
    },
    {
     "name": "stderr",
     "output_type": "stream",
     "text": [
      "2021/07/16 06:20:33.054 - NOMAD.local_route_choice_manager - INFO - Creating the local route choice manager using LocalRouteChoiceIterativeComputer\n",
      "2021/07/16 06:20:33.056 - NOMAD.local_route_choice_manager - INFO - Creating a walk level local route choice manager using WalkLevelRouteChoiceIterativeComputer\n",
      "2021/07/16 06:20:54.453 - NOMAD.local_route_choice_manager - INFO - Finished creating local route choice manager in 21.397016525268555 seconds\n",
      "2021/07/16 06:20:54.453 - NOMAD.nomad_model - INFO - Model created with PedestrianManagerAttr with pedClass = attrPedOpt\n"
     ]
    },
    {
     "name": "stdout",
     "output_type": "stream",
     "text": [
      "==================================\n",
      "..................................\n",
      "Simulation done. Processing data... done\n",
      "Runnig replication 84 with seed = 3755\n"
     ]
    },
    {
     "name": "stderr",
     "output_type": "stream",
     "text": [
      "2021/07/16 06:24:58.383 - NOMAD.local_route_choice_manager - INFO - Creating the local route choice manager using LocalRouteChoiceIterativeComputer\n",
      "2021/07/16 06:24:58.401 - NOMAD.local_route_choice_manager - INFO - Creating a walk level local route choice manager using WalkLevelRouteChoiceIterativeComputer\n",
      "2021/07/16 06:25:20.184 - NOMAD.local_route_choice_manager - INFO - Finished creating local route choice manager in 21.78376269340515 seconds\n",
      "2021/07/16 06:25:20.194 - NOMAD.nomad_model - INFO - Model created with PedestrianManagerAttr with pedClass = attrPedOpt\n"
     ]
    },
    {
     "name": "stdout",
     "output_type": "stream",
     "text": [
      "==================================\n",
      "..................................\n",
      "Simulation done. Processing data... done\n",
      "Checking convergence... done\n",
      "Runnig replication 85 with seed = 2567\n"
     ]
    },
    {
     "name": "stderr",
     "output_type": "stream",
     "text": [
      "2021/07/16 06:29:36.544 - NOMAD.local_route_choice_manager - INFO - Creating the local route choice manager using LocalRouteChoiceIterativeComputer\n",
      "2021/07/16 06:29:36.544 - NOMAD.local_route_choice_manager - INFO - Creating a walk level local route choice manager using WalkLevelRouteChoiceIterativeComputer\n",
      "2021/07/16 06:29:58.314 - NOMAD.local_route_choice_manager - INFO - Finished creating local route choice manager in 21.769754886627197 seconds\n",
      "2021/07/16 06:29:58.316 - NOMAD.nomad_model - INFO - Model created with PedestrianManagerAttr with pedClass = attrPedOpt\n"
     ]
    },
    {
     "name": "stdout",
     "output_type": "stream",
     "text": [
      "==================================\n",
      "..................................\n",
      "Simulation done. Processing data... done\n",
      "Runnig replication 86 with seed = 2625\n"
     ]
    },
    {
     "name": "stderr",
     "output_type": "stream",
     "text": [
      "2021/07/16 06:34:16.305 - NOMAD.local_route_choice_manager - INFO - Creating the local route choice manager using LocalRouteChoiceIterativeComputer\n",
      "2021/07/16 06:34:16.305 - NOMAD.local_route_choice_manager - INFO - Creating a walk level local route choice manager using WalkLevelRouteChoiceIterativeComputer\n",
      "2021/07/16 06:34:38.297 - NOMAD.local_route_choice_manager - INFO - Finished creating local route choice manager in 21.99183416366577 seconds\n",
      "2021/07/16 06:34:38.307 - NOMAD.nomad_model - INFO - Model created with PedestrianManagerAttr with pedClass = attrPedOpt\n"
     ]
    },
    {
     "name": "stdout",
     "output_type": "stream",
     "text": [
      "==================================\n",
      "..................................\n",
      "Simulation done. Processing data... done\n",
      "Runnig replication 87 with seed = 3266\n"
     ]
    },
    {
     "name": "stderr",
     "output_type": "stream",
     "text": [
      "2021/07/16 06:38:50.134 - NOMAD.local_route_choice_manager - INFO - Creating the local route choice manager using LocalRouteChoiceIterativeComputer\n",
      "2021/07/16 06:38:50.134 - NOMAD.local_route_choice_manager - INFO - Creating a walk level local route choice manager using WalkLevelRouteChoiceIterativeComputer\n",
      "2021/07/16 06:39:11.802 - NOMAD.local_route_choice_manager - INFO - Finished creating local route choice manager in 21.66854214668274 seconds\n",
      "2021/07/16 06:39:11.824 - NOMAD.nomad_model - INFO - Model created with PedestrianManagerAttr with pedClass = attrPedOpt\n"
     ]
    },
    {
     "name": "stdout",
     "output_type": "stream",
     "text": [
      "==================================\n",
      "..................................\n",
      "Simulation done. Processing data... done\n",
      "Runnig replication 88 with seed = 1136\n"
     ]
    },
    {
     "name": "stderr",
     "output_type": "stream",
     "text": [
      "2021/07/16 06:43:26.836 - NOMAD.local_route_choice_manager - INFO - Creating the local route choice manager using LocalRouteChoiceIterativeComputer\n",
      "2021/07/16 06:43:26.836 - NOMAD.local_route_choice_manager - INFO - Creating a walk level local route choice manager using WalkLevelRouteChoiceIterativeComputer\n",
      "2021/07/16 06:43:48.343 - NOMAD.local_route_choice_manager - INFO - Finished creating local route choice manager in 21.507681846618652 seconds\n",
      "2021/07/16 06:43:48.353 - NOMAD.nomad_model - INFO - Model created with PedestrianManagerAttr with pedClass = attrPedOpt\n"
     ]
    },
    {
     "name": "stdout",
     "output_type": "stream",
     "text": [
      "==================================\n",
      "..................................\n",
      "Simulation done. Processing data... done\n",
      "Runnig replication 89 with seed = 479\n"
     ]
    },
    {
     "name": "stderr",
     "output_type": "stream",
     "text": [
      "2021/07/16 06:48:16.352 - NOMAD.local_route_choice_manager - INFO - Creating the local route choice manager using LocalRouteChoiceIterativeComputer\n",
      "2021/07/16 06:48:16.352 - NOMAD.local_route_choice_manager - INFO - Creating a walk level local route choice manager using WalkLevelRouteChoiceIterativeComputer\n",
      "2021/07/16 06:48:37.942 - NOMAD.local_route_choice_manager - INFO - Finished creating local route choice manager in 21.590306282043457 seconds\n",
      "2021/07/16 06:48:37.962 - NOMAD.nomad_model - INFO - Model created with PedestrianManagerAttr with pedClass = attrPedOpt\n"
     ]
    },
    {
     "name": "stdout",
     "output_type": "stream",
     "text": [
      "==================================\n",
      "..................................\n",
      "Simulation done. Processing data... done\n",
      "Checking convergence... done\n",
      "Runnig replication 90 with seed = 2463\n"
     ]
    },
    {
     "name": "stderr",
     "output_type": "stream",
     "text": [
      "2021/07/16 06:52:56.725 - NOMAD.local_route_choice_manager - INFO - Creating the local route choice manager using LocalRouteChoiceIterativeComputer\n",
      "2021/07/16 06:52:56.727 - NOMAD.local_route_choice_manager - INFO - Creating a walk level local route choice manager using WalkLevelRouteChoiceIterativeComputer\n",
      "2021/07/16 06:53:18.851 - NOMAD.local_route_choice_manager - INFO - Finished creating local route choice manager in 22.124749422073364 seconds\n",
      "2021/07/16 06:53:18.851 - NOMAD.nomad_model - INFO - Model created with PedestrianManagerAttr with pedClass = attrPedOpt\n"
     ]
    },
    {
     "name": "stdout",
     "output_type": "stream",
     "text": [
      "==================================\n",
      "..................................\n",
      "Simulation done. Processing data... done\n",
      "Runnig replication 91 with seed = 3254\n"
     ]
    },
    {
     "name": "stderr",
     "output_type": "stream",
     "text": [
      "2021/07/16 06:57:31.782 - NOMAD.local_route_choice_manager - INFO - Creating the local route choice manager using LocalRouteChoiceIterativeComputer\n",
      "2021/07/16 06:57:31.784 - NOMAD.local_route_choice_manager - INFO - Creating a walk level local route choice manager using WalkLevelRouteChoiceIterativeComputer\n",
      "2021/07/16 06:57:53.850 - NOMAD.local_route_choice_manager - INFO - Finished creating local route choice manager in 22.065692901611328 seconds\n",
      "2021/07/16 06:57:53.858 - NOMAD.nomad_model - INFO - Model created with PedestrianManagerAttr with pedClass = attrPedOpt\n"
     ]
    },
    {
     "name": "stdout",
     "output_type": "stream",
     "text": [
      "==================================\n",
      "..................................\n",
      "Simulation done. Processing data... done\n",
      "Runnig replication 92 with seed = 1078\n"
     ]
    },
    {
     "name": "stderr",
     "output_type": "stream",
     "text": [
      "2021/07/16 07:02:15.516 - NOMAD.local_route_choice_manager - INFO - Creating the local route choice manager using LocalRouteChoiceIterativeComputer\n",
      "2021/07/16 07:02:15.518 - NOMAD.local_route_choice_manager - INFO - Creating a walk level local route choice manager using WalkLevelRouteChoiceIterativeComputer\n",
      "2021/07/16 07:02:37.150 - NOMAD.local_route_choice_manager - INFO - Finished creating local route choice manager in 21.63182020187378 seconds\n",
      "2021/07/16 07:02:37.150 - NOMAD.nomad_model - INFO - Model created with PedestrianManagerAttr with pedClass = attrPedOpt\n"
     ]
    },
    {
     "name": "stdout",
     "output_type": "stream",
     "text": [
      "==================================\n",
      "..................................\n",
      "Simulation done. Processing data... done\n",
      "Runnig replication 93 with seed = 3380\n"
     ]
    },
    {
     "name": "stderr",
     "output_type": "stream",
     "text": [
      "2021/07/16 07:07:00.598 - NOMAD.local_route_choice_manager - INFO - Creating the local route choice manager using LocalRouteChoiceIterativeComputer\n",
      "2021/07/16 07:07:00.618 - NOMAD.local_route_choice_manager - INFO - Creating a walk level local route choice manager using WalkLevelRouteChoiceIterativeComputer\n",
      "2021/07/16 07:07:22.108 - NOMAD.local_route_choice_manager - INFO - Finished creating local route choice manager in 21.489786386489868 seconds\n",
      "2021/07/16 07:07:22.118 - NOMAD.nomad_model - INFO - Model created with PedestrianManagerAttr with pedClass = attrPedOpt\n"
     ]
    },
    {
     "name": "stdout",
     "output_type": "stream",
     "text": [
      "==================================\n",
      "..................................\n",
      "Simulation done. Processing data... done\n",
      "Runnig replication 94 with seed = 3124\n"
     ]
    },
    {
     "name": "stderr",
     "output_type": "stream",
     "text": [
      "2021/07/16 07:11:43.168 - NOMAD.local_route_choice_manager - INFO - Creating the local route choice manager using LocalRouteChoiceIterativeComputer\n",
      "2021/07/16 07:11:43.168 - NOMAD.local_route_choice_manager - INFO - Creating a walk level local route choice manager using WalkLevelRouteChoiceIterativeComputer\n",
      "2021/07/16 07:12:04.080 - NOMAD.local_route_choice_manager - INFO - Finished creating local route choice manager in 20.912662744522095 seconds\n",
      "2021/07/16 07:12:04.095 - NOMAD.nomad_model - INFO - Model created with PedestrianManagerAttr with pedClass = attrPedOpt\n"
     ]
    },
    {
     "name": "stdout",
     "output_type": "stream",
     "text": [
      "==================================\n",
      "..................................\n",
      "Simulation done. Processing data... done\n",
      "Checking convergence... done\n",
      "Runnig replication 95 with seed = 1537\n"
     ]
    },
    {
     "name": "stderr",
     "output_type": "stream",
     "text": [
      "2021/07/16 07:16:30.797 - NOMAD.local_route_choice_manager - INFO - Creating the local route choice manager using LocalRouteChoiceIterativeComputer\n",
      "2021/07/16 07:16:30.797 - NOMAD.local_route_choice_manager - INFO - Creating a walk level local route choice manager using WalkLevelRouteChoiceIterativeComputer\n",
      "2021/07/16 07:16:52.176 - NOMAD.local_route_choice_manager - INFO - Finished creating local route choice manager in 21.37850832939148 seconds\n",
      "2021/07/16 07:16:52.186 - NOMAD.nomad_model - INFO - Model created with PedestrianManagerAttr with pedClass = attrPedOpt\n"
     ]
    },
    {
     "name": "stdout",
     "output_type": "stream",
     "text": [
      "==================================\n",
      "..................................\n",
      "Simulation done. Processing data... done\n",
      "Runnig replication 96 with seed = 529\n"
     ]
    },
    {
     "name": "stderr",
     "output_type": "stream",
     "text": [
      "2021/07/16 07:21:10.788 - NOMAD.local_route_choice_manager - INFO - Creating the local route choice manager using LocalRouteChoiceIterativeComputer\n",
      "2021/07/16 07:21:10.788 - NOMAD.local_route_choice_manager - INFO - Creating a walk level local route choice manager using WalkLevelRouteChoiceIterativeComputer\n",
      "2021/07/16 07:21:32.290 - NOMAD.local_route_choice_manager - INFO - Finished creating local route choice manager in 21.502357244491577 seconds\n",
      "2021/07/16 07:21:32.300 - NOMAD.nomad_model - INFO - Model created with PedestrianManagerAttr with pedClass = attrPedOpt\n"
     ]
    },
    {
     "name": "stdout",
     "output_type": "stream",
     "text": [
      "==================================\n",
      "..................................\n",
      "Simulation done. Processing data... done\n",
      "Runnig replication 97 with seed = 2072\n"
     ]
    },
    {
     "name": "stderr",
     "output_type": "stream",
     "text": [
      "2021/07/16 07:25:49.922 - NOMAD.local_route_choice_manager - INFO - Creating the local route choice manager using LocalRouteChoiceIterativeComputer\n",
      "2021/07/16 07:25:49.932 - NOMAD.local_route_choice_manager - INFO - Creating a walk level local route choice manager using WalkLevelRouteChoiceIterativeComputer\n",
      "2021/07/16 07:26:11.507 - NOMAD.local_route_choice_manager - INFO - Finished creating local route choice manager in 21.574540853500366 seconds\n",
      "2021/07/16 07:26:11.507 - NOMAD.nomad_model - INFO - Model created with PedestrianManagerAttr with pedClass = attrPedOpt\n"
     ]
    },
    {
     "name": "stdout",
     "output_type": "stream",
     "text": [
      "==================================\n",
      "..................................\n",
      "Simulation done. Processing data... done\n",
      "Runnig replication 98 with seed = 2087\n"
     ]
    },
    {
     "name": "stderr",
     "output_type": "stream",
     "text": [
      "2021/07/16 07:30:23.956 - NOMAD.local_route_choice_manager - INFO - Creating the local route choice manager using LocalRouteChoiceIterativeComputer\n",
      "2021/07/16 07:30:23.958 - NOMAD.local_route_choice_manager - INFO - Creating a walk level local route choice manager using WalkLevelRouteChoiceIterativeComputer\n",
      "2021/07/16 07:30:45.473 - NOMAD.local_route_choice_manager - INFO - Finished creating local route choice manager in 21.514455556869507 seconds\n",
      "2021/07/16 07:30:45.473 - NOMAD.nomad_model - INFO - Model created with PedestrianManagerAttr with pedClass = attrPedOpt\n"
     ]
    },
    {
     "name": "stdout",
     "output_type": "stream",
     "text": [
      "==================================\n",
      "..................................\n",
      "Simulation done. Processing data... done\n",
      "Runnig replication 99 with seed = 1855\n"
     ]
    },
    {
     "name": "stderr",
     "output_type": "stream",
     "text": [
      "2021/07/16 07:34:57.019 - NOMAD.local_route_choice_manager - INFO - Creating the local route choice manager using LocalRouteChoiceIterativeComputer\n",
      "2021/07/16 07:34:57.019 - NOMAD.local_route_choice_manager - INFO - Creating a walk level local route choice manager using WalkLevelRouteChoiceIterativeComputer\n",
      "2021/07/16 07:35:18.539 - NOMAD.local_route_choice_manager - INFO - Finished creating local route choice manager in 21.519928693771362 seconds\n",
      "2021/07/16 07:35:18.539 - NOMAD.nomad_model - INFO - Model created with PedestrianManagerAttr with pedClass = attrPedOpt\n"
     ]
    },
    {
     "name": "stdout",
     "output_type": "stream",
     "text": [
      "==================================\n",
      "..................................\n",
      "Simulation done. Processing data... done\n",
      "Checking convergence... done\n",
      "Runnig replication 100 with seed = 1564\n"
     ]
    },
    {
     "name": "stderr",
     "output_type": "stream",
     "text": [
      "2021/07/16 07:39:29.523 - NOMAD.local_route_choice_manager - INFO - Creating the local route choice manager using LocalRouteChoiceIterativeComputer\n",
      "2021/07/16 07:39:29.523 - NOMAD.local_route_choice_manager - INFO - Creating a walk level local route choice manager using WalkLevelRouteChoiceIterativeComputer\n",
      "2021/07/16 07:39:51.140 - NOMAD.local_route_choice_manager - INFO - Finished creating local route choice manager in 21.616233587265015 seconds\n",
      "2021/07/16 07:39:51.142 - NOMAD.nomad_model - INFO - Model created with PedestrianManagerAttr with pedClass = attrPedOpt\n"
     ]
    },
    {
     "name": "stdout",
     "output_type": "stream",
     "text": [
      "==================================\n",
      "..................................\n",
      "Simulation done. Processing data... done\n",
      "Runnig replication 101 with seed = 2086\n"
     ]
    },
    {
     "name": "stderr",
     "output_type": "stream",
     "text": [
      "2021/07/16 07:44:00.591 - NOMAD.local_route_choice_manager - INFO - Creating the local route choice manager using LocalRouteChoiceIterativeComputer\n",
      "2021/07/16 07:44:00.591 - NOMAD.local_route_choice_manager - INFO - Creating a walk level local route choice manager using WalkLevelRouteChoiceIterativeComputer\n",
      "2021/07/16 07:44:21.848 - NOMAD.local_route_choice_manager - INFO - Finished creating local route choice manager in 21.256739616394043 seconds\n",
      "2021/07/16 07:44:21.878 - NOMAD.nomad_model - INFO - Model created with PedestrianManagerAttr with pedClass = attrPedOpt\n"
     ]
    },
    {
     "name": "stdout",
     "output_type": "stream",
     "text": [
      "==================================\n",
      "..................................\n",
      "Simulation done. Processing data... done\n",
      "Runnig replication 102 with seed = 2936\n"
     ]
    },
    {
     "name": "stderr",
     "output_type": "stream",
     "text": [
      "2021/07/16 07:48:33.531 - NOMAD.local_route_choice_manager - INFO - Creating the local route choice manager using LocalRouteChoiceIterativeComputer\n",
      "2021/07/16 07:48:33.531 - NOMAD.local_route_choice_manager - INFO - Creating a walk level local route choice manager using WalkLevelRouteChoiceIterativeComputer\n",
      "2021/07/16 07:48:55.254 - NOMAD.local_route_choice_manager - INFO - Finished creating local route choice manager in 21.723011255264282 seconds\n",
      "2021/07/16 07:48:55.258 - NOMAD.nomad_model - INFO - Model created with PedestrianManagerAttr with pedClass = attrPedOpt\n"
     ]
    },
    {
     "name": "stdout",
     "output_type": "stream",
     "text": [
      "==================================\n",
      "..................................\n",
      "Simulation done. Processing data... done\n",
      "Runnig replication 103 with seed = 766\n"
     ]
    },
    {
     "name": "stderr",
     "output_type": "stream",
     "text": [
      "2021/07/16 07:53:07.682 - NOMAD.local_route_choice_manager - INFO - Creating the local route choice manager using LocalRouteChoiceIterativeComputer\n",
      "2021/07/16 07:53:07.682 - NOMAD.local_route_choice_manager - INFO - Creating a walk level local route choice manager using WalkLevelRouteChoiceIterativeComputer\n",
      "2021/07/16 07:53:29.059 - NOMAD.local_route_choice_manager - INFO - Finished creating local route choice manager in 21.377529859542847 seconds\n",
      "2021/07/16 07:53:29.069 - NOMAD.nomad_model - INFO - Model created with PedestrianManagerAttr with pedClass = attrPedOpt\n"
     ]
    },
    {
     "name": "stdout",
     "output_type": "stream",
     "text": [
      "==================================\n",
      "..................................\n",
      "Simulation done. Processing data... done\n",
      "Runnig replication 104 with seed = 1785\n"
     ]
    },
    {
     "name": "stderr",
     "output_type": "stream",
     "text": [
      "2021/07/16 07:57:49.899 - NOMAD.local_route_choice_manager - INFO - Creating the local route choice manager using LocalRouteChoiceIterativeComputer\n",
      "2021/07/16 07:57:49.919 - NOMAD.local_route_choice_manager - INFO - Creating a walk level local route choice manager using WalkLevelRouteChoiceIterativeComputer\n",
      "2021/07/16 07:58:12.203 - NOMAD.local_route_choice_manager - INFO - Finished creating local route choice manager in 22.283698558807373 seconds\n",
      "2021/07/16 07:58:12.213 - NOMAD.nomad_model - INFO - Model created with PedestrianManagerAttr with pedClass = attrPedOpt\n"
     ]
    },
    {
     "name": "stdout",
     "output_type": "stream",
     "text": [
      "==================================\n",
      "..................................\n",
      "Simulation done. Processing data... done\n",
      "Checking convergence... done\n",
      "Runnig replication 105 with seed = 990\n"
     ]
    },
    {
     "name": "stderr",
     "output_type": "stream",
     "text": [
      "2021/07/16 08:02:34.191 - NOMAD.local_route_choice_manager - INFO - Creating the local route choice manager using LocalRouteChoiceIterativeComputer\n",
      "2021/07/16 08:02:34.191 - NOMAD.local_route_choice_manager - INFO - Creating a walk level local route choice manager using WalkLevelRouteChoiceIterativeComputer\n",
      "2021/07/16 08:02:55.806 - NOMAD.local_route_choice_manager - INFO - Finished creating local route choice manager in 21.615015029907227 seconds\n",
      "2021/07/16 08:02:55.808 - NOMAD.nomad_model - INFO - Model created with PedestrianManagerAttr with pedClass = attrPedOpt\n"
     ]
    },
    {
     "name": "stdout",
     "output_type": "stream",
     "text": [
      "==================================\n",
      "..................................\n",
      "Simulation done. Processing data... done\n",
      "Runnig replication 106 with seed = 3722\n"
     ]
    },
    {
     "name": "stderr",
     "output_type": "stream",
     "text": [
      "2021/07/16 08:07:15.960 - NOMAD.local_route_choice_manager - INFO - Creating the local route choice manager using LocalRouteChoiceIterativeComputer\n",
      "2021/07/16 08:07:15.960 - NOMAD.local_route_choice_manager - INFO - Creating a walk level local route choice manager using WalkLevelRouteChoiceIterativeComputer\n",
      "2021/07/16 08:07:37.587 - NOMAD.local_route_choice_manager - INFO - Finished creating local route choice manager in 21.627124309539795 seconds\n",
      "2021/07/16 08:07:37.587 - NOMAD.nomad_model - INFO - Model created with PedestrianManagerAttr with pedClass = attrPedOpt\n"
     ]
    },
    {
     "name": "stdout",
     "output_type": "stream",
     "text": [
      "==================================\n",
      "..................................\n",
      "Simulation done. Processing data... done\n",
      "Runnig replication 107 with seed = 1491\n"
     ]
    },
    {
     "name": "stderr",
     "output_type": "stream",
     "text": [
      "2021/07/16 08:11:47.465 - NOMAD.local_route_choice_manager - INFO - Creating the local route choice manager using LocalRouteChoiceIterativeComputer\n",
      "2021/07/16 08:11:47.465 - NOMAD.local_route_choice_manager - INFO - Creating a walk level local route choice manager using WalkLevelRouteChoiceIterativeComputer\n",
      "2021/07/16 08:12:08.805 - NOMAD.local_route_choice_manager - INFO - Finished creating local route choice manager in 21.340203762054443 seconds\n",
      "2021/07/16 08:12:08.805 - NOMAD.nomad_model - INFO - Model created with PedestrianManagerAttr with pedClass = attrPedOpt\n"
     ]
    },
    {
     "name": "stdout",
     "output_type": "stream",
     "text": [
      "==================================\n",
      "..................................\n",
      "Simulation done. Processing data... done\n",
      "Runnig replication 108 with seed = 652\n"
     ]
    },
    {
     "name": "stderr",
     "output_type": "stream",
     "text": [
      "2021/07/16 08:16:25.277 - NOMAD.local_route_choice_manager - INFO - Creating the local route choice manager using LocalRouteChoiceIterativeComputer\n",
      "2021/07/16 08:16:25.286 - NOMAD.local_route_choice_manager - INFO - Creating a walk level local route choice manager using WalkLevelRouteChoiceIterativeComputer\n",
      "2021/07/16 08:16:46.774 - NOMAD.local_route_choice_manager - INFO - Finished creating local route choice manager in 21.488104820251465 seconds\n",
      "2021/07/16 08:16:46.782 - NOMAD.nomad_model - INFO - Model created with PedestrianManagerAttr with pedClass = attrPedOpt\n"
     ]
    },
    {
     "name": "stdout",
     "output_type": "stream",
     "text": [
      "==================================\n",
      "..................................\n",
      "Simulation done. Processing data... done\n",
      "Runnig replication 109 with seed = 2464\n"
     ]
    },
    {
     "name": "stderr",
     "output_type": "stream",
     "text": [
      "2021/07/16 08:21:01.224 - NOMAD.local_route_choice_manager - INFO - Creating the local route choice manager using LocalRouteChoiceIterativeComputer\n",
      "2021/07/16 08:21:01.224 - NOMAD.local_route_choice_manager - INFO - Creating a walk level local route choice manager using WalkLevelRouteChoiceIterativeComputer\n",
      "2021/07/16 08:21:22.973 - NOMAD.local_route_choice_manager - INFO - Finished creating local route choice manager in 21.748942613601685 seconds\n",
      "2021/07/16 08:21:22.995 - NOMAD.nomad_model - INFO - Model created with PedestrianManagerAttr with pedClass = attrPedOpt\n"
     ]
    },
    {
     "name": "stdout",
     "output_type": "stream",
     "text": [
      "==================================\n",
      "..................................\n",
      "Simulation done. Processing data... done\n",
      "Checking convergence... done\n",
      "Runnig replication 110 with seed = 1173\n"
     ]
    },
    {
     "name": "stderr",
     "output_type": "stream",
     "text": [
      "2021/07/16 08:25:33.862 - NOMAD.local_route_choice_manager - INFO - Creating the local route choice manager using LocalRouteChoiceIterativeComputer\n",
      "2021/07/16 08:25:33.872 - NOMAD.local_route_choice_manager - INFO - Creating a walk level local route choice manager using WalkLevelRouteChoiceIterativeComputer\n",
      "2021/07/16 08:25:55.371 - NOMAD.local_route_choice_manager - INFO - Finished creating local route choice manager in 21.49919629096985 seconds\n",
      "2021/07/16 08:25:55.381 - NOMAD.nomad_model - INFO - Model created with PedestrianManagerAttr with pedClass = attrPedOpt\n"
     ]
    },
    {
     "name": "stdout",
     "output_type": "stream",
     "text": [
      "==================================\n",
      "..................................\n",
      "Simulation done. Processing data... done\n",
      "Runnig replication 111 with seed = 182\n"
     ]
    },
    {
     "name": "stderr",
     "output_type": "stream",
     "text": [
      "2021/07/16 08:30:07.240 - NOMAD.local_route_choice_manager - INFO - Creating the local route choice manager using LocalRouteChoiceIterativeComputer\n",
      "2021/07/16 08:30:07.250 - NOMAD.local_route_choice_manager - INFO - Creating a walk level local route choice manager using WalkLevelRouteChoiceIterativeComputer\n",
      "2021/07/16 08:30:28.332 - NOMAD.local_route_choice_manager - INFO - Finished creating local route choice manager in 21.082350492477417 seconds\n",
      "2021/07/16 08:30:28.352 - NOMAD.nomad_model - INFO - Model created with PedestrianManagerAttr with pedClass = attrPedOpt\n"
     ]
    },
    {
     "name": "stdout",
     "output_type": "stream",
     "text": [
      "==================================\n",
      "..................................\n",
      "Simulation done. Processing data... done\n",
      "Runnig replication 112 with seed = 3000\n"
     ]
    },
    {
     "name": "stderr",
     "output_type": "stream",
     "text": [
      "2021/07/16 08:34:40.504 - NOMAD.local_route_choice_manager - INFO - Creating the local route choice manager using LocalRouteChoiceIterativeComputer\n",
      "2021/07/16 08:34:40.506 - NOMAD.local_route_choice_manager - INFO - Creating a walk level local route choice manager using WalkLevelRouteChoiceIterativeComputer\n",
      "2021/07/16 08:35:02.616 - NOMAD.local_route_choice_manager - INFO - Finished creating local route choice manager in 22.10992932319641 seconds\n",
      "2021/07/16 08:35:02.616 - NOMAD.nomad_model - INFO - Model created with PedestrianManagerAttr with pedClass = attrPedOpt\n"
     ]
    },
    {
     "name": "stdout",
     "output_type": "stream",
     "text": [
      "==================================\n",
      "..................................\n",
      "Simulation done. Processing data... done\n",
      "Runnig replication 113 with seed = 3621\n"
     ]
    },
    {
     "name": "stderr",
     "output_type": "stream",
     "text": [
      "2021/07/16 08:39:21.847 - NOMAD.local_route_choice_manager - INFO - Creating the local route choice manager using LocalRouteChoiceIterativeComputer\n",
      "2021/07/16 08:39:21.849 - NOMAD.local_route_choice_manager - INFO - Creating a walk level local route choice manager using WalkLevelRouteChoiceIterativeComputer\n",
      "2021/07/16 08:39:43.208 - NOMAD.local_route_choice_manager - INFO - Finished creating local route choice manager in 21.35870885848999 seconds\n",
      "2021/07/16 08:39:43.216 - NOMAD.nomad_model - INFO - Model created with PedestrianManagerAttr with pedClass = attrPedOpt\n"
     ]
    },
    {
     "name": "stdout",
     "output_type": "stream",
     "text": [
      "==================================\n",
      "..................................\n",
      "Simulation done. Processing data... done\n",
      "Runnig replication 114 with seed = 2632\n"
     ]
    },
    {
     "name": "stderr",
     "output_type": "stream",
     "text": [
      "2021/07/16 08:44:06.121 - NOMAD.local_route_choice_manager - INFO - Creating the local route choice manager using LocalRouteChoiceIterativeComputer\n",
      "2021/07/16 08:44:06.131 - NOMAD.local_route_choice_manager - INFO - Creating a walk level local route choice manager using WalkLevelRouteChoiceIterativeComputer\n",
      "2021/07/16 08:44:27.246 - NOMAD.local_route_choice_manager - INFO - Finished creating local route choice manager in 21.114908933639526 seconds\n",
      "2021/07/16 08:44:27.246 - NOMAD.nomad_model - INFO - Model created with PedestrianManagerAttr with pedClass = attrPedOpt\n"
     ]
    },
    {
     "name": "stdout",
     "output_type": "stream",
     "text": [
      "==================================\n",
      "..................................\n",
      "Simulation done. Processing data... done\n",
      "Checking convergence... done\n",
      "Runnig replication 115 with seed = 1434\n"
     ]
    },
    {
     "name": "stderr",
     "output_type": "stream",
     "text": [
      "2021/07/16 08:48:50.714 - NOMAD.local_route_choice_manager - INFO - Creating the local route choice manager using LocalRouteChoiceIterativeComputer\n",
      "2021/07/16 08:48:50.714 - NOMAD.local_route_choice_manager - INFO - Creating a walk level local route choice manager using WalkLevelRouteChoiceIterativeComputer\n",
      "2021/07/16 08:49:12.041 - NOMAD.local_route_choice_manager - INFO - Finished creating local route choice manager in 21.32719659805298 seconds\n",
      "2021/07/16 08:49:12.043 - NOMAD.nomad_model - INFO - Model created with PedestrianManagerAttr with pedClass = attrPedOpt\n"
     ]
    },
    {
     "name": "stdout",
     "output_type": "stream",
     "text": [
      "==================================\n",
      "..................................\n",
      "Simulation done. Processing data... done\n",
      "Runnig replication 116 with seed = 1472\n"
     ]
    },
    {
     "name": "stderr",
     "output_type": "stream",
     "text": [
      "2021/07/16 08:53:27.032 - NOMAD.local_route_choice_manager - INFO - Creating the local route choice manager using LocalRouteChoiceIterativeComputer\n",
      "2021/07/16 08:53:27.044 - NOMAD.local_route_choice_manager - INFO - Creating a walk level local route choice manager using WalkLevelRouteChoiceIterativeComputer\n",
      "2021/07/16 08:53:48.793 - NOMAD.local_route_choice_manager - INFO - Finished creating local route choice manager in 21.74912667274475 seconds\n",
      "2021/07/16 08:53:48.803 - NOMAD.nomad_model - INFO - Model created with PedestrianManagerAttr with pedClass = attrPedOpt\n"
     ]
    },
    {
     "name": "stdout",
     "output_type": "stream",
     "text": [
      "==================================\n",
      "..................................\n",
      "Simulation done. Processing data... done\n",
      "Runnig replication 117 with seed = 3487\n"
     ]
    },
    {
     "name": "stderr",
     "output_type": "stream",
     "text": [
      "2021/07/16 08:58:08.106 - NOMAD.local_route_choice_manager - INFO - Creating the local route choice manager using LocalRouteChoiceIterativeComputer\n",
      "2021/07/16 08:58:08.106 - NOMAD.local_route_choice_manager - INFO - Creating a walk level local route choice manager using WalkLevelRouteChoiceIterativeComputer\n",
      "2021/07/16 08:58:29.543 - NOMAD.local_route_choice_manager - INFO - Finished creating local route choice manager in 21.437202215194702 seconds\n",
      "2021/07/16 08:58:29.553 - NOMAD.nomad_model - INFO - Model created with PedestrianManagerAttr with pedClass = attrPedOpt\n"
     ]
    },
    {
     "name": "stdout",
     "output_type": "stream",
     "text": [
      "==================================\n",
      "..................................\n",
      "Simulation done. Processing data... done\n",
      "Runnig replication 118 with seed = 945\n"
     ]
    },
    {
     "name": "stderr",
     "output_type": "stream",
     "text": [
      "2021/07/16 09:02:41.221 - NOMAD.local_route_choice_manager - INFO - Creating the local route choice manager using LocalRouteChoiceIterativeComputer\n",
      "2021/07/16 09:02:41.221 - NOMAD.local_route_choice_manager - INFO - Creating a walk level local route choice manager using WalkLevelRouteChoiceIterativeComputer\n",
      "2021/07/16 09:03:02.800 - NOMAD.local_route_choice_manager - INFO - Finished creating local route choice manager in 21.57900643348694 seconds\n",
      "2021/07/16 09:03:02.810 - NOMAD.nomad_model - INFO - Model created with PedestrianManagerAttr with pedClass = attrPedOpt\n"
     ]
    },
    {
     "name": "stdout",
     "output_type": "stream",
     "text": [
      "==================================\n",
      "..................................\n",
      "Simulation done. Processing data... done\n",
      "Runnig replication 119 with seed = 3415\n"
     ]
    },
    {
     "name": "stderr",
     "output_type": "stream",
     "text": [
      "2021/07/16 09:07:28.633 - NOMAD.local_route_choice_manager - INFO - Creating the local route choice manager using LocalRouteChoiceIterativeComputer\n",
      "2021/07/16 09:07:28.653 - NOMAD.local_route_choice_manager - INFO - Creating a walk level local route choice manager using WalkLevelRouteChoiceIterativeComputer\n",
      "2021/07/16 09:07:50.503 - NOMAD.local_route_choice_manager - INFO - Finished creating local route choice manager in 21.849514722824097 seconds\n",
      "2021/07/16 09:07:50.513 - NOMAD.nomad_model - INFO - Model created with PedestrianManagerAttr with pedClass = attrPedOpt\n"
     ]
    },
    {
     "name": "stdout",
     "output_type": "stream",
     "text": [
      "==================================\n",
      "..................................\n",
      "Simulation done. Processing data... done\n",
      "Checking convergence... done\n",
      "Runnig replication 120 with seed = 1982\n"
     ]
    },
    {
     "name": "stderr",
     "output_type": "stream",
     "text": [
      "2021/07/16 09:12:06.733 - NOMAD.local_route_choice_manager - INFO - Creating the local route choice manager using LocalRouteChoiceIterativeComputer\n",
      "2021/07/16 09:12:06.753 - NOMAD.local_route_choice_manager - INFO - Creating a walk level local route choice manager using WalkLevelRouteChoiceIterativeComputer\n",
      "2021/07/16 09:12:28.732 - NOMAD.local_route_choice_manager - INFO - Finished creating local route choice manager in 21.978763341903687 seconds\n",
      "2021/07/16 09:12:28.732 - NOMAD.nomad_model - INFO - Model created with PedestrianManagerAttr with pedClass = attrPedOpt\n"
     ]
    },
    {
     "name": "stdout",
     "output_type": "stream",
     "text": [
      "==================================\n",
      "..................................\n",
      "Simulation done. Processing data... done\n",
      "Runnig replication 121 with seed = 984\n"
     ]
    },
    {
     "name": "stderr",
     "output_type": "stream",
     "text": [
      "2021/07/16 09:16:48.630 - NOMAD.local_route_choice_manager - INFO - Creating the local route choice manager using LocalRouteChoiceIterativeComputer\n",
      "2021/07/16 09:16:48.630 - NOMAD.local_route_choice_manager - INFO - Creating a walk level local route choice manager using WalkLevelRouteChoiceIterativeComputer\n",
      "2021/07/16 09:17:11.013 - NOMAD.local_route_choice_manager - INFO - Finished creating local route choice manager in 22.382303953170776 seconds\n",
      "2021/07/16 09:17:11.021 - NOMAD.nomad_model - INFO - Model created with PedestrianManagerAttr with pedClass = attrPedOpt\n"
     ]
    },
    {
     "name": "stdout",
     "output_type": "stream",
     "text": [
      "==================================\n",
      "...."
     ]
    }
   ],
   "source": [
    "from contact_analysis import ExperimentRunner, STEPS, P_THRESHOLD\n",
    "from pathlib import Path\n",
    "\n",
    "scenarioXmlFlNm = Path(r'D:\\SurfDrive\\PhD\\Activity scheduler\\Scenarios\\paper_scenarios\\trb_paper_no_shifts.xml')\n",
    "lrcmFlNm = Path(r'D:\\SurfDrive\\PhD\\Activity scheduler\\Scenarios\\paper_scenarios\\trb_paper.lrcm')\n",
    "\n",
    "experimentRunner = ExperimentRunner(scenarioXmlFlNm, lrcmFlNm, init_replications=10, max_replications=2000, \n",
    "                                      convergence_config={STEPS:5, P_THRESHOLD:0.95},\n",
    "                                       cut_off_distances=(1.0, 1.5, 2.0))\n",
    "experimentRunner.run_experiment()\n"
   ]
  }
 ],
 "metadata": {
  "kernelspec": {
   "display_name": "Python 3",
   "language": "python",
   "name": "python3"
  },
  "language_info": {
   "codemirror_mode": {
    "name": "ipython",
    "version": 3
   },
   "file_extension": ".py",
   "mimetype": "text/x-python",
   "name": "python",
   "nbconvert_exporter": "python",
   "pygments_lexer": "ipython3",
   "version": "3.9.5"
  }
 },
 "nbformat": 4,
 "nbformat_minor": 5
}
