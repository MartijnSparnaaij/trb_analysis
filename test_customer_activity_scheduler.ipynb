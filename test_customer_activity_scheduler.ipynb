{
 "cells": [
  {
   "cell_type": "code",
   "execution_count": 1,
   "id": "11f4c399",
   "metadata": {
    "tags": []
   },
   "outputs": [
    {
     "name": "stdout",
     "output_type": "stream",
     "text": [
      "C:\\Users\\martijnsparnaa\\Jupyterlab_notebooks\\trb_analysis\\nomad\n",
      "3a822ba579f4257c3ebfe10e3a137e2acb4157ef: Thu, 15 Jul 2021 13:32 - Merge branch 'master' of C:/Users/martijnsparnaa/Eclipse_Python_NOMAD/nomad_trb_paper\n",
      "\n"
     ]
    }
   ],
   "source": [
    "try:\n",
    "    from git_nomad import pull_nomad\n",
    "except:\n",
    "    import sys; sys.path.insert(0, '..')\n",
    "    from git_nomad import pull_nomad\n",
    "    \n",
    "import socket\n",
    "if socket.gethostname() == 'SPA-DESKTOP':\n",
    "    remote_path = r\"D:\\Work_TU\\Documents\\nomad\"\n",
    "else:\n",
    "    remote_path = r\"C:\\Users\\martijnsparnaa\\Eclipse_Python_NOMAD\\nomad_trb_paper\"\n",
    "repo_path, repo = pull_nomad(remote_path, 'master')\n",
    "print(repo_path.resolve())\n",
    "\n",
    "import os\n",
    "import time\n",
    "os.chdir(repo_path)\n",
    "headcommit = repo.head.commit\n",
    "committed_date = time.strftime(\"%a, %d %b %Y %H:%M\", time.localtime(headcommit.committed_date))\n",
    "print(f'{headcommit}: {committed_date} - {headcommit.message}')"
   ]
  },
  {
   "cell_type": "code",
   "execution_count": 2,
   "id": "cc194e18",
   "metadata": {},
   "outputs": [
    {
     "name": "stdout",
     "output_type": "stream",
     "text": [
      "C:\\Users\\martijnsparnaa\\Jupyterlab_notebooks\\trb_analysis\\nomad\n"
     ]
    }
   ],
   "source": [
    "import os\n",
    "print(os.getcwd())\n",
    "\n",
    "import sys\n",
    "\n",
    "from test_functions import runTest\n",
    "from NOMAD.activities import Sink, Destination\n",
    "from NOMAD.input_manager import DistrValueInput, RestaurantSchedulerInput\n",
    "import numpy as np\n"
   ]
  },
  {
   "cell_type": "code",
   "execution_count": 12,
   "id": "e24cb9ce-1041-47c2-be65-f34854dcf7c3",
   "metadata": {},
   "outputs": [
    {
     "name": "stdout",
     "output_type": "stream",
     "text": [
      "18720.0\n",
      "5.5\n",
      "Mean duration = 5400\n",
      "Group count = 45\n",
      "\n",
      "Group count per table:\n",
      "table_0 = 3\n",
      "table_1 = 3\n",
      "table_2 = 3\n",
      "table_3 = 3\n",
      "table_4 = 3\n",
      "table_5 = 3\n",
      "table_6 = 3\n",
      "table_7 = 3\n",
      "table_8 = 3\n",
      "table_9 = 3\n",
      "table_10 = 3\n",
      "table_11 = 3\n",
      "table_12 = 3\n",
      "table_13 = 3\n",
      "table_14 = 3\n",
      "\n",
      "Group start/end per table:\n",
      "table_0 = (    1.38,  4824.34), ( 6061.19, 11135.31), (12587.97, 17741.77), \n",
      "table_1 = ( 2604.01,  7582.73), ( 7927.14, 13416.34), (14256.76, 19582.18), \n",
      "table_2 = (  233.48,  5729.95), ( 6348.38, 11586.16), (12000.00, 17790.00), \n",
      "table_3 = (  292.36,  5579.67), ( 6137.84, 11668.24), (12007.79, 17787.89), \n",
      "table_4 = (  141.89,  5471.52), ( 6205.99, 11763.36), (12008.47, 17757.86), \n",
      "table_5 = (  902.07,  6373.63), ( 6920.99, 12680.43), (13447.32, 18485.01), \n",
      "table_6 = ( 2362.55,  7519.98), ( 8441.11, 13493.49), (13800.00, 19590.00), \n",
      "table_7 = ( 1800.00,  7590.00), ( 7981.15, 13386.04), (13800.00, 19590.00), \n",
      "table_8 = ( 1844.58,  7557.51), ( 8773.16, 13587.70), (13818.58, 19577.44), \n",
      "table_9 = ( 1953.34,  7402.78), ( 7943.68, 13365.60), (14019.94, 19489.35), \n",
      "table_10 = ( 1009.96,  6540.92), ( 7468.88, 12403.32), (12926.32, 18219.19), \n",
      "table_11 = (  900.00,  6690.00), ( 6900.00, 12690.00), (12900.00, 18690.00), \n",
      "table_12 = ( 1128.93,  6581.60), ( 6960.03, 12174.10), (13212.88, 18398.39), \n",
      "table_13 = (   39.04,  5787.49), ( 6914.74, 11778.31), (12330.07, 17526.37), \n",
      "table_14 = ( 1145.33,  6568.22), ( 7108.38, 12406.21), (12991.41, 18089.96), \n",
      "\n",
      "==================================================\n",
      "\n"
     ]
    }
   ],
   "source": [
    "GROUP_SIZES = (2,2,2,2,2,4,4,4,4,4,4,4,4,4,4)\n",
    "\n",
    "sourceID = None\n",
    "sinkID = 'sink'\n",
    "\n",
    "sinkDest = Destination(f'{sinkID}_dest')\n",
    "destinations = {sinkDest.ID:sinkDest}\n",
    "\n",
    "sittingDestinationGroupIDs = []\n",
    "for ii in range(len(GROUP_SIZES)):\n",
    "    groupID = f'table_{ii}'\n",
    "    sittingDestinationGroupIDs.append(groupID)\n",
    "    for jj in range(GROUP_SIZES[ii]):        \n",
    "        dest = Destination(f'chair_{groupID}_{jj}',groupID=groupID)\n",
    "        destinations[dest.ID] = dest\n",
    "\n",
    "\n",
    "inGroupEntryDistr = None\n",
    "guestPedParamSetDistr = ()\n",
    "useEntranceTimeSlot = False\n",
    "useTablesOnlyOnce = False\n",
    "\n",
    "pedParameterSets = None\n",
    "sources = None\n",
    "sink = Sink(sinkID, sinkDest)\n",
    "activities = {sink.ID:sink}\n",
    "walkLevels = None\n",
    "\n",
    "meanVisitDur = 5400 # [s]\n",
    "stdVisitDur = 300 # [s]\n",
    "visitDurationDistr = DistrValueInput(numpyDistr=getattr(np.random.default_rng(), 'normal'),\n",
    "                                     numpyDistrArgs=(meanVisitDur, stdVisitDur), min=meanVisitDur-2*stdVisitDur, \n",
    "                                     max=meanVisitDur+2*stdVisitDur)\n",
    "\n",
    "print(5.2*60*60)\n",
    "\n",
    "demandPattern = [(0, 18000, 45)]\n",
    "demandPattern = [(    0,  6000, 5),\n",
    "                 (  900,  6900, 5),\n",
    "                 ( 1800,  7800, 5),\n",
    "                 ( 6000, 12000, 5),\n",
    "                 ( 6900, 12900, 5),\n",
    "                 ( 7800, 13800, 5),\n",
    "                 (12000, 18000, 5),\n",
    "                 (12900, 18900, 5),\n",
    "                 (13800, 19800, 5),\n",
    "                ]\n",
    "\n",
    "print(19800/3600)\n",
    "   \n",
    "schedulerInput = RestaurantSchedulerInput(sourceID, sinkID, demandPattern, sittingDestinationGroupIDs,\n",
    "                                          visitDurationDistr, inGroupEntryDistr, guestPedParamSetDistr,\n",
    "                                          useEntranceTimeSlot, useTablesOnlyOnce=useTablesOnlyOnce)\n",
    "\n",
    "runTest(schedulerInput, destinations, pedParameterSets, \n",
    "                                sources, activities, walkLevels)"
   ]
  },
  {
   "cell_type": "code",
   "execution_count": 3,
   "id": "69fdec03",
   "metadata": {},
   "outputs": [],
   "source": [
    "GROUP_SIZES = (2,4,2,8,6)\n",
    "\n",
    "sourceID = None\n",
    "sinkID = 'sink'\n",
    "\n",
    "\n",
    "sinkDest = Destination(f'{sinkID}_dest')\n",
    "destinations = {sinkDest.ID:sinkDest}\n",
    "\n",
    "sittingDestinationGroupIDs = []\n",
    "for ii in range(len(GROUP_SIZES)):\n",
    "    groupID = f'table_{ii}'\n",
    "    sittingDestinationGroupIDs.append(groupID)\n",
    "    for jj in range(GROUP_SIZES[ii]):        \n",
    "        dest = Destination(f'chair_{groupID}_{jj}',groupID=groupID)\n",
    "        destinations[dest.ID] = dest\n",
    "\n",
    "\n",
    "inGroupEntryDistr = None\n",
    "guestPedParamSetDistr = ()\n",
    "useEntranceTimeSlot = False\n",
    "useTablesOnlyOnce = False\n",
    "\n",
    "\n",
    "pedParameterSets = None\n",
    "sources = None\n",
    "sink = Sink(sinkID, sinkDest)\n",
    "activities = {sink.ID:sink}\n",
    "walkLevels = None"
   ]
  },
  {
   "cell_type": "code",
   "execution_count": 16,
   "id": "00388d1d",
   "metadata": {},
   "outputs": [
    {
     "name": "stdout",
     "output_type": "stream",
     "text": [
      "Mean duration = 3600\n",
      "Group count = 15\n",
      "\n",
      "Group count per table:\n",
      "table_0 = 3\n",
      "table_1 = 3\n",
      "table_2 = 3\n",
      "table_3 = 3\n",
      "table_4 = 3\n",
      "\n",
      "Group start/end per table:\n",
      "table_0 = (    0.00,  3450.00), ( 3600.00,  7050.00), ( 7200.00, 10650.00), \n",
      "table_1 = (    0.00,  3450.00), ( 3600.00,  7050.00), ( 7200.00, 10650.00), \n",
      "table_2 = (    0.00,  3450.00), ( 3600.00,  7050.00), ( 7200.91, 10646.87), \n",
      "table_3 = (  132.49,  3385.33), ( 3604.57,  6879.25), ( 7200.15, 10649.67), \n",
      "table_4 = (    0.00,  3450.00), ( 3728.89,  7018.12), ( 7248.65, 10346.30), \n",
      "\n",
      "==================================================\n",
      "\n"
     ]
    }
   ],
   "source": [
    "periodDuration = 60*60\n",
    "groupFactor = 1\n",
    "meanVisitDur = 60*60 # [s]\n",
    "stdVisitDur = 5*60 # [s]\n",
    "visitDurationDistr = DistrValueInput(numpyDistr=getattr(np.random.default_rng(), 'normal'),\n",
    "                                     numpyDistrArgs=(meanVisitDur, stdVisitDur), min=meanVisitDur-2*stdVisitDur)\n",
    "\n",
    "demandPattern = []\n",
    "for ii in range(3):\n",
    "    demandPattern.append((periodDuration*ii, periodDuration*(ii + 1), len(GROUP_SIZES)*groupFactor))\n",
    "\n",
    "schedulerInput = RestaurantSchedulerInput(sourceID, sinkID, demandPattern, sittingDestinationGroupIDs,\n",
    "                                          visitDurationDistr, inGroupEntryDistr, guestPedParamSetDistr,\n",
    "                                          useEntranceTimeSlot, useTablesOnlyOnce=useTablesOnlyOnce)\n",
    "\n",
    "runTest(schedulerInput, destinations, pedParameterSets, \n",
    "                                sources, activities, walkLevels)"
   ]
  },
  {
   "cell_type": "code",
   "execution_count": 17,
   "id": "35787ea0",
   "metadata": {},
   "outputs": [
    {
     "name": "stdout",
     "output_type": "stream",
     "text": [
      "Mean duration = 3000\n",
      "Group count = 15\n",
      "\n",
      "Group count per table:\n",
      "table_0 = 3\n",
      "table_1 = 3\n",
      "table_2 = 3\n",
      "table_3 = 3\n",
      "table_4 = 3\n",
      "\n",
      "Group start/end per table:\n",
      "table_0 = (   33.45,  3316.89), ( 4343.36,  6743.36), ( 7605.59, 10407.36), \n",
      "table_1 = (  142.86,  2840.70), ( 3847.77,  6963.39), ( 7331.20, 10217.24), \n",
      "table_2 = (   46.72,  3324.34), ( 3865.25,  6651.23), ( 7286.61, 10341.34), \n",
      "table_3 = (  215.04,  2876.90), ( 3982.13,  6643.26), ( 7203.04, 10649.26), \n",
      "table_4 = (  748.00,  3170.33), ( 3619.56,  6927.39), ( 7577.62, 10272.57), \n",
      "\n",
      "==================================================\n",
      "\n"
     ]
    }
   ],
   "source": [
    "periodDuration = 60*60\n",
    "groupFactor = 1\n",
    "meanVisitDur = 50*60 # [s]\n",
    "stdVisitDur = 5*60 # [s]\n",
    "visitDurationDistr = DistrValueInput(numpyDistr=getattr(np.random.default_rng(), 'normal'),\n",
    "                                     numpyDistrArgs=(meanVisitDur, stdVisitDur), min=meanVisitDur-2*stdVisitDur)\n",
    "\n",
    "demandPattern = []\n",
    "for ii in range(3):\n",
    "    demandPattern.append((periodDuration*ii, periodDuration*(ii + 1), len(GROUP_SIZES)*groupFactor))\n",
    "\n",
    "schedulerInput = RestaurantSchedulerInput(sourceID, sinkID, demandPattern, sittingDestinationGroupIDs,\n",
    "                                          visitDurationDistr, inGroupEntryDistr, guestPedParamSetDistr,\n",
    "                                          useEntranceTimeSlot, useTablesOnlyOnce=useTablesOnlyOnce)\n",
    "\n",
    "runTest(schedulerInput, destinations, pedParameterSets, \n",
    "                                sources, activities, walkLevels)\n"
   ]
  },
  {
   "cell_type": "code",
   "execution_count": 18,
   "id": "72916349",
   "metadata": {},
   "outputs": [
    {
     "name": "stdout",
     "output_type": "stream",
     "text": [
      "Mean duration = 1800\n",
      "Group count = 30\n",
      "\n",
      "Group count per table:\n",
      "table_0 = 6\n",
      "table_1 = 6\n",
      "table_2 = 6\n",
      "table_3 = 6\n",
      "table_4 = 6\n",
      "\n",
      "Group start/end per table:\n",
      "table_0 = (    0.00,  1650.00), ( 1800.00,  3450.00), ( 3600.00,  5250.00), ( 5400.00,  7050.00), ( 7200.00,  8850.00), ( 9000.00, 10650.00), \n",
      "table_1 = (    0.00,  1650.00), ( 1800.00,  3450.00), ( 3655.27,  5155.27), ( 5400.00,  7050.00), ( 7200.00,  8850.00), ( 9000.00, 10650.00), \n",
      "table_2 = (    0.00,  1650.00), ( 1800.00,  3450.00), ( 3600.00,  5250.00), ( 5400.00,  7050.00), ( 7200.00,  8850.00), ( 9000.00, 10650.00), \n",
      "table_3 = (    0.00,  1650.00), ( 1800.00,  3450.00), ( 3600.00,  5250.00), ( 5400.00,  7050.00), ( 7200.00,  8850.00), ( 9000.00, 10650.00), \n",
      "table_4 = (    0.00,  1650.00), ( 1800.00,  3450.00), ( 3600.00,  5274.60), ( 5424.60,  7011.30), ( 7200.00,  8850.00), ( 9000.00, 10650.00), \n",
      "\n",
      "==================================================\n",
      "\n"
     ]
    }
   ],
   "source": [
    "periodDuration = 60*60\n",
    "groupFactor = 2\n",
    "meanVisitDur = 30*60 # [s]\n",
    "stdVisitDur = 2.5*60 # [s]\n",
    "visitDurationDistr = DistrValueInput(numpyDistr=getattr(np.random.default_rng(), 'normal'),\n",
    "                                     numpyDistrArgs=(meanVisitDur, stdVisitDur), min=meanVisitDur-2*stdVisitDur)\n",
    "\n",
    "\n",
    "demandPattern = []\n",
    "for ii in range(3):\n",
    "    demandPattern.append((periodDuration*ii, periodDuration*(ii + 1), len(GROUP_SIZES)*groupFactor))\n",
    "\n",
    "schedulerInput = RestaurantSchedulerInput(sourceID, sinkID, demandPattern, sittingDestinationGroupIDs,\n",
    "                                          visitDurationDistr, inGroupEntryDistr, guestPedParamSetDistr,\n",
    "                                          useEntranceTimeSlot, useTablesOnlyOnce=useTablesOnlyOnce)\n",
    "\n",
    "runTest(schedulerInput, destinations, pedParameterSets, \n",
    "                                sources, activities, walkLevels)"
   ]
  },
  {
   "cell_type": "code",
   "execution_count": 19,
   "id": "3a33827b",
   "metadata": {},
   "outputs": [
    {
     "name": "stderr",
     "output_type": "stream",
     "text": [
      "Cannot find a free table for 5 of the 5 groups entering at between 0 and 3600\n",
      "Cannot find a free table for 5 of the 5 groups entering at between 7200 and 10800\n"
     ]
    },
    {
     "name": "stdout",
     "output_type": "stream",
     "text": [
      "Mean duration = 5400\n",
      "Group count = 5\n",
      "\n",
      "Group count per table:\n",
      "table_0 = 1\n",
      "table_1 = 1\n",
      "table_2 = 1\n",
      "table_3 = 1\n",
      "table_4 = 1\n",
      "\n",
      "Group start/end per table:\n",
      "table_0 = ( 3600.00,  7050.00), \n",
      "table_1 = ( 3600.00,  7050.00), \n",
      "table_2 = ( 3600.00,  7050.00), \n",
      "table_3 = ( 3600.00,  7050.00), \n",
      "table_4 = ( 3600.00,  7050.00), \n",
      "\n",
      "==================================================\n",
      "\n"
     ]
    }
   ],
   "source": [
    "periodDuration = 60*60\n",
    "groupFactor = 1\n",
    "meanVisitDur = 90*60 # [s]\n",
    "stdVisitDur = 10*60 # [s]\n",
    "visitDurationDistr = DistrValueInput(numpyDistr=getattr(np.random.default_rng(), 'normal'),\n",
    "                                     numpyDistrArgs=(meanVisitDur, stdVisitDur), min=meanVisitDur-2*stdVisitDur)\n",
    "\n",
    "\n",
    "demandPattern = []\n",
    "for ii in range(3):\n",
    "    demandPattern.append((periodDuration*ii, periodDuration*(ii + 1), len(GROUP_SIZES)*groupFactor))\n",
    "\n",
    "schedulerInput = RestaurantSchedulerInput(sourceID, sinkID, demandPattern, sittingDestinationGroupIDs,\n",
    "                                          visitDurationDistr, inGroupEntryDistr, guestPedParamSetDistr,\n",
    "                                          useEntranceTimeSlot, useTablesOnlyOnce=useTablesOnlyOnce)\n",
    "\n",
    "runTest(schedulerInput, destinations, pedParameterSets, \n",
    "                                sources, activities, walkLevels)"
   ]
  },
  {
   "cell_type": "code",
   "execution_count": 20,
   "id": "ab573968",
   "metadata": {},
   "outputs": [
    {
     "name": "stderr",
     "output_type": "stream",
     "text": [
      "Cannot find a free table for 5 of the 5 groups entering at between 0 and 3600\n",
      "Cannot find a free table for 5 of the 5 groups entering at between 7200 and 10800\n"
     ]
    },
    {
     "name": "stdout",
     "output_type": "stream",
     "text": [
      "Mean duration = 5400\n",
      "Group count = 5\n",
      "\n",
      "Group count per table:\n",
      "table_0 = 1\n",
      "table_1 = 1\n",
      "table_2 = 1\n",
      "table_3 = 1\n",
      "table_4 = 1\n",
      "\n",
      "Group start/end per table:\n",
      "table_0 = ( 3600.00,  7050.00), \n",
      "table_1 = ( 3600.00,  7050.00), \n",
      "table_2 = ( 3600.00,  7050.00), \n",
      "table_3 = ( 3600.00,  7050.00), \n",
      "table_4 = ( 3600.00,  7050.00), \n",
      "\n",
      "==================================================\n",
      "\n"
     ]
    }
   ],
   "source": [
    "periodDuration = 60*60\n",
    "groupFactor = 1\n",
    "meanVisitDur = 90*60 # [s]\n",
    "stdVisitDur = 10*60 # [s]\n",
    "visitDurationDistr = DistrValueInput(numpyDistr=getattr(np.random.default_rng(), 'normal'),\n",
    "                                     numpyDistrArgs=(meanVisitDur, stdVisitDur), min=meanVisitDur-2*stdVisitDur)\n",
    "\n",
    "\n",
    "demandPattern = []\n",
    "for ii in range(3):\n",
    "    demandPattern.append((periodDuration*ii, periodDuration*(ii + 1), len(GROUP_SIZES)*groupFactor))\n",
    "\n",
    "schedulerInput = RestaurantSchedulerInput(sourceID, sinkID, demandPattern, sittingDestinationGroupIDs,\n",
    "                                          visitDurationDistr, inGroupEntryDistr, guestPedParamSetDistr,\n",
    "                                          useEntranceTimeSlot, useTablesOnlyOnce=useTablesOnlyOnce)\n",
    "\n",
    "runTest(schedulerInput, destinations, pedParameterSets, \n",
    "                                sources, activities, walkLevels)"
   ]
  },
  {
   "cell_type": "code",
   "execution_count": 9,
   "id": "1c37dcf3",
   "metadata": {},
   "outputs": [
    {
     "name": "stderr",
     "output_type": "stream",
     "text": [
      "Cannot find a free table for 5 of the 5 groups entering at between 0 and 3600\n"
     ]
    },
    {
     "name": "stdout",
     "output_type": "stream",
     "text": [
      "Mean duration = 5400\n",
      "Group count = 10\n",
      "\n",
      "Group count per table:\n",
      "table_0 = 2\n",
      "table_1 = 2\n",
      "table_2 = 2\n",
      "table_3 = 2\n",
      "table_4 = 2\n",
      "\n",
      "Group start/end per table:\n",
      "table_0 = ( 7200.00, 10650.00), (14400.00, 17850.00), \n",
      "table_1 = ( 3600.00,  7050.00), (10800.00, 14250.00), \n",
      "table_2 = (10800.00, 14250.00), (18000.00, 21450.00), \n",
      "table_3 = ( 7200.00, 10650.00), (18000.00, 21450.00), \n",
      "table_4 = ( 3600.00,  7050.00), (14400.00, 17850.00), \n",
      "\n",
      "==================================================\n",
      "\n"
     ]
    }
   ],
   "source": [
    "periodDuration = 60*60\n",
    "groupFactors = [1, 0.3, 0.3, 0.5, 0.3, 0.3]\n",
    "meanVisitDur = 90*60 # [s]\n",
    "stdVisitDur = 10*60 # [s]\n",
    "visitDurationDistr = DistrValueInput(numpyDistr=getattr(np.random.default_rng(), 'normal'),\n",
    "                                     numpyDistrArgs=(meanVisitDur, stdVisitDur), min=meanVisitDur-2*stdVisitDur)\n",
    "\n",
    "\n",
    "demandPattern = []\n",
    "for ii in range(len(groupFactors)):\n",
    "    demandPattern.append((periodDuration*ii, periodDuration*(ii + 1), round(len(GROUP_SIZES)*groupFactors[ii])))\n",
    "\n",
    "schedulerInput = RestaurantSchedulerInput(sourceID, sinkID, demandPattern, sittingDestinationGroupIDs,\n",
    "                                          visitDurationDistr, inGroupEntryDistr, guestPedParamSetDistr,\n",
    "                                          useEntranceTimeSlot, useTablesOnlyOnce=useTablesOnlyOnce)\n",
    "\n",
    "runTest(schedulerInput, destinations, pedParameterSets, \n",
    "                                sources, activities, walkLevels)\n"
   ]
  },
  {
   "cell_type": "code",
   "execution_count": 10,
   "id": "099f2650",
   "metadata": {},
   "outputs": [
    {
     "name": "stderr",
     "output_type": "stream",
     "text": [
      "Cannot find a free table for 5 of the 5 groups entering at between 0 and 3600\n"
     ]
    },
    {
     "name": "stdout",
     "output_type": "stream",
     "text": [
      "Mean duration = 5400\n",
      "Group count = 10\n",
      "\n",
      "Group count per table:\n",
      "table_0 = 2\n",
      "table_1 = 2\n",
      "table_2 = 2\n",
      "table_3 = 2\n",
      "table_4 = 2\n",
      "\n",
      "Group start/end per table:\n",
      "table_0 = ( 7200.00, 10650.00), (18000.00, 21450.00), \n",
      "table_1 = (10800.00, 14250.00), (18000.00, 21450.00), \n",
      "table_2 = ( 3600.00,  7050.00), (14400.00, 17850.00), \n",
      "table_3 = ( 3600.00,  7050.00), (10800.00, 14250.00), \n",
      "table_4 = ( 7200.00, 10650.00), (14400.00, 17850.00), \n",
      "\n",
      "==================================================\n",
      "\n"
     ]
    }
   ],
   "source": [
    "periodDuration = 60*60\n",
    "groupFactors = [1, 0.3, 0.3, 0.5, 0.3, 0.3]\n",
    "meanVisitDur = 90*60 # [s]\n",
    "stdVisitDur = 10*60 # [s]\n",
    "visitDurationDistr = DistrValueInput(numpyDistr=getattr(np.random.default_rng(), 'normal'),\n",
    "                                     numpyDistrArgs=(meanVisitDur, stdVisitDur), min=meanVisitDur-2*stdVisitDur)\n",
    "\n",
    "\n",
    "demandPattern = []\n",
    "for ii in range(len(groupFactors)):\n",
    "    demandPattern.append((periodDuration*ii, periodDuration*(ii + 1), round(len(GROUP_SIZES)*groupFactors[ii])))\n",
    "\n",
    "\n",
    "useEntranceTimeSlot = True\n",
    "entranceTimeSlotDuration = 5*60\n",
    "schedulerInput = RestaurantSchedulerInput(sourceID, sinkID, demandPattern, sittingDestinationGroupIDs,\n",
    "                                          visitDurationDistr, inGroupEntryDistr, guestPedParamSetDistr,\n",
    "                                          useEntranceTimeSlot, useTablesOnlyOnce=useTablesOnlyOnce, \n",
    "                                          entranceTimeSlotDuration=entranceTimeSlotDuration)\n",
    "\n",
    "runTest(schedulerInput, destinations, pedParameterSets, \n",
    "                                sources, activities, walkLevels)"
   ]
  },
  {
   "cell_type": "code",
   "execution_count": 11,
   "id": "06cc78e8",
   "metadata": {},
   "outputs": [
    {
     "name": "stderr",
     "output_type": "stream",
     "text": [
      "Cannot find a free table for 5 of the 5 groups entering at between 0 and 3600\n",
      "Cannot find a free table for 2 of the 5 groups entering at between 21600 and 25200\n",
      "Cannot find a free table for 8 of the 10 groups entering at between 25200 and 28800\n",
      "Cannot find a free table for 7 of the 10 groups entering at between 28800 and 32400\n"
     ]
    },
    {
     "name": "stdout",
     "output_type": "stream",
     "text": [
      "Mean duration = 5400\n",
      "Group count = 14\n",
      "\n",
      "Group count per table:\n",
      "table_0 = 3\n",
      "table_1 = 3\n",
      "table_2 = 3\n",
      "table_3 = 3\n",
      "table_4 = 2\n",
      "\n",
      "Group start/end per table:\n",
      "table_0 = (14400.00, 17850.00), (21600.00, 25050.00), (28800.00, 32250.00), \n",
      "table_1 = (10800.00, 14250.00), (18000.00, 21450.00), (25200.00, 28650.00), \n",
      "table_2 = (14400.00, 17850.00), (21600.00, 25050.00), (28800.00, 32250.00), \n",
      "table_3 = (10800.00, 14250.00), (21600.00, 25050.00), (28800.00, 32250.00), \n",
      "table_4 = (18000.00, 21450.00), (25200.00, 28650.00), \n",
      "\n",
      "==================================================\n",
      "\n"
     ]
    }
   ],
   "source": [
    "periodDuration = 60*60\n",
    "groupFactors = [1, 0, 0, 0.5, 0.3, 0.3, 1, 2, 2]\n",
    "meanVisitDur = 90*60 # [s]\n",
    "stdVisitDur = 10*60 # [s]\n",
    "visitDurationDistr = DistrValueInput(numpyDistr=getattr(np.random.default_rng(), 'normal'),\n",
    "                                     numpyDistrArgs=(meanVisitDur, stdVisitDur), min=meanVisitDur-2*stdVisitDur)\n",
    "\n",
    "\n",
    "demandPattern = []\n",
    "for ii in range(len(groupFactors)):\n",
    "    demandPattern.append((periodDuration*ii, periodDuration*(ii + 1), round(len(GROUP_SIZES)*groupFactors[ii])))\n",
    "\n",
    "\n",
    "useEntranceTimeSlot = True\n",
    "entranceTimeSlotDuration = 5*60\n",
    "schedulerInput = RestaurantSchedulerInput(sourceID, sinkID, demandPattern, sittingDestinationGroupIDs,\n",
    "                                          visitDurationDistr, inGroupEntryDistr, guestPedParamSetDistr,\n",
    "                                          useEntranceTimeSlot, useTablesOnlyOnce=useTablesOnlyOnce, \n",
    "                                          entranceTimeSlotDuration=entranceTimeSlotDuration)\n",
    "\n",
    "runTest(schedulerInput, destinations, pedParameterSets, \n",
    "                                sources, activities, walkLevels)\n"
   ]
  },
  {
   "cell_type": "code",
   "execution_count": 12,
   "id": "531249c2",
   "metadata": {},
   "outputs": [
    {
     "name": "stdout",
     "output_type": "stream",
     "text": [
      "Mean duration = 1680\n",
      "Group count = 20\n",
      "\n",
      "Group count per table:\n",
      "table_0 = 4\n",
      "table_1 = 4\n",
      "table_2 = 4\n",
      "table_3 = 4\n",
      "table_4 = 4\n",
      "\n",
      "Group start/end per table:\n",
      "table_0 = (    0.00,  1712.05), ( 1862.05,  3361.03), ( 7200.00,  8730.00), ( 8880.00, 10650.00), \n",
      "table_1 = (    0.00,  1530.00), ( 1680.00,  3450.00), ( 7312.59,  8892.39), ( 9075.98, 10584.69), \n",
      "table_2 = (    0.00,  1530.00), ( 1680.00,  3450.00), ( 7200.00,  8735.88), ( 8885.88, 10531.85), \n",
      "table_3 = (    0.00,  1530.00), ( 1680.00,  3450.00), ( 7200.00,  8741.50), ( 8891.50, 10497.20), \n",
      "table_4 = (    0.00,  1536.52), ( 1686.52,  3446.79), ( 7200.00,  8730.00), ( 8880.00, 10650.00), \n",
      "\n",
      "==================================================\n",
      "\n"
     ]
    }
   ],
   "source": [
    "periodDuration = 60*60\n",
    "groupFactors = [2, 0, 2]\n",
    "meanVisitDur = 28*60 # [s]\n",
    "stdVisitDur = 2*60 # [s]\n",
    "visitDurationDistr = DistrValueInput(numpyDistr=getattr(np.random.default_rng(), 'normal'),\n",
    "                                     numpyDistrArgs=(meanVisitDur, stdVisitDur), min=meanVisitDur-2*stdVisitDur)\n",
    "\n",
    "\n",
    "demandPattern = []\n",
    "for ii in range(len(groupFactors)):\n",
    "    demandPattern.append((periodDuration*ii, periodDuration*(ii + 1), round(len(GROUP_SIZES)*groupFactors[ii])))\n",
    "\n",
    "\n",
    "useEntranceTimeSlot = True\n",
    "entranceTimeSlotDuration = 5*60\n",
    "schedulerInput = RestaurantSchedulerInput(sourceID, sinkID, demandPattern, sittingDestinationGroupIDs,\n",
    "                                          visitDurationDistr, inGroupEntryDistr, guestPedParamSetDistr,\n",
    "                                          useEntranceTimeSlot, useTablesOnlyOnce=useTablesOnlyOnce, \n",
    "                                          entranceTimeSlotDuration=entranceTimeSlotDuration)\n",
    "\n",
    "runTest(schedulerInput, destinations, pedParameterSets, \n",
    "                                sources, activities, walkLevels)"
   ]
  },
  {
   "cell_type": "code",
   "execution_count": 13,
   "id": "57692267",
   "metadata": {},
   "outputs": [
    {
     "name": "stderr",
     "output_type": "stream",
     "text": [
      "Cannot find a free table for 5 of the 5 groups entering at between 10 and 3610\n"
     ]
    },
    {
     "name": "stdout",
     "output_type": "stream",
     "text": [
      "Mean duration = 3600\n",
      "Group count = 5\n",
      "\n",
      "Group count per table:\n",
      "table_0 = 1\n",
      "table_1 = 1\n",
      "table_2 = 1\n",
      "table_3 = 1\n",
      "table_4 = 1\n",
      "\n",
      "Group start/end per table:\n",
      "table_0 = (    0.00,  3450.00), \n",
      "table_1 = (    0.00,  3450.00), \n",
      "table_2 = (    0.00,  3450.00), \n",
      "table_3 = (    0.00,  3450.00), \n",
      "table_4 = (   24.51,  3384.51), \n",
      "\n",
      "==================================================\n",
      "\n"
     ]
    }
   ],
   "source": [
    "periodDuration = 60*60\n",
    "groupFactors = [2, 0, 2]\n",
    "meanVisitDur = 60*60 # [s]\n",
    "stdVisitDur = 2*60 # [s]\n",
    "visitDurationDistr = DistrValueInput(numpyDistr=getattr(np.random.default_rng(), 'normal'),\n",
    "                                     numpyDistrArgs=(meanVisitDur, stdVisitDur), min=meanVisitDur-2*stdVisitDur)\n",
    "\n",
    "\n",
    "demandPattern = [(10, periodDuration+10, 5), (0, periodDuration, 5)]\n",
    "\n",
    "\n",
    "useEntranceTimeSlot = True\n",
    "entranceTimeSlotDuration = 5*60\n",
    "schedulerInput = RestaurantSchedulerInput(sourceID, sinkID, demandPattern, sittingDestinationGroupIDs,\n",
    "                                          visitDurationDistr, inGroupEntryDistr, guestPedParamSetDistr,\n",
    "                                          useEntranceTimeSlot, useTablesOnlyOnce=useTablesOnlyOnce, \n",
    "                                          entranceTimeSlotDuration=entranceTimeSlotDuration)\n",
    "\n",
    "runTest(schedulerInput, destinations, pedParameterSets, \n",
    "                                sources, activities, walkLevels)\n"
   ]
  },
  {
   "cell_type": "code",
   "execution_count": 14,
   "id": "2cf0feeb",
   "metadata": {},
   "outputs": [
    {
     "name": "stderr",
     "output_type": "stream",
     "text": [
      "Cannot find a free table for 50 of the 50 groups entering at between 0 and 3600\n",
      "Cannot find a free table for 47 of the 50 groups entering at between 21600 and 25200\n",
      "Cannot find a free table for 98 of the 100 groups entering at between 25200 and 28800\n",
      "Cannot find a free table for 97 of the 100 groups entering at between 28800 and 32400\n"
     ]
    },
    {
     "name": "stdout",
     "output_type": "stream",
     "text": [
      "Mean duration = 5400\n",
      "Group count = 14\n",
      "\n",
      "Group count per table:\n",
      "table_0 = 2\n",
      "table_1 = 3\n",
      "table_2 = 3\n",
      "table_3 = 3\n",
      "table_4 = 3\n",
      "\n",
      "Group start/end per table:\n",
      "table_0 = (18000.00, 21450.00), (25200.00, 28650.00), \n",
      "table_1 = (14400.00, 17850.00), (21600.00, 25050.00), (28800.00, 32250.00), \n",
      "table_2 = (14400.00, 17850.00), (21600.00, 25050.00), (28800.00, 32250.00), \n",
      "table_3 = (10800.00, 14250.00), (21600.00, 25050.00), (28800.00, 32250.00), \n",
      "table_4 = (10800.00, 14250.00), (18000.00, 21450.00), (25200.00, 28650.00), \n",
      "\n",
      "==================================================\n",
      "\n"
     ]
    }
   ],
   "source": [
    "periodDuration = 60*60\n",
    "groupFactors = [10, 0, 0, 0.5, 0.3, 0.3, 10, 20, 20]\n",
    "meanVisitDur = 90*60 # [s]\n",
    "stdVisitDur = 10*60 # [s]\n",
    "visitDurationDistr = DistrValueInput(numpyDistr=getattr(np.random.default_rng(), 'normal'),\n",
    "                                     numpyDistrArgs=(meanVisitDur, stdVisitDur), min=meanVisitDur-2*stdVisitDur)\n",
    "\n",
    "\n",
    "demandPattern = []\n",
    "for ii in range(len(groupFactors)):\n",
    "    demandPattern.append((periodDuration*ii, periodDuration*(ii + 1), round(len(GROUP_SIZES)*groupFactors[ii])))\n",
    "\n",
    "\n",
    "useEntranceTimeSlot = True\n",
    "entranceTimeSlotDuration = 5*60\n",
    "schedulerInput = RestaurantSchedulerInput(sourceID, sinkID, demandPattern, sittingDestinationGroupIDs,\n",
    "                                          visitDurationDistr, inGroupEntryDistr, guestPedParamSetDistr,\n",
    "                                          useEntranceTimeSlot, useTablesOnlyOnce=useTablesOnlyOnce, \n",
    "                                          entranceTimeSlotDuration=entranceTimeSlotDuration)\n",
    "\n",
    "runTest(schedulerInput, destinations, pedParameterSets, \n",
    "                                sources, activities, walkLevels)"
   ]
  },
  {
   "cell_type": "code",
   "execution_count": 22,
   "id": "2231d13c-324e-4444-8013-7064da460b20",
   "metadata": {},
   "outputs": [
    {
     "name": "stdout",
     "output_type": "stream",
     "text": [
      "Mean duration = 5400\n",
      "Group count = 10\n",
      "\n",
      "Group count per table:\n",
      "table_0 = 2\n",
      "table_1 = 2\n",
      "table_2 = 2\n",
      "table_3 = 2\n",
      "table_4 = 2\n",
      "\n",
      "Group start/end per table:\n",
      "table_0 = (   95.48,  5596.84), ( 6040.48, 11848.76), \n",
      "table_1 = ( 1340.38,  6405.44), ( 8706.23, 13664.60), \n",
      "table_2 = (  351.52,  5600.59), ( 6044.86, 11279.79), \n",
      "table_3 = ( 1300.69,  6911.90), ( 8400.00, 14250.00), \n",
      "table_4 = ( 1825.53,  6954.65), ( 7443.22, 12205.07), \n",
      "\n",
      "==================================================\n",
      "\n"
     ]
    }
   ],
   "source": [
    "periodDur = 100*60 # [s]\n",
    "offset = 20*60\n",
    "meanVisitDur = 90*60 # [s]\n",
    "stdVisitDur = 10*60 # [s]\n",
    "visitDurationDistr = DistrValueInput(numpyDistr=getattr(np.random.default_rng(), 'normal'),\n",
    "                                     numpyDistrArgs=(meanVisitDur, stdVisitDur), min=meanVisitDur-2*stdVisitDur)\n",
    "\n",
    "\n",
    "demandPattern = [\n",
    "    (0, periodDur, 2),\n",
    "    (offset, periodDur+offset, 3),\n",
    "    (periodDur, 2*periodDur, 2),\n",
    "    (offset+periodDur, 2*periodDur+offset, 1),\n",
    "    (offset*2+periodDur, 2*periodDur+offset*2, 2)\n",
    "]\n",
    "   \n",
    "\n",
    "\n",
    "useEntranceTimeSlot = True\n",
    "entranceTimeSlotDuration = 5*60\n",
    "schedulerInput = RestaurantSchedulerInput(sourceID, sinkID, demandPattern, sittingDestinationGroupIDs,\n",
    "                                          visitDurationDistr, inGroupEntryDistr, guestPedParamSetDistr,\n",
    "                                          useEntranceTimeSlot, useTablesOnlyOnce=useTablesOnlyOnce, \n",
    "                                          entranceTimeSlotDuration=entranceTimeSlotDuration)\n",
    "\n",
    "runTest(schedulerInput, destinations, pedParameterSets, \n",
    "                                sources, activities, walkLevels)"
   ]
  },
  {
   "cell_type": "code",
   "execution_count": 25,
   "id": "2e4963c2",
   "metadata": {},
   "outputs": [
    {
     "name": "stdout",
     "output_type": "stream",
     "text": [
      "Mean duration = 5400\n",
      "Group count = 12\n",
      "\n",
      "Group count per table:\n",
      "table_0 = 2\n",
      "table_1 = 3\n",
      "table_2 = 2\n",
      "table_3 = 3\n",
      "table_4 = 2\n",
      "\n",
      "Group start/end per table:\n",
      "table_0 = (  101.31,  5337.18), (10193.89, 15241.12), \n",
      "table_1 = (    0.00,  5717.33), ( 5867.33, 10571.29), (11937.44, 17234.47), \n",
      "table_2 = (  985.93,  6757.50), ( 9269.26, 15125.18), \n",
      "table_3 = (    0.00,  5250.00), ( 5400.00, 10895.24), (11045.24, 16472.12), \n",
      "table_4 = ( 1408.01,  7541.30), ( 8329.12, 12784.54), \n",
      "\n",
      "==================================================\n",
      "\n"
     ]
    }
   ],
   "source": [
    "periodDur = 100*60 # [s]\n",
    "offset = 20*60\n",
    "meanVisitDur = 90*60 # [s]\n",
    "stdVisitDur = 10*60 # [s]\n",
    "visitDurationDistr = DistrValueInput(numpyDistr=getattr(np.random.default_rng(), 'normal'),\n",
    "                                     numpyDistrArgs=(meanVisitDur, stdVisitDur), min=meanVisitDur-2*stdVisitDur)\n",
    "\n",
    "\n",
    "demandPattern = [\n",
    "    (0, periodDur*3, 12),\n",
    "]\n",
    "   \n",
    "\n",
    "\n",
    "useEntranceTimeSlot = True\n",
    "entranceTimeSlotDuration = 5*60\n",
    "schedulerInput = RestaurantSchedulerInput(sourceID, sinkID, demandPattern, sittingDestinationGroupIDs,\n",
    "                                          visitDurationDistr, inGroupEntryDistr, guestPedParamSetDistr,\n",
    "                                          useEntranceTimeSlot, useTablesOnlyOnce=useTablesOnlyOnce, \n",
    "                                          entranceTimeSlotDuration=entranceTimeSlotDuration)\n",
    "\n",
    "runTest(schedulerInput, destinations, pedParameterSets, \n",
    "                                sources, activities, walkLevels)"
   ]
  },
  {
   "cell_type": "code",
   "execution_count": null,
   "id": "c0c26147-0de6-4fe7-bfab-214602e54497",
   "metadata": {},
   "outputs": [],
   "source": []
  }
 ],
 "metadata": {
  "kernelspec": {
   "display_name": "Python 3",
   "language": "python",
   "name": "python3"
  },
  "language_info": {
   "codemirror_mode": {
    "name": "ipython",
    "version": 3
   },
   "file_extension": ".py",
   "mimetype": "text/x-python",
   "name": "python",
   "nbconvert_exporter": "python",
   "pygments_lexer": "ipython3",
   "version": "3.9.4"
  }
 },
 "nbformat": 4,
 "nbformat_minor": 5
}
